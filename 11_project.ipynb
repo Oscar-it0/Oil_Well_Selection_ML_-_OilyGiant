{
 "cells": [
  {
   "cell_type": "markdown",
   "metadata": {},
   "source": [
    "# Hola Oscar! <a class=\"tocSkip\"></a>\n",
    "\n",
    "Mi nombre es Oscar Flores y tengo el gusto de revisar tu proyecto. Si tienes algún comentario que quieras agregar en tus respuestas te puedes referir a mi como Oscar, no hay problema que me trates de tú.\n",
    "\n",
    "Si veo un error en la primera revisión solamente lo señalaré y dejaré que tú encuentres de qué se trata y cómo arreglarlo. Debo prepararte para que te desempeñes como especialista en Data, en un trabajo real, el responsable a cargo tuyo hará lo mismo. Si aún tienes dificultades para resolver esta tarea, te daré indicaciones más precisas en una siguiente iteración.\n",
    "\n",
    "Te dejaré mis comentarios más abajo - **por favor, no los muevas, modifiques o borres**\n",
    "\n",
    "Comenzaré mis comentarios con un resumen de los puntos que están bien, aquellos que debes corregir y aquellos que puedes mejorar. Luego deberás revisar todo el notebook para leer mis comentarios, los cuales estarán en rectángulos de color verde, amarillo o rojo como siguen:\n",
    "\n",
    "<div class=\"alert alert-block alert-success\">\n",
    "<b>Comentario de Reviewer</b> <a class=\"tocSkip\"></a>\n",
    "    \n",
    "Muy bien! Toda la respuesta fue lograda satisfactoriamente.\n",
    "</div>\n",
    "\n",
    "<div class=\"alert alert-block alert-warning\">\n",
    "<b>Comentario de Reviewer</b> <a class=\"tocSkip\"></a>\n",
    "\n",
    "Existen detalles a mejorar. Existen recomendaciones.\n",
    "</div>\n",
    "\n",
    "<div class=\"alert alert-block alert-danger\">\n",
    "\n",
    "<b>Comentario de Reviewer</b> <a class=\"tocSkip\"></a>\n",
    "\n",
    "Se necesitan correcciones en el bloque. El trabajo no puede ser aceptado con comentarios en rojo sin solucionar.\n",
    "</div>\n",
    "\n",
    "Cualquier comentario que quieras agregar entre iteraciones de revisión lo puedes hacer de la siguiente manera:\n",
    "\n",
    "<div class=\"alert alert-block alert-info\">\n",
    "<b>Respuesta estudiante.</b> <a class=\"tocSkip\"></a>\n",
    "</div>\n",
    "\n",
    "Mucho éxito en el proyecto!"
   ]
  },
  {
   "cell_type": "markdown",
   "metadata": {},
   "source": [
    "## Resumen de la revisión 1 <a class=\"tocSkip\"></a>"
   ]
  },
  {
   "cell_type": "markdown",
   "metadata": {},
   "source": [
    "<div class=\"alert alert-block alert-danger\">\n",
    "<b>Comentario de Revisor</b> <a class=\"tocSkip\"></a>\n",
    "\n",
    "Buen trabajo Oscar! Tu notebook está muy completo y en el orden adecuado. Tan solo falta que corrijas un par de defectos en la parte del bootstrapping, te dejé comentarios detallados al respecto.\n",
    "    \n",
    "Saludos!    \n",
    "\n",
    "</div>"
   ]
  },
  {
   "cell_type": "markdown",
   "metadata": {},
   "source": [
    "<div class=\"alert alert-block alert-info\">\n",
    "<b>Respuesta estudiante</b> <a class=\"tocSkip\"></a>\n",
    "    \n",
    "Hola Oscar, gracias por tus cometarios. \n",
    "    \n",
    "He seguido tus indicaciones ya que de hecho el asunto de utilizar los valores reales fue una duda que tuve desde la primera entrega, pues anteriormente había hecho pruebas con dichos valores notando que en Región 1 no se formaba la \"campana\" y también por temas de interpretación (\"Utilizando las predicciones que almacenaste en el paso 4.2, emplea la técnica del bootstrapping con 1000 muestras para hallar la distribución de los beneficios\"), se incrementó mi duda en cuanto a qué datos utilizar, pues la selección con ambos datos la determiné desde el punto 4.\n",
    "\n",
    "El intervalo de confianza y porcentaje de pérdida fueron corregidos según tus instrucciones.\n",
    "    \n",
    "</div>"
   ]
  },
  {
   "cell_type": "markdown",
   "metadata": {},
   "source": [
    "## Resumen de la revisión 2<a class=\"tocSkip\"></a>"
   ]
  },
  {
   "cell_type": "markdown",
   "metadata": {},
   "source": [
    "<div class=\"alert alert-block alert-danger\">\n",
    "<b>Comentario de Revisor v2</b> <a class=\"tocSkip\"></a>\n",
    "\n",
    "Ok Oscar entiendo. Bien hecho al corregir la parte de las métricas de bootstrapping, pero para el cálculo del bootstrapping mismo aún hay detalles por corregir. Te dejé un comentario detallado con las correcciones a realizar.\n",
    "    \n",
    "Saludos!    \n",
    "\n",
    "</div>"
   ]
  },
  {
   "cell_type": "markdown",
   "metadata": {},
   "source": [
    "<div class=\"alert alert-block alert-info\">\n",
    "<b>Respuesta estudiante v2</b> <a class=\"tocSkip\"></a>\n",
    "    \n",
    "Hola Oscar, corregido.\n",
    "    \n",
    "</div>"
   ]
  },
  {
   "cell_type": "markdown",
   "metadata": {},
   "source": [
    "------"
   ]
  },
  {
   "cell_type": "markdown",
   "metadata": {},
   "source": [
    "# Descripción del proyecto\n",
    "\n",
    "Trabajas en la compañía de extracción de petróleo OilyGiant. Tu tarea es encontrar los mejores lugares donde abrir 200 pozos nuevos de petróleo.\n",
    "\n",
    "Para completar esta tarea, tendrás que realizar los siguientes pasos:\n",
    "\n",
    "* Leer los archivos con los parámetros recogidos de pozos petrolíferos en la región seleccionada: calidad de crudo y volumen de reservas.\n",
    "* Crear un modelo para predecir el volumen de reservas en pozos nuevos.\n",
    "* Elegir los pozos petrolíferos que tienen los valores estimados más altos.\n",
    "* Elegir la región con el beneficio total más alto para los pozos petrolíferos seleccionados.\n",
    "\n",
    "Tienes datos sobre muestras de crudo de tres regiones. Ya se conocen los parámetros de cada pozo petrolero de la región. Crea un modelo que ayude a elegir la región con el mayor margen de beneficio. Analiza los beneficios y riesgos potenciales utilizando la técnica bootstrapping.\n",
    "\n",
    "Condiciones:\n",
    "\n",
    "* Solo se debe usar la regresión lineal para el entrenamiento del modelo.\n",
    "* Al explorar la región, se lleva a cabo un estudio de 500 puntos con la selección de los mejores 200 puntos para el cálculo del beneficio.\n",
    "* El presupuesto para el desarrollo de 200 pozos petroleros es de 100 millones de dólares.\n",
    "* Un barril de materias primas genera 4.5 USD de ingresos. El ingreso de una unidad de producto es de 4500 dólares (el volumen de reservas está expresado en miles de barriles).\n",
    "* Después de la evaluación de riesgo, mantén solo las regiones con riesgo de pérdidas inferior al 2.5%. De las que se ajustan a los criterios, se debe seleccionar la región con el beneficio promedio más alto.\n",
    "\n",
    "Los datos son sintéticos: los detalles del contrato y las características del pozo no se publican.\n",
    "\n",
    "Descripción de datos:\n",
    "\n",
    "Los datos de exploración geológica de las tres regiones se almacenan en archivos:\n",
    "\n",
    "* geo_data_0.csv. Descarga el conjunto de datos\n",
    "* geo_data_1.csv. Descarga el conjunto de datos\n",
    "* geo_data_2.csv. Descarga el conjunto de datos\n",
    "* id — identificador único de pozo de petróleo\n",
    "* f0, f1, f2 — tres características de los puntos (su significado específico no es importante, pero las características en sí son significativas)\n",
    "* product — volumen de reservas en el pozo de petróleo (miles de barriles)."
   ]
  },
  {
   "cell_type": "markdown",
   "metadata": {},
   "source": [
    "# Instrucciones del proyecto"
   ]
  },
  {
   "cell_type": "markdown",
   "metadata": {},
   "source": [
    "## Descarga y prepara los datos. Explica el procedimiento."
   ]
  },
  {
   "cell_type": "code",
   "execution_count": 1,
   "metadata": {},
   "outputs": [],
   "source": [
    "# Carga de librerías\n",
    "import pandas as pd\n",
    "from sklearn import set_config\n",
    "set_config(print_changed_only=False)\n",
    "from sklearn.model_selection import train_test_split\n",
    "from sklearn.linear_model import LinearRegression\n",
    "from sklearn.metrics import max_error\n",
    "from sklearn.metrics import mean_squared_error\n",
    "from sklearn.metrics import r2_score\n",
    "from sklearn.metrics import mean_absolute_error\n",
    "import numpy as np\n",
    "from scipy import stats as st\n",
    "from matplotlib import pyplot as plt"
   ]
  },
  {
   "cell_type": "code",
   "execution_count": 2,
   "metadata": {},
   "outputs": [],
   "source": [
    "# Importación de dataframes\n",
    "geo_data_0 = pd.read_csv('https://practicum-content.s3.us-west-1.amazonaws.com/datasets/geo_data_0.csv', index_col='id')\n",
    "geo_data_1 = pd.read_csv('https://practicum-content.s3.us-west-1.amazonaws.com/datasets/geo_data_1.csv', index_col='id')\n",
    "geo_data_2 = pd.read_csv('https://practicum-content.s3.us-west-1.amazonaws.com/datasets/geo_data_2.csv', index_col='id')"
   ]
  },
  {
   "cell_type": "code",
   "execution_count": 3,
   "metadata": {},
   "outputs": [
    {
     "name": "stdout",
     "output_type": "stream",
     "text": [
      "Filas duplicadas en geo_data_0:  10\n",
      "Filas duplicadas en geo_data_1:  4\n",
      "Filas duplicadas en geo_data_2:  4\n"
     ]
    }
   ],
   "source": [
    "# Revisión de filas duplicadas en churn_df\n",
    "print(\"Filas duplicadas en geo_data_0: \",geo_data_0.index.duplicated().sum())\n",
    "print(\"Filas duplicadas en geo_data_1: \",geo_data_1.index.duplicated().sum())\n",
    "print(\"Filas duplicadas en geo_data_2: \",geo_data_2.index.duplicated().sum())"
   ]
  },
  {
   "cell_type": "code",
   "execution_count": 4,
   "metadata": {},
   "outputs": [],
   "source": [
    "# Eliminación de duplicados\n",
    "geo_data_def_0 = geo_data_0.loc[~geo_data_0.index.duplicated(keep='first')]\n",
    "geo_data_def_1 = geo_data_1.loc[~geo_data_1.index.duplicated(keep='first')]\n",
    "geo_data_def_2 = geo_data_2.loc[~geo_data_2.index.duplicated(keep='first')]"
   ]
  },
  {
   "cell_type": "markdown",
   "metadata": {},
   "source": [
    "## Entrena y prueba el modelo para cada región:\n",
    "\n",
    "### Divide los datos en un conjunto de entrenamiento y un conjunto de validación en una proporción de 75:25"
   ]
  },
  {
   "cell_type": "code",
   "execution_count": 5,
   "metadata": {},
   "outputs": [],
   "source": [
    "# Función de separación de conjuntos\n",
    "def ensemble (df,target_col,size):\n",
    "    # Determinación de características y objetivos\n",
    "    features = df.drop(target_col, axis=1) # extrae las características\n",
    "    target = df[target_col] # extrae los objetivos\n",
    "    # 2.1 Divide los datos en un conjunto de entrenamiento y un conjunto de validación en una proporción de 75:25\n",
    "    features_train, features_valid, target_train, target_valid = train_test_split(\n",
    "    features, target, test_size=size, random_state=12345) # segmenta el 25% de los datos para hacer el conjunto de validación\n",
    "    \n",
    "    return  features, target, features_train, features_valid, target_train, target_valid"
   ]
  },
  {
   "cell_type": "markdown",
   "metadata": {},
   "source": [
    "<div class=\"alert alert-block alert-success\">\n",
    "<b>Comentario de Revisor</b> <a class=\"tocSkip\"></a>\n",
    "\n",
    "Bien, correcto el uso de train_test_split\n",
    "    \n",
    "\n",
    "</div>"
   ]
  },
  {
   "cell_type": "markdown",
   "metadata": {},
   "source": [
    "### Entrena el modelo y haz predicciones para el conjunto de validación.\n",
    "\n",
    "### Guarda las predicciones y las respuestas correctas para el conjunto de validación."
   ]
  },
  {
   "cell_type": "code",
   "execution_count": 6,
   "metadata": {},
   "outputs": [],
   "source": [
    "# Función de separación de entrenamiento y validación del modelo\n",
    "def lr_model (features_to_train, target_to_train, features_to_valid, target_to_valid):\n",
    "    # 2.2 Entrena el modelo y haz predicciones para el conjunto de validación.\n",
    "    model = LinearRegression() # inicializa el constructor de modelos\n",
    "    model_fited = model.fit(features_to_train, target_to_train) # entrena el modelo en el conjunto de entrenamiento\n",
    "    predict_valid = model.predict(features_to_valid) # obtén las predicciones del modelo en el conjunto de validación\n",
    "    predict_valid_mean = pd.Series(target_to_train.mean(), index=target_to_valid.index)\n",
    "    predict_valid_median = pd.Series(target_to_train.median(), index=target_to_valid.index)\n",
    "    model_tr_score = model.score(features_to_train, target_to_train)\n",
    "    model_vl_score = model.score(features_to_valid, target_to_valid)\n",
    "    \n",
    "    # 2.3 Guarda las predicciones y las respuestas correctas para el conjunto de validación.\n",
    "    return model_fited, predict_valid, predict_valid_mean, predict_valid_median, model_tr_score, model_vl_score"
   ]
  },
  {
   "cell_type": "markdown",
   "metadata": {},
   "source": [
    "<div class=\"alert alert-block alert-success\">\n",
    "<b>Comentario de Revisor</b> <a class=\"tocSkip\"></a>\n",
    "\n",
    "Muy bien, correctos todos, aunque no nos interesa para esta parte el score (R2) de la regresión lineal\n",
    "    \n",
    "\n",
    "</div>"
   ]
  },
  {
   "cell_type": "markdown",
   "metadata": {},
   "source": [
    "### Muestra el volumen medio de reservas predicho y RMSE del modelo."
   ]
  },
  {
   "cell_type": "code",
   "execution_count": 7,
   "metadata": {},
   "outputs": [],
   "source": [
    "# Función de determinación de métricas\n",
    "def lr_metrics (target_v, predict_v, predict_v_m, predict_v_mdn):\n",
    "    # 2.4 Muestra el volumen medio de reservas predicho y RMSE del modelo.\n",
    "    me = max_error(target_v, predict_v)\n",
    "    mae = mean_absolute_error(target_v, predict_v)\n",
    "    mae_median = mean_absolute_error(target_v, predict_v_mdn)    \n",
    "    mse = mean_squared_error(target_v, predict_v)\n",
    "    rmse = mean_squared_error(target_v, predict_v, squared = False) # mse ** .5 calcula la RECM en el conjunto de validación\n",
    "    mse_mean = mean_squared_error(target_v, predict_v_m)\n",
    "    rmse_mean = mean_squared_error(target_v, predict_v_m, squared = False) # ** .5  calcula la RECM en el conjunto de validación\n",
    "    r2 = r2_score(target_v, predict_v)\n",
    "    d = {'metrica': [\"M\",\"MAE\", \"MAE True values\", \"Test MAE\", \"MSE\", \"RMSE\", \"RMSE True values\", \"Test RMSE\", \"R2\"],\n",
    "         'unidades': [me, mae, mae_median, mae - mae_median, mse, rmse, rmse_mean, rmse - rmse_mean, r2]}\n",
    "    \n",
    "    return me, mae, mae_median, mse, rmse, mse_mean, rmse_mean, r2, (pd.DataFrame(data=d))"
   ]
  },
  {
   "cell_type": "markdown",
   "metadata": {},
   "source": [
    "<div class=\"alert alert-block alert-success\">\n",
    "<b>Comentario de Revisor</b> <a class=\"tocSkip\"></a>\n",
    "\n",
    "Ok, está bien esta función para las métricas. Te sugiero que al guardarlas no escribas un nombre abreviado como M, pues luego confunde al ver el resultado, no hay problema en escribir en palabras el nombre completo.\n",
    "    \n",
    "\n",
    "</div>"
   ]
  },
  {
   "cell_type": "code",
   "execution_count": 8,
   "metadata": {},
   "outputs": [],
   "source": [
    "# Aplicación de funciones Región 0\n",
    "features_0, target_0, features_train_0, features_valid_0, target_train_0, target_valid_0 = ensemble(geo_data_def_0, 'product', .25)\n",
    "model_fited_0, predict_valid_0, predict_valid_mean_0, predict_valid_median_0, model_tr_score_0, model_vl_score_0 = lr_model(features_train_0, target_train_0, features_valid_0, target_valid_0)\n",
    "me_0, mse_0, rmse_0, mse_mean_0, rmse_mean_0, r2_0, mae_0, mae_median_0, info_metrics_0 = lr_metrics (target_valid_0, predict_valid_0, predict_valid_mean_0, predict_valid_median_0)"
   ]
  },
  {
   "cell_type": "code",
   "execution_count": 9,
   "metadata": {},
   "outputs": [],
   "source": [
    "# Aplicación de funciones Región 1\n",
    "features_1, target_1, features_train_1, features_valid_1, target_train_1, target_valid_1 = ensemble(geo_data_def_1, 'product', .25)\n",
    "model_fited_1, predict_valid_1, predict_valid_mean_1, predict_valid_median_1, model_tr_score_1, model_vl_score_1 = lr_model(features_train_1, target_train_1, features_valid_1, target_valid_1)\n",
    "me_1, mse_1, rmse_1, mse_mean_1, rmse_mean_1, r2_1, mae_1, mae_median_1, info_metrics_1 = lr_metrics (target_valid_1, predict_valid_1, predict_valid_mean_1, predict_valid_median_1)"
   ]
  },
  {
   "cell_type": "code",
   "execution_count": 10,
   "metadata": {},
   "outputs": [],
   "source": [
    "# Aplicación de funciones Región 2\n",
    "features_2, target_2, features_train_2, features_valid_2, target_train_2, target_valid_2 = ensemble(geo_data_def_2, 'product', .25)\n",
    "model_fited_2, predict_valid_2, predict_valid_mean_2, predict_valid_median_2, model_tr_score_2, model_vl_score_2 = lr_model(features_train_2, target_train_2, features_valid_2, target_valid_2)\n",
    "me_2, mse_2, rmse_2, mse_mean_2, rmse_mean_2, r2_2, mae_2, mae_median_2, info_metrics_2 = lr_metrics (target_valid_2, predict_valid_2, predict_valid_mean_2, predict_valid_median_2)"
   ]
  },
  {
   "cell_type": "markdown",
   "metadata": {},
   "source": [
    "### Analiza los resultados."
   ]
  },
  {
   "cell_type": "code",
   "execution_count": 11,
   "metadata": {},
   "outputs": [
    {
     "data": {
      "text/html": [
       "<div>\n",
       "<style scoped>\n",
       "    .dataframe tbody tr th:only-of-type {\n",
       "        vertical-align: middle;\n",
       "    }\n",
       "\n",
       "    .dataframe tbody tr th {\n",
       "        vertical-align: top;\n",
       "    }\n",
       "\n",
       "    .dataframe thead th {\n",
       "        text-align: right;\n",
       "    }\n",
       "</style>\n",
       "<table border=\"1\" class=\"dataframe\">\n",
       "  <thead>\n",
       "    <tr style=\"text-align: right;\">\n",
       "      <th></th>\n",
       "      <th>metrica</th>\n",
       "      <th>region_0</th>\n",
       "      <th>region_1</th>\n",
       "      <th>region_2</th>\n",
       "    </tr>\n",
       "  </thead>\n",
       "  <tbody>\n",
       "    <tr>\n",
       "      <th>0</th>\n",
       "      <td>M</td>\n",
       "      <td>122.448569</td>\n",
       "      <td>3.517269</td>\n",
       "      <td>127.631489</td>\n",
       "    </tr>\n",
       "    <tr>\n",
       "      <th>1</th>\n",
       "      <td>MAE</td>\n",
       "      <td>31.141029</td>\n",
       "      <td>0.719353</td>\n",
       "      <td>32.831390</td>\n",
       "    </tr>\n",
       "    <tr>\n",
       "      <th>2</th>\n",
       "      <td>MAE True values</td>\n",
       "      <td>37.789239</td>\n",
       "      <td>40.273438</td>\n",
       "      <td>37.757163</td>\n",
       "    </tr>\n",
       "    <tr>\n",
       "      <th>3</th>\n",
       "      <td>Test MAE</td>\n",
       "      <td>-6.648210</td>\n",
       "      <td>-39.554084</td>\n",
       "      <td>-4.925773</td>\n",
       "    </tr>\n",
       "    <tr>\n",
       "      <th>4</th>\n",
       "      <td>MSE</td>\n",
       "      <td>1432.889531</td>\n",
       "      <td>0.795770</td>\n",
       "      <td>1606.073812</td>\n",
       "    </tr>\n",
       "    <tr>\n",
       "      <th>5</th>\n",
       "      <td>RMSE</td>\n",
       "      <td>37.853527</td>\n",
       "      <td>0.892059</td>\n",
       "      <td>40.075851</td>\n",
       "    </tr>\n",
       "    <tr>\n",
       "      <th>6</th>\n",
       "      <td>RMSE True values</td>\n",
       "      <td>44.379314</td>\n",
       "      <td>45.903264</td>\n",
       "      <td>44.683313</td>\n",
       "    </tr>\n",
       "    <tr>\n",
       "      <th>7</th>\n",
       "      <td>Test RMSE</td>\n",
       "      <td>-6.525786</td>\n",
       "      <td>-45.011204</td>\n",
       "      <td>-4.607462</td>\n",
       "    </tr>\n",
       "    <tr>\n",
       "      <th>8</th>\n",
       "      <td>R2</td>\n",
       "      <td>0.272392</td>\n",
       "      <td>0.999622</td>\n",
       "      <td>0.195562</td>\n",
       "    </tr>\n",
       "  </tbody>\n",
       "</table>\n",
       "</div>"
      ],
      "text/plain": [
       "            metrica     region_0   region_1     region_2\n",
       "0                 M   122.448569   3.517269   127.631489\n",
       "1               MAE    31.141029   0.719353    32.831390\n",
       "2   MAE True values    37.789239  40.273438    37.757163\n",
       "3          Test MAE    -6.648210 -39.554084    -4.925773\n",
       "4               MSE  1432.889531   0.795770  1606.073812\n",
       "5              RMSE    37.853527   0.892059    40.075851\n",
       "6  RMSE True values    44.379314  45.903264    44.683313\n",
       "7         Test RMSE    -6.525786 -45.011204    -4.607462\n",
       "8                R2     0.272392   0.999622     0.195562"
      ]
     },
     "execution_count": 11,
     "metadata": {},
     "output_type": "execute_result"
    }
   ],
   "source": [
    "# DF resumen de métricas por región\n",
    "metrics_0_1 = info_metrics_0.merge(info_metrics_1,on='metrica', how='left')\n",
    "metrics_by_region = metrics_0_1.merge(info_metrics_2,on='metrica', how='left')\n",
    "metrics_by_region = metrics_by_region.rename(columns={'unidades_x':'region_0', 'unidades_y':'region_1', 'unidades':'region_2'})\n",
    "metrics_by_region"
   ]
  },
  {
   "cell_type": "markdown",
   "metadata": {},
   "source": [
    "<div class=\"alert alert-block alert-success\">\n",
    "<b>Comentario de Revisor</b> <a class=\"tocSkip\"></a>\n",
    "\n",
    "Buen trabajo, correctos los resultados. Lo solicitado era el RMSE.\n",
    "\n",
    "</div>"
   ]
  },
  {
   "cell_type": "markdown",
   "metadata": {},
   "source": [
    "#### Comentarios Sección 2\n",
    "\n",
    "Se presentan las métricas para las tres regiones.\n",
    "\n",
    "Existen similitudes en las magnitudes entre la Reg0 y Reg2 con valores máximos de error entre el valor verdadero y el valor predicho abunda en 120 y 130 us. Siendo Reg1 el de menor magnitud y representa errores más pequeños.\n",
    "\n",
    "Lo anterior se refuerza con el Error absoluto promedio que también representa una afectación mínima en Reg1.\n",
    "\n",
    "Posteriormente en Reg1 el MSE y RMSE representan un mejor ajuste del modelo aproximándose a 0. Así también el coeficiente de determinación R2 es el que más se aproxima a 1, confirmando buenas métricas para la región.\n",
    "\n",
    "Al momento Reg1 se presenta como la mejor región para invertir."
   ]
  },
  {
   "cell_type": "markdown",
   "metadata": {},
   "source": [
    "<div class=\"alert alert-block alert-success\">\n",
    "<b>Comentario de Revisor</b> <a class=\"tocSkip\"></a>\n",
    "\n",
    "Ok, bien, pero ojo que hasta ahora no hay ninguna justificación de negocio que indique que la región 1 es la ideal. No basta con que tenga poco error el modelo para decir que es la mejor para invertir, tiene que haber un balance entre el ingreso generado, el costo y la incertidumbre de los resultados en esa zona.\n",
    "\n",
    "</div>"
   ]
  },
  {
   "cell_type": "markdown",
   "metadata": {},
   "source": [
    "## Prepárate para el cálculo de ganancias:\n",
    "\n",
    "### Almacena todos los valores necesarios para los cálculos en variables separadas."
   ]
  },
  {
   "cell_type": "code",
   "execution_count": 12,
   "metadata": {},
   "outputs": [
    {
     "name": "stdout",
     "output_type": "stream",
     "text": [
      "Información presupuestada para la inversión\n",
      " \n",
      "Importe Total de la inversión\n",
      " 100000000 \n",
      "\n",
      "Número de pozos presupuestados\n",
      " 200 \n",
      "\n",
      "Costo presupuestado por pozo\n",
      " 500000.0 \n",
      "\n",
      "Precio de mercado por unidad (1000 barriles)\n",
      " 4500 \n",
      "\n",
      "Unidades producidas por pozo para recuerar la inversión\n",
      " 111.11111111111111\n"
     ]
    }
   ],
   "source": [
    "# Definición de variables generales\n",
    "tot_investment = 100000000\n",
    "oil_well_budg = 200\n",
    "oil_well_cost = tot_investment / oil_well_budg\n",
    "oil_well_unit_price = 4500\n",
    "oil_well_prod_min_expect = oil_well_cost / oil_well_unit_price\n",
    "\n",
    "print(\"Información presupuestada para la inversión\\n\",\n",
    "      \"\\nImporte Total de la inversión\\n\", tot_investment,\n",
    "      \"\\n\" \n",
    "      \"\\nNúmero de pozos presupuestados\\n\", oil_well_budg,\n",
    "      \"\\n\"\n",
    "      \"\\nCosto presupuestado por pozo\\n\", tot_investment / oil_well_budg, \n",
    "      \"\\n\"\n",
    "      \"\\nPrecio de mercado por unidad (1000 barriles)\\n\", oil_well_unit_price, \n",
    "      \"\\n\"\n",
    "      \"\\nUnidades producidas por pozo para recuerar la inversión\\n\", oil_well_cost / oil_well_unit_price)\n"
   ]
  },
  {
   "cell_type": "markdown",
   "metadata": {},
   "source": [
    "<div class=\"alert alert-block alert-success\">\n",
    "<b>Comentario de Revisor</b> <a class=\"tocSkip\"></a>\n",
    "\n",
    "Muy bien, correcto\n",
    "\n",
    "</div>"
   ]
  },
  {
   "cell_type": "markdown",
   "metadata": {},
   "source": [
    "### Dada la inversión de 100 millones por 200 pozos petrolíferos, de media un pozo petrolífero debe producir al menos un valor de 500,000 dólares en unidades para evitar pérdidas (esto es equivalente a 111.1 unidades). Compara esta cantidad con la cantidad media de reservas en cada región."
   ]
  },
  {
   "cell_type": "code",
   "execution_count": 13,
   "metadata": {},
   "outputs": [],
   "source": [
    "# Función de comparación de promedio de unidades producidas por región contra el mínimo requerido para recuperar la información\n",
    "def invest_comp_reg (region):\n",
    "    oil_well_mean_reg = region['product'].mean()\n",
    "    comparison = oil_well_mean_reg - oil_well_prod_min_expect\n",
    "    \n",
    "    return print(\"\\nPromedio de unidades producidas por pozo en la Region\\n\", oil_well_mean_reg, \n",
    "                 \"\\nDiferencia respecto a unidades para recuerar la inversión\\n\", comparison)\n"
   ]
  },
  {
   "cell_type": "code",
   "execution_count": 14,
   "metadata": {},
   "outputs": [
    {
     "name": "stdout",
     "output_type": "stream",
     "text": [
      "Comparación unidades para recuperar la inversión Región 0, 1 y 2\n",
      "\n",
      "Unidades producidas por pozo para recuerar la inversión\n",
      " 111.11111111111111\n",
      "\n",
      "Promedio de unidades producidas por pozo en la Region\n",
      " 92.50000000000001 \n",
      "Diferencia respecto a unidades para recuerar la inversión\n",
      " -18.6111111111111\n",
      "\n",
      "Promedio de unidades producidas por pozo en la Region\n",
      " 68.82500000000002 \n",
      "Diferencia respecto a unidades para recuerar la inversión\n",
      " -42.2861111111111\n",
      "\n",
      "Promedio de unidades producidas por pozo en la Region\n",
      " 95.00000000000004 \n",
      "Diferencia respecto a unidades para recuerar la inversión\n",
      " -16.11111111111107\n"
     ]
    }
   ],
   "source": [
    "# Aplicación de función de comparación\n",
    "print(\"Comparación unidades para recuperar la inversión Región 0, 1 y 2\")\n",
    "print(\"\\nUnidades producidas por pozo para recuerar la inversión\\n\", oil_well_cost / oil_well_unit_price)\n",
    "invest_comp_reg (geo_data_0)\n",
    "invest_comp_reg (geo_data_1)\n",
    "invest_comp_reg (geo_data_2)"
   ]
  },
  {
   "cell_type": "markdown",
   "metadata": {},
   "source": [
    "### Presenta conclusiones sobre cómo preparar el paso para calcular el beneficio."
   ]
  },
  {
   "cell_type": "markdown",
   "metadata": {},
   "source": [
    "#### Comentarios Sección 3\n",
    "\n",
    "Se establecen las variables generales para en análisis.\n",
    "\n",
    "En la acción comparativa entre el promedio de unidades producidas por región contra el mínimo requerido para recuperar la inversión, las tres regiones quedan por debajo de los 111 k.\n",
    "\n",
    "Al momento no se tiene certeza al elegir alguna región, solamente las consideraciones de los modelos.\n",
    "\n",
    "En lo posterior, requerimos hacer los cálculos de ingresos posibles según los valores predichos y los precios de venta.\n"
   ]
  },
  {
   "cell_type": "markdown",
   "metadata": {},
   "source": [
    "<div class=\"alert alert-block alert-success\">\n",
    "<b>Comentario de Revisor</b> <a class=\"tocSkip\"></a>\n",
    "\n",
    "Bien. Con el cálculo anterior pareciera que ninguna región es rentable, pero esto ocurre puesto que estamos evaluando explotar pozos promedio y esa no será la estrategia.\n",
    "    \n",
    "\n",
    "</div>"
   ]
  },
  {
   "cell_type": "markdown",
   "metadata": {},
   "source": [
    "## Escribe una función para calcular la ganancia de un conjunto de pozos de petróleo seleccionados y modela las predicciones:\n",
    "\n",
    "### Elige los 200 pozos con los valores de predicción más altos de cada una de las 3 regiones (es decir, archivos 'csv')."
   ]
  },
  {
   "cell_type": "code",
   "execution_count": 15,
   "metadata": {},
   "outputs": [],
   "source": [
    "# Función para elegir el número deseado de pozos con los valores de predicción más altos de cada región (y sus valores verdaderos)\n",
    "def select_ensemb (predict_data, features_data, num_select, valid_data):\n",
    "    select_pred = pd.Series(predict_data, index=features_data.index).sort_values(ascending=False).iloc[0:num_select]\n",
    "    # DF Selección (valores predichos-verdaderos)\n",
    "    select_p_v_df = pd.concat([select_pred,valid_data],axis=1, join='inner')\n",
    "    select_p_v_df.columns = ['predicted', 'true']\n",
    "    \n",
    "    return select_p_v_df"
   ]
  },
  {
   "cell_type": "code",
   "execution_count": 16,
   "metadata": {},
   "outputs": [],
   "source": [
    "# Aplicación de Función\n",
    "select_200_p_v_df_0 = select_ensemb (predict_valid_0, features_valid_0, oil_well_budg, target_valid_0)\n",
    "select_200_p_v_df_1 = select_ensemb (predict_valid_1, features_valid_1, oil_well_budg, target_valid_1)\n",
    "select_200_p_v_df_2 = select_ensemb (predict_valid_2, features_valid_2, oil_well_budg, target_valid_2)"
   ]
  },
  {
   "cell_type": "code",
   "execution_count": 17,
   "metadata": {},
   "outputs": [],
   "source": [
    "# Función para determinar producción e ingreso total posibles, beneficio y margen de beneficio\n",
    "def produc_benef_bdg (data, oil_well_unitprice, investment):\n",
    "    df_selected = data.to_frame(name='production')\n",
    "    df_selected['benefit'] = df_selected['production'] * oil_well_unitprice\n",
    "    prod_total = df_selected['production'].sum()\n",
    "    prod_mean = df_selected['production'].mean()\n",
    "    revenue_total = df_selected['benefit'].sum()\n",
    "    gross_profit = revenue_total - investment\n",
    "    gross_margin = gross_profit / investment\n",
    "    \n",
    "    \n",
    "    return df_selected, prod_total, prod_mean, revenue_total, gross_profit, gross_margin"
   ]
  },
  {
   "cell_type": "markdown",
   "metadata": {},
   "source": [
    "<div class=\"alert alert-block alert-success\">\n",
    "<b>Comentario de Revisor</b> <a class=\"tocSkip\"></a>\n",
    "\n",
    "Muy bien con ambas funciones. Lo importante de la primera son los valores reales.\n",
    "    \n",
    "\n",
    "</div>"
   ]
  },
  {
   "cell_type": "code",
   "execution_count": 18,
   "metadata": {},
   "outputs": [],
   "source": [
    "# Aplicación de Función a datos de predicción\n",
    "df_selected_p_0, prod_total_p_0, prod_mean_p_0, revenue_total_p_0, gross_profit_p_0, gross_margin_p_0 = produc_benef_bdg (select_200_p_v_df_0['predicted'], oil_well_unit_price, tot_investment)\n",
    "df_selected_p_1, prod_total_p_1, prod_mean_p_1, revenue_total_p_1, gross_profit_p_1, gross_margin_p_1 = produc_benef_bdg (select_200_p_v_df_1['predicted'], oil_well_unit_price, tot_investment)\n",
    "df_selected_p_2, prod_total_p_2, prod_mean_p_2, revenue_total_p_2, gross_profit_p_2, gross_margin_p_2 = produc_benef_bdg (select_200_p_v_df_2['predicted'], oil_well_unit_price, tot_investment)"
   ]
  },
  {
   "cell_type": "markdown",
   "metadata": {},
   "source": [
    "<div class=\"alert alert-block alert-success\">\n",
    "<b>Comentario de Revisor</b> <a class=\"tocSkip\"></a>\n",
    "\n",
    "Ok, bien, para esta parte calcularemos los beneficios con los valores de predicción.\n",
    "\n",
    "</div>"
   ]
  },
  {
   "cell_type": "markdown",
   "metadata": {},
   "source": [
    "### Resume el volumen objetivo de reservas según dichas predicciones. Almacena las predicciones para los 200 pozos para cada una de las 3 regiones."
   ]
  },
  {
   "cell_type": "code",
   "execution_count": 19,
   "metadata": {},
   "outputs": [
    {
     "data": {
      "text/html": [
       "<div>\n",
       "<style scoped>\n",
       "    .dataframe tbody tr th:only-of-type {\n",
       "        vertical-align: middle;\n",
       "    }\n",
       "\n",
       "    .dataframe tbody tr th {\n",
       "        vertical-align: top;\n",
       "    }\n",
       "\n",
       "    .dataframe thead th {\n",
       "        text-align: right;\n",
       "    }\n",
       "</style>\n",
       "<table border=\"1\" class=\"dataframe\">\n",
       "  <thead>\n",
       "    <tr style=\"text-align: right;\">\n",
       "      <th></th>\n",
       "      <th>concepto</th>\n",
       "      <th>Region_0</th>\n",
       "      <th>Region_1</th>\n",
       "      <th>Region_2</th>\n",
       "    </tr>\n",
       "  </thead>\n",
       "  <tbody>\n",
       "    <tr>\n",
       "      <th>0</th>\n",
       "      <td>Volumen total</td>\n",
       "      <td>31070.29</td>\n",
       "      <td>27746.80</td>\n",
       "      <td>29695.37</td>\n",
       "    </tr>\n",
       "    <tr>\n",
       "      <th>1</th>\n",
       "      <td>Volumen promedio</td>\n",
       "      <td>155.35</td>\n",
       "      <td>138.73</td>\n",
       "      <td>148.48</td>\n",
       "    </tr>\n",
       "  </tbody>\n",
       "</table>\n",
       "</div>"
      ],
      "text/plain": [
       "           concepto  Region_0  Region_1  Region_2\n",
       "0     Volumen total  31070.29  27746.80  29695.37\n",
       "1  Volumen promedio    155.35    138.73    148.48"
      ]
     },
     "execution_count": 19,
     "metadata": {},
     "output_type": "execute_result"
    }
   ],
   "source": [
    "# DF Resumen de predicciones de volúmenes producidos por región\n",
    "pd.options.display.float_format = '{:.2f}'.format\n",
    "forecast_prod_p = {'concepto':[\"Volumen total\", \"Volumen promedio\"], \n",
    "                  'Region_0':[prod_total_p_0, prod_mean_p_0],\n",
    "                  'Region_1':[prod_total_p_1, prod_mean_p_1], \n",
    "                  'Region_2':[prod_total_p_2, prod_mean_p_2]}\n",
    "\n",
    "f_prod_df_p = pd.DataFrame(data=forecast_prod_p)\n",
    "f_prod_df_p"
   ]
  },
  {
   "cell_type": "markdown",
   "metadata": {},
   "source": [
    "### Calcula la ganancia potencial de los 200 pozos principales por región. Presenta tus conclusiones: propón una región para el desarrollo de pozos petrolíferos y justifica tu elección."
   ]
  },
  {
   "cell_type": "code",
   "execution_count": 20,
   "metadata": {},
   "outputs": [
    {
     "data": {
      "text/html": [
       "<div>\n",
       "<style scoped>\n",
       "    .dataframe tbody tr th:only-of-type {\n",
       "        vertical-align: middle;\n",
       "    }\n",
       "\n",
       "    .dataframe tbody tr th {\n",
       "        vertical-align: top;\n",
       "    }\n",
       "\n",
       "    .dataframe thead th {\n",
       "        text-align: right;\n",
       "    }\n",
       "</style>\n",
       "<table border=\"1\" class=\"dataframe\">\n",
       "  <thead>\n",
       "    <tr style=\"text-align: right;\">\n",
       "      <th></th>\n",
       "      <th>concepto</th>\n",
       "      <th>Region_0</th>\n",
       "      <th>Region_1</th>\n",
       "      <th>Region_2</th>\n",
       "    </tr>\n",
       "  </thead>\n",
       "  <tbody>\n",
       "    <tr>\n",
       "      <th>0</th>\n",
       "      <td>Ingresos potenciales</td>\n",
       "      <td>139816309.11</td>\n",
       "      <td>124860607.85</td>\n",
       "      <td>133629149.08</td>\n",
       "    </tr>\n",
       "    <tr>\n",
       "      <th>1</th>\n",
       "      <td>Beneficio Bruto</td>\n",
       "      <td>39816309.11</td>\n",
       "      <td>24860607.85</td>\n",
       "      <td>33629149.08</td>\n",
       "    </tr>\n",
       "    <tr>\n",
       "      <th>2</th>\n",
       "      <td>Margen Bruto</td>\n",
       "      <td>0.40</td>\n",
       "      <td>0.25</td>\n",
       "      <td>0.34</td>\n",
       "    </tr>\n",
       "  </tbody>\n",
       "</table>\n",
       "</div>"
      ],
      "text/plain": [
       "               concepto     Region_0     Region_1     Region_2\n",
       "0  Ingresos potenciales 139816309.11 124860607.85 133629149.08\n",
       "1       Beneficio Bruto  39816309.11  24860607.85  33629149.08\n",
       "2          Margen Bruto         0.40         0.25         0.34"
      ]
     },
     "execution_count": 20,
     "metadata": {},
     "output_type": "execute_result"
    }
   ],
   "source": [
    "# DF Resumen de predicciones de ingresos y beneficios por región\n",
    "forecast_rev_p = {'concepto':[\"Ingresos potenciales\", \"Beneficio Bruto\", \"Margen Bruto\"],\n",
    "                  'Region_0':[revenue_total_p_0, gross_profit_p_0, gross_margin_p_0],\n",
    "                  'Region_1':[revenue_total_p_1, gross_profit_p_1, gross_margin_p_1],\n",
    "                  'Region_2':[revenue_total_p_2, gross_profit_p_2, gross_margin_p_2]}\n",
    "\n",
    "f_rev_df_p = pd.DataFrame(data=forecast_rev_p)\n",
    "f_rev_df_p"
   ]
  },
  {
   "cell_type": "markdown",
   "metadata": {},
   "source": [
    "#### Comentarios Sección 4\n",
    "\n",
    "Siguiendo las instrucciones de seleccionar los 200 pozos con mayor nivel predictivo por región, se calcula el ingreso posible por cada pozo, a su vez los totales de producción e ingresos y por último, el margen bruto.\n",
    "\n",
    "Respecto a los volúmenes de producción Reg0 y Reg2 se muestran con aproximadamente 30,000 k mientras que Reg1 con 27,000 k.\n",
    "\n",
    "Del mismo modo, Reg0 y Reg2 superan los 130 millones de dólares en posibles ventas. Reg1 queda por debajo de 124 millones.\n",
    "\n",
    "Conclusiones:\n",
    "\n",
    "* Al elegir los mejores 200 pozos, se descarta una buena cantidad de pozos de baja producción (en especial en Reg1) haciendo que la comparativa actual quede mejor balanceada entre las 3 regiones.\n",
    "\n",
    "* De cualquier manera y en concordancia con los resultados comparativos de la sección 3, Reg0 y Reg2 se muestran con los mejores resultados posibles.\n"
   ]
  },
  {
   "cell_type": "markdown",
   "metadata": {},
   "source": [
    "<div class=\"alert alert-block alert-success\">\n",
    "<b>Comentario de Revisor</b> <a class=\"tocSkip\"></a>\n",
    "\n",
    "Correcto. En este escenario tenemos el mejor caso, puesto que estamos escogiendo los mejores pozos. Sin embargo, en la realidad, no podemos tener completa certeza de que los pozos escogidos como los mejores mediante el modelo, sean realmente los mejores.\n",
    "\n",
    "</div>"
   ]
  },
  {
   "cell_type": "markdown",
   "metadata": {},
   "source": [
    "#### Paso extra 4. Aplicación del procedimiento de volúmenes e ingresos a los valores verdaderos de la selección de 200 pozos.\n",
    "\n"
   ]
  },
  {
   "cell_type": "code",
   "execution_count": 21,
   "metadata": {},
   "outputs": [],
   "source": [
    "# Aplicación de Función a datos de verdaderos\n",
    "df_selected_v_0, prod_total_v_0, prod_mean_v_0, revenue_total_v_0, gross_profit_v_0, gross_margin_v_0 = produc_benef_bdg (select_200_p_v_df_0['true'], oil_well_unit_price, tot_investment)\n",
    "df_selected_v_1, prod_total_v_1, prod_mean_v_1, revenue_total_v_1, gross_profit_v_1, gross_margin_v_1 = produc_benef_bdg (select_200_p_v_df_1['true'], oil_well_unit_price, tot_investment)\n",
    "df_selected_v_2, prod_total_v_2, prod_mean_v_2, revenue_total_v_2, gross_profit_v_2, gross_margin_v_2 = produc_benef_bdg (select_200_p_v_df_2['true'], oil_well_unit_price, tot_investment)"
   ]
  },
  {
   "cell_type": "code",
   "execution_count": 22,
   "metadata": {},
   "outputs": [
    {
     "data": {
      "text/html": [
       "<div>\n",
       "<style scoped>\n",
       "    .dataframe tbody tr th:only-of-type {\n",
       "        vertical-align: middle;\n",
       "    }\n",
       "\n",
       "    .dataframe tbody tr th {\n",
       "        vertical-align: top;\n",
       "    }\n",
       "\n",
       "    .dataframe thead th {\n",
       "        text-align: right;\n",
       "    }\n",
       "</style>\n",
       "<table border=\"1\" class=\"dataframe\">\n",
       "  <thead>\n",
       "    <tr style=\"text-align: right;\">\n",
       "      <th></th>\n",
       "      <th>concepto</th>\n",
       "      <th>Region_0</th>\n",
       "      <th>Region_1</th>\n",
       "      <th>Region_2</th>\n",
       "    </tr>\n",
       "  </thead>\n",
       "  <tbody>\n",
       "    <tr>\n",
       "      <th>0</th>\n",
       "      <td>Volumen total</td>\n",
       "      <td>29700.42</td>\n",
       "      <td>27589.08</td>\n",
       "      <td>27780.63</td>\n",
       "    </tr>\n",
       "    <tr>\n",
       "      <th>1</th>\n",
       "      <td>Volumen promedio</td>\n",
       "      <td>148.50</td>\n",
       "      <td>137.95</td>\n",
       "      <td>138.90</td>\n",
       "    </tr>\n",
       "  </tbody>\n",
       "</table>\n",
       "</div>"
      ],
      "text/plain": [
       "           concepto  Region_0  Region_1  Region_2\n",
       "0     Volumen total  29700.42  27589.08  27780.63\n",
       "1  Volumen promedio    148.50    137.95    138.90"
      ]
     },
     "execution_count": 22,
     "metadata": {},
     "output_type": "execute_result"
    }
   ],
   "source": [
    "# DF Resumen de volúmenes producidos por región\n",
    "pd.options.display.float_format = '{:.2f}'.format\n",
    "forecast_prod_v = {'concepto':[\"Volumen total\", \"Volumen promedio\"], \n",
    "                  'Region_0':[prod_total_v_0, prod_mean_v_0],\n",
    "                  'Region_1':[prod_total_v_1, prod_mean_v_1], \n",
    "                  'Region_2':[prod_total_v_2, prod_mean_v_2]}\n",
    "\n",
    "f_prod_df_v = pd.DataFrame(data=forecast_prod_v)\n",
    "f_prod_df_v"
   ]
  },
  {
   "cell_type": "code",
   "execution_count": 23,
   "metadata": {},
   "outputs": [
    {
     "data": {
      "text/html": [
       "<div>\n",
       "<style scoped>\n",
       "    .dataframe tbody tr th:only-of-type {\n",
       "        vertical-align: middle;\n",
       "    }\n",
       "\n",
       "    .dataframe tbody tr th {\n",
       "        vertical-align: top;\n",
       "    }\n",
       "\n",
       "    .dataframe thead th {\n",
       "        text-align: right;\n",
       "    }\n",
       "</style>\n",
       "<table border=\"1\" class=\"dataframe\">\n",
       "  <thead>\n",
       "    <tr style=\"text-align: right;\">\n",
       "      <th></th>\n",
       "      <th>concepto</th>\n",
       "      <th>Region_0</th>\n",
       "      <th>Region_1</th>\n",
       "      <th>Region_2</th>\n",
       "    </tr>\n",
       "  </thead>\n",
       "  <tbody>\n",
       "    <tr>\n",
       "      <th>0</th>\n",
       "      <td>Ingresos potenciales</td>\n",
       "      <td>133651872.38</td>\n",
       "      <td>124150866.97</td>\n",
       "      <td>125012838.53</td>\n",
       "    </tr>\n",
       "    <tr>\n",
       "      <th>1</th>\n",
       "      <td>Beneficio Bruto</td>\n",
       "      <td>33651872.38</td>\n",
       "      <td>24150866.97</td>\n",
       "      <td>25012838.53</td>\n",
       "    </tr>\n",
       "    <tr>\n",
       "      <th>2</th>\n",
       "      <td>Margen Bruto</td>\n",
       "      <td>0.34</td>\n",
       "      <td>0.24</td>\n",
       "      <td>0.25</td>\n",
       "    </tr>\n",
       "  </tbody>\n",
       "</table>\n",
       "</div>"
      ],
      "text/plain": [
       "               concepto     Region_0     Region_1     Region_2\n",
       "0  Ingresos potenciales 133651872.38 124150866.97 125012838.53\n",
       "1       Beneficio Bruto  33651872.38  24150866.97  25012838.53\n",
       "2          Margen Bruto         0.34         0.24         0.25"
      ]
     },
     "execution_count": 23,
     "metadata": {},
     "output_type": "execute_result"
    }
   ],
   "source": [
    "# DF Resumen de ingresos y beneficios por región\n",
    "forecast_rev_v = {'concepto':[\"Ingresos potenciales\", \"Beneficio Bruto\", \"Margen Bruto\"],\n",
    "                  'Region_0':[revenue_total_v_0, gross_profit_v_0, gross_margin_v_0],\n",
    "                  'Region_1':[revenue_total_v_1, gross_profit_v_1, gross_margin_v_1],\n",
    "                  'Region_2':[revenue_total_v_2, gross_profit_v_2, gross_margin_v_2]}\n",
    "\n",
    "f_rev_df_v = pd.DataFrame(data=forecast_rev_v)\n",
    "f_rev_df_v"
   ]
  },
  {
   "cell_type": "markdown",
   "metadata": {},
   "source": [
    "#### Conclusión Paso extra 4.\n",
    "\n",
    "Aplicando el mismo procedimiento de volúmenes e ingresos posibles a los 200 pozos elegidos en sus valores predichos y en sus valores verdaderos, podemos observar que los volúmenes totales son significativamente menores en Reg0 y Reg2, en cuanto a la información verdadera.\n",
    "\n",
    "Esto nos dice que los modelos entrenados y aplicados a dichas regiones, sobrevaloraron las predicciones, no así para Reg1. Asumiéndose, según la información de las métricas, como la mejor región para invertir.\n",
    "\n",
    "Cabe señalar que los pozos de producción máxima de la Reg1 (137 k) quedan por debajo de las Reg0 y Reg2 (185 k y 190 k) y a su vez mayor cantidad de pozos de baja producción (Medianas: Reg0=90 k, Reg1= 80 k, Reg2= 94 k), pero esto último cambia su afectación al limitarnos a 200 pozos.\n",
    "\n",
    "Reg1 no presenta diferencia importante entre el volumen de producción predicho y verdadero (27,000 k).\n",
    "\n",
    "En la comparación del margen bruto, se obtiene la misma afectación que en volúmenes, Reg1 se mantiene muy similar en ambos casos.\n",
    "\n",
    "La región 1 es la mejor opción para invertir.\n"
   ]
  },
  {
   "cell_type": "markdown",
   "metadata": {},
   "source": [
    "<div class=\"alert alert-block alert-success\">\n",
    "<b>Comentario de Revisor</b> <a class=\"tocSkip\"></a>\n",
    "\n",
    "Buen trabajo. Con esto ya tenemos una mejor idea del resultado real cuando escogemos los mejores pozos mediante el valor de predicción.\n",
    "\n",
    "</div>"
   ]
  },
  {
   "cell_type": "markdown",
   "metadata": {},
   "source": [
    "## Calcula riesgos y ganancias para cada región:\n",
    "\n",
    "### Utilizando las predicciones que almacenaste en el paso 4.2, emplea la técnica del bootstrapping con 1000 muestras para hallar la distribución de los beneficios."
   ]
  },
  {
   "cell_type": "code",
   "execution_count": 24,
   "metadata": {},
   "outputs": [],
   "source": [
    "# Aplicación de Función select_ensemb para conjunto completo\n",
    "select_all_p_v_df_0 = select_ensemb (predict_valid_0, features_valid_0, len(predict_valid_0), target_valid_0)\n",
    "select_all_p_v_df_1 = select_ensemb (predict_valid_1, features_valid_1, len(predict_valid_1), target_valid_1)\n",
    "select_all_p_v_df_2 = select_ensemb (predict_valid_2, features_valid_2, len(predict_valid_2), target_valid_2)"
   ]
  },
  {
   "cell_type": "code",
   "execution_count": 25,
   "metadata": {},
   "outputs": [],
   "source": [
    "#Función para determinar bootstraping\n",
    "def sub_sample (selection_data, count, repet, points, oil_well_unitprice, investment):\n",
    "    state = np.random.RandomState(12345)    \n",
    "    values_rev = []\n",
    "    for i in range(repet):\n",
    "        data_subsample = selection_data.sample(n=points, replace=True, random_state=state)\n",
    "        vol_rev = data_subsample.sort_values(by='predicted',ascending=False).head(count)['true'].sum()\n",
    "        values_rev.append((vol_rev * oil_well_unitprice) - investment)\n",
    "    return values_rev"
   ]
  },
  {
   "cell_type": "code",
   "execution_count": 26,
   "metadata": {},
   "outputs": [],
   "source": [
    "# Aplicación de función con bootstrapping\n",
    "values_allv_rev_0 = sub_sample (select_all_p_v_df_0, oil_well_budg, 1000, 500, oil_well_unit_price, tot_investment)\n",
    "values_allv_rev_1 = sub_sample (select_all_p_v_df_1, oil_well_budg, 1000, 500, oil_well_unit_price, tot_investment)\n",
    "values_allv_rev_2 = sub_sample (select_all_p_v_df_2, oil_well_budg, 1000, 500, oil_well_unit_price, tot_investment)"
   ]
  },
  {
   "cell_type": "markdown",
   "metadata": {},
   "source": [
    "<div class=\"alert alert-block alert-danger\">\n",
    "<b>Comentario de Revisor</b> <a class=\"tocSkip\"></a>\n",
    "\n",
    "Bien con el procedimiento de bootstrapping, pero para esta parte se requiere almacenar la ganancia de cada iteración, es decir, el ingreso menos la inversión. Además, para ese cálculo, se debe proceder de la misma forma que antes, es decir, seleccionar el top 200 por valor de predicción y luego usar los valores reales correspondientes para el cálculo del ingreso.\n",
    "\n",
    "</div>"
   ]
  },
  {
   "cell_type": "markdown",
   "metadata": {},
   "source": [
    "<div class=\"alert alert-block alert-info\">\n",
    "<b>Respuesta estudiante</b> <a class=\"tocSkip\"></a>\n",
    "    \n",
    "He descontado el monto de la inversión y la aplicación a los valores reales.\n",
    "    \n",
    "</div>"
   ]
  },
  {
   "cell_type": "markdown",
   "metadata": {},
   "source": [
    "<div class=\"alert alert-block alert-danger\">\n",
    "<b>Comentario de Revisor v2</b> <a class=\"tocSkip\"></a>\n",
    "\n",
    "El problema con esta parte es que estás usando como dato fijo el top 200 de los pozos. En realidad, debes usar una función que de forma dinámica, con una data nueva, obtenga el beneficio según la metodología. En detalle, para la región 0 por ejemplo, veo que más adelante usas:\n",
    "    \n",
    "    values_b200v_rev_0 = sub_sample (select_200_valid_0, oil_well_budg, 1000, 500)\n",
    "    \n",
    "pero select_200_valid_0 ya tiene 200 pozos, lo cual no genera mucha variación en el método de bootstrapping y tampoco se está obteniendo la variabilidad completa de la región. Para ello, el bootstrapping debería recibir los 25000 pozos de validación, con sus valores reales y de predicción, realizar el muestreo de 500 y sobre eso aplicar la metodología de cálculo del beneficio. Algo como esto:\n",
    "    \n",
    "    state = np.random.RandomState(12345) \n",
    "    values_rev=[]\n",
    "    for _ in range(1000):\n",
    "        data_subsample = df_data.sample(n=500, replace=True, random_state=state)\n",
    "        vol_rev = data_subsample.sort_values(by='pred',ascending=False).head(200)['real'].sum()\n",
    "        values_rev.append(vol_rev*4500-100_000_000)\n",
    "\n",
    "donde df_data tiene 25000 filas (pozos) con columnas de real y pred, que contienen los valores reales y de predicción respectivamente para cada pozo.\n",
    "    \n",
    "    \n",
    "</div>"
   ]
  },
  {
   "cell_type": "markdown",
   "metadata": {},
   "source": [
    "<div class=\"alert alert-block alert-info\">\n",
    "<b>Respuesta estudiante v2</b> <a class=\"tocSkip\"></a>\n",
    "    \n",
    "* Al crear el DF con valores predichos y verdaderos me generaron problema algunos pozos duplicados (los eliminé desde la sección uno, me aseguré de que la afectación no fuera importante)\n",
    "\n",
    "* La formación del DF la agregué al paso 4.1 ya que por cómo había trabajado la sección 4, requería conocer los valores por dichas selecciones, para hacer la comparativa (previa al bootstrapping) de los valores predichos y verdaderos, pues ya lo había incluido en el flujo de la información desde las primeras entregas.\n",
    "    \n",
    "</div>"
   ]
  },
  {
   "cell_type": "markdown",
   "metadata": {},
   "source": [
    "### Encuentra el beneficio promedio, el intervalo de confianza del 95% y el riesgo de pérdidas. La pérdida es una ganancia negativa, calcúlala como una probabilidad y luego exprésala como un porcentaje."
   ]
  },
  {
   "cell_type": "code",
   "execution_count": 27,
   "metadata": {},
   "outputs": [],
   "source": [
    "#Función para presentar gráfico e información de ingresos\n",
    "def rev_summ (data_rev, repet, reg):\n",
    "    values_rev_s = pd.Series(data_rev)\n",
    "    values_rev_min = values_rev_s.min()\n",
    "    values_rev_max = values_rev_s.max()\n",
    "    values_rev_mean = values_rev_s.mean()\n",
    "    values_rev_std = values_rev_s.std()\n",
    "    lower = values_rev_s.quantile(.025)\n",
    "    upper = values_rev_s.quantile(0.975)\n",
    "    neg_rev = 0\n",
    "    for i in values_rev_s:\n",
    "        if i < 0:\n",
    "            neg_rev += 1\n",
    "    loss_rate = neg_rev / repet * 100\n",
    "    plt.figure(figsize=(10, 5))\n",
    "    plt.axvline(lower, label= 'IC: Límite Inferior', color='deeppink', linestyle='--')\n",
    "    plt.axvline(upper, label= 'IC: Límite Superior', color='deeppink', linestyle='--')\n",
    "    plt.axvline(values_rev_mean, label= 'Media', color='lime', linestyle='-')\n",
    "    plt.hist(values_rev_s, bins=100, alpha=.6)\n",
    "    plt.title(\"Distribución Muestral de Utilidad\")\n",
    "    plt.xlabel(\"\\nUtilidad de las Muestras\")\n",
    "    plt.ylabel(\"Frecuencia\")\n",
    "    plt.show()    \n",
    "    \n",
    "    return print(f'Utilidad {reg} \\nValor de utilidad mínimo: {values_rev_min:.2f} y máximo: {values_rev_max:.2f} \\nUtilidad promedio: {values_rev_mean:.2f} \\nDesviación estándar: {values_rev_std:.2f} \\nIntervalo de confianza del 95 %: {lower:.2f} , {upper:.2f} \\nPorcentaje de probabilidad de pérdida {loss_rate:.2f}%')"
   ]
  },
  {
   "cell_type": "markdown",
   "metadata": {},
   "source": [
    "<div class=\"alert alert-block alert-danger\">\n",
    "<b>Comentario de Revisor</b> <a class=\"tocSkip\"></a>\n",
    "\n",
    "El intervalo de confianza correcto es el de los cuantiles. De hecho, nota que el calculado mediante a la distribución t-student no hace sentido en el gráfico. Esto ocurre puesto que no podemos asumir que la distribución de la variable aleatoria es de ese tipo, más bien nos apoyamos en el resultado del bootstrapping para obtener un intervalo de confianza según la distribución empírica.\n",
    "    \n",
    "Por otro lado, el resto de los cálculos en el gráfico está bien. Una vez corregido el bootstrapping se deberían obtener los resultados correctos. \n",
    "    \n",
    "Respecto al texto de output, se debe corregir el intervalo de confianza (como indiqué arriba) y el riesgo se calcula como el porcentaje de veces que se obtuvo un resultado negativo.\n",
    "</div>"
   ]
  },
  {
   "cell_type": "markdown",
   "metadata": {},
   "source": [
    "<div class=\"alert alert-block alert-info\">\n",
    "<b>Respuesta estudiante</b> <a class=\"tocSkip\"></a>\n",
    "    \n",
    "Eliminé el cálculo con t-student, dejando los cuantiles como el intervalo de confianza y agregué un bucle for para el conteo de los submuestreos negativos y el cálculo del porcentaje de pérdida.\n",
    "    \n",
    "</div>"
   ]
  },
  {
   "cell_type": "markdown",
   "metadata": {},
   "source": [
    "<div class=\"alert alert-block alert-danger\">\n",
    "<b>Comentario de Revisor v2</b> <a class=\"tocSkip\"></a>\n",
    "\n",
    "Muy bien, corregidos los cálculos de métricas. Ahora tan solo falta corregir el cálculo del bootstrapping que expliqué en más detalle arriba.\n",
    "</div>"
   ]
  },
  {
   "cell_type": "code",
   "execution_count": 28,
   "metadata": {
    "scrolled": false
   },
   "outputs": [
    {
     "data": {
      "image/png": "[encoded data removed]",
      "text/plain": [
       "<Figure size 1000x500 with 1 Axes>"
      ]
     },
     "metadata": {},
     "output_type": "display_data"
    },
    {
     "name": "stdout",
     "output_type": "stream",
     "text": [
      "Utilidad Región 0 \n",
      "Valor de utilidad mínimo: -5720502.82 y máximo: 12701276.44 \n",
      "Utilidad promedio: 3874594.16 \n",
      "Desviación estándar: 2695344.82 \n",
      "Intervalo de confianza del 95 %: -1302188.79 , 9106450.13 \n",
      "Porcentaje de probabilidad de pérdida 7.60%\n",
      "None\n"
     ]
    },
    {
     "data": {
      "image/png": "[encoded data removed]",
      "text/plain": [
       "<Figure size 1000x500 with 1 Axes>"
      ]
     },
     "metadata": {},
     "output_type": "display_data"
    },
    {
     "name": "stdout",
     "output_type": "stream",
     "text": [
      "Utilidad Región 1 \n",
      "Valor de utilidad mínimo: -1394604.51 y máximo: 11611380.60 \n",
      "Utilidad promedio: 4660149.93 \n",
      "Desviación estándar: 2000270.76 \n",
      "Intervalo de confianza del 95 %: 780508.11 , 8751167.93 \n",
      "Porcentaje de probabilidad de pérdida 0.90%\n",
      "None\n"
     ]
    },
    {
     "data": {
      "image/png": "[encoded data removed]",
      "text/plain": [
       "<Figure size 1000x500 with 1 Axes>"
      ]
     },
     "metadata": {},
     "output_type": "display_data"
    },
    {
     "name": "stdout",
     "output_type": "stream",
     "text": [
      "Utilidad Región 2 \n",
      "Valor de utilidad mínimo: -4269824.81 y máximo: 13071740.27 \n",
      "Utilidad promedio: 3269444.14 \n",
      "Desviación estándar: 2591446.08 \n",
      "Intervalo de confianza del 95 %: -2048943.97 , 8392699.53 \n",
      "Porcentaje de probabilidad de pérdida 11.00%\n",
      "None\n"
     ]
    }
   ],
   "source": [
    "# Aplicación de función de resumen de Utilidad\n",
    "print(rev_summ (values_allv_rev_0, 1000, 'Región 0'))\n",
    "print(rev_summ (values_allv_rev_1, 1000, 'Región 1'))\n",
    "print(rev_summ (values_allv_rev_2, 1000, 'Región 2'))"
   ]
  },
  {
   "cell_type": "markdown",
   "metadata": {},
   "source": [
    "#### Comentarios Sección 5\n",
    "\n",
    "Al aplicar el Bootstrapping a los valores verdaderos de los mejores 200 pozos predichos por región, con muestras a 500 puntos y 1000 repeticiones, creamos nuestros nuevos universos de datos.\n",
    "\n",
    "La distribución de datos en los tres casos muestra la forma de \"campana\" se presentan los datos de la Utilidad.\n",
    "\n",
    "En este paso se agrega la consideración de la probabilidad de obtener pérdida, siendo Reg0 y Reg2 cuyos porcentajes de pérdida sobrepasan el 2.5% requerido para su descarte.\n",
    "\n",
    "En Reg0 y Reg2 la utilidad promedio refleja una disminución de entre 7% y 10% en comparación con los valores predichos debido a la baja eficiencia de los modelos para cada región. Sin embargo, considerando dicha disminución ambos superan el porcentaje de utilidad de Reg1, por lo mismo, si se desea un mejor porcentaje de ganancias (sin certeza en los cálculos y valores a obtener) estas dos regiones podrían ser buenas para invertir.\n",
    "\n",
    "Por otro lado Reg0 no tiene variaciones importantes entre los valores predichos y verdaderos, asegurando un margen de utilidad del 24%.\n",
    "\n",
    "Dicho lo anterior y a efectos de considerar un margen de ganancia conocido y certeza en los datos para su consecución, Reg1 es la mejor opción para invertir."
   ]
  },
  {
   "cell_type": "markdown",
   "metadata": {},
   "source": [
    "### Presenta tus conclusiones: propón una región para el desarrollo de pozos petrolíferos y justifica tu elección. ¿Coincide tu elección con la elección anterior en el punto 4.3?"
   ]
  },
  {
   "cell_type": "markdown",
   "metadata": {},
   "source": [
    "#### Conclusión General.\n",
    "\n",
    "A pesar de que en la información presentada Reg0 y Reg2 parecen ofrecer un mejor margen de bruto de utilidad, la Región 1  presenta mejores resultados en las métricas del modelo por lo tanto, resultados predichos más apegados a los valores verdaderos, esto da más efectividad al elegir los 200 pozos mejor predichos y del mismo modo, de mejor producción real.\n",
    "\n",
    "Se recomienda invertir en la REGIÓN 1.\n"
   ]
  },
  {
   "cell_type": "markdown",
   "metadata": {},
   "source": [
    "<div class=\"alert alert-block alert-success\"> <b>¡Excelente trabajo, Oscar! 🎉</b> <a class=\"tocSkip\"></a> Tu proyecto ha mejorado significativamente con cada iteración de revisión. \n",
    "    \n",
    "Lograste **corregir los cálculos del bootstrapping, mejorar la estimación del intervalo de confianza y evaluar correctamente el riesgo de inversión**.\n",
    "\n",
    "🔹 Fortalezas destacadas:\n",
    "    \n",
    "✅ Implementación correcta del modelo de regresión lineal.\n",
    "✅ Cálculo preciso del beneficio y riesgo utilizando bootstrapping.\n",
    "✅ Justificación bien fundamentada sobre la mejor región para invertir.\n",
    "✅ Aplicación correcta de cuantiles en la estimación del intervalo de confianza.\n",
    "\n",
    "🚀 Sigue aplicando este nivel de detalle y rigor en tus análisis, ya que esto te preparará bien para el mundo real en Data Science!\n",
    "\n",
    "</div>"
   ]
  }
 ],
 "metadata": {
  "ExecuteTimeLog": [
   {
    "duration": 2728,
    "start_time": "2025-02-25T18:27:55.888Z"
   },
   {
    "duration": 581,
    "start_time": "2025-02-25T18:28:43.063Z"
   },
   {
    "duration": 1012,
    "start_time": "2025-02-25T18:32:57.103Z"
   },
   {
    "duration": 12,
    "start_time": "2025-02-25T18:33:04.696Z"
   },
   {
    "duration": 878,
    "start_time": "2025-02-25T18:47:30.969Z"
   },
   {
    "duration": 869,
    "start_time": "2025-02-25T18:47:31.850Z"
   },
   {
    "duration": 13,
    "start_time": "2025-02-25T18:47:32.721Z"
   },
   {
    "duration": 13,
    "start_time": "2025-02-25T18:49:40.529Z"
   },
   {
    "duration": 921,
    "start_time": "2025-02-25T19:27:10.194Z"
   },
   {
    "duration": 1053,
    "start_time": "2025-02-25T19:27:11.117Z"
   },
   {
    "duration": 12,
    "start_time": "2025-02-25T19:27:12.171Z"
   },
   {
    "duration": 4,
    "start_time": "2025-02-25T19:27:12.185Z"
   },
   {
    "duration": 61,
    "start_time": "2025-02-25T19:27:12.190Z"
   },
   {
    "duration": 175,
    "start_time": "2025-02-25T19:27:12.252Z"
   },
   {
    "duration": 0,
    "start_time": "2025-02-25T19:27:12.429Z"
   },
   {
    "duration": 0,
    "start_time": "2025-02-25T19:27:12.430Z"
   },
   {
    "duration": 12,
    "start_time": "2025-02-25T19:28:17.704Z"
   },
   {
    "duration": 14,
    "start_time": "2025-02-25T19:29:43.083Z"
   },
   {
    "duration": 5,
    "start_time": "2025-02-25T19:29:50.810Z"
   },
   {
    "duration": 12,
    "start_time": "2025-02-25T19:30:10.903Z"
   },
   {
    "duration": 14,
    "start_time": "2025-02-25T19:30:14.936Z"
   },
   {
    "duration": 434,
    "start_time": "2025-02-25T19:30:52.265Z"
   },
   {
    "duration": 941,
    "start_time": "2025-02-25T19:31:50.710Z"
   },
   {
    "duration": 1065,
    "start_time": "2025-02-25T19:31:51.654Z"
   },
   {
    "duration": 14,
    "start_time": "2025-02-25T19:31:52.720Z"
   },
   {
    "duration": 4,
    "start_time": "2025-02-25T19:31:52.736Z"
   },
   {
    "duration": 70,
    "start_time": "2025-02-25T19:31:52.742Z"
   },
   {
    "duration": 167,
    "start_time": "2025-02-25T19:31:52.813Z"
   },
   {
    "duration": 0,
    "start_time": "2025-02-25T19:31:52.982Z"
   },
   {
    "duration": 0,
    "start_time": "2025-02-25T19:31:52.983Z"
   },
   {
    "duration": 13,
    "start_time": "2025-02-25T19:32:30.317Z"
   },
   {
    "duration": 931,
    "start_time": "2025-02-25T19:33:34.094Z"
   },
   {
    "duration": 918,
    "start_time": "2025-02-25T19:33:35.027Z"
   },
   {
    "duration": 23,
    "start_time": "2025-02-25T19:33:35.947Z"
   },
   {
    "duration": 67,
    "start_time": "2025-02-25T19:33:35.973Z"
   },
   {
    "duration": 5,
    "start_time": "2025-02-25T19:33:36.041Z"
   },
   {
    "duration": 34,
    "start_time": "2025-02-25T19:33:36.048Z"
   },
   {
    "duration": 13,
    "start_time": "2025-02-25T19:33:36.083Z"
   },
   {
    "duration": 18,
    "start_time": "2025-02-25T19:33:36.098Z"
   },
   {
    "duration": 185,
    "start_time": "2025-02-25T19:33:36.118Z"
   },
   {
    "duration": 1,
    "start_time": "2025-02-25T19:33:36.304Z"
   },
   {
    "duration": 0,
    "start_time": "2025-02-25T19:33:36.306Z"
   },
   {
    "duration": 10,
    "start_time": "2025-02-25T19:34:13.335Z"
   },
   {
    "duration": 4,
    "start_time": "2025-02-25T19:56:34.782Z"
   },
   {
    "duration": 8,
    "start_time": "2025-02-25T19:56:37.914Z"
   },
   {
    "duration": 4,
    "start_time": "2025-02-25T19:56:46.821Z"
   },
   {
    "duration": 35,
    "start_time": "2025-02-25T19:56:47.899Z"
   },
   {
    "duration": 21,
    "start_time": "2025-02-25T19:56:48.712Z"
   },
   {
    "duration": 889,
    "start_time": "2025-02-25T19:56:53.643Z"
   },
   {
    "duration": 909,
    "start_time": "2025-02-25T19:56:54.535Z"
   },
   {
    "duration": 5,
    "start_time": "2025-02-25T19:56:55.446Z"
   },
   {
    "duration": 9,
    "start_time": "2025-02-25T19:56:55.454Z"
   },
   {
    "duration": 4,
    "start_time": "2025-02-25T19:56:55.469Z"
   },
   {
    "duration": 22,
    "start_time": "2025-02-25T19:56:55.475Z"
   },
   {
    "duration": 77,
    "start_time": "2025-02-25T19:56:55.498Z"
   },
   {
    "duration": 6,
    "start_time": "2025-02-25T19:56:55.576Z"
   },
   {
    "duration": 329,
    "start_time": "2025-02-25T19:56:55.583Z"
   },
   {
    "duration": 882,
    "start_time": "2025-02-25T19:57:28.747Z"
   },
   {
    "duration": 897,
    "start_time": "2025-02-25T19:57:29.631Z"
   },
   {
    "duration": 6,
    "start_time": "2025-02-25T19:57:30.531Z"
   },
   {
    "duration": 10,
    "start_time": "2025-02-25T19:57:30.539Z"
   },
   {
    "duration": 20,
    "start_time": "2025-02-25T19:57:30.551Z"
   },
   {
    "duration": 29,
    "start_time": "2025-02-25T19:57:30.573Z"
   },
   {
    "duration": 70,
    "start_time": "2025-02-25T19:57:30.604Z"
   },
   {
    "duration": 3,
    "start_time": "2025-02-25T19:57:30.675Z"
   },
   {
    "duration": 8,
    "start_time": "2025-02-25T19:57:30.679Z"
   },
   {
    "duration": 937,
    "start_time": "2025-02-25T19:57:55.707Z"
   },
   {
    "duration": 851,
    "start_time": "2025-02-25T19:57:56.647Z"
   },
   {
    "duration": 14,
    "start_time": "2025-02-25T19:57:57.500Z"
   },
   {
    "duration": 66,
    "start_time": "2025-02-25T19:57:57.516Z"
   },
   {
    "duration": 4,
    "start_time": "2025-02-25T19:57:57.584Z"
   },
   {
    "duration": 27,
    "start_time": "2025-02-25T19:57:57.590Z"
   },
   {
    "duration": 10,
    "start_time": "2025-02-25T19:57:57.619Z"
   },
   {
    "duration": 2,
    "start_time": "2025-02-25T19:57:57.632Z"
   },
   {
    "duration": 7,
    "start_time": "2025-02-25T19:57:57.671Z"
   },
   {
    "duration": 916,
    "start_time": "2025-02-25T20:02:09.718Z"
   },
   {
    "duration": 935,
    "start_time": "2025-02-25T20:02:10.637Z"
   },
   {
    "duration": 11,
    "start_time": "2025-02-25T20:02:11.573Z"
   },
   {
    "duration": 58,
    "start_time": "2025-02-25T20:02:11.586Z"
   },
   {
    "duration": 4,
    "start_time": "2025-02-25T20:02:11.646Z"
   },
   {
    "duration": 22,
    "start_time": "2025-02-25T20:02:11.670Z"
   },
   {
    "duration": 12,
    "start_time": "2025-02-25T20:02:11.694Z"
   },
   {
    "duration": 6,
    "start_time": "2025-02-25T20:02:11.707Z"
   },
   {
    "duration": 62,
    "start_time": "2025-02-25T20:02:11.715Z"
   },
   {
    "duration": 953,
    "start_time": "2025-02-25T20:10:41.311Z"
   },
   {
    "duration": 1049,
    "start_time": "2025-02-25T20:10:42.266Z"
   },
   {
    "duration": 42,
    "start_time": "2025-02-25T20:10:43.318Z"
   },
   {
    "duration": 958,
    "start_time": "2025-02-25T20:10:43.370Z"
   },
   {
    "duration": 15,
    "start_time": "2025-02-25T20:10:44.331Z"
   },
   {
    "duration": 71,
    "start_time": "2025-02-25T20:10:44.348Z"
   },
   {
    "duration": 3,
    "start_time": "2025-02-25T20:10:44.422Z"
   },
   {
    "duration": 24,
    "start_time": "2025-02-25T20:10:44.427Z"
   },
   {
    "duration": 33,
    "start_time": "2025-02-25T20:10:44.453Z"
   },
   {
    "duration": 3,
    "start_time": "2025-02-25T20:10:44.488Z"
   },
   {
    "duration": 76,
    "start_time": "2025-02-25T20:10:44.493Z"
   },
   {
    "duration": 1045,
    "start_time": "2025-02-25T20:11:24.386Z"
   },
   {
    "duration": 1045,
    "start_time": "2025-02-25T20:11:25.434Z"
   },
   {
    "duration": 29,
    "start_time": "2025-02-25T20:11:26.481Z"
   },
   {
    "duration": 862,
    "start_time": "2025-02-25T20:11:26.512Z"
   },
   {
    "duration": 13,
    "start_time": "2025-02-25T20:11:27.376Z"
   },
   {
    "duration": 56,
    "start_time": "2025-02-25T20:11:27.390Z"
   },
   {
    "duration": 3,
    "start_time": "2025-02-25T20:11:27.447Z"
   },
   {
    "duration": 40,
    "start_time": "2025-02-25T20:11:27.452Z"
   },
   {
    "duration": 12,
    "start_time": "2025-02-25T20:11:27.494Z"
   },
   {
    "duration": 3,
    "start_time": "2025-02-25T20:11:27.507Z"
   },
   {
    "duration": 7,
    "start_time": "2025-02-25T20:11:27.511Z"
   },
   {
    "duration": 885,
    "start_time": "2025-02-25T20:11:52.023Z"
   },
   {
    "duration": 987,
    "start_time": "2025-02-25T20:11:52.911Z"
   },
   {
    "duration": 33,
    "start_time": "2025-02-25T20:11:53.900Z"
   },
   {
    "duration": 816,
    "start_time": "2025-02-25T20:11:53.935Z"
   },
   {
    "duration": 13,
    "start_time": "2025-02-25T20:11:54.753Z"
   },
   {
    "duration": 54,
    "start_time": "2025-02-25T20:11:54.769Z"
   },
   {
    "duration": 3,
    "start_time": "2025-02-25T20:11:54.825Z"
   },
   {
    "duration": 18,
    "start_time": "2025-02-25T20:11:54.830Z"
   },
   {
    "duration": 27,
    "start_time": "2025-02-25T20:11:54.849Z"
   },
   {
    "duration": 3,
    "start_time": "2025-02-25T20:11:54.877Z"
   },
   {
    "duration": 8,
    "start_time": "2025-02-25T20:11:54.881Z"
   },
   {
    "duration": 132,
    "start_time": "2025-02-25T20:14:57.434Z"
   },
   {
    "duration": 12,
    "start_time": "2025-02-25T20:15:16.302Z"
   },
   {
    "duration": 104,
    "start_time": "2025-02-25T20:15:52.639Z"
   },
   {
    "duration": 882,
    "start_time": "2025-02-25T20:15:57.428Z"
   },
   {
    "duration": 5,
    "start_time": "2025-02-25T20:15:58.313Z"
   },
   {
    "duration": 0,
    "start_time": "2025-02-25T20:15:58.320Z"
   },
   {
    "duration": 0,
    "start_time": "2025-02-25T20:15:58.321Z"
   },
   {
    "duration": 0,
    "start_time": "2025-02-25T20:15:58.322Z"
   },
   {
    "duration": 0,
    "start_time": "2025-02-25T20:15:58.323Z"
   },
   {
    "duration": 0,
    "start_time": "2025-02-25T20:15:58.324Z"
   },
   {
    "duration": 0,
    "start_time": "2025-02-25T20:15:58.325Z"
   },
   {
    "duration": 0,
    "start_time": "2025-02-25T20:15:58.326Z"
   },
   {
    "duration": 0,
    "start_time": "2025-02-25T20:15:58.327Z"
   },
   {
    "duration": 896,
    "start_time": "2025-02-25T20:16:06.914Z"
   },
   {
    "duration": 2737,
    "start_time": "2025-02-25T20:16:07.813Z"
   },
   {
    "duration": 12,
    "start_time": "2025-02-25T20:16:10.552Z"
   },
   {
    "duration": 62,
    "start_time": "2025-02-25T20:16:10.566Z"
   },
   {
    "duration": 4,
    "start_time": "2025-02-25T20:16:10.630Z"
   },
   {
    "duration": 35,
    "start_time": "2025-02-25T20:16:10.635Z"
   },
   {
    "duration": 8,
    "start_time": "2025-02-25T20:16:10.672Z"
   },
   {
    "duration": 3,
    "start_time": "2025-02-25T20:16:10.686Z"
   },
   {
    "duration": 11,
    "start_time": "2025-02-25T20:16:10.690Z"
   },
   {
    "duration": 8,
    "start_time": "2025-02-25T20:16:22.723Z"
   },
   {
    "duration": 9,
    "start_time": "2025-02-25T20:16:28.719Z"
   },
   {
    "duration": 9,
    "start_time": "2025-02-25T20:16:41.455Z"
   },
   {
    "duration": 8,
    "start_time": "2025-02-25T20:16:48.681Z"
   },
   {
    "duration": 8,
    "start_time": "2025-02-25T20:17:13.992Z"
   },
   {
    "duration": 937,
    "start_time": "2025-02-25T20:17:21.171Z"
   },
   {
    "duration": 3032,
    "start_time": "2025-02-25T20:17:22.112Z"
   },
   {
    "duration": 12,
    "start_time": "2025-02-25T20:17:25.146Z"
   },
   {
    "duration": 58,
    "start_time": "2025-02-25T20:17:25.159Z"
   },
   {
    "duration": 4,
    "start_time": "2025-02-25T20:17:25.219Z"
   },
   {
    "duration": 21,
    "start_time": "2025-02-25T20:17:25.225Z"
   },
   {
    "duration": 27,
    "start_time": "2025-02-25T20:17:25.248Z"
   },
   {
    "duration": 2,
    "start_time": "2025-02-25T20:17:25.277Z"
   },
   {
    "duration": 9,
    "start_time": "2025-02-25T20:17:25.280Z"
   },
   {
    "duration": 869,
    "start_time": "2025-02-25T20:18:08.746Z"
   },
   {
    "duration": 2781,
    "start_time": "2025-02-25T20:18:09.617Z"
   },
   {
    "duration": 14,
    "start_time": "2025-02-25T20:18:12.400Z"
   },
   {
    "duration": 62,
    "start_time": "2025-02-25T20:18:12.416Z"
   },
   {
    "duration": 3,
    "start_time": "2025-02-25T20:18:12.480Z"
   },
   {
    "duration": 20,
    "start_time": "2025-02-25T20:18:12.485Z"
   },
   {
    "duration": 11,
    "start_time": "2025-02-25T20:18:12.507Z"
   },
   {
    "duration": 3,
    "start_time": "2025-02-25T20:18:12.519Z"
   },
   {
    "duration": 50,
    "start_time": "2025-02-25T20:18:12.524Z"
   },
   {
    "duration": 859,
    "start_time": "2025-02-25T22:57:14.563Z"
   },
   {
    "duration": 2566,
    "start_time": "2025-02-25T22:57:15.424Z"
   },
   {
    "duration": 12,
    "start_time": "2025-02-25T22:57:17.991Z"
   },
   {
    "duration": 70,
    "start_time": "2025-02-25T22:57:18.005Z"
   },
   {
    "duration": 20,
    "start_time": "2025-02-25T22:57:18.079Z"
   },
   {
    "duration": 75,
    "start_time": "2025-02-25T22:57:18.100Z"
   },
   {
    "duration": 4,
    "start_time": "2025-02-25T22:57:18.177Z"
   },
   {
    "duration": 0,
    "start_time": "2025-02-25T22:57:18.182Z"
   },
   {
    "duration": 0,
    "start_time": "2025-02-25T22:57:18.183Z"
   },
   {
    "duration": 0,
    "start_time": "2025-02-25T22:57:18.184Z"
   },
   {
    "duration": 894,
    "start_time": "2025-02-25T22:57:36.639Z"
   },
   {
    "duration": 2930,
    "start_time": "2025-02-25T22:57:37.535Z"
   },
   {
    "duration": 12,
    "start_time": "2025-02-25T22:57:40.466Z"
   },
   {
    "duration": 52,
    "start_time": "2025-02-25T22:57:40.479Z"
   },
   {
    "duration": 39,
    "start_time": "2025-02-25T22:57:40.534Z"
   },
   {
    "duration": 25,
    "start_time": "2025-02-25T22:57:40.575Z"
   },
   {
    "duration": 376,
    "start_time": "2025-02-25T22:57:40.602Z"
   },
   {
    "duration": 0,
    "start_time": "2025-02-25T22:57:40.980Z"
   },
   {
    "duration": 0,
    "start_time": "2025-02-25T22:57:40.981Z"
   },
   {
    "duration": 0,
    "start_time": "2025-02-25T22:57:40.983Z"
   },
   {
    "duration": 865,
    "start_time": "2025-02-25T22:58:26.757Z"
   },
   {
    "duration": 2886,
    "start_time": "2025-02-25T22:58:27.625Z"
   },
   {
    "duration": 12,
    "start_time": "2025-02-25T22:58:30.512Z"
   },
   {
    "duration": 64,
    "start_time": "2025-02-25T22:58:30.525Z"
   },
   {
    "duration": 23,
    "start_time": "2025-02-25T22:58:30.592Z"
   },
   {
    "duration": 56,
    "start_time": "2025-02-25T22:58:30.617Z"
   },
   {
    "duration": 6,
    "start_time": "2025-02-25T22:58:30.675Z"
   },
   {
    "duration": 4,
    "start_time": "2025-02-25T22:58:30.683Z"
   },
   {
    "duration": 5,
    "start_time": "2025-02-25T22:58:30.689Z"
   },
   {
    "duration": 5,
    "start_time": "2025-02-25T22:58:30.770Z"
   },
   {
    "duration": 908,
    "start_time": "2025-02-25T22:58:53.368Z"
   },
   {
    "duration": 2956,
    "start_time": "2025-02-25T22:58:54.278Z"
   },
   {
    "duration": 12,
    "start_time": "2025-02-25T22:58:57.235Z"
   },
   {
    "duration": 64,
    "start_time": "2025-02-25T22:58:57.248Z"
   },
   {
    "duration": 21,
    "start_time": "2025-02-25T22:58:57.315Z"
   },
   {
    "duration": 46,
    "start_time": "2025-02-25T22:58:57.337Z"
   },
   {
    "duration": 6,
    "start_time": "2025-02-25T22:58:57.384Z"
   },
   {
    "duration": 80,
    "start_time": "2025-02-25T22:58:57.392Z"
   },
   {
    "duration": 4,
    "start_time": "2025-02-25T22:58:57.473Z"
   },
   {
    "duration": 5,
    "start_time": "2025-02-25T22:58:57.479Z"
   },
   {
    "duration": 919,
    "start_time": "2025-02-25T22:59:39.105Z"
   },
   {
    "duration": 2508,
    "start_time": "2025-02-25T22:59:40.026Z"
   },
   {
    "duration": 13,
    "start_time": "2025-02-25T22:59:42.536Z"
   },
   {
    "duration": 69,
    "start_time": "2025-02-25T22:59:42.551Z"
   },
   {
    "duration": 36,
    "start_time": "2025-02-25T22:59:42.622Z"
   },
   {
    "duration": 35,
    "start_time": "2025-02-25T22:59:42.660Z"
   },
   {
    "duration": 8,
    "start_time": "2025-02-25T22:59:42.697Z"
   },
   {
    "duration": 3,
    "start_time": "2025-02-25T23:00:57.484Z"
   },
   {
    "duration": 4,
    "start_time": "2025-02-25T23:24:41.910Z"
   },
   {
    "duration": 816,
    "start_time": "2025-02-26T01:02:07.287Z"
   },
   {
    "duration": 2956,
    "start_time": "2025-02-26T01:02:08.105Z"
   },
   {
    "duration": 5,
    "start_time": "2025-02-26T01:02:11.063Z"
   },
   {
    "duration": 5,
    "start_time": "2025-02-26T01:02:11.070Z"
   },
   {
    "duration": 4,
    "start_time": "2025-02-26T01:02:11.089Z"
   },
   {
    "duration": 28,
    "start_time": "2025-02-26T01:02:11.094Z"
   },
   {
    "duration": 93,
    "start_time": "2025-02-26T01:02:11.124Z"
   },
   {
    "duration": 8,
    "start_time": "2025-02-26T01:02:11.289Z"
   },
   {
    "duration": 5,
    "start_time": "2025-02-26T01:02:11.299Z"
   },
   {
    "duration": 778,
    "start_time": "2025-02-26T01:03:21.955Z"
   },
   {
    "duration": 2873,
    "start_time": "2025-02-26T01:03:22.736Z"
   },
   {
    "duration": 5,
    "start_time": "2025-02-26T01:03:25.611Z"
   },
   {
    "duration": 4,
    "start_time": "2025-02-26T01:03:25.618Z"
   },
   {
    "duration": 4,
    "start_time": "2025-02-26T01:03:25.624Z"
   },
   {
    "duration": 25,
    "start_time": "2025-02-26T01:03:25.629Z"
   },
   {
    "duration": 52,
    "start_time": "2025-02-26T01:03:25.656Z"
   },
   {
    "duration": 78,
    "start_time": "2025-02-26T01:03:25.712Z"
   },
   {
    "duration": 4,
    "start_time": "2025-02-26T01:03:25.792Z"
   },
   {
    "duration": 801,
    "start_time": "2025-02-26T01:03:58.985Z"
   },
   {
    "duration": 2631,
    "start_time": "2025-02-26T01:03:59.788Z"
   },
   {
    "duration": 5,
    "start_time": "2025-02-26T01:04:02.421Z"
   },
   {
    "duration": 4,
    "start_time": "2025-02-26T01:04:02.428Z"
   },
   {
    "duration": 3,
    "start_time": "2025-02-26T01:04:02.435Z"
   },
   {
    "duration": 25,
    "start_time": "2025-02-26T01:04:02.440Z"
   },
   {
    "duration": 29,
    "start_time": "2025-02-26T01:04:02.487Z"
   },
   {
    "duration": 70,
    "start_time": "2025-02-26T01:04:02.517Z"
   },
   {
    "duration": 4,
    "start_time": "2025-02-26T01:04:02.591Z"
   },
   {
    "duration": 790,
    "start_time": "2025-02-26T01:07:10.995Z"
   },
   {
    "duration": 2844,
    "start_time": "2025-02-26T01:07:11.795Z"
   },
   {
    "duration": 5,
    "start_time": "2025-02-26T01:07:14.640Z"
   },
   {
    "duration": 3,
    "start_time": "2025-02-26T01:07:14.647Z"
   },
   {
    "duration": 4,
    "start_time": "2025-02-26T01:07:14.652Z"
   },
   {
    "duration": 44,
    "start_time": "2025-02-26T01:07:14.658Z"
   },
   {
    "duration": 103,
    "start_time": "2025-02-26T01:07:14.703Z"
   },
   {
    "duration": 6,
    "start_time": "2025-02-26T01:07:14.808Z"
   },
   {
    "duration": 5,
    "start_time": "2025-02-26T01:07:14.816Z"
   },
   {
    "duration": 867,
    "start_time": "2025-02-26T01:15:47.314Z"
   },
   {
    "duration": 2957,
    "start_time": "2025-02-26T01:15:48.184Z"
   },
   {
    "duration": 5,
    "start_time": "2025-02-26T01:15:51.142Z"
   },
   {
    "duration": 5,
    "start_time": "2025-02-26T01:15:51.149Z"
   },
   {
    "duration": 3,
    "start_time": "2025-02-26T01:15:51.156Z"
   },
   {
    "duration": 53,
    "start_time": "2025-02-26T01:15:51.161Z"
   },
   {
    "duration": 86,
    "start_time": "2025-02-26T01:15:51.216Z"
   },
   {
    "duration": 6,
    "start_time": "2025-02-26T01:15:51.318Z"
   },
   {
    "duration": 328,
    "start_time": "2025-02-26T01:15:51.326Z"
   },
   {
    "duration": 863,
    "start_time": "2025-02-26T01:17:31.650Z"
   },
   {
    "duration": 3057,
    "start_time": "2025-02-26T01:17:32.516Z"
   },
   {
    "duration": 5,
    "start_time": "2025-02-26T01:17:35.575Z"
   },
   {
    "duration": 27,
    "start_time": "2025-02-26T01:17:35.587Z"
   },
   {
    "duration": 4,
    "start_time": "2025-02-26T01:17:35.619Z"
   },
   {
    "duration": 23,
    "start_time": "2025-02-26T01:17:35.625Z"
   },
   {
    "duration": 66,
    "start_time": "2025-02-26T01:17:35.651Z"
   },
   {
    "duration": 10,
    "start_time": "2025-02-26T01:17:35.719Z"
   },
   {
    "duration": 4,
    "start_time": "2025-02-26T01:17:35.731Z"
   },
   {
    "duration": 745,
    "start_time": "2025-02-26T01:27:05.869Z"
   },
   {
    "duration": 3062,
    "start_time": "2025-02-26T01:27:06.615Z"
   },
   {
    "duration": 5,
    "start_time": "2025-02-26T01:27:09.678Z"
   },
   {
    "duration": 5,
    "start_time": "2025-02-26T01:27:09.684Z"
   },
   {
    "duration": 4,
    "start_time": "2025-02-26T01:27:09.691Z"
   },
   {
    "duration": 23,
    "start_time": "2025-02-26T01:27:09.696Z"
   },
   {
    "duration": 79,
    "start_time": "2025-02-26T01:27:09.721Z"
   },
   {
    "duration": 5,
    "start_time": "2025-02-26T01:27:09.801Z"
   },
   {
    "duration": 79,
    "start_time": "2025-02-26T01:27:09.807Z"
   },
   {
    "duration": 25,
    "start_time": "2025-02-26T01:27:09.888Z"
   },
   {
    "duration": 81,
    "start_time": "2025-02-26T01:27:09.914Z"
   },
   {
    "duration": 6,
    "start_time": "2025-02-26T01:27:09.997Z"
   },
   {
    "duration": 4,
    "start_time": "2025-02-26T01:27:10.005Z"
   },
   {
    "duration": 101,
    "start_time": "2025-02-26T01:27:10.012Z"
   },
   {
    "duration": 79,
    "start_time": "2025-02-26T01:27:10.116Z"
   },
   {
    "duration": 5,
    "start_time": "2025-02-26T01:27:10.197Z"
   },
   {
    "duration": 3,
    "start_time": "2025-02-26T01:27:10.204Z"
   },
   {
    "duration": 782,
    "start_time": "2025-02-26T01:27:54.332Z"
   },
   {
    "duration": 3281,
    "start_time": "2025-02-26T01:27:55.116Z"
   },
   {
    "duration": 4,
    "start_time": "2025-02-26T01:27:58.399Z"
   },
   {
    "duration": 4,
    "start_time": "2025-02-26T01:27:58.405Z"
   },
   {
    "duration": 3,
    "start_time": "2025-02-26T01:27:58.413Z"
   },
   {
    "duration": 28,
    "start_time": "2025-02-26T01:27:58.418Z"
   },
   {
    "duration": 60,
    "start_time": "2025-02-26T01:27:58.447Z"
   },
   {
    "duration": 84,
    "start_time": "2025-02-26T01:27:58.509Z"
   },
   {
    "duration": 4,
    "start_time": "2025-02-26T01:27:58.595Z"
   },
   {
    "duration": 28,
    "start_time": "2025-02-26T01:27:58.601Z"
   },
   {
    "duration": 76,
    "start_time": "2025-02-26T01:27:58.633Z"
   },
   {
    "duration": 76,
    "start_time": "2025-02-26T01:27:58.713Z"
   },
   {
    "duration": 6,
    "start_time": "2025-02-26T01:27:58.793Z"
   },
   {
    "duration": 84,
    "start_time": "2025-02-26T01:27:58.803Z"
   },
   {
    "duration": 26,
    "start_time": "2025-02-26T01:27:58.888Z"
   },
   {
    "duration": 73,
    "start_time": "2025-02-26T01:27:58.916Z"
   },
   {
    "duration": 6,
    "start_time": "2025-02-26T01:27:58.993Z"
   },
   {
    "duration": 778,
    "start_time": "2025-02-26T01:28:34.560Z"
   },
   {
    "duration": 2680,
    "start_time": "2025-02-26T01:28:35.340Z"
   },
   {
    "duration": 5,
    "start_time": "2025-02-26T01:28:38.022Z"
   },
   {
    "duration": 3,
    "start_time": "2025-02-26T01:28:38.029Z"
   },
   {
    "duration": 3,
    "start_time": "2025-02-26T01:28:38.036Z"
   },
   {
    "duration": 50,
    "start_time": "2025-02-26T01:28:38.041Z"
   },
   {
    "duration": 94,
    "start_time": "2025-02-26T01:28:38.093Z"
   },
   {
    "duration": 4,
    "start_time": "2025-02-26T01:28:38.189Z"
   },
   {
    "duration": 3,
    "start_time": "2025-02-26T01:28:38.195Z"
   },
   {
    "duration": 104,
    "start_time": "2025-02-26T01:28:38.200Z"
   },
   {
    "duration": 24,
    "start_time": "2025-02-26T01:28:38.305Z"
   },
   {
    "duration": 8,
    "start_time": "2025-02-26T01:28:38.387Z"
   },
   {
    "duration": 6,
    "start_time": "2025-02-26T01:28:38.399Z"
   },
   {
    "duration": 99,
    "start_time": "2025-02-26T01:28:38.411Z"
   },
   {
    "duration": 80,
    "start_time": "2025-02-26T01:28:38.511Z"
   },
   {
    "duration": 6,
    "start_time": "2025-02-26T01:28:38.593Z"
   },
   {
    "duration": 5,
    "start_time": "2025-02-26T01:28:38.601Z"
   },
   {
    "duration": 12,
    "start_time": "2025-02-26T04:10:09.634Z"
   },
   {
    "duration": 4,
    "start_time": "2025-02-26T04:20:24.087Z"
   },
   {
    "duration": 788,
    "start_time": "2025-02-26T04:40:40.727Z"
   },
   {
    "duration": 2692,
    "start_time": "2025-02-26T04:40:41.517Z"
   },
   {
    "duration": 4,
    "start_time": "2025-02-26T04:40:44.211Z"
   },
   {
    "duration": 3,
    "start_time": "2025-02-26T04:40:44.217Z"
   },
   {
    "duration": 4,
    "start_time": "2025-02-26T04:40:44.223Z"
   },
   {
    "duration": 22,
    "start_time": "2025-02-26T04:40:44.229Z"
   },
   {
    "duration": 50,
    "start_time": "2025-02-26T04:40:44.252Z"
   },
   {
    "duration": 5,
    "start_time": "2025-02-26T04:40:44.304Z"
   },
   {
    "duration": 79,
    "start_time": "2025-02-26T04:40:44.311Z"
   },
   {
    "duration": 23,
    "start_time": "2025-02-26T04:40:44.393Z"
   },
   {
    "duration": 82,
    "start_time": "2025-02-26T04:40:44.418Z"
   },
   {
    "duration": 4,
    "start_time": "2025-02-26T04:40:44.502Z"
   },
   {
    "duration": 6,
    "start_time": "2025-02-26T04:40:44.587Z"
   },
   {
    "duration": 24,
    "start_time": "2025-02-26T04:40:44.597Z"
   },
   {
    "duration": 78,
    "start_time": "2025-02-26T04:40:44.622Z"
   },
   {
    "duration": 5,
    "start_time": "2025-02-26T04:40:44.702Z"
   },
   {
    "duration": 5,
    "start_time": "2025-02-26T04:40:44.786Z"
   },
   {
    "duration": 5,
    "start_time": "2025-02-26T04:40:44.793Z"
   },
   {
    "duration": 3,
    "start_time": "2025-02-26T04:42:01.090Z"
   },
   {
    "duration": 5,
    "start_time": "2025-02-26T04:44:41.731Z"
   },
   {
    "duration": 4,
    "start_time": "2025-02-26T04:44:42.340Z"
   },
   {
    "duration": 3,
    "start_time": "2025-02-26T04:45:21.441Z"
   },
   {
    "duration": 759,
    "start_time": "2025-02-26T04:45:43.062Z"
   },
   {
    "duration": 2874,
    "start_time": "2025-02-26T04:45:43.824Z"
   },
   {
    "duration": 7,
    "start_time": "2025-02-26T04:45:46.699Z"
   },
   {
    "duration": 4,
    "start_time": "2025-02-26T04:45:46.709Z"
   },
   {
    "duration": 5,
    "start_time": "2025-02-26T04:45:46.715Z"
   },
   {
    "duration": 34,
    "start_time": "2025-02-26T04:45:46.722Z"
   },
   {
    "duration": 48,
    "start_time": "2025-02-26T04:45:46.758Z"
   },
   {
    "duration": 78,
    "start_time": "2025-02-26T04:45:46.809Z"
   },
   {
    "duration": 4,
    "start_time": "2025-02-26T04:45:46.889Z"
   },
   {
    "duration": 24,
    "start_time": "2025-02-26T04:45:46.896Z"
   },
   {
    "duration": 165,
    "start_time": "2025-02-26T04:45:46.922Z"
   },
   {
    "duration": 6,
    "start_time": "2025-02-26T04:45:47.091Z"
   },
   {
    "duration": 5,
    "start_time": "2025-02-26T04:45:47.099Z"
   },
   {
    "duration": 95,
    "start_time": "2025-02-26T04:45:47.106Z"
   },
   {
    "duration": 85,
    "start_time": "2025-02-26T04:45:47.202Z"
   },
   {
    "duration": 5,
    "start_time": "2025-02-26T04:45:47.289Z"
   },
   {
    "duration": 4,
    "start_time": "2025-02-26T04:45:47.295Z"
   },
   {
    "duration": 4,
    "start_time": "2025-02-26T04:45:47.301Z"
   },
   {
    "duration": 289,
    "start_time": "2025-02-26T04:45:47.307Z"
   },
   {
    "duration": 3,
    "start_time": "2025-02-26T04:46:08.679Z"
   },
   {
    "duration": 4,
    "start_time": "2025-02-26T04:58:40.545Z"
   },
   {
    "duration": 3,
    "start_time": "2025-02-26T04:58:41.202Z"
   },
   {
    "duration": 806,
    "start_time": "2025-02-26T04:59:06.789Z"
   },
   {
    "duration": 3022,
    "start_time": "2025-02-26T04:59:07.598Z"
   },
   {
    "duration": 5,
    "start_time": "2025-02-26T04:59:10.621Z"
   },
   {
    "duration": 5,
    "start_time": "2025-02-26T04:59:10.628Z"
   },
   {
    "duration": 6,
    "start_time": "2025-02-26T04:59:10.634Z"
   },
   {
    "duration": 45,
    "start_time": "2025-02-26T04:59:10.644Z"
   },
   {
    "duration": 27,
    "start_time": "2025-02-26T04:59:10.691Z"
   },
   {
    "duration": 4,
    "start_time": "2025-02-26T04:59:10.787Z"
   },
   {
    "duration": 6,
    "start_time": "2025-02-26T04:59:10.795Z"
   },
   {
    "duration": 101,
    "start_time": "2025-02-26T04:59:10.806Z"
   },
   {
    "duration": 78,
    "start_time": "2025-02-26T04:59:10.909Z"
   },
   {
    "duration": 6,
    "start_time": "2025-02-26T04:59:10.991Z"
   },
   {
    "duration": 6,
    "start_time": "2025-02-26T04:59:11.000Z"
   },
   {
    "duration": 97,
    "start_time": "2025-02-26T04:59:11.010Z"
   },
   {
    "duration": 79,
    "start_time": "2025-02-26T04:59:11.108Z"
   },
   {
    "duration": 5,
    "start_time": "2025-02-26T04:59:11.192Z"
   },
   {
    "duration": 4,
    "start_time": "2025-02-26T04:59:11.201Z"
   },
   {
    "duration": 292,
    "start_time": "2025-02-26T04:59:11.207Z"
   },
   {
    "duration": 0,
    "start_time": "2025-02-26T04:59:11.502Z"
   },
   {
    "duration": 777,
    "start_time": "2025-02-26T04:59:45.920Z"
   },
   {
    "duration": 2814,
    "start_time": "2025-02-26T04:59:46.699Z"
   },
   {
    "duration": 5,
    "start_time": "2025-02-26T04:59:49.515Z"
   },
   {
    "duration": 5,
    "start_time": "2025-02-26T04:59:49.523Z"
   },
   {
    "duration": 4,
    "start_time": "2025-02-26T04:59:49.530Z"
   },
   {
    "duration": 25,
    "start_time": "2025-02-26T04:59:49.536Z"
   },
   {
    "duration": 48,
    "start_time": "2025-02-26T04:59:49.563Z"
   },
   {
    "duration": 5,
    "start_time": "2025-02-26T04:59:49.686Z"
   },
   {
    "duration": 4,
    "start_time": "2025-02-26T04:59:49.693Z"
   },
   {
    "duration": 96,
    "start_time": "2025-02-26T04:59:49.699Z"
   },
   {
    "duration": 24,
    "start_time": "2025-02-26T04:59:49.796Z"
   },
   {
    "duration": 70,
    "start_time": "2025-02-26T04:59:49.821Z"
   },
   {
    "duration": 4,
    "start_time": "2025-02-26T04:59:49.892Z"
   },
   {
    "duration": 100,
    "start_time": "2025-02-26T04:59:49.897Z"
   },
   {
    "duration": 88,
    "start_time": "2025-02-26T04:59:49.999Z"
   },
   {
    "duration": 8,
    "start_time": "2025-02-26T04:59:50.088Z"
   },
   {
    "duration": 6,
    "start_time": "2025-02-26T04:59:50.099Z"
   },
   {
    "duration": 297,
    "start_time": "2025-02-26T04:59:50.109Z"
   },
   {
    "duration": 0,
    "start_time": "2025-02-26T04:59:50.408Z"
   },
   {
    "duration": 778,
    "start_time": "2025-02-26T05:00:12.326Z"
   },
   {
    "duration": 2884,
    "start_time": "2025-02-26T05:00:13.107Z"
   },
   {
    "duration": 4,
    "start_time": "2025-02-26T05:00:15.993Z"
   },
   {
    "duration": 3,
    "start_time": "2025-02-26T05:00:16.000Z"
   },
   {
    "duration": 5,
    "start_time": "2025-02-26T05:00:16.004Z"
   },
   {
    "duration": 21,
    "start_time": "2025-02-26T05:00:16.011Z"
   },
   {
    "duration": 58,
    "start_time": "2025-02-26T05:00:16.033Z"
   },
   {
    "duration": 4,
    "start_time": "2025-02-26T05:00:16.093Z"
   },
   {
    "duration": 4,
    "start_time": "2025-02-26T05:00:16.099Z"
   },
   {
    "duration": 98,
    "start_time": "2025-02-26T05:00:16.107Z"
   },
   {
    "duration": 79,
    "start_time": "2025-02-26T05:00:16.208Z"
   },
   {
    "duration": 4,
    "start_time": "2025-02-26T05:00:16.289Z"
   },
   {
    "duration": 3,
    "start_time": "2025-02-26T05:00:16.295Z"
   },
   {
    "duration": 102,
    "start_time": "2025-02-26T05:00:16.300Z"
   },
   {
    "duration": 84,
    "start_time": "2025-02-26T05:00:16.403Z"
   },
   {
    "duration": 5,
    "start_time": "2025-02-26T05:00:16.489Z"
   },
   {
    "duration": 4,
    "start_time": "2025-02-26T05:00:16.495Z"
   },
   {
    "duration": 5,
    "start_time": "2025-02-26T05:00:16.500Z"
   },
   {
    "duration": 3,
    "start_time": "2025-02-26T05:00:16.507Z"
   },
   {
    "duration": 4,
    "start_time": "2025-02-26T05:01:56.664Z"
   },
   {
    "duration": 3,
    "start_time": "2025-02-26T05:01:57.166Z"
   },
   {
    "duration": 5,
    "start_time": "2025-02-26T05:03:49.001Z"
   },
   {
    "duration": 4,
    "start_time": "2025-02-26T05:03:49.435Z"
   },
   {
    "duration": 3,
    "start_time": "2025-02-26T05:04:23.773Z"
   },
   {
    "duration": 3,
    "start_time": "2025-02-26T05:04:43.410Z"
   },
   {
    "duration": 5,
    "start_time": "2025-02-26T05:05:03.872Z"
   },
   {
    "duration": 3,
    "start_time": "2025-02-26T05:05:04.312Z"
   },
   {
    "duration": 5,
    "start_time": "2025-02-26T05:05:23.510Z"
   },
   {
    "duration": 3,
    "start_time": "2025-02-26T05:05:23.862Z"
   },
   {
    "duration": 3,
    "start_time": "2025-02-26T05:05:53.418Z"
   },
   {
    "duration": 2,
    "start_time": "2025-02-26T05:05:53.664Z"
   },
   {
    "duration": 4,
    "start_time": "2025-02-26T05:06:14.977Z"
   },
   {
    "duration": 5,
    "start_time": "2025-02-26T05:06:40.930Z"
   },
   {
    "duration": 4,
    "start_time": "2025-02-26T05:06:41.459Z"
   },
   {
    "duration": 4,
    "start_time": "2025-02-26T05:07:53.527Z"
   },
   {
    "duration": 3,
    "start_time": "2025-02-26T05:07:53.922Z"
   },
   {
    "duration": 814,
    "start_time": "2025-02-26T05:13:18.197Z"
   },
   {
    "duration": 3010,
    "start_time": "2025-02-26T05:13:19.015Z"
   },
   {
    "duration": 5,
    "start_time": "2025-02-26T05:13:22.027Z"
   },
   {
    "duration": 4,
    "start_time": "2025-02-26T05:13:22.034Z"
   },
   {
    "duration": 4,
    "start_time": "2025-02-26T05:13:22.040Z"
   },
   {
    "duration": 52,
    "start_time": "2025-02-26T05:13:22.046Z"
   },
   {
    "duration": 87,
    "start_time": "2025-02-26T05:13:22.100Z"
   },
   {
    "duration": 5,
    "start_time": "2025-02-26T05:13:22.190Z"
   },
   {
    "duration": 5,
    "start_time": "2025-02-26T05:13:22.197Z"
   },
   {
    "duration": 103,
    "start_time": "2025-02-26T05:13:22.206Z"
   },
   {
    "duration": 81,
    "start_time": "2025-02-26T05:13:22.311Z"
   },
   {
    "duration": 5,
    "start_time": "2025-02-26T05:13:22.393Z"
   },
   {
    "duration": 3,
    "start_time": "2025-02-26T05:13:22.400Z"
   },
   {
    "duration": 103,
    "start_time": "2025-02-26T05:13:22.405Z"
   },
   {
    "duration": 86,
    "start_time": "2025-02-26T05:13:22.510Z"
   },
   {
    "duration": 6,
    "start_time": "2025-02-26T05:13:22.598Z"
   },
   {
    "duration": 4,
    "start_time": "2025-02-26T05:13:22.606Z"
   },
   {
    "duration": 78,
    "start_time": "2025-02-26T05:13:22.612Z"
   },
   {
    "duration": 4,
    "start_time": "2025-02-26T05:13:22.692Z"
   },
   {
    "duration": 4,
    "start_time": "2025-02-26T05:15:08.986Z"
   },
   {
    "duration": 3,
    "start_time": "2025-02-26T05:15:09.818Z"
   },
   {
    "duration": 4,
    "start_time": "2025-02-26T05:15:25.879Z"
   },
   {
    "duration": 3,
    "start_time": "2025-02-26T05:15:26.297Z"
   },
   {
    "duration": 792,
    "start_time": "2025-02-26T05:31:33.038Z"
   },
   {
    "duration": 3020,
    "start_time": "2025-02-26T05:31:33.833Z"
   },
   {
    "duration": 4,
    "start_time": "2025-02-26T05:31:36.855Z"
   },
   {
    "duration": 4,
    "start_time": "2025-02-26T05:31:36.862Z"
   },
   {
    "duration": 20,
    "start_time": "2025-02-26T05:31:36.867Z"
   },
   {
    "duration": 20,
    "start_time": "2025-02-26T05:31:36.889Z"
   },
   {
    "duration": 81,
    "start_time": "2025-02-26T05:31:36.911Z"
   },
   {
    "duration": 7,
    "start_time": "2025-02-26T05:31:36.994Z"
   },
   {
    "duration": 81,
    "start_time": "2025-02-26T05:31:37.006Z"
   },
   {
    "duration": 23,
    "start_time": "2025-02-26T05:31:37.091Z"
   },
   {
    "duration": 71,
    "start_time": "2025-02-26T05:31:37.116Z"
   },
   {
    "duration": 5,
    "start_time": "2025-02-26T05:31:37.189Z"
   },
   {
    "duration": 3,
    "start_time": "2025-02-26T05:31:37.196Z"
   },
   {
    "duration": 102,
    "start_time": "2025-02-26T05:31:37.201Z"
   },
   {
    "duration": 82,
    "start_time": "2025-02-26T05:31:37.305Z"
   },
   {
    "duration": 6,
    "start_time": "2025-02-26T05:31:37.389Z"
   },
   {
    "duration": 4,
    "start_time": "2025-02-26T05:31:37.398Z"
   },
   {
    "duration": 299,
    "start_time": "2025-02-26T05:31:37.404Z"
   },
   {
    "duration": 22,
    "start_time": "2025-02-26T05:32:37.561Z"
   },
   {
    "duration": 7,
    "start_time": "2025-02-26T05:33:27.447Z"
   },
   {
    "duration": 6,
    "start_time": "2025-02-26T05:35:23.664Z"
   },
   {
    "duration": 7,
    "start_time": "2025-02-26T05:35:52.035Z"
   },
   {
    "duration": 7,
    "start_time": "2025-02-26T05:37:45.298Z"
   },
   {
    "duration": 8,
    "start_time": "2025-02-26T05:38:46.339Z"
   },
   {
    "duration": 7,
    "start_time": "2025-02-26T05:39:54.066Z"
   },
   {
    "duration": 8,
    "start_time": "2025-02-26T05:40:38.343Z"
   },
   {
    "duration": 786,
    "start_time": "2025-02-26T06:04:07.790Z"
   },
   {
    "duration": 3083,
    "start_time": "2025-02-26T06:04:08.579Z"
   },
   {
    "duration": 5,
    "start_time": "2025-02-26T06:04:11.663Z"
   },
   {
    "duration": 4,
    "start_time": "2025-02-26T06:04:11.670Z"
   },
   {
    "duration": 13,
    "start_time": "2025-02-26T06:04:11.675Z"
   },
   {
    "duration": 19,
    "start_time": "2025-02-26T06:04:11.690Z"
   },
   {
    "duration": 81,
    "start_time": "2025-02-26T06:04:11.711Z"
   },
   {
    "duration": 4,
    "start_time": "2025-02-26T06:04:11.794Z"
   },
   {
    "duration": 4,
    "start_time": "2025-02-26T06:04:11.799Z"
   },
   {
    "duration": 97,
    "start_time": "2025-02-26T06:04:11.806Z"
   },
   {
    "duration": 21,
    "start_time": "2025-02-26T06:04:11.905Z"
   },
   {
    "duration": 63,
    "start_time": "2025-02-26T06:04:11.927Z"
   },
   {
    "duration": 4,
    "start_time": "2025-02-26T06:04:11.992Z"
   },
   {
    "duration": 103,
    "start_time": "2025-02-26T06:04:11.998Z"
   },
   {
    "duration": 22,
    "start_time": "2025-02-26T06:04:12.103Z"
   },
   {
    "duration": 62,
    "start_time": "2025-02-26T06:04:12.126Z"
   },
   {
    "duration": 3,
    "start_time": "2025-02-26T06:04:12.189Z"
   },
   {
    "duration": 8,
    "start_time": "2025-02-26T06:04:12.194Z"
   },
   {
    "duration": 4,
    "start_time": "2025-02-26T06:04:12.206Z"
   },
   {
    "duration": 3,
    "start_time": "2025-02-26T06:05:21.370Z"
   },
   {
    "duration": 4,
    "start_time": "2025-02-26T06:05:41.985Z"
   },
   {
    "duration": 3,
    "start_time": "2025-02-26T06:05:44.911Z"
   },
   {
    "duration": 6,
    "start_time": "2025-02-26T06:06:08.472Z"
   },
   {
    "duration": 3,
    "start_time": "2025-02-26T06:06:12.357Z"
   },
   {
    "duration": 4,
    "start_time": "2025-02-26T06:06:29.390Z"
   },
   {
    "duration": 3,
    "start_time": "2025-02-26T06:06:31.647Z"
   },
   {
    "duration": 4,
    "start_time": "2025-02-26T06:07:14.241Z"
   },
   {
    "duration": 3,
    "start_time": "2025-02-26T06:07:14.967Z"
   },
   {
    "duration": 5,
    "start_time": "2025-02-26T06:07:47.893Z"
   },
   {
    "duration": 3,
    "start_time": "2025-02-26T06:07:50.945Z"
   },
   {
    "duration": 4,
    "start_time": "2025-02-26T06:08:28.061Z"
   },
   {
    "duration": 3,
    "start_time": "2025-02-26T06:10:23.696Z"
   },
   {
    "duration": 4,
    "start_time": "2025-02-26T06:10:24.249Z"
   },
   {
    "duration": 7,
    "start_time": "2025-02-26T06:12:19.409Z"
   },
   {
    "duration": 809,
    "start_time": "2025-02-26T06:12:43.120Z"
   },
   {
    "duration": 2870,
    "start_time": "2025-02-26T06:12:43.931Z"
   },
   {
    "duration": 4,
    "start_time": "2025-02-26T06:12:46.803Z"
   },
   {
    "duration": 3,
    "start_time": "2025-02-26T06:12:46.809Z"
   },
   {
    "duration": 3,
    "start_time": "2025-02-26T06:12:46.815Z"
   },
   {
    "duration": 24,
    "start_time": "2025-02-26T06:12:46.820Z"
   },
   {
    "duration": 56,
    "start_time": "2025-02-26T06:12:46.846Z"
   },
   {
    "duration": 84,
    "start_time": "2025-02-26T06:12:46.904Z"
   },
   {
    "duration": 6,
    "start_time": "2025-02-26T06:12:46.990Z"
   },
   {
    "duration": 20,
    "start_time": "2025-02-26T06:12:46.998Z"
   },
   {
    "duration": 81,
    "start_time": "2025-02-26T06:12:47.019Z"
   },
   {
    "duration": 5,
    "start_time": "2025-02-26T06:12:47.102Z"
   },
   {
    "duration": 78,
    "start_time": "2025-02-26T06:12:47.109Z"
   },
   {
    "duration": 23,
    "start_time": "2025-02-26T06:12:47.192Z"
   },
   {
    "duration": 83,
    "start_time": "2025-02-26T06:12:47.217Z"
   },
   {
    "duration": 6,
    "start_time": "2025-02-26T06:12:47.302Z"
   },
   {
    "duration": 6,
    "start_time": "2025-02-26T06:12:47.389Z"
   },
   {
    "duration": 7,
    "start_time": "2025-02-26T06:12:47.397Z"
   },
   {
    "duration": 4,
    "start_time": "2025-02-26T06:12:47.405Z"
   },
   {
    "duration": 7,
    "start_time": "2025-02-26T06:12:47.411Z"
   },
   {
    "duration": 4,
    "start_time": "2025-02-26T06:13:29.807Z"
   },
   {
    "duration": 9,
    "start_time": "2025-02-26T06:13:33.134Z"
   },
   {
    "duration": 4,
    "start_time": "2025-02-26T06:13:52.377Z"
   },
   {
    "duration": 5,
    "start_time": "2025-02-26T06:13:54.623Z"
   },
   {
    "duration": 3,
    "start_time": "2025-02-26T06:16:55.912Z"
   },
   {
    "duration": 4,
    "start_time": "2025-02-26T06:16:56.958Z"
   },
   {
    "duration": 4,
    "start_time": "2025-02-26T06:18:20.650Z"
   },
   {
    "duration": 3,
    "start_time": "2025-02-26T06:18:21.145Z"
   },
   {
    "duration": 4,
    "start_time": "2025-02-26T06:18:31.271Z"
   },
   {
    "duration": 3,
    "start_time": "2025-02-26T06:18:51.266Z"
   },
   {
    "duration": 3,
    "start_time": "2025-02-26T06:18:53.282Z"
   },
   {
    "duration": 4,
    "start_time": "2025-02-26T06:18:58.806Z"
   },
   {
    "duration": 5,
    "start_time": "2025-02-26T06:18:59.233Z"
   },
   {
    "duration": 3,
    "start_time": "2025-02-26T06:19:47.127Z"
   },
   {
    "duration": 3,
    "start_time": "2025-02-26T06:19:47.565Z"
   },
   {
    "duration": 6,
    "start_time": "2025-02-26T06:20:51.923Z"
   },
   {
    "duration": 4,
    "start_time": "2025-02-26T06:21:01.159Z"
   },
   {
    "duration": 3,
    "start_time": "2025-02-26T06:21:08.784Z"
   },
   {
    "duration": 3,
    "start_time": "2025-02-26T06:21:21.654Z"
   },
   {
    "duration": 3,
    "start_time": "2025-02-26T06:21:29.725Z"
   },
   {
    "duration": 3,
    "start_time": "2025-02-26T06:21:43.460Z"
   },
   {
    "duration": 4,
    "start_time": "2025-02-26T06:21:45.333Z"
   },
   {
    "duration": 4,
    "start_time": "2025-02-26T06:22:04.634Z"
   },
   {
    "duration": 5,
    "start_time": "2025-02-26T06:22:14.988Z"
   },
   {
    "duration": 3,
    "start_time": "2025-02-26T06:22:23.755Z"
   },
   {
    "duration": 4,
    "start_time": "2025-02-26T06:22:24.493Z"
   },
   {
    "duration": 3,
    "start_time": "2025-02-26T06:22:42.449Z"
   },
   {
    "duration": 3,
    "start_time": "2025-02-26T06:22:45.541Z"
   },
   {
    "duration": 4,
    "start_time": "2025-02-26T06:23:03.658Z"
   },
   {
    "duration": 4,
    "start_time": "2025-02-26T06:23:04.199Z"
   },
   {
    "duration": 4,
    "start_time": "2025-02-26T06:23:58.869Z"
   },
   {
    "duration": 3,
    "start_time": "2025-02-26T06:23:59.420Z"
   },
   {
    "duration": 3,
    "start_time": "2025-02-26T06:24:40.078Z"
   },
   {
    "duration": 4,
    "start_time": "2025-02-26T06:24:40.719Z"
   },
   {
    "duration": 3,
    "start_time": "2025-02-26T06:25:35.480Z"
   },
   {
    "duration": 9,
    "start_time": "2025-02-26T06:25:36.007Z"
   },
   {
    "duration": 3,
    "start_time": "2025-02-26T06:25:55.374Z"
   },
   {
    "duration": 3,
    "start_time": "2025-02-26T06:25:56.070Z"
   },
   {
    "duration": 722,
    "start_time": "2025-02-26T06:26:13.975Z"
   },
   {
    "duration": 2960,
    "start_time": "2025-02-26T06:26:14.700Z"
   },
   {
    "duration": 5,
    "start_time": "2025-02-26T06:26:17.661Z"
   },
   {
    "duration": 4,
    "start_time": "2025-02-26T06:26:17.669Z"
   },
   {
    "duration": 3,
    "start_time": "2025-02-26T06:26:17.686Z"
   },
   {
    "duration": 21,
    "start_time": "2025-02-26T06:26:17.691Z"
   },
   {
    "duration": 79,
    "start_time": "2025-02-26T06:26:17.714Z"
   },
   {
    "duration": 4,
    "start_time": "2025-02-26T06:26:17.795Z"
   },
   {
    "duration": 3,
    "start_time": "2025-02-26T06:26:17.801Z"
   },
   {
    "duration": 102,
    "start_time": "2025-02-26T06:26:17.807Z"
   },
   {
    "duration": 85,
    "start_time": "2025-02-26T06:26:17.911Z"
   },
   {
    "duration": 6,
    "start_time": "2025-02-26T06:26:17.997Z"
   },
   {
    "duration": 4,
    "start_time": "2025-02-26T06:26:18.004Z"
   },
   {
    "duration": 20,
    "start_time": "2025-02-26T06:26:18.088Z"
   },
   {
    "duration": 83,
    "start_time": "2025-02-26T06:26:18.110Z"
   },
   {
    "duration": 5,
    "start_time": "2025-02-26T06:26:18.195Z"
   },
   {
    "duration": 4,
    "start_time": "2025-02-26T06:26:18.203Z"
   },
   {
    "duration": 84,
    "start_time": "2025-02-26T06:26:18.209Z"
   },
   {
    "duration": 4,
    "start_time": "2025-02-26T06:26:18.294Z"
   },
   {
    "duration": 4,
    "start_time": "2025-02-26T06:26:18.300Z"
   },
   {
    "duration": 4,
    "start_time": "2025-02-26T06:26:27.155Z"
   },
   {
    "duration": 779,
    "start_time": "2025-02-26T06:27:09.719Z"
   },
   {
    "duration": 2562,
    "start_time": "2025-02-26T06:27:10.500Z"
   },
   {
    "duration": 4,
    "start_time": "2025-02-26T06:27:13.064Z"
   },
   {
    "duration": 5,
    "start_time": "2025-02-26T06:27:13.069Z"
   },
   {
    "duration": 11,
    "start_time": "2025-02-26T06:27:13.076Z"
   },
   {
    "duration": 26,
    "start_time": "2025-02-26T06:27:13.089Z"
   },
   {
    "duration": 77,
    "start_time": "2025-02-26T06:27:13.116Z"
   },
   {
    "duration": 4,
    "start_time": "2025-02-26T06:27:13.210Z"
   },
   {
    "duration": 4,
    "start_time": "2025-02-26T06:27:13.287Z"
   },
   {
    "duration": 24,
    "start_time": "2025-02-26T06:27:13.293Z"
   },
   {
    "duration": 74,
    "start_time": "2025-02-26T06:27:13.318Z"
   },
   {
    "duration": 5,
    "start_time": "2025-02-26T06:27:13.394Z"
   },
   {
    "duration": 4,
    "start_time": "2025-02-26T06:27:13.401Z"
   },
   {
    "duration": 100,
    "start_time": "2025-02-26T06:27:13.409Z"
   },
   {
    "duration": 79,
    "start_time": "2025-02-26T06:27:13.510Z"
   },
   {
    "duration": 5,
    "start_time": "2025-02-26T06:27:13.592Z"
   },
   {
    "duration": 4,
    "start_time": "2025-02-26T06:27:13.599Z"
   },
   {
    "duration": 4,
    "start_time": "2025-02-26T06:27:13.605Z"
   },
   {
    "duration": 76,
    "start_time": "2025-02-26T06:27:13.611Z"
   },
   {
    "duration": 8,
    "start_time": "2025-02-26T06:27:13.689Z"
   },
   {
    "duration": 4,
    "start_time": "2025-02-26T06:27:13.699Z"
   },
   {
    "duration": 3,
    "start_time": "2025-02-26T06:35:41.369Z"
   },
   {
    "duration": 3,
    "start_time": "2025-02-26T06:36:19.071Z"
   },
   {
    "duration": 729,
    "start_time": "2025-02-26T16:22:42.447Z"
   },
   {
    "duration": 2826,
    "start_time": "2025-02-26T16:22:43.178Z"
   },
   {
    "duration": 4,
    "start_time": "2025-02-26T16:22:46.006Z"
   },
   {
    "duration": 5,
    "start_time": "2025-02-26T16:22:46.012Z"
   },
   {
    "duration": 4,
    "start_time": "2025-02-26T16:22:46.019Z"
   },
   {
    "duration": 27,
    "start_time": "2025-02-26T16:22:46.024Z"
   },
   {
    "duration": 41,
    "start_time": "2025-02-26T16:22:46.052Z"
   },
   {
    "duration": 76,
    "start_time": "2025-02-26T16:22:46.095Z"
   },
   {
    "duration": 4,
    "start_time": "2025-02-26T16:22:46.172Z"
   },
   {
    "duration": 28,
    "start_time": "2025-02-26T16:22:46.177Z"
   },
   {
    "duration": 84,
    "start_time": "2025-02-26T16:22:46.206Z"
   },
   {
    "duration": 79,
    "start_time": "2025-02-26T16:22:46.292Z"
   },
   {
    "duration": 4,
    "start_time": "2025-02-26T16:22:46.373Z"
   },
   {
    "duration": 28,
    "start_time": "2025-02-26T16:22:46.380Z"
   },
   {
    "duration": 77,
    "start_time": "2025-02-26T16:22:46.410Z"
   },
   {
    "duration": 83,
    "start_time": "2025-02-26T16:22:46.489Z"
   },
   {
    "duration": 4,
    "start_time": "2025-02-26T16:22:46.574Z"
   },
   {
    "duration": 6,
    "start_time": "2025-02-26T16:22:46.581Z"
   },
   {
    "duration": 3,
    "start_time": "2025-02-26T16:22:46.589Z"
   },
   {
    "duration": 3,
    "start_time": "2025-02-26T16:22:46.594Z"
   },
   {
    "duration": 4,
    "start_time": "2025-02-26T16:22:46.598Z"
   },
   {
    "duration": 725,
    "start_time": "2025-02-26T16:23:35.563Z"
   },
   {
    "duration": 2523,
    "start_time": "2025-02-26T16:23:36.291Z"
   },
   {
    "duration": 5,
    "start_time": "2025-02-26T16:23:38.816Z"
   },
   {
    "duration": 4,
    "start_time": "2025-02-26T16:23:38.823Z"
   },
   {
    "duration": 3,
    "start_time": "2025-02-26T16:23:38.831Z"
   },
   {
    "duration": 39,
    "start_time": "2025-02-26T16:23:38.837Z"
   },
   {
    "duration": 24,
    "start_time": "2025-02-26T16:23:38.878Z"
   },
   {
    "duration": 5,
    "start_time": "2025-02-26T16:23:38.970Z"
   },
   {
    "duration": 4,
    "start_time": "2025-02-26T16:23:38.977Z"
   },
   {
    "duration": 102,
    "start_time": "2025-02-26T16:23:38.983Z"
   },
   {
    "duration": 21,
    "start_time": "2025-02-26T16:23:39.087Z"
   },
   {
    "duration": 5,
    "start_time": "2025-02-26T16:23:39.170Z"
   },
   {
    "duration": 5,
    "start_time": "2025-02-26T16:23:39.177Z"
   },
   {
    "duration": 101,
    "start_time": "2025-02-26T16:23:39.186Z"
   },
   {
    "duration": 23,
    "start_time": "2025-02-26T16:23:39.289Z"
   },
   {
    "duration": 60,
    "start_time": "2025-02-26T16:23:39.314Z"
   },
   {
    "duration": 4,
    "start_time": "2025-02-26T16:23:39.376Z"
   },
   {
    "duration": 5,
    "start_time": "2025-02-26T16:23:39.382Z"
   },
   {
    "duration": 5,
    "start_time": "2025-02-26T16:23:39.388Z"
   },
   {
    "duration": 79,
    "start_time": "2025-02-26T16:23:39.394Z"
   },
   {
    "duration": 3,
    "start_time": "2025-02-26T16:23:39.475Z"
   },
   {
    "duration": 764,
    "start_time": "2025-02-26T16:37:46.131Z"
   },
   {
    "duration": 2459,
    "start_time": "2025-02-26T16:37:46.897Z"
   },
   {
    "duration": 4,
    "start_time": "2025-02-26T16:37:49.358Z"
   },
   {
    "duration": 4,
    "start_time": "2025-02-26T16:37:49.369Z"
   },
   {
    "duration": 4,
    "start_time": "2025-02-26T16:37:49.375Z"
   },
   {
    "duration": 20,
    "start_time": "2025-02-26T16:37:49.380Z"
   },
   {
    "duration": 73,
    "start_time": "2025-02-26T16:37:49.401Z"
   },
   {
    "duration": 5,
    "start_time": "2025-02-26T16:37:49.476Z"
   },
   {
    "duration": 3,
    "start_time": "2025-02-26T16:37:49.483Z"
   },
   {
    "duration": 97,
    "start_time": "2025-02-26T16:37:49.489Z"
   },
   {
    "duration": 83,
    "start_time": "2025-02-26T16:37:49.588Z"
   },
   {
    "duration": 5,
    "start_time": "2025-02-26T16:37:49.673Z"
   },
   {
    "duration": 6,
    "start_time": "2025-02-26T16:37:49.680Z"
   },
   {
    "duration": 93,
    "start_time": "2025-02-26T16:37:49.687Z"
   },
   {
    "duration": 93,
    "start_time": "2025-02-26T16:37:49.781Z"
   },
   {
    "duration": 6,
    "start_time": "2025-02-26T16:37:49.876Z"
   },
   {
    "duration": 4,
    "start_time": "2025-02-26T16:37:49.883Z"
   },
   {
    "duration": 81,
    "start_time": "2025-02-26T16:37:49.889Z"
   },
   {
    "duration": 3,
    "start_time": "2025-02-26T16:37:49.972Z"
   },
   {
    "duration": 4,
    "start_time": "2025-02-26T16:37:49.977Z"
   },
   {
    "duration": 4,
    "start_time": "2025-02-26T16:37:49.982Z"
   },
   {
    "duration": 789,
    "start_time": "2025-02-26T19:16:36.346Z"
   },
   {
    "duration": 3185,
    "start_time": "2025-02-26T19:16:37.137Z"
   },
   {
    "duration": 6,
    "start_time": "2025-02-26T19:16:40.323Z"
   },
   {
    "duration": 3,
    "start_time": "2025-02-26T19:16:40.331Z"
   },
   {
    "duration": 4,
    "start_time": "2025-02-26T19:16:40.337Z"
   },
   {
    "duration": 27,
    "start_time": "2025-02-26T19:16:40.342Z"
   },
   {
    "duration": 71,
    "start_time": "2025-02-26T19:16:40.371Z"
   },
   {
    "duration": 4,
    "start_time": "2025-02-26T19:16:40.444Z"
   },
   {
    "duration": 344,
    "start_time": "2025-02-26T19:16:40.450Z"
   },
   {
    "duration": 0,
    "start_time": "2025-02-26T19:16:40.796Z"
   },
   {
    "duration": 0,
    "start_time": "2025-02-26T19:16:40.797Z"
   },
   {
    "duration": 0,
    "start_time": "2025-02-26T19:16:40.798Z"
   },
   {
    "duration": 0,
    "start_time": "2025-02-26T19:16:40.800Z"
   },
   {
    "duration": 0,
    "start_time": "2025-02-26T19:16:40.801Z"
   },
   {
    "duration": 0,
    "start_time": "2025-02-26T19:16:40.802Z"
   },
   {
    "duration": 0,
    "start_time": "2025-02-26T19:16:40.803Z"
   },
   {
    "duration": 0,
    "start_time": "2025-02-26T19:16:40.805Z"
   },
   {
    "duration": 0,
    "start_time": "2025-02-26T19:16:40.806Z"
   },
   {
    "duration": 0,
    "start_time": "2025-02-26T19:16:40.807Z"
   },
   {
    "duration": 0,
    "start_time": "2025-02-26T19:16:40.808Z"
   },
   {
    "duration": 0,
    "start_time": "2025-02-26T19:16:40.832Z"
   },
   {
    "duration": 4,
    "start_time": "2025-02-26T19:17:21.995Z"
   },
   {
    "duration": 812,
    "start_time": "2025-02-26T19:18:00.256Z"
   },
   {
    "duration": 2774,
    "start_time": "2025-02-26T19:18:01.071Z"
   },
   {
    "duration": 4,
    "start_time": "2025-02-26T19:18:03.847Z"
   },
   {
    "duration": 5,
    "start_time": "2025-02-26T19:18:03.854Z"
   },
   {
    "duration": 5,
    "start_time": "2025-02-26T19:18:03.861Z"
   },
   {
    "duration": 29,
    "start_time": "2025-02-26T19:18:03.868Z"
   },
   {
    "duration": 131,
    "start_time": "2025-02-26T19:18:03.899Z"
   },
   {
    "duration": 7,
    "start_time": "2025-02-26T19:18:04.034Z"
   },
   {
    "duration": 289,
    "start_time": "2025-02-26T19:18:04.043Z"
   },
   {
    "duration": 0,
    "start_time": "2025-02-26T19:18:04.335Z"
   },
   {
    "duration": 0,
    "start_time": "2025-02-26T19:18:04.337Z"
   },
   {
    "duration": 0,
    "start_time": "2025-02-26T19:18:04.338Z"
   },
   {
    "duration": 0,
    "start_time": "2025-02-26T19:18:04.340Z"
   },
   {
    "duration": 0,
    "start_time": "2025-02-26T19:18:04.341Z"
   },
   {
    "duration": 0,
    "start_time": "2025-02-26T19:18:04.343Z"
   },
   {
    "duration": 0,
    "start_time": "2025-02-26T19:18:04.344Z"
   },
   {
    "duration": 0,
    "start_time": "2025-02-26T19:18:04.346Z"
   },
   {
    "duration": 0,
    "start_time": "2025-02-26T19:18:04.347Z"
   },
   {
    "duration": 0,
    "start_time": "2025-02-26T19:18:04.348Z"
   },
   {
    "duration": 0,
    "start_time": "2025-02-26T19:18:04.350Z"
   },
   {
    "duration": 0,
    "start_time": "2025-02-26T19:18:04.352Z"
   },
   {
    "duration": 4,
    "start_time": "2025-02-26T19:19:53.578Z"
   },
   {
    "duration": 8,
    "start_time": "2025-02-26T19:25:50.960Z"
   },
   {
    "duration": 4,
    "start_time": "2025-02-26T19:26:12.240Z"
   },
   {
    "duration": 21,
    "start_time": "2025-02-26T19:26:16.818Z"
   },
   {
    "duration": 29,
    "start_time": "2025-02-26T19:26:17.584Z"
   },
   {
    "duration": 17,
    "start_time": "2025-02-26T19:26:18.098Z"
   },
   {
    "duration": 760,
    "start_time": "2025-02-26T19:26:46.484Z"
   },
   {
    "duration": 3024,
    "start_time": "2025-02-26T19:26:47.247Z"
   },
   {
    "duration": 5,
    "start_time": "2025-02-26T19:26:50.273Z"
   },
   {
    "duration": 4,
    "start_time": "2025-02-26T19:26:50.280Z"
   },
   {
    "duration": 4,
    "start_time": "2025-02-26T19:26:50.286Z"
   },
   {
    "duration": 20,
    "start_time": "2025-02-26T19:26:50.291Z"
   },
   {
    "duration": 41,
    "start_time": "2025-02-26T19:26:50.313Z"
   },
   {
    "duration": 361,
    "start_time": "2025-02-26T19:26:50.356Z"
   },
   {
    "duration": 0,
    "start_time": "2025-02-26T19:26:50.720Z"
   },
   {
    "duration": 0,
    "start_time": "2025-02-26T19:26:50.720Z"
   },
   {
    "duration": 0,
    "start_time": "2025-02-26T19:26:50.722Z"
   },
   {
    "duration": 0,
    "start_time": "2025-02-26T19:26:50.723Z"
   },
   {
    "duration": 0,
    "start_time": "2025-02-26T19:26:50.731Z"
   },
   {
    "duration": 0,
    "start_time": "2025-02-26T19:26:50.733Z"
   },
   {
    "duration": 0,
    "start_time": "2025-02-26T19:26:50.734Z"
   },
   {
    "duration": 0,
    "start_time": "2025-02-26T19:26:50.736Z"
   },
   {
    "duration": 0,
    "start_time": "2025-02-26T19:26:50.737Z"
   },
   {
    "duration": 0,
    "start_time": "2025-02-26T19:26:50.739Z"
   },
   {
    "duration": 0,
    "start_time": "2025-02-26T19:26:50.740Z"
   },
   {
    "duration": 0,
    "start_time": "2025-02-26T19:26:50.741Z"
   },
   {
    "duration": 0,
    "start_time": "2025-02-26T19:26:50.743Z"
   },
   {
    "duration": 5,
    "start_time": "2025-02-26T19:28:05.709Z"
   },
   {
    "duration": 4,
    "start_time": "2025-02-26T19:28:12.226Z"
   },
   {
    "duration": 4,
    "start_time": "2025-02-26T19:50:03.130Z"
   },
   {
    "duration": 775,
    "start_time": "2025-02-26T19:50:09.693Z"
   },
   {
    "duration": 2964,
    "start_time": "2025-02-26T19:50:10.471Z"
   },
   {
    "duration": 5,
    "start_time": "2025-02-26T19:50:13.436Z"
   },
   {
    "duration": 4,
    "start_time": "2025-02-26T19:50:13.443Z"
   },
   {
    "duration": 5,
    "start_time": "2025-02-26T19:50:13.448Z"
   },
   {
    "duration": 21,
    "start_time": "2025-02-26T19:50:13.454Z"
   },
   {
    "duration": 64,
    "start_time": "2025-02-26T19:50:13.476Z"
   },
   {
    "duration": 7,
    "start_time": "2025-02-26T19:50:13.542Z"
   },
   {
    "duration": 80,
    "start_time": "2025-02-26T19:50:13.552Z"
   },
   {
    "duration": 19,
    "start_time": "2025-02-26T19:50:13.637Z"
   },
   {
    "duration": 81,
    "start_time": "2025-02-26T19:50:13.658Z"
   },
   {
    "duration": 5,
    "start_time": "2025-02-26T19:50:13.742Z"
   },
   {
    "duration": 3,
    "start_time": "2025-02-26T19:50:13.749Z"
   },
   {
    "duration": 101,
    "start_time": "2025-02-26T19:50:13.754Z"
   },
   {
    "duration": 88,
    "start_time": "2025-02-26T19:50:13.857Z"
   },
   {
    "duration": 5,
    "start_time": "2025-02-26T19:50:13.947Z"
   },
   {
    "duration": 79,
    "start_time": "2025-02-26T19:50:13.953Z"
   },
   {
    "duration": 5,
    "start_time": "2025-02-26T19:50:14.036Z"
   },
   {
    "duration": 4,
    "start_time": "2025-02-26T19:50:14.043Z"
   },
   {
    "duration": 4,
    "start_time": "2025-02-26T19:50:14.048Z"
   },
   {
    "duration": 3,
    "start_time": "2025-02-26T19:50:14.054Z"
   },
   {
    "duration": 4,
    "start_time": "2025-02-26T19:55:17.852Z"
   },
   {
    "duration": 22,
    "start_time": "2025-02-26T19:55:18.682Z"
   },
   {
    "duration": 24,
    "start_time": "2025-02-26T19:55:19.092Z"
   },
   {
    "duration": 6,
    "start_time": "2025-02-26T19:55:19.793Z"
   },
   {
    "duration": 725,
    "start_time": "2025-02-26T20:02:02.428Z"
   },
   {
    "duration": 2773,
    "start_time": "2025-02-26T20:02:03.155Z"
   },
   {
    "duration": 4,
    "start_time": "2025-02-26T20:02:05.930Z"
   },
   {
    "duration": 3,
    "start_time": "2025-02-26T20:02:05.936Z"
   },
   {
    "duration": 4,
    "start_time": "2025-02-26T20:02:05.941Z"
   },
   {
    "duration": 19,
    "start_time": "2025-02-26T20:02:05.947Z"
   },
   {
    "duration": 68,
    "start_time": "2025-02-26T20:02:05.968Z"
   },
   {
    "duration": 6,
    "start_time": "2025-02-26T20:02:06.038Z"
   },
   {
    "duration": 4,
    "start_time": "2025-02-26T20:02:06.045Z"
   },
   {
    "duration": 98,
    "start_time": "2025-02-26T20:02:06.051Z"
   },
   {
    "duration": 21,
    "start_time": "2025-02-26T20:02:06.151Z"
   },
   {
    "duration": 58,
    "start_time": "2025-02-26T20:02:06.174Z"
   },
   {
    "duration": 3,
    "start_time": "2025-02-26T20:02:06.234Z"
   },
   {
    "duration": 96,
    "start_time": "2025-02-26T20:02:06.241Z"
   },
   {
    "duration": 21,
    "start_time": "2025-02-26T20:02:06.339Z"
   },
   {
    "duration": 5,
    "start_time": "2025-02-26T20:02:06.430Z"
   },
   {
    "duration": 3,
    "start_time": "2025-02-26T20:02:06.437Z"
   },
   {
    "duration": 3,
    "start_time": "2025-02-26T20:02:06.442Z"
   },
   {
    "duration": 4,
    "start_time": "2025-02-26T20:02:06.447Z"
   },
   {
    "duration": 77,
    "start_time": "2025-02-26T20:02:06.453Z"
   },
   {
    "duration": 3,
    "start_time": "2025-02-26T20:02:06.532Z"
   },
   {
    "duration": 769,
    "start_time": "2025-02-26T20:11:41.264Z"
   },
   {
    "duration": 2623,
    "start_time": "2025-02-26T20:11:42.035Z"
   },
   {
    "duration": 5,
    "start_time": "2025-02-26T20:11:44.659Z"
   },
   {
    "duration": 3,
    "start_time": "2025-02-26T20:11:44.666Z"
   },
   {
    "duration": 4,
    "start_time": "2025-02-26T20:11:44.671Z"
   },
   {
    "duration": 20,
    "start_time": "2025-02-26T20:11:44.677Z"
   },
   {
    "duration": 47,
    "start_time": "2025-02-26T20:11:44.698Z"
   },
   {
    "duration": 9,
    "start_time": "2025-02-26T20:11:44.747Z"
   },
   {
    "duration": 21,
    "start_time": "2025-02-26T20:11:44.832Z"
   },
   {
    "duration": 80,
    "start_time": "2025-02-26T20:11:44.856Z"
   },
   {
    "duration": 5,
    "start_time": "2025-02-26T20:11:44.938Z"
   },
   {
    "duration": 102,
    "start_time": "2025-02-26T20:11:44.944Z"
   },
   {
    "duration": 23,
    "start_time": "2025-02-26T20:11:45.048Z"
   },
   {
    "duration": 6,
    "start_time": "2025-02-26T20:11:45.132Z"
   },
   {
    "duration": 4,
    "start_time": "2025-02-26T20:11:45.140Z"
   },
   {
    "duration": 5,
    "start_time": "2025-02-26T20:11:45.147Z"
   },
   {
    "duration": 79,
    "start_time": "2025-02-26T20:11:45.153Z"
   },
   {
    "duration": 3,
    "start_time": "2025-02-26T20:11:45.234Z"
   },
   {
    "duration": 775,
    "start_time": "2025-02-26T21:19:39.086Z"
   },
   {
    "duration": 2973,
    "start_time": "2025-02-26T21:19:39.863Z"
   },
   {
    "duration": 4,
    "start_time": "2025-02-26T21:19:42.837Z"
   },
   {
    "duration": 4,
    "start_time": "2025-02-26T21:19:42.843Z"
   },
   {
    "duration": 4,
    "start_time": "2025-02-26T21:19:42.850Z"
   },
   {
    "duration": 19,
    "start_time": "2025-02-26T21:19:42.856Z"
   },
   {
    "duration": 65,
    "start_time": "2025-02-26T21:19:42.876Z"
   },
   {
    "duration": 7,
    "start_time": "2025-02-26T21:19:42.942Z"
   },
   {
    "duration": 99,
    "start_time": "2025-02-26T21:19:42.951Z"
   },
   {
    "duration": 83,
    "start_time": "2025-02-26T21:19:43.052Z"
   },
   {
    "duration": 6,
    "start_time": "2025-02-26T21:19:43.137Z"
   },
   {
    "duration": 106,
    "start_time": "2025-02-26T21:19:43.145Z"
   },
   {
    "duration": 25,
    "start_time": "2025-02-26T21:19:43.253Z"
   },
   {
    "duration": 5,
    "start_time": "2025-02-26T21:19:43.334Z"
   },
   {
    "duration": 4,
    "start_time": "2025-02-26T21:19:43.341Z"
   },
   {
    "duration": 5,
    "start_time": "2025-02-26T21:19:43.350Z"
   },
   {
    "duration": 3,
    "start_time": "2025-02-26T21:19:43.431Z"
   },
   {
    "duration": 3,
    "start_time": "2025-02-26T21:19:43.436Z"
   },
   {
    "duration": 10,
    "start_time": "2025-02-26T21:20:36.996Z"
   },
   {
    "duration": 5,
    "start_time": "2025-02-26T21:22:05.438Z"
   },
   {
    "duration": 19,
    "start_time": "2025-02-26T21:22:06.082Z"
   },
   {
    "duration": 25,
    "start_time": "2025-02-26T21:22:06.473Z"
   },
   {
    "duration": 219,
    "start_time": "2025-02-26T21:22:06.928Z"
   },
   {
    "duration": 728,
    "start_time": "2025-02-26T21:22:33.105Z"
   },
   {
    "duration": 2769,
    "start_time": "2025-02-26T21:22:33.836Z"
   },
   {
    "duration": 4,
    "start_time": "2025-02-26T21:22:36.607Z"
   },
   {
    "duration": 4,
    "start_time": "2025-02-26T21:22:36.612Z"
   },
   {
    "duration": 13,
    "start_time": "2025-02-26T21:22:36.619Z"
   },
   {
    "duration": 19,
    "start_time": "2025-02-26T21:22:36.634Z"
   },
   {
    "duration": 76,
    "start_time": "2025-02-26T21:22:36.655Z"
   },
   {
    "duration": 6,
    "start_time": "2025-02-26T21:22:36.733Z"
   },
   {
    "duration": 88,
    "start_time": "2025-02-26T21:22:36.743Z"
   },
   {
    "duration": 18,
    "start_time": "2025-02-26T21:22:36.833Z"
   },
   {
    "duration": 78,
    "start_time": "2025-02-26T21:22:36.853Z"
   },
   {
    "duration": 6,
    "start_time": "2025-02-26T21:22:36.933Z"
   },
   {
    "duration": 94,
    "start_time": "2025-02-26T21:22:36.941Z"
   },
   {
    "duration": 21,
    "start_time": "2025-02-26T21:22:37.039Z"
   },
   {
    "duration": 70,
    "start_time": "2025-02-26T21:22:37.062Z"
   },
   {
    "duration": 4,
    "start_time": "2025-02-26T21:22:37.134Z"
   },
   {
    "duration": 5,
    "start_time": "2025-02-26T21:22:37.140Z"
   },
   {
    "duration": 3,
    "start_time": "2025-02-26T21:22:37.146Z"
   },
   {
    "duration": 3,
    "start_time": "2025-02-26T21:22:37.151Z"
   },
   {
    "duration": 760,
    "start_time": "2025-02-26T21:23:38.365Z"
   },
   {
    "duration": 2591,
    "start_time": "2025-02-26T21:23:39.127Z"
   },
   {
    "duration": 4,
    "start_time": "2025-02-26T21:23:41.720Z"
   },
   {
    "duration": 4,
    "start_time": "2025-02-26T21:23:41.726Z"
   },
   {
    "duration": 4,
    "start_time": "2025-02-26T21:23:41.733Z"
   },
   {
    "duration": 19,
    "start_time": "2025-02-26T21:23:41.739Z"
   },
   {
    "duration": 75,
    "start_time": "2025-02-26T21:23:41.760Z"
   },
   {
    "duration": 5,
    "start_time": "2025-02-26T21:23:41.837Z"
   },
   {
    "duration": 10,
    "start_time": "2025-02-26T21:23:41.844Z"
   },
   {
    "duration": 20,
    "start_time": "2025-02-26T21:23:41.931Z"
   },
   {
    "duration": 77,
    "start_time": "2025-02-26T21:23:41.954Z"
   },
   {
    "duration": 5,
    "start_time": "2025-02-26T21:23:42.033Z"
   },
   {
    "duration": 94,
    "start_time": "2025-02-26T21:23:42.040Z"
   },
   {
    "duration": 22,
    "start_time": "2025-02-26T21:23:42.138Z"
   },
   {
    "duration": 71,
    "start_time": "2025-02-26T21:23:42.161Z"
   },
   {
    "duration": 5,
    "start_time": "2025-02-26T21:23:42.236Z"
   },
   {
    "duration": 6,
    "start_time": "2025-02-26T21:23:42.245Z"
   },
   {
    "duration": 78,
    "start_time": "2025-02-26T21:23:42.255Z"
   },
   {
    "duration": 2,
    "start_time": "2025-02-26T21:23:42.335Z"
   },
   {
    "duration": 800,
    "start_time": "2025-02-26T21:24:27.356Z"
   },
   {
    "duration": 2701,
    "start_time": "2025-02-26T21:24:28.158Z"
   },
   {
    "duration": 4,
    "start_time": "2025-02-26T21:24:30.861Z"
   },
   {
    "duration": 4,
    "start_time": "2025-02-26T21:24:30.867Z"
   },
   {
    "duration": 4,
    "start_time": "2025-02-26T21:24:30.874Z"
   },
   {
    "duration": 20,
    "start_time": "2025-02-26T21:24:30.879Z"
   },
   {
    "duration": 43,
    "start_time": "2025-02-26T21:24:30.900Z"
   },
   {
    "duration": 9,
    "start_time": "2025-02-26T21:24:30.946Z"
   },
   {
    "duration": 2,
    "start_time": "2025-02-26T21:24:31.032Z"
   },
   {
    "duration": 19,
    "start_time": "2025-02-26T21:24:31.036Z"
   },
   {
    "duration": 77,
    "start_time": "2025-02-26T21:24:31.057Z"
   },
   {
    "duration": 7,
    "start_time": "2025-02-26T21:24:31.136Z"
   },
   {
    "duration": 98,
    "start_time": "2025-02-26T21:24:31.146Z"
   },
   {
    "duration": 21,
    "start_time": "2025-02-26T21:24:31.247Z"
   },
   {
    "duration": 7,
    "start_time": "2025-02-26T21:24:31.332Z"
   },
   {
    "duration": 4,
    "start_time": "2025-02-26T21:24:31.344Z"
   },
   {
    "duration": 79,
    "start_time": "2025-02-26T21:24:31.353Z"
   },
   {
    "duration": 4,
    "start_time": "2025-02-26T21:24:31.433Z"
   },
   {
    "duration": 3,
    "start_time": "2025-02-26T21:24:31.438Z"
   },
   {
    "duration": 754,
    "start_time": "2025-02-26T21:25:13.881Z"
   },
   {
    "duration": 2879,
    "start_time": "2025-02-26T21:25:14.637Z"
   },
   {
    "duration": 5,
    "start_time": "2025-02-26T21:25:17.517Z"
   },
   {
    "duration": 4,
    "start_time": "2025-02-26T21:25:17.524Z"
   },
   {
    "duration": 5,
    "start_time": "2025-02-26T21:25:17.531Z"
   },
   {
    "duration": 20,
    "start_time": "2025-02-26T21:25:17.537Z"
   },
   {
    "duration": 76,
    "start_time": "2025-02-26T21:25:17.559Z"
   },
   {
    "duration": 5,
    "start_time": "2025-02-26T21:25:17.636Z"
   },
   {
    "duration": 89,
    "start_time": "2025-02-26T21:25:17.643Z"
   },
   {
    "duration": 21,
    "start_time": "2025-02-26T21:25:17.735Z"
   },
   {
    "duration": 79,
    "start_time": "2025-02-26T21:25:17.758Z"
   },
   {
    "duration": 7,
    "start_time": "2025-02-26T21:25:17.846Z"
   },
   {
    "duration": 98,
    "start_time": "2025-02-26T21:25:17.855Z"
   },
   {
    "duration": 80,
    "start_time": "2025-02-26T21:25:17.955Z"
   },
   {
    "duration": 10,
    "start_time": "2025-02-26T21:25:18.036Z"
   },
   {
    "duration": 4,
    "start_time": "2025-02-26T21:25:18.048Z"
   },
   {
    "duration": 81,
    "start_time": "2025-02-26T21:25:18.057Z"
   },
   {
    "duration": 3,
    "start_time": "2025-02-26T21:25:18.140Z"
   },
   {
    "duration": 3,
    "start_time": "2025-02-26T21:25:18.145Z"
   },
   {
    "duration": 741,
    "start_time": "2025-02-26T21:26:00.885Z"
   },
   {
    "duration": 2806,
    "start_time": "2025-02-26T21:26:01.629Z"
   },
   {
    "duration": 4,
    "start_time": "2025-02-26T21:26:04.437Z"
   },
   {
    "duration": 4,
    "start_time": "2025-02-26T21:26:04.443Z"
   },
   {
    "duration": 4,
    "start_time": "2025-02-26T21:26:04.449Z"
   },
   {
    "duration": 19,
    "start_time": "2025-02-26T21:26:04.455Z"
   },
   {
    "duration": 78,
    "start_time": "2025-02-26T21:26:04.475Z"
   },
   {
    "duration": 77,
    "start_time": "2025-02-26T21:26:04.555Z"
   },
   {
    "duration": 5,
    "start_time": "2025-02-26T21:26:04.634Z"
   },
   {
    "duration": 18,
    "start_time": "2025-02-26T21:26:04.641Z"
   },
   {
    "duration": 74,
    "start_time": "2025-02-26T21:26:04.661Z"
   },
   {
    "duration": 5,
    "start_time": "2025-02-26T21:26:04.736Z"
   },
   {
    "duration": 95,
    "start_time": "2025-02-26T21:26:04.743Z"
   },
   {
    "duration": 22,
    "start_time": "2025-02-26T21:26:04.841Z"
   },
   {
    "duration": 72,
    "start_time": "2025-02-26T21:26:04.864Z"
   },
   {
    "duration": 4,
    "start_time": "2025-02-26T21:26:04.941Z"
   },
   {
    "duration": 6,
    "start_time": "2025-02-26T21:26:04.948Z"
   },
   {
    "duration": 3,
    "start_time": "2025-02-26T21:26:05.031Z"
   },
   {
    "duration": 3,
    "start_time": "2025-02-26T21:26:05.036Z"
   },
   {
    "duration": 774,
    "start_time": "2025-02-26T21:27:40.758Z"
   },
   {
    "duration": 2695,
    "start_time": "2025-02-26T21:27:41.535Z"
   },
   {
    "duration": 4,
    "start_time": "2025-02-26T21:27:44.232Z"
   },
   {
    "duration": 4,
    "start_time": "2025-02-26T21:27:44.238Z"
   },
   {
    "duration": 4,
    "start_time": "2025-02-26T21:27:44.246Z"
   },
   {
    "duration": 20,
    "start_time": "2025-02-26T21:27:44.251Z"
   },
   {
    "duration": 64,
    "start_time": "2025-02-26T21:27:44.273Z"
   },
   {
    "duration": 6,
    "start_time": "2025-02-26T21:27:44.338Z"
   },
   {
    "duration": 2,
    "start_time": "2025-02-26T21:27:44.345Z"
   },
   {
    "duration": 96,
    "start_time": "2025-02-26T21:27:44.349Z"
   },
   {
    "duration": 20,
    "start_time": "2025-02-26T21:27:44.447Z"
   },
   {
    "duration": 5,
    "start_time": "2025-02-26T21:27:44.531Z"
   },
   {
    "duration": 106,
    "start_time": "2025-02-26T21:27:44.538Z"
   },
   {
    "duration": 23,
    "start_time": "2025-02-26T21:27:44.647Z"
   },
   {
    "duration": 6,
    "start_time": "2025-02-26T21:27:44.732Z"
   },
   {
    "duration": 3,
    "start_time": "2025-02-26T21:27:44.740Z"
   },
   {
    "duration": 3,
    "start_time": "2025-02-26T21:27:44.745Z"
   },
   {
    "duration": 79,
    "start_time": "2025-02-26T21:27:44.753Z"
   },
   {
    "duration": 3,
    "start_time": "2025-02-26T21:27:44.834Z"
   },
   {
    "duration": 729,
    "start_time": "2025-02-26T21:33:26.017Z"
   },
   {
    "duration": 3539,
    "start_time": "2025-02-26T21:33:26.749Z"
   },
   {
    "duration": 4,
    "start_time": "2025-02-26T21:33:30.290Z"
   },
   {
    "duration": 5,
    "start_time": "2025-02-26T21:33:30.296Z"
   },
   {
    "duration": 6,
    "start_time": "2025-02-26T21:33:30.302Z"
   },
   {
    "duration": 42,
    "start_time": "2025-02-26T21:33:30.310Z"
   },
   {
    "duration": 85,
    "start_time": "2025-02-26T21:33:30.353Z"
   },
   {
    "duration": 10,
    "start_time": "2025-02-26T21:33:30.439Z"
   },
   {
    "duration": 2,
    "start_time": "2025-02-26T21:33:30.451Z"
   },
   {
    "duration": 24,
    "start_time": "2025-02-26T21:33:30.532Z"
   },
   {
    "duration": 78,
    "start_time": "2025-02-26T21:33:30.558Z"
   },
   {
    "duration": 8,
    "start_time": "2025-02-26T21:33:30.637Z"
   },
   {
    "duration": 102,
    "start_time": "2025-02-26T21:33:30.648Z"
   },
   {
    "duration": 92,
    "start_time": "2025-02-26T21:33:30.752Z"
   },
   {
    "duration": 8,
    "start_time": "2025-02-26T21:33:30.846Z"
   },
   {
    "duration": 76,
    "start_time": "2025-02-26T21:33:30.856Z"
   },
   {
    "duration": 4,
    "start_time": "2025-02-26T21:33:30.934Z"
   },
   {
    "duration": 4,
    "start_time": "2025-02-26T21:33:30.939Z"
   },
   {
    "duration": 3,
    "start_time": "2025-02-26T21:33:30.945Z"
   },
   {
    "duration": 776,
    "start_time": "2025-02-26T21:41:20.081Z"
   },
   {
    "duration": 2731,
    "start_time": "2025-02-26T21:41:20.860Z"
   },
   {
    "duration": 5,
    "start_time": "2025-02-26T21:41:23.593Z"
   },
   {
    "duration": 3,
    "start_time": "2025-02-26T21:41:23.600Z"
   },
   {
    "duration": 4,
    "start_time": "2025-02-26T21:41:23.606Z"
   },
   {
    "duration": 39,
    "start_time": "2025-02-26T21:41:23.612Z"
   },
   {
    "duration": 83,
    "start_time": "2025-02-26T21:41:23.653Z"
   },
   {
    "duration": 8,
    "start_time": "2025-02-26T21:41:23.738Z"
   },
   {
    "duration": 3,
    "start_time": "2025-02-26T21:41:23.747Z"
   },
   {
    "duration": 97,
    "start_time": "2025-02-26T21:41:23.752Z"
   },
   {
    "duration": 80,
    "start_time": "2025-02-26T21:41:23.851Z"
   },
   {
    "duration": 12,
    "start_time": "2025-02-26T21:41:23.933Z"
   },
   {
    "duration": 101,
    "start_time": "2025-02-26T21:41:23.950Z"
   },
   {
    "duration": 77,
    "start_time": "2025-02-26T21:41:24.054Z"
   },
   {
    "duration": 12,
    "start_time": "2025-02-26T21:41:24.133Z"
   },
   {
    "duration": 4,
    "start_time": "2025-02-26T21:41:24.147Z"
   },
   {
    "duration": 78,
    "start_time": "2025-02-26T21:41:24.153Z"
   },
   {
    "duration": 12,
    "start_time": "2025-02-26T21:41:24.233Z"
   },
   {
    "duration": 4,
    "start_time": "2025-02-26T21:41:24.248Z"
   },
   {
    "duration": 2,
    "start_time": "2025-02-26T21:42:24.772Z"
   },
   {
    "duration": 766,
    "start_time": "2025-02-26T21:42:39.567Z"
   },
   {
    "duration": 2579,
    "start_time": "2025-02-26T21:42:40.335Z"
   },
   {
    "duration": 4,
    "start_time": "2025-02-26T21:42:42.916Z"
   },
   {
    "duration": 10,
    "start_time": "2025-02-26T21:42:42.922Z"
   },
   {
    "duration": 4,
    "start_time": "2025-02-26T21:42:42.935Z"
   },
   {
    "duration": 21,
    "start_time": "2025-02-26T21:42:42.941Z"
   },
   {
    "duration": 78,
    "start_time": "2025-02-26T21:42:42.964Z"
   },
   {
    "duration": 8,
    "start_time": "2025-02-26T21:42:43.044Z"
   },
   {
    "duration": 79,
    "start_time": "2025-02-26T21:42:43.054Z"
   },
   {
    "duration": 4,
    "start_time": "2025-02-26T21:42:43.135Z"
   },
   {
    "duration": 23,
    "start_time": "2025-02-26T21:42:43.140Z"
   },
   {
    "duration": 91,
    "start_time": "2025-02-26T21:42:43.166Z"
   },
   {
    "duration": 72,
    "start_time": "2025-02-26T21:42:43.261Z"
   },
   {
    "duration": 95,
    "start_time": "2025-02-26T21:42:43.336Z"
   },
   {
    "duration": 24,
    "start_time": "2025-02-26T21:42:43.433Z"
   },
   {
    "duration": 73,
    "start_time": "2025-02-26T21:42:43.459Z"
   },
   {
    "duration": 4,
    "start_time": "2025-02-26T21:42:43.534Z"
   },
   {
    "duration": 3,
    "start_time": "2025-02-26T21:42:43.540Z"
   },
   {
    "duration": 3,
    "start_time": "2025-02-26T21:42:43.545Z"
   },
   {
    "duration": 3,
    "start_time": "2025-02-26T21:42:43.549Z"
   },
   {
    "duration": 811,
    "start_time": "2025-02-26T21:43:12.639Z"
   },
   {
    "duration": 3052,
    "start_time": "2025-02-26T21:43:13.452Z"
   },
   {
    "duration": 5,
    "start_time": "2025-02-26T21:43:16.506Z"
   },
   {
    "duration": 4,
    "start_time": "2025-02-26T21:43:16.513Z"
   },
   {
    "duration": 14,
    "start_time": "2025-02-26T21:43:16.519Z"
   },
   {
    "duration": 19,
    "start_time": "2025-02-26T21:43:16.534Z"
   },
   {
    "duration": 82,
    "start_time": "2025-02-26T21:43:16.554Z"
   },
   {
    "duration": 5,
    "start_time": "2025-02-26T21:43:16.638Z"
   },
   {
    "duration": 10,
    "start_time": "2025-02-26T21:43:16.645Z"
   },
   {
    "duration": 6,
    "start_time": "2025-02-26T21:43:16.732Z"
   },
   {
    "duration": 19,
    "start_time": "2025-02-26T21:43:16.739Z"
   },
   {
    "duration": 76,
    "start_time": "2025-02-26T21:43:16.759Z"
   },
   {
    "duration": 7,
    "start_time": "2025-02-26T21:43:16.836Z"
   },
   {
    "duration": 94,
    "start_time": "2025-02-26T21:43:16.846Z"
   },
   {
    "duration": 22,
    "start_time": "2025-02-26T21:43:16.942Z"
   },
   {
    "duration": 70,
    "start_time": "2025-02-26T21:43:16.965Z"
   },
   {
    "duration": 3,
    "start_time": "2025-02-26T21:43:17.037Z"
   },
   {
    "duration": 4,
    "start_time": "2025-02-26T21:43:17.042Z"
   },
   {
    "duration": 81,
    "start_time": "2025-02-26T21:43:17.050Z"
   },
   {
    "duration": 3,
    "start_time": "2025-02-26T21:43:17.133Z"
   },
   {
    "duration": 775,
    "start_time": "2025-02-26T21:45:35.658Z"
   },
   {
    "duration": 2778,
    "start_time": "2025-02-26T21:45:36.435Z"
   },
   {
    "duration": 4,
    "start_time": "2025-02-26T21:45:39.214Z"
   },
   {
    "duration": 11,
    "start_time": "2025-02-26T21:45:39.220Z"
   },
   {
    "duration": 3,
    "start_time": "2025-02-26T21:45:39.235Z"
   },
   {
    "duration": 20,
    "start_time": "2025-02-26T21:45:39.240Z"
   },
   {
    "duration": 74,
    "start_time": "2025-02-26T21:45:39.261Z"
   },
   {
    "duration": 6,
    "start_time": "2025-02-26T21:45:39.336Z"
   },
   {
    "duration": 11,
    "start_time": "2025-02-26T21:45:39.343Z"
   },
   {
    "duration": 92,
    "start_time": "2025-02-26T21:45:39.355Z"
   },
   {
    "duration": 20,
    "start_time": "2025-02-26T21:45:39.449Z"
   },
   {
    "duration": 63,
    "start_time": "2025-02-26T21:45:39.471Z"
   },
   {
    "duration": 10,
    "start_time": "2025-02-26T21:45:39.536Z"
   },
   {
    "duration": 93,
    "start_time": "2025-02-26T21:45:39.551Z"
   },
   {
    "duration": 90,
    "start_time": "2025-02-26T21:45:39.645Z"
   },
   {
    "duration": 9,
    "start_time": "2025-02-26T21:45:39.737Z"
   },
   {
    "duration": 7,
    "start_time": "2025-02-26T21:45:39.748Z"
   },
   {
    "duration": 6,
    "start_time": "2025-02-26T21:45:39.756Z"
   },
   {
    "duration": 70,
    "start_time": "2025-02-26T21:45:39.764Z"
   },
   {
    "duration": 3,
    "start_time": "2025-02-26T21:45:39.837Z"
   },
   {
    "duration": 3,
    "start_time": "2025-02-26T21:45:39.842Z"
   },
   {
    "duration": 764,
    "start_time": "2025-02-26T21:56:46.060Z"
   },
   {
    "duration": 2672,
    "start_time": "2025-02-26T21:56:46.830Z"
   },
   {
    "duration": 5,
    "start_time": "2025-02-26T21:56:49.503Z"
   },
   {
    "duration": 4,
    "start_time": "2025-02-26T21:56:49.510Z"
   },
   {
    "duration": 16,
    "start_time": "2025-02-26T21:56:49.517Z"
   },
   {
    "duration": 20,
    "start_time": "2025-02-26T21:56:49.534Z"
   },
   {
    "duration": 79,
    "start_time": "2025-02-26T21:56:49.555Z"
   },
   {
    "duration": 7,
    "start_time": "2025-02-26T21:56:49.636Z"
   },
   {
    "duration": 85,
    "start_time": "2025-02-26T21:56:49.647Z"
   },
   {
    "duration": 20,
    "start_time": "2025-02-26T21:56:49.734Z"
   },
   {
    "duration": 86,
    "start_time": "2025-02-26T21:56:49.755Z"
   },
   {
    "duration": 8,
    "start_time": "2025-02-26T21:56:49.844Z"
   },
   {
    "duration": 83,
    "start_time": "2025-02-26T21:56:49.855Z"
   },
   {
    "duration": 19,
    "start_time": "2025-02-26T21:56:49.941Z"
   },
   {
    "duration": 74,
    "start_time": "2025-02-26T21:56:49.962Z"
   },
   {
    "duration": 6,
    "start_time": "2025-02-26T21:56:50.038Z"
   },
   {
    "duration": 7,
    "start_time": "2025-02-26T21:56:50.046Z"
   },
   {
    "duration": 77,
    "start_time": "2025-02-26T21:56:50.055Z"
   },
   {
    "duration": 4,
    "start_time": "2025-02-26T21:56:50.134Z"
   },
   {
    "duration": 4,
    "start_time": "2025-02-26T21:56:50.140Z"
   },
   {
    "duration": 5,
    "start_time": "2025-02-26T21:56:50.145Z"
   },
   {
    "duration": 787,
    "start_time": "2025-02-26T22:03:54.435Z"
   },
   {
    "duration": 2748,
    "start_time": "2025-02-26T22:03:55.224Z"
   },
   {
    "duration": 5,
    "start_time": "2025-02-26T22:03:57.974Z"
   },
   {
    "duration": 4,
    "start_time": "2025-02-26T22:03:57.981Z"
   },
   {
    "duration": 5,
    "start_time": "2025-02-26T22:03:57.987Z"
   },
   {
    "duration": 19,
    "start_time": "2025-02-26T22:03:57.993Z"
   },
   {
    "duration": 40,
    "start_time": "2025-02-26T22:03:58.014Z"
   },
   {
    "duration": 78,
    "start_time": "2025-02-26T22:03:58.056Z"
   },
   {
    "duration": 11,
    "start_time": "2025-02-26T22:03:58.135Z"
   },
   {
    "duration": 23,
    "start_time": "2025-02-26T22:03:58.148Z"
   },
   {
    "duration": 86,
    "start_time": "2025-02-26T22:03:58.173Z"
   },
   {
    "duration": 6,
    "start_time": "2025-02-26T22:03:58.331Z"
   },
   {
    "duration": 7,
    "start_time": "2025-02-26T22:03:58.339Z"
   },
   {
    "duration": 81,
    "start_time": "2025-02-26T22:03:58.351Z"
   },
   {
    "duration": 24,
    "start_time": "2025-02-26T22:03:58.435Z"
   },
   {
    "duration": 74,
    "start_time": "2025-02-26T22:03:58.460Z"
   },
   {
    "duration": 6,
    "start_time": "2025-02-26T22:03:58.536Z"
   },
   {
    "duration": 6,
    "start_time": "2025-02-26T22:03:58.545Z"
   },
   {
    "duration": 8,
    "start_time": "2025-02-26T22:03:58.631Z"
   },
   {
    "duration": 8,
    "start_time": "2025-02-26T22:03:58.642Z"
   },
   {
    "duration": 6,
    "start_time": "2025-02-26T22:03:58.652Z"
   },
   {
    "duration": 732,
    "start_time": "2025-02-26T22:05:31.995Z"
   },
   {
    "duration": 2673,
    "start_time": "2025-02-26T22:05:32.730Z"
   },
   {
    "duration": 4,
    "start_time": "2025-02-26T22:05:35.405Z"
   },
   {
    "duration": 5,
    "start_time": "2025-02-26T22:05:35.411Z"
   },
   {
    "duration": 5,
    "start_time": "2025-02-26T22:05:35.417Z"
   },
   {
    "duration": 28,
    "start_time": "2025-02-26T22:05:35.423Z"
   },
   {
    "duration": 78,
    "start_time": "2025-02-26T22:05:35.453Z"
   },
   {
    "duration": 6,
    "start_time": "2025-02-26T22:05:35.533Z"
   },
   {
    "duration": 12,
    "start_time": "2025-02-26T22:05:35.541Z"
   },
   {
    "duration": 93,
    "start_time": "2025-02-26T22:05:35.556Z"
   },
   {
    "duration": 84,
    "start_time": "2025-02-26T22:05:35.650Z"
   },
   {
    "duration": 7,
    "start_time": "2025-02-26T22:05:35.736Z"
   },
   {
    "duration": 7,
    "start_time": "2025-02-26T22:05:35.744Z"
   },
   {
    "duration": 94,
    "start_time": "2025-02-26T22:05:35.753Z"
   },
   {
    "duration": 21,
    "start_time": "2025-02-26T22:05:35.849Z"
   },
   {
    "duration": 5,
    "start_time": "2025-02-26T22:05:35.931Z"
   },
   {
    "duration": 6,
    "start_time": "2025-02-26T22:05:35.938Z"
   },
   {
    "duration": 4,
    "start_time": "2025-02-26T22:05:35.946Z"
   },
   {
    "duration": 81,
    "start_time": "2025-02-26T22:05:35.952Z"
   },
   {
    "duration": 5,
    "start_time": "2025-02-26T22:05:36.035Z"
   },
   {
    "duration": 4,
    "start_time": "2025-02-26T22:05:36.042Z"
   },
   {
    "duration": 773,
    "start_time": "2025-02-26T22:05:56.456Z"
   },
   {
    "duration": 2803,
    "start_time": "2025-02-26T22:05:57.231Z"
   },
   {
    "duration": 5,
    "start_time": "2025-02-26T22:06:00.035Z"
   },
   {
    "duration": 3,
    "start_time": "2025-02-26T22:06:00.042Z"
   },
   {
    "duration": 4,
    "start_time": "2025-02-26T22:06:00.047Z"
   },
   {
    "duration": 19,
    "start_time": "2025-02-26T22:06:00.053Z"
   },
   {
    "duration": 66,
    "start_time": "2025-02-26T22:06:00.074Z"
   },
   {
    "duration": 5,
    "start_time": "2025-02-26T22:06:00.142Z"
   },
   {
    "duration": 86,
    "start_time": "2025-02-26T22:06:00.149Z"
   },
   {
    "duration": 19,
    "start_time": "2025-02-26T22:06:00.237Z"
   },
   {
    "duration": 78,
    "start_time": "2025-02-26T22:06:00.258Z"
   },
   {
    "duration": 7,
    "start_time": "2025-02-26T22:06:00.338Z"
   },
   {
    "duration": 7,
    "start_time": "2025-02-26T22:06:00.347Z"
   },
   {
    "duration": 18,
    "start_time": "2025-02-26T22:06:00.433Z"
   },
   {
    "duration": 82,
    "start_time": "2025-02-26T22:06:00.453Z"
   },
   {
    "duration": 5,
    "start_time": "2025-02-26T22:06:00.537Z"
   },
   {
    "duration": 6,
    "start_time": "2025-02-26T22:06:00.544Z"
   },
   {
    "duration": 4,
    "start_time": "2025-02-26T22:06:00.551Z"
   },
   {
    "duration": 78,
    "start_time": "2025-02-26T22:06:00.556Z"
   },
   {
    "duration": 3,
    "start_time": "2025-02-26T22:06:00.636Z"
   },
   {
    "duration": 4,
    "start_time": "2025-02-26T22:06:00.640Z"
   },
   {
    "duration": 766,
    "start_time": "2025-02-26T22:10:21.268Z"
   },
   {
    "duration": 2648,
    "start_time": "2025-02-26T22:10:22.036Z"
   },
   {
    "duration": 4,
    "start_time": "2025-02-26T22:10:24.686Z"
   },
   {
    "duration": 4,
    "start_time": "2025-02-26T22:10:24.694Z"
   },
   {
    "duration": 5,
    "start_time": "2025-02-26T22:10:24.699Z"
   },
   {
    "duration": 36,
    "start_time": "2025-02-26T22:10:24.705Z"
   },
   {
    "duration": 27,
    "start_time": "2025-02-26T22:10:24.743Z"
   },
   {
    "duration": 62,
    "start_time": "2025-02-26T22:10:24.772Z"
   },
   {
    "duration": 11,
    "start_time": "2025-02-26T22:10:24.836Z"
   },
   {
    "duration": 94,
    "start_time": "2025-02-26T22:10:24.850Z"
   },
   {
    "duration": 19,
    "start_time": "2025-02-26T22:10:24.945Z"
   },
   {
    "duration": 7,
    "start_time": "2025-02-26T22:10:24.966Z"
   },
   {
    "duration": 8,
    "start_time": "2025-02-26T22:10:25.033Z"
   },
   {
    "duration": 88,
    "start_time": "2025-02-26T22:10:25.044Z"
   },
   {
    "duration": 22,
    "start_time": "2025-02-26T22:10:25.134Z"
   },
   {
    "duration": 73,
    "start_time": "2025-02-26T22:10:25.158Z"
   },
   {
    "duration": 7,
    "start_time": "2025-02-26T22:10:25.233Z"
   },
   {
    "duration": 6,
    "start_time": "2025-02-26T22:10:25.244Z"
   },
   {
    "duration": 78,
    "start_time": "2025-02-26T22:10:25.253Z"
   },
   {
    "duration": 7,
    "start_time": "2025-02-26T22:10:25.332Z"
   },
   {
    "duration": 7,
    "start_time": "2025-02-26T22:10:25.341Z"
   },
   {
    "duration": 786,
    "start_time": "2025-02-26T22:12:16.551Z"
   },
   {
    "duration": 2704,
    "start_time": "2025-02-26T22:12:17.340Z"
   },
   {
    "duration": 4,
    "start_time": "2025-02-26T22:12:20.046Z"
   },
   {
    "duration": 4,
    "start_time": "2025-02-26T22:12:20.052Z"
   },
   {
    "duration": 4,
    "start_time": "2025-02-26T22:12:20.059Z"
   },
   {
    "duration": 20,
    "start_time": "2025-02-26T22:12:20.065Z"
   },
   {
    "duration": 57,
    "start_time": "2025-02-26T22:12:20.087Z"
   },
   {
    "duration": 6,
    "start_time": "2025-02-26T22:12:20.146Z"
   },
   {
    "duration": 85,
    "start_time": "2025-02-26T22:12:20.154Z"
   },
   {
    "duration": 18,
    "start_time": "2025-02-26T22:12:20.241Z"
   },
   {
    "duration": 76,
    "start_time": "2025-02-26T22:12:20.261Z"
   },
   {
    "duration": 6,
    "start_time": "2025-02-26T22:12:20.338Z"
   },
   {
    "duration": 6,
    "start_time": "2025-02-26T22:12:20.346Z"
   },
   {
    "duration": 19,
    "start_time": "2025-02-26T22:12:20.434Z"
   },
   {
    "duration": 80,
    "start_time": "2025-02-26T22:12:20.454Z"
   },
   {
    "duration": 5,
    "start_time": "2025-02-26T22:12:20.536Z"
   },
   {
    "duration": 6,
    "start_time": "2025-02-26T22:12:20.543Z"
   },
   {
    "duration": 4,
    "start_time": "2025-02-26T22:12:20.551Z"
   },
   {
    "duration": 0,
    "start_time": "2025-02-26T22:12:20.632Z"
   },
   {
    "duration": 0,
    "start_time": "2025-02-26T22:12:20.633Z"
   },
   {
    "duration": 0,
    "start_time": "2025-02-26T22:12:20.634Z"
   },
   {
    "duration": 764,
    "start_time": "2025-02-26T22:12:45.669Z"
   },
   {
    "duration": 2763,
    "start_time": "2025-02-26T22:12:46.435Z"
   },
   {
    "duration": 4,
    "start_time": "2025-02-26T22:12:49.200Z"
   },
   {
    "duration": 3,
    "start_time": "2025-02-26T22:12:49.206Z"
   },
   {
    "duration": 5,
    "start_time": "2025-02-26T22:12:49.212Z"
   },
   {
    "duration": 20,
    "start_time": "2025-02-26T22:12:49.231Z"
   },
   {
    "duration": 78,
    "start_time": "2025-02-26T22:12:49.253Z"
   },
   {
    "duration": 6,
    "start_time": "2025-02-26T22:12:49.333Z"
   },
   {
    "duration": 11,
    "start_time": "2025-02-26T22:12:49.341Z"
   },
   {
    "duration": 93,
    "start_time": "2025-02-26T22:12:49.354Z"
   },
   {
    "duration": 21,
    "start_time": "2025-02-26T22:12:49.448Z"
   },
   {
    "duration": 5,
    "start_time": "2025-02-26T22:12:49.531Z"
   },
   {
    "duration": 6,
    "start_time": "2025-02-26T22:12:49.538Z"
   },
   {
    "duration": 98,
    "start_time": "2025-02-26T22:12:49.547Z"
   },
   {
    "duration": 22,
    "start_time": "2025-02-26T22:12:49.646Z"
   },
   {
    "duration": 67,
    "start_time": "2025-02-26T22:12:49.670Z"
   },
   {
    "duration": 6,
    "start_time": "2025-02-26T22:12:49.739Z"
   },
   {
    "duration": 6,
    "start_time": "2025-02-26T22:12:49.746Z"
   },
   {
    "duration": 0,
    "start_time": "2025-02-26T22:12:49.754Z"
   },
   {
    "duration": 0,
    "start_time": "2025-02-26T22:12:49.763Z"
   },
   {
    "duration": 0,
    "start_time": "2025-02-26T22:12:49.764Z"
   },
   {
    "duration": 808,
    "start_time": "2025-02-26T22:13:54.935Z"
   },
   {
    "duration": 2791,
    "start_time": "2025-02-26T22:13:55.746Z"
   },
   {
    "duration": 5,
    "start_time": "2025-02-26T22:13:58.538Z"
   },
   {
    "duration": 4,
    "start_time": "2025-02-26T22:13:58.545Z"
   },
   {
    "duration": 5,
    "start_time": "2025-02-26T22:13:58.551Z"
   },
   {
    "duration": 20,
    "start_time": "2025-02-26T22:13:58.557Z"
   },
   {
    "duration": 61,
    "start_time": "2025-02-26T22:13:58.579Z"
   },
   {
    "duration": 5,
    "start_time": "2025-02-26T22:13:58.642Z"
   },
   {
    "duration": 83,
    "start_time": "2025-02-26T22:13:58.649Z"
   },
   {
    "duration": 19,
    "start_time": "2025-02-26T22:13:58.735Z"
   },
   {
    "duration": 83,
    "start_time": "2025-02-26T22:13:58.755Z"
   },
   {
    "duration": 6,
    "start_time": "2025-02-26T22:13:58.840Z"
   },
   {
    "duration": 6,
    "start_time": "2025-02-26T22:13:58.848Z"
   },
   {
    "duration": 93,
    "start_time": "2025-02-26T22:13:58.856Z"
   },
   {
    "duration": 85,
    "start_time": "2025-02-26T22:13:58.950Z"
   },
   {
    "duration": 8,
    "start_time": "2025-02-26T22:13:59.038Z"
   },
   {
    "duration": 82,
    "start_time": "2025-02-26T22:13:59.049Z"
   },
   {
    "duration": 3,
    "start_time": "2025-02-26T22:13:59.133Z"
   },
   {
    "duration": 4,
    "start_time": "2025-02-26T22:13:59.138Z"
   },
   {
    "duration": 4,
    "start_time": "2025-02-26T22:13:59.144Z"
   },
   {
    "duration": 4,
    "start_time": "2025-02-26T22:13:59.150Z"
   },
   {
    "duration": 757,
    "start_time": "2025-02-26T22:15:30.266Z"
   },
   {
    "duration": 2739,
    "start_time": "2025-02-26T22:15:31.025Z"
   },
   {
    "duration": 4,
    "start_time": "2025-02-26T22:15:33.766Z"
   },
   {
    "duration": 4,
    "start_time": "2025-02-26T22:15:33.773Z"
   },
   {
    "duration": 5,
    "start_time": "2025-02-26T22:15:33.780Z"
   },
   {
    "duration": 19,
    "start_time": "2025-02-26T22:15:33.787Z"
   },
   {
    "duration": 40,
    "start_time": "2025-02-26T22:15:33.808Z"
   },
   {
    "duration": 82,
    "start_time": "2025-02-26T22:15:33.849Z"
   },
   {
    "duration": 11,
    "start_time": "2025-02-26T22:15:33.933Z"
   },
   {
    "duration": 19,
    "start_time": "2025-02-26T22:15:33.948Z"
   },
   {
    "duration": 79,
    "start_time": "2025-02-26T22:15:33.968Z"
   },
   {
    "duration": 82,
    "start_time": "2025-02-26T22:15:34.049Z"
   },
   {
    "duration": 9,
    "start_time": "2025-02-26T22:15:34.133Z"
   },
   {
    "duration": 27,
    "start_time": "2025-02-26T22:15:34.144Z"
   },
   {
    "duration": 91,
    "start_time": "2025-02-26T22:15:34.173Z"
   },
   {
    "duration": 68,
    "start_time": "2025-02-26T22:15:34.267Z"
   },
   {
    "duration": 17,
    "start_time": "2025-02-26T22:15:34.337Z"
   },
   {
    "duration": 3,
    "start_time": "2025-02-26T22:15:34.356Z"
   },
   {
    "duration": 7,
    "start_time": "2025-02-26T22:15:34.361Z"
   },
   {
    "duration": 69,
    "start_time": "2025-02-26T22:15:34.369Z"
   },
   {
    "duration": 9,
    "start_time": "2025-02-26T22:15:34.440Z"
   },
   {
    "duration": 806,
    "start_time": "2025-02-26T22:16:37.631Z"
   },
   {
    "duration": 2691,
    "start_time": "2025-02-26T22:16:38.439Z"
   },
   {
    "duration": 5,
    "start_time": "2025-02-26T22:16:41.131Z"
   },
   {
    "duration": 3,
    "start_time": "2025-02-26T22:16:41.138Z"
   },
   {
    "duration": 5,
    "start_time": "2025-02-26T22:16:41.143Z"
   },
   {
    "duration": 24,
    "start_time": "2025-02-26T22:16:41.150Z"
   },
   {
    "duration": 59,
    "start_time": "2025-02-26T22:16:41.176Z"
   },
   {
    "duration": 6,
    "start_time": "2025-02-26T22:16:41.237Z"
   },
   {
    "duration": 10,
    "start_time": "2025-02-26T22:16:41.245Z"
   },
   {
    "duration": 18,
    "start_time": "2025-02-26T22:16:41.332Z"
   },
   {
    "duration": 21,
    "start_time": "2025-02-26T22:16:41.351Z"
   },
   {
    "duration": 5,
    "start_time": "2025-02-26T22:16:41.432Z"
   },
   {
    "duration": 6,
    "start_time": "2025-02-26T22:16:41.439Z"
   },
   {
    "duration": 96,
    "start_time": "2025-02-26T22:16:41.447Z"
   },
   {
    "duration": 21,
    "start_time": "2025-02-26T22:16:41.545Z"
   },
   {
    "duration": 67,
    "start_time": "2025-02-26T22:16:41.568Z"
   },
   {
    "duration": 6,
    "start_time": "2025-02-26T22:16:41.637Z"
   },
   {
    "duration": 5,
    "start_time": "2025-02-26T22:16:41.647Z"
   },
   {
    "duration": 4,
    "start_time": "2025-02-26T22:16:41.731Z"
   },
   {
    "duration": 3,
    "start_time": "2025-02-26T22:16:41.738Z"
   },
   {
    "duration": 3,
    "start_time": "2025-02-26T22:16:41.743Z"
   },
   {
    "duration": 748,
    "start_time": "2025-02-26T22:28:54.680Z"
   },
   {
    "duration": 2987,
    "start_time": "2025-02-26T22:28:55.430Z"
   },
   {
    "duration": 5,
    "start_time": "2025-02-26T22:28:58.419Z"
   },
   {
    "duration": 3,
    "start_time": "2025-02-26T22:28:58.431Z"
   },
   {
    "duration": 5,
    "start_time": "2025-02-26T22:28:58.435Z"
   },
   {
    "duration": 20,
    "start_time": "2025-02-26T22:28:58.441Z"
   },
   {
    "duration": 71,
    "start_time": "2025-02-26T22:28:58.463Z"
   },
   {
    "duration": 8,
    "start_time": "2025-02-26T22:28:58.536Z"
   },
   {
    "duration": 85,
    "start_time": "2025-02-26T22:28:58.547Z"
   },
   {
    "duration": 21,
    "start_time": "2025-02-26T22:28:58.635Z"
   },
   {
    "duration": 77,
    "start_time": "2025-02-26T22:28:58.658Z"
   },
   {
    "duration": 6,
    "start_time": "2025-02-26T22:28:58.737Z"
   },
   {
    "duration": 6,
    "start_time": "2025-02-26T22:28:58.745Z"
   },
   {
    "duration": 88,
    "start_time": "2025-02-26T22:28:58.752Z"
   },
   {
    "duration": 21,
    "start_time": "2025-02-26T22:28:58.842Z"
   },
   {
    "duration": 67,
    "start_time": "2025-02-26T22:28:58.865Z"
   },
   {
    "duration": 11,
    "start_time": "2025-02-26T22:28:58.933Z"
   },
   {
    "duration": 4,
    "start_time": "2025-02-26T22:28:58.945Z"
   },
   {
    "duration": 4,
    "start_time": "2025-02-26T22:28:58.951Z"
   },
   {
    "duration": 3,
    "start_time": "2025-02-26T22:28:59.032Z"
   },
   {
    "duration": 4,
    "start_time": "2025-02-26T22:28:59.037Z"
   },
   {
    "duration": 3,
    "start_time": "2025-02-26T22:28:59.042Z"
   },
   {
    "duration": 12,
    "start_time": "2025-02-26T22:28:59.047Z"
   },
   {
    "duration": 9,
    "start_time": "2025-02-26T22:28:59.060Z"
   },
   {
    "duration": 9,
    "start_time": "2025-02-26T22:28:59.070Z"
   },
   {
    "duration": 3,
    "start_time": "2025-02-26T22:29:24.652Z"
   },
   {
    "duration": 12,
    "start_time": "2025-02-26T22:29:25.162Z"
   },
   {
    "duration": 714,
    "start_time": "2025-02-26T22:29:40.722Z"
   },
   {
    "duration": 2633,
    "start_time": "2025-02-26T22:29:41.439Z"
   },
   {
    "duration": 6,
    "start_time": "2025-02-26T22:29:44.074Z"
   },
   {
    "duration": 4,
    "start_time": "2025-02-26T22:29:44.082Z"
   },
   {
    "duration": 4,
    "start_time": "2025-02-26T22:29:44.089Z"
   },
   {
    "duration": 20,
    "start_time": "2025-02-26T22:29:44.095Z"
   },
   {
    "duration": 28,
    "start_time": "2025-02-26T22:29:44.132Z"
   },
   {
    "duration": 70,
    "start_time": "2025-02-26T22:29:44.162Z"
   },
   {
    "duration": 10,
    "start_time": "2025-02-26T22:29:44.234Z"
   },
   {
    "duration": 97,
    "start_time": "2025-02-26T22:29:44.246Z"
   },
   {
    "duration": 87,
    "start_time": "2025-02-26T22:29:44.344Z"
   },
   {
    "duration": 7,
    "start_time": "2025-02-26T22:29:44.433Z"
   },
   {
    "duration": 6,
    "start_time": "2025-02-26T22:29:44.444Z"
   },
   {
    "duration": 93,
    "start_time": "2025-02-26T22:29:44.454Z"
   },
   {
    "duration": 22,
    "start_time": "2025-02-26T22:29:44.549Z"
   },
   {
    "duration": 65,
    "start_time": "2025-02-26T22:29:44.572Z"
   },
   {
    "duration": 9,
    "start_time": "2025-02-26T22:29:44.640Z"
   },
   {
    "duration": 80,
    "start_time": "2025-02-26T22:29:44.652Z"
   },
   {
    "duration": 3,
    "start_time": "2025-02-26T22:29:44.734Z"
   },
   {
    "duration": 3,
    "start_time": "2025-02-26T22:29:44.740Z"
   },
   {
    "duration": 3,
    "start_time": "2025-02-26T22:29:44.745Z"
   },
   {
    "duration": 3,
    "start_time": "2025-02-26T22:29:44.749Z"
   },
   {
    "duration": 14,
    "start_time": "2025-02-26T22:29:44.754Z"
   },
   {
    "duration": 14,
    "start_time": "2025-02-26T22:29:44.769Z"
   },
   {
    "duration": 51,
    "start_time": "2025-02-26T22:29:44.785Z"
   },
   {
    "duration": 723,
    "start_time": "2025-02-26T22:43:50.119Z"
   },
   {
    "duration": 2678,
    "start_time": "2025-02-26T22:43:50.844Z"
   },
   {
    "duration": 4,
    "start_time": "2025-02-26T22:43:53.524Z"
   },
   {
    "duration": 4,
    "start_time": "2025-02-26T22:43:53.530Z"
   },
   {
    "duration": 4,
    "start_time": "2025-02-26T22:43:53.536Z"
   },
   {
    "duration": 20,
    "start_time": "2025-02-26T22:43:53.541Z"
   },
   {
    "duration": 77,
    "start_time": "2025-02-26T22:43:53.563Z"
   },
   {
    "duration": 6,
    "start_time": "2025-02-26T22:43:53.641Z"
   },
   {
    "duration": 87,
    "start_time": "2025-02-26T22:43:53.648Z"
   },
   {
    "duration": 19,
    "start_time": "2025-02-26T22:43:53.736Z"
   },
   {
    "duration": 79,
    "start_time": "2025-02-26T22:43:53.757Z"
   },
   {
    "duration": 6,
    "start_time": "2025-02-26T22:43:53.837Z"
   },
   {
    "duration": 6,
    "start_time": "2025-02-26T22:43:53.845Z"
   },
   {
    "duration": 93,
    "start_time": "2025-02-26T22:43:53.855Z"
   },
   {
    "duration": 22,
    "start_time": "2025-02-26T22:43:53.950Z"
   },
   {
    "duration": 6,
    "start_time": "2025-02-26T22:43:54.034Z"
   },
   {
    "duration": 7,
    "start_time": "2025-02-26T22:43:54.041Z"
   },
   {
    "duration": 4,
    "start_time": "2025-02-26T22:43:54.050Z"
   },
   {
    "duration": 3,
    "start_time": "2025-02-26T22:43:54.132Z"
   },
   {
    "duration": 3,
    "start_time": "2025-02-26T22:43:54.138Z"
   },
   {
    "duration": 3,
    "start_time": "2025-02-26T22:43:54.142Z"
   },
   {
    "duration": 4,
    "start_time": "2025-02-26T22:43:54.147Z"
   },
   {
    "duration": 13,
    "start_time": "2025-02-26T22:43:54.153Z"
   },
   {
    "duration": 10,
    "start_time": "2025-02-26T22:43:54.168Z"
   },
   {
    "duration": 10,
    "start_time": "2025-02-26T22:43:54.180Z"
   },
   {
    "duration": 3,
    "start_time": "2025-02-26T22:44:50.164Z"
   },
   {
    "duration": 10,
    "start_time": "2025-02-26T22:44:50.650Z"
   },
   {
    "duration": 3,
    "start_time": "2025-02-26T22:45:23.679Z"
   },
   {
    "duration": 10,
    "start_time": "2025-02-26T22:45:24.137Z"
   },
   {
    "duration": 755,
    "start_time": "2025-02-26T22:47:56.182Z"
   },
   {
    "duration": 2754,
    "start_time": "2025-02-26T22:47:56.939Z"
   },
   {
    "duration": 5,
    "start_time": "2025-02-26T22:47:59.695Z"
   },
   {
    "duration": 4,
    "start_time": "2025-02-26T22:47:59.702Z"
   },
   {
    "duration": 5,
    "start_time": "2025-02-26T22:47:59.708Z"
   },
   {
    "duration": 29,
    "start_time": "2025-02-26T22:47:59.714Z"
   },
   {
    "duration": 86,
    "start_time": "2025-02-26T22:47:59.745Z"
   },
   {
    "duration": 7,
    "start_time": "2025-02-26T22:47:59.833Z"
   },
   {
    "duration": 11,
    "start_time": "2025-02-26T22:47:59.841Z"
   },
   {
    "duration": 93,
    "start_time": "2025-02-26T22:47:59.855Z"
   },
   {
    "duration": 22,
    "start_time": "2025-02-26T22:47:59.949Z"
   },
   {
    "duration": 6,
    "start_time": "2025-02-26T22:48:00.031Z"
   },
   {
    "duration": 6,
    "start_time": "2025-02-26T22:48:00.039Z"
   },
   {
    "duration": 100,
    "start_time": "2025-02-26T22:48:00.046Z"
   },
   {
    "duration": 21,
    "start_time": "2025-02-26T22:48:00.148Z"
   },
   {
    "duration": 5,
    "start_time": "2025-02-26T22:48:00.231Z"
   },
   {
    "duration": 6,
    "start_time": "2025-02-26T22:48:00.238Z"
   },
   {
    "duration": 6,
    "start_time": "2025-02-26T22:48:00.247Z"
   },
   {
    "duration": 79,
    "start_time": "2025-02-26T22:48:00.255Z"
   },
   {
    "duration": 4,
    "start_time": "2025-02-26T22:48:00.336Z"
   },
   {
    "duration": 4,
    "start_time": "2025-02-26T22:48:00.341Z"
   },
   {
    "duration": 3,
    "start_time": "2025-02-26T22:48:00.346Z"
   },
   {
    "duration": 11,
    "start_time": "2025-02-26T22:48:00.351Z"
   },
   {
    "duration": 8,
    "start_time": "2025-02-26T22:48:00.364Z"
   },
   {
    "duration": 9,
    "start_time": "2025-02-26T22:48:00.373Z"
   },
   {
    "duration": 4,
    "start_time": "2025-02-26T22:54:06.613Z"
   },
   {
    "duration": 9,
    "start_time": "2025-02-26T22:54:07.111Z"
   },
   {
    "duration": 4,
    "start_time": "2025-02-26T22:55:06.946Z"
   },
   {
    "duration": 10,
    "start_time": "2025-02-26T22:55:07.356Z"
   },
   {
    "duration": 10,
    "start_time": "2025-02-26T22:55:07.913Z"
   },
   {
    "duration": 9,
    "start_time": "2025-02-26T22:55:08.279Z"
   },
   {
    "duration": 714,
    "start_time": "2025-02-27T01:46:13.797Z"
   },
   {
    "duration": 3111,
    "start_time": "2025-02-27T01:46:14.513Z"
   },
   {
    "duration": 5,
    "start_time": "2025-02-27T01:46:17.625Z"
   },
   {
    "duration": 3,
    "start_time": "2025-02-27T01:46:17.633Z"
   },
   {
    "duration": 5,
    "start_time": "2025-02-27T01:46:17.638Z"
   },
   {
    "duration": 22,
    "start_time": "2025-02-27T01:46:17.644Z"
   },
   {
    "duration": 57,
    "start_time": "2025-02-27T01:46:17.667Z"
   },
   {
    "duration": 6,
    "start_time": "2025-02-27T01:46:17.725Z"
   },
   {
    "duration": 87,
    "start_time": "2025-02-27T01:46:17.732Z"
   },
   {
    "duration": 18,
    "start_time": "2025-02-27T01:46:17.823Z"
   },
   {
    "duration": 80,
    "start_time": "2025-02-27T01:46:17.842Z"
   },
   {
    "duration": 5,
    "start_time": "2025-02-27T01:46:17.924Z"
   },
   {
    "duration": 82,
    "start_time": "2025-02-27T01:46:17.931Z"
   },
   {
    "duration": 29,
    "start_time": "2025-02-27T01:46:18.014Z"
   },
   {
    "duration": 71,
    "start_time": "2025-02-27T01:46:18.045Z"
   },
   {
    "duration": 6,
    "start_time": "2025-02-27T01:46:18.118Z"
   },
   {
    "duration": 6,
    "start_time": "2025-02-27T01:46:18.126Z"
   },
   {
    "duration": 4,
    "start_time": "2025-02-27T01:46:18.211Z"
   },
   {
    "duration": 4,
    "start_time": "2025-02-27T01:46:18.216Z"
   },
   {
    "duration": 3,
    "start_time": "2025-02-27T01:46:18.222Z"
   },
   {
    "duration": 4,
    "start_time": "2025-02-27T01:46:18.226Z"
   },
   {
    "duration": 4,
    "start_time": "2025-02-27T01:46:18.231Z"
   },
   {
    "duration": 4,
    "start_time": "2025-02-27T01:47:31.684Z"
   },
   {
    "duration": 768,
    "start_time": "2025-02-27T01:51:28.336Z"
   },
   {
    "duration": 2914,
    "start_time": "2025-02-27T01:51:29.106Z"
   },
   {
    "duration": 5,
    "start_time": "2025-02-27T01:51:32.022Z"
   },
   {
    "duration": 3,
    "start_time": "2025-02-27T01:51:32.029Z"
   },
   {
    "duration": 4,
    "start_time": "2025-02-27T01:51:32.034Z"
   },
   {
    "duration": 19,
    "start_time": "2025-02-27T01:51:32.040Z"
   },
   {
    "duration": 56,
    "start_time": "2025-02-27T01:51:32.061Z"
   },
   {
    "duration": 6,
    "start_time": "2025-02-27T01:51:32.119Z"
   },
   {
    "duration": 88,
    "start_time": "2025-02-27T01:51:32.127Z"
   },
   {
    "duration": 17,
    "start_time": "2025-02-27T01:51:32.219Z"
   },
   {
    "duration": 77,
    "start_time": "2025-02-27T01:51:32.238Z"
   },
   {
    "duration": 6,
    "start_time": "2025-02-27T01:51:32.317Z"
   },
   {
    "duration": 7,
    "start_time": "2025-02-27T01:51:32.325Z"
   },
   {
    "duration": 88,
    "start_time": "2025-02-27T01:51:32.333Z"
   },
   {
    "duration": 22,
    "start_time": "2025-02-27T01:51:32.422Z"
   },
   {
    "duration": 7,
    "start_time": "2025-02-27T01:51:32.511Z"
   },
   {
    "duration": 6,
    "start_time": "2025-02-27T01:51:32.520Z"
   },
   {
    "duration": 4,
    "start_time": "2025-02-27T01:51:32.528Z"
   },
   {
    "duration": 79,
    "start_time": "2025-02-27T01:51:32.534Z"
   },
   {
    "duration": 4,
    "start_time": "2025-02-27T01:51:32.614Z"
   },
   {
    "duration": 4,
    "start_time": "2025-02-27T01:51:32.619Z"
   },
   {
    "duration": 4,
    "start_time": "2025-02-27T01:51:32.624Z"
   },
   {
    "duration": 265,
    "start_time": "2025-02-27T01:51:32.629Z"
   },
   {
    "duration": 4,
    "start_time": "2025-02-27T01:52:34.884Z"
   },
   {
    "duration": 13,
    "start_time": "2025-02-27T01:52:35.376Z"
   },
   {
    "duration": 739,
    "start_time": "2025-02-27T01:52:42.378Z"
   },
   {
    "duration": 2991,
    "start_time": "2025-02-27T01:52:43.119Z"
   },
   {
    "duration": 5,
    "start_time": "2025-02-27T01:52:46.113Z"
   },
   {
    "duration": 3,
    "start_time": "2025-02-27T01:52:46.121Z"
   },
   {
    "duration": 5,
    "start_time": "2025-02-27T01:52:46.126Z"
   },
   {
    "duration": 27,
    "start_time": "2025-02-27T01:52:46.134Z"
   },
   {
    "duration": 64,
    "start_time": "2025-02-27T01:52:46.163Z"
   },
   {
    "duration": 7,
    "start_time": "2025-02-27T01:52:46.228Z"
   },
   {
    "duration": 87,
    "start_time": "2025-02-27T01:52:46.237Z"
   },
   {
    "duration": 22,
    "start_time": "2025-02-27T01:52:46.328Z"
   },
   {
    "duration": 73,
    "start_time": "2025-02-27T01:52:46.352Z"
   },
   {
    "duration": 6,
    "start_time": "2025-02-27T01:52:46.427Z"
   },
   {
    "duration": 82,
    "start_time": "2025-02-27T01:52:46.436Z"
   },
   {
    "duration": 19,
    "start_time": "2025-02-27T01:52:46.522Z"
   },
   {
    "duration": 75,
    "start_time": "2025-02-27T01:52:46.542Z"
   },
   {
    "duration": 5,
    "start_time": "2025-02-27T01:52:46.619Z"
   },
   {
    "duration": 6,
    "start_time": "2025-02-27T01:52:46.626Z"
   },
   {
    "duration": 79,
    "start_time": "2025-02-27T01:52:46.634Z"
   },
   {
    "duration": 4,
    "start_time": "2025-02-27T01:52:46.715Z"
   },
   {
    "duration": 4,
    "start_time": "2025-02-27T01:52:46.720Z"
   },
   {
    "duration": 3,
    "start_time": "2025-02-27T01:52:46.726Z"
   },
   {
    "duration": 5,
    "start_time": "2025-02-27T01:52:46.730Z"
   },
   {
    "duration": 246,
    "start_time": "2025-02-27T01:52:46.736Z"
   },
   {
    "duration": 26,
    "start_time": "2025-02-27T01:52:52.514Z"
   },
   {
    "duration": 4,
    "start_time": "2025-02-27T01:53:12.519Z"
   },
   {
    "duration": 36,
    "start_time": "2025-02-27T01:53:13.052Z"
   },
   {
    "duration": 752,
    "start_time": "2025-02-27T01:53:21.453Z"
   },
   {
    "duration": 2529,
    "start_time": "2025-02-27T01:53:22.207Z"
   },
   {
    "duration": 4,
    "start_time": "2025-02-27T01:53:24.738Z"
   },
   {
    "duration": 4,
    "start_time": "2025-02-27T01:53:24.745Z"
   },
   {
    "duration": 4,
    "start_time": "2025-02-27T01:53:24.750Z"
   },
   {
    "duration": 18,
    "start_time": "2025-02-27T01:53:24.756Z"
   },
   {
    "duration": 55,
    "start_time": "2025-02-27T01:53:24.776Z"
   },
   {
    "duration": 85,
    "start_time": "2025-02-27T01:53:24.833Z"
   },
   {
    "duration": 10,
    "start_time": "2025-02-27T01:53:24.926Z"
   },
   {
    "duration": 18,
    "start_time": "2025-02-27T01:53:24.939Z"
   },
   {
    "duration": 152,
    "start_time": "2025-02-27T01:53:24.959Z"
   },
   {
    "duration": 8,
    "start_time": "2025-02-27T01:53:25.113Z"
   },
   {
    "duration": 10,
    "start_time": "2025-02-27T01:53:25.123Z"
   },
   {
    "duration": 19,
    "start_time": "2025-02-27T01:53:25.134Z"
   },
   {
    "duration": 80,
    "start_time": "2025-02-27T01:53:25.155Z"
   },
   {
    "duration": 5,
    "start_time": "2025-02-27T01:53:25.237Z"
   },
   {
    "duration": 10,
    "start_time": "2025-02-27T01:53:25.315Z"
   },
   {
    "duration": 4,
    "start_time": "2025-02-27T01:53:25.330Z"
   },
   {
    "duration": 5,
    "start_time": "2025-02-27T01:53:25.335Z"
   },
   {
    "duration": 3,
    "start_time": "2025-02-27T01:53:25.342Z"
   },
   {
    "duration": 68,
    "start_time": "2025-02-27T01:53:25.346Z"
   },
   {
    "duration": 6,
    "start_time": "2025-02-27T01:53:25.416Z"
   },
   {
    "duration": 234,
    "start_time": "2025-02-27T01:53:25.424Z"
   },
   {
    "duration": 4,
    "start_time": "2025-02-27T01:53:44.118Z"
   },
   {
    "duration": 11,
    "start_time": "2025-02-27T01:53:44.702Z"
   },
   {
    "duration": 778,
    "start_time": "2025-02-27T01:53:51.931Z"
   },
   {
    "duration": 2651,
    "start_time": "2025-02-27T01:53:52.711Z"
   },
   {
    "duration": 5,
    "start_time": "2025-02-27T01:53:55.364Z"
   },
   {
    "duration": 4,
    "start_time": "2025-02-27T01:53:55.371Z"
   },
   {
    "duration": 5,
    "start_time": "2025-02-27T01:53:55.376Z"
   },
   {
    "duration": 35,
    "start_time": "2025-02-27T01:53:55.382Z"
   },
   {
    "duration": 24,
    "start_time": "2025-02-27T01:53:55.418Z"
   },
   {
    "duration": 71,
    "start_time": "2025-02-27T01:53:55.444Z"
   },
   {
    "duration": 10,
    "start_time": "2025-02-27T01:53:55.517Z"
   },
   {
    "duration": 89,
    "start_time": "2025-02-27T01:53:55.530Z"
   },
   {
    "duration": 21,
    "start_time": "2025-02-27T01:53:55.621Z"
   },
   {
    "duration": 71,
    "start_time": "2025-02-27T01:53:55.644Z"
   },
   {
    "duration": 6,
    "start_time": "2025-02-27T01:53:55.717Z"
   },
   {
    "duration": 93,
    "start_time": "2025-02-27T01:53:55.725Z"
   },
   {
    "duration": 22,
    "start_time": "2025-02-27T01:53:55.820Z"
   },
   {
    "duration": 73,
    "start_time": "2025-02-27T01:53:55.843Z"
   },
   {
    "duration": 7,
    "start_time": "2025-02-27T01:53:55.918Z"
   },
   {
    "duration": 4,
    "start_time": "2025-02-27T01:53:55.927Z"
   },
   {
    "duration": 80,
    "start_time": "2025-02-27T01:53:55.932Z"
   },
   {
    "duration": 3,
    "start_time": "2025-02-27T01:53:56.014Z"
   },
   {
    "duration": 3,
    "start_time": "2025-02-27T01:53:56.019Z"
   },
   {
    "duration": 4,
    "start_time": "2025-02-27T01:53:56.024Z"
   },
   {
    "duration": 10,
    "start_time": "2025-02-27T01:53:56.029Z"
   },
   {
    "duration": 4,
    "start_time": "2025-02-27T01:54:51.417Z"
   },
   {
    "duration": 7,
    "start_time": "2025-02-27T01:54:52.001Z"
   },
   {
    "duration": 6,
    "start_time": "2025-02-27T01:54:52.562Z"
   },
   {
    "duration": 5,
    "start_time": "2025-02-27T01:54:55.404Z"
   },
   {
    "duration": 160,
    "start_time": "2025-02-27T01:59:25.725Z"
   },
   {
    "duration": 776,
    "start_time": "2025-02-27T01:59:40.135Z"
   },
   {
    "duration": 3120,
    "start_time": "2025-02-27T01:59:40.914Z"
   },
   {
    "duration": 4,
    "start_time": "2025-02-27T01:59:44.036Z"
   },
   {
    "duration": 4,
    "start_time": "2025-02-27T01:59:44.042Z"
   },
   {
    "duration": 5,
    "start_time": "2025-02-27T01:59:44.049Z"
   },
   {
    "duration": 22,
    "start_time": "2025-02-27T01:59:44.056Z"
   },
   {
    "duration": 52,
    "start_time": "2025-02-27T01:59:44.080Z"
   },
   {
    "duration": 7,
    "start_time": "2025-02-27T01:59:44.134Z"
   },
   {
    "duration": 77,
    "start_time": "2025-02-27T01:59:44.143Z"
   },
   {
    "duration": 19,
    "start_time": "2025-02-27T01:59:44.222Z"
   },
   {
    "duration": 81,
    "start_time": "2025-02-27T01:59:44.243Z"
   },
   {
    "duration": 6,
    "start_time": "2025-02-27T01:59:44.326Z"
   },
   {
    "duration": 79,
    "start_time": "2025-02-27T01:59:44.334Z"
   },
   {
    "duration": 19,
    "start_time": "2025-02-27T01:59:44.417Z"
   },
   {
    "duration": 79,
    "start_time": "2025-02-27T01:59:44.437Z"
   },
   {
    "duration": 6,
    "start_time": "2025-02-27T01:59:44.517Z"
   },
   {
    "duration": 6,
    "start_time": "2025-02-27T01:59:44.524Z"
   },
   {
    "duration": 4,
    "start_time": "2025-02-27T01:59:44.532Z"
   },
   {
    "duration": 3,
    "start_time": "2025-02-27T01:59:44.613Z"
   },
   {
    "duration": 3,
    "start_time": "2025-02-27T01:59:44.618Z"
   },
   {
    "duration": 3,
    "start_time": "2025-02-27T01:59:44.623Z"
   },
   {
    "duration": 4,
    "start_time": "2025-02-27T01:59:44.628Z"
   },
   {
    "duration": 10,
    "start_time": "2025-02-27T01:59:44.633Z"
   },
   {
    "duration": 4,
    "start_time": "2025-02-27T01:59:44.644Z"
   },
   {
    "duration": 4,
    "start_time": "2025-02-27T01:59:44.650Z"
   },
   {
    "duration": 5,
    "start_time": "2025-02-27T01:59:44.656Z"
   },
   {
    "duration": 3,
    "start_time": "2025-02-27T02:00:59.116Z"
   },
   {
    "duration": 7,
    "start_time": "2025-02-27T02:01:09.132Z"
   },
   {
    "duration": 788,
    "start_time": "2025-02-27T02:05:48.137Z"
   },
   {
    "duration": 2762,
    "start_time": "2025-02-27T02:05:48.927Z"
   },
   {
    "duration": 4,
    "start_time": "2025-02-27T02:05:51.691Z"
   },
   {
    "duration": 4,
    "start_time": "2025-02-27T02:05:51.697Z"
   },
   {
    "duration": 9,
    "start_time": "2025-02-27T02:05:51.704Z"
   },
   {
    "duration": 23,
    "start_time": "2025-02-27T02:05:51.715Z"
   },
   {
    "duration": 76,
    "start_time": "2025-02-27T02:05:51.740Z"
   },
   {
    "duration": 9,
    "start_time": "2025-02-27T02:05:51.817Z"
   },
   {
    "duration": 85,
    "start_time": "2025-02-27T02:05:51.828Z"
   },
   {
    "duration": 20,
    "start_time": "2025-02-27T02:05:51.914Z"
   },
   {
    "duration": 23,
    "start_time": "2025-02-27T02:05:51.935Z"
   },
   {
    "duration": 57,
    "start_time": "2025-02-27T02:05:51.960Z"
   },
   {
    "duration": 8,
    "start_time": "2025-02-27T02:05:52.021Z"
   },
   {
    "duration": 93,
    "start_time": "2025-02-27T02:05:52.034Z"
   },
   {
    "duration": 83,
    "start_time": "2025-02-27T02:05:52.129Z"
   },
   {
    "duration": 6,
    "start_time": "2025-02-27T02:05:52.214Z"
   },
   {
    "duration": 6,
    "start_time": "2025-02-27T02:05:52.222Z"
   },
   {
    "duration": 80,
    "start_time": "2025-02-27T02:05:52.232Z"
   },
   {
    "duration": 4,
    "start_time": "2025-02-27T02:05:52.314Z"
   },
   {
    "duration": 3,
    "start_time": "2025-02-27T02:05:52.320Z"
   },
   {
    "duration": 3,
    "start_time": "2025-02-27T02:05:52.325Z"
   },
   {
    "duration": 3,
    "start_time": "2025-02-27T02:05:52.330Z"
   },
   {
    "duration": 247,
    "start_time": "2025-02-27T02:05:52.335Z"
   },
   {
    "duration": 0,
    "start_time": "2025-02-27T02:05:52.584Z"
   },
   {
    "duration": 0,
    "start_time": "2025-02-27T02:05:52.584Z"
   },
   {
    "duration": 0,
    "start_time": "2025-02-27T02:05:52.586Z"
   },
   {
    "duration": 3,
    "start_time": "2025-02-27T02:06:35.426Z"
   },
   {
    "duration": 11,
    "start_time": "2025-02-27T02:06:36.030Z"
   },
   {
    "duration": 5,
    "start_time": "2025-02-27T02:06:37.301Z"
   },
   {
    "duration": 4,
    "start_time": "2025-02-27T02:06:37.704Z"
   },
   {
    "duration": 8,
    "start_time": "2025-02-27T02:06:38.309Z"
   },
   {
    "duration": 766,
    "start_time": "2025-02-27T02:21:31.157Z"
   },
   {
    "duration": 2768,
    "start_time": "2025-02-27T02:21:31.925Z"
   },
   {
    "duration": 5,
    "start_time": "2025-02-27T02:21:34.695Z"
   },
   {
    "duration": 5,
    "start_time": "2025-02-27T02:21:34.711Z"
   },
   {
    "duration": 6,
    "start_time": "2025-02-27T02:21:34.721Z"
   },
   {
    "duration": 25,
    "start_time": "2025-02-27T02:21:34.728Z"
   },
   {
    "duration": 85,
    "start_time": "2025-02-27T02:21:34.754Z"
   },
   {
    "duration": 11,
    "start_time": "2025-02-27T02:21:34.920Z"
   },
   {
    "duration": 9,
    "start_time": "2025-02-27T02:21:34.933Z"
   },
   {
    "duration": 20,
    "start_time": "2025-02-27T02:21:34.943Z"
   },
   {
    "duration": 77,
    "start_time": "2025-02-27T02:21:34.965Z"
   },
   {
    "duration": 6,
    "start_time": "2025-02-27T02:21:35.112Z"
   },
   {
    "duration": 10,
    "start_time": "2025-02-27T02:21:35.119Z"
   },
   {
    "duration": 87,
    "start_time": "2025-02-27T02:21:35.134Z"
   },
   {
    "duration": 21,
    "start_time": "2025-02-27T02:21:35.223Z"
   },
   {
    "duration": 15,
    "start_time": "2025-02-27T02:21:35.312Z"
   },
   {
    "duration": 9,
    "start_time": "2025-02-27T02:21:35.329Z"
   },
   {
    "duration": 74,
    "start_time": "2025-02-27T02:21:35.340Z"
   },
   {
    "duration": 4,
    "start_time": "2025-02-27T02:21:35.416Z"
   },
   {
    "duration": 232,
    "start_time": "2025-02-27T02:21:35.423Z"
   },
   {
    "duration": 0,
    "start_time": "2025-02-27T02:21:35.656Z"
   },
   {
    "duration": 0,
    "start_time": "2025-02-27T02:21:35.657Z"
   },
   {
    "duration": 0,
    "start_time": "2025-02-27T02:21:35.658Z"
   },
   {
    "duration": 0,
    "start_time": "2025-02-27T02:21:35.659Z"
   },
   {
    "duration": 3,
    "start_time": "2025-02-27T02:22:04.042Z"
   },
   {
    "duration": 4,
    "start_time": "2025-02-27T02:22:04.977Z"
   },
   {
    "duration": 4,
    "start_time": "2025-02-27T02:22:06.075Z"
   },
   {
    "duration": 789,
    "start_time": "2025-02-27T02:22:38.820Z"
   },
   {
    "duration": 2675,
    "start_time": "2025-02-27T02:22:39.612Z"
   },
   {
    "duration": 4,
    "start_time": "2025-02-27T02:22:42.289Z"
   },
   {
    "duration": 5,
    "start_time": "2025-02-27T02:22:42.295Z"
   },
   {
    "duration": 12,
    "start_time": "2025-02-27T02:22:42.303Z"
   },
   {
    "duration": 25,
    "start_time": "2025-02-27T02:22:42.318Z"
   },
   {
    "duration": 72,
    "start_time": "2025-02-27T02:22:42.346Z"
   },
   {
    "duration": 6,
    "start_time": "2025-02-27T02:22:42.420Z"
   },
   {
    "duration": 87,
    "start_time": "2025-02-27T02:22:42.429Z"
   },
   {
    "duration": 19,
    "start_time": "2025-02-27T02:22:42.517Z"
   },
   {
    "duration": 77,
    "start_time": "2025-02-27T02:22:42.538Z"
   },
   {
    "duration": 7,
    "start_time": "2025-02-27T02:22:42.617Z"
   },
   {
    "duration": 7,
    "start_time": "2025-02-27T02:22:42.625Z"
   },
   {
    "duration": 89,
    "start_time": "2025-02-27T02:22:42.635Z"
   },
   {
    "duration": 22,
    "start_time": "2025-02-27T02:22:42.726Z"
   },
   {
    "duration": 6,
    "start_time": "2025-02-27T02:22:42.814Z"
   },
   {
    "duration": 7,
    "start_time": "2025-02-27T02:22:42.822Z"
   },
   {
    "duration": 2,
    "start_time": "2025-02-27T02:22:42.831Z"
   },
   {
    "duration": 79,
    "start_time": "2025-02-27T02:22:42.835Z"
   },
   {
    "duration": 4,
    "start_time": "2025-02-27T02:22:42.916Z"
   },
   {
    "duration": 3,
    "start_time": "2025-02-27T02:22:42.921Z"
   },
   {
    "duration": 4,
    "start_time": "2025-02-27T02:22:42.926Z"
   },
   {
    "duration": 4,
    "start_time": "2025-02-27T02:22:42.931Z"
   },
   {
    "duration": 9,
    "start_time": "2025-02-27T02:22:42.936Z"
   },
   {
    "duration": 12,
    "start_time": "2025-02-27T02:23:36.066Z"
   },
   {
    "duration": 719,
    "start_time": "2025-02-27T07:26:28.213Z"
   },
   {
    "duration": 2638,
    "start_time": "2025-02-27T07:26:28.934Z"
   },
   {
    "duration": 6,
    "start_time": "2025-02-27T07:26:31.574Z"
   },
   {
    "duration": 4,
    "start_time": "2025-02-27T07:26:31.581Z"
   },
   {
    "duration": 5,
    "start_time": "2025-02-27T07:26:31.588Z"
   },
   {
    "duration": 19,
    "start_time": "2025-02-27T07:26:31.594Z"
   },
   {
    "duration": 37,
    "start_time": "2025-02-27T07:26:31.615Z"
   },
   {
    "duration": 77,
    "start_time": "2025-02-27T07:26:31.654Z"
   },
   {
    "duration": 11,
    "start_time": "2025-02-27T07:26:31.735Z"
   },
   {
    "duration": 18,
    "start_time": "2025-02-27T07:26:31.750Z"
   },
   {
    "duration": 83,
    "start_time": "2025-02-27T07:26:31.770Z"
   },
   {
    "duration": 77,
    "start_time": "2025-02-27T07:26:31.854Z"
   },
   {
    "duration": 9,
    "start_time": "2025-02-27T07:26:31.933Z"
   },
   {
    "duration": 83,
    "start_time": "2025-02-27T07:26:31.948Z"
   },
   {
    "duration": 24,
    "start_time": "2025-02-27T07:26:32.033Z"
   },
   {
    "duration": 74,
    "start_time": "2025-02-27T07:26:32.059Z"
   },
   {
    "duration": 8,
    "start_time": "2025-02-27T07:26:32.134Z"
   },
   {
    "duration": 4,
    "start_time": "2025-02-27T07:26:32.145Z"
   },
   {
    "duration": 3,
    "start_time": "2025-02-27T07:26:32.153Z"
   },
   {
    "duration": 74,
    "start_time": "2025-02-27T07:26:32.157Z"
   },
   {
    "duration": 3,
    "start_time": "2025-02-27T07:26:32.233Z"
   },
   {
    "duration": 5,
    "start_time": "2025-02-27T07:26:32.237Z"
   },
   {
    "duration": 4,
    "start_time": "2025-02-27T07:26:32.243Z"
   },
   {
    "duration": 13,
    "start_time": "2025-02-27T07:26:32.248Z"
   },
   {
    "duration": 2,
    "start_time": "2025-02-27T07:26:32.263Z"
   },
   {
    "duration": 235,
    "start_time": "2025-02-27T07:26:32.268Z"
   },
   {
    "duration": 8,
    "start_time": "2025-02-27T07:27:39.723Z"
   },
   {
    "duration": 2,
    "start_time": "2025-02-27T07:27:41.975Z"
   },
   {
    "duration": 14,
    "start_time": "2025-02-27T07:27:42.693Z"
   },
   {
    "duration": 771,
    "start_time": "2025-02-27T07:27:55.972Z"
   },
   {
    "duration": 2568,
    "start_time": "2025-02-27T07:27:56.745Z"
   },
   {
    "duration": 5,
    "start_time": "2025-02-27T07:27:59.315Z"
   },
   {
    "duration": 4,
    "start_time": "2025-02-27T07:27:59.330Z"
   },
   {
    "duration": 5,
    "start_time": "2025-02-27T07:27:59.336Z"
   },
   {
    "duration": 19,
    "start_time": "2025-02-27T07:27:59.343Z"
   },
   {
    "duration": 69,
    "start_time": "2025-02-27T07:27:59.365Z"
   },
   {
    "duration": 5,
    "start_time": "2025-02-27T07:27:59.436Z"
   },
   {
    "duration": 11,
    "start_time": "2025-02-27T07:27:59.443Z"
   },
   {
    "duration": 92,
    "start_time": "2025-02-27T07:27:59.457Z"
   },
   {
    "duration": 86,
    "start_time": "2025-02-27T07:27:59.550Z"
   },
   {
    "duration": 6,
    "start_time": "2025-02-27T07:27:59.638Z"
   },
   {
    "duration": 7,
    "start_time": "2025-02-27T07:27:59.645Z"
   },
   {
    "duration": 95,
    "start_time": "2025-02-27T07:27:59.654Z"
   },
   {
    "duration": 80,
    "start_time": "2025-02-27T07:27:59.751Z"
   },
   {
    "duration": 7,
    "start_time": "2025-02-27T07:27:59.833Z"
   },
   {
    "duration": 8,
    "start_time": "2025-02-27T07:27:59.841Z"
   },
   {
    "duration": 78,
    "start_time": "2025-02-27T07:27:59.853Z"
   },
   {
    "duration": 3,
    "start_time": "2025-02-27T07:27:59.933Z"
   },
   {
    "duration": 4,
    "start_time": "2025-02-27T07:27:59.937Z"
   },
   {
    "duration": 3,
    "start_time": "2025-02-27T07:27:59.943Z"
   },
   {
    "duration": 3,
    "start_time": "2025-02-27T07:27:59.948Z"
   },
   {
    "duration": 4,
    "start_time": "2025-02-27T07:27:59.953Z"
   },
   {
    "duration": 10,
    "start_time": "2025-02-27T07:27:59.958Z"
   },
   {
    "duration": 2,
    "start_time": "2025-02-27T07:27:59.969Z"
   },
   {
    "duration": 7,
    "start_time": "2025-02-27T07:27:59.973Z"
   },
   {
    "duration": 4,
    "start_time": "2025-02-27T07:30:43.742Z"
   },
   {
    "duration": 787,
    "start_time": "2025-02-27T07:30:50.147Z"
   },
   {
    "duration": 2849,
    "start_time": "2025-02-27T07:30:50.936Z"
   },
   {
    "duration": 4,
    "start_time": "2025-02-27T07:30:53.787Z"
   },
   {
    "duration": 4,
    "start_time": "2025-02-27T07:30:53.793Z"
   },
   {
    "duration": 4,
    "start_time": "2025-02-27T07:30:53.800Z"
   },
   {
    "duration": 27,
    "start_time": "2025-02-27T07:30:53.807Z"
   },
   {
    "duration": 24,
    "start_time": "2025-02-27T07:30:53.837Z"
   },
   {
    "duration": 70,
    "start_time": "2025-02-27T07:30:53.863Z"
   },
   {
    "duration": 12,
    "start_time": "2025-02-27T07:30:53.935Z"
   },
   {
    "duration": 96,
    "start_time": "2025-02-27T07:30:53.949Z"
   },
   {
    "duration": 85,
    "start_time": "2025-02-27T07:30:54.046Z"
   },
   {
    "duration": 7,
    "start_time": "2025-02-27T07:30:54.139Z"
   },
   {
    "duration": 81,
    "start_time": "2025-02-27T07:30:54.150Z"
   },
   {
    "duration": 17,
    "start_time": "2025-02-27T07:30:54.236Z"
   },
   {
    "duration": 76,
    "start_time": "2025-02-27T07:30:54.255Z"
   },
   {
    "duration": 7,
    "start_time": "2025-02-27T07:30:54.333Z"
   },
   {
    "duration": 7,
    "start_time": "2025-02-27T07:30:54.341Z"
   },
   {
    "duration": 3,
    "start_time": "2025-02-27T07:30:54.350Z"
   },
   {
    "duration": 77,
    "start_time": "2025-02-27T07:30:54.355Z"
   },
   {
    "duration": 4,
    "start_time": "2025-02-27T07:30:54.434Z"
   },
   {
    "duration": 3,
    "start_time": "2025-02-27T07:30:54.439Z"
   },
   {
    "duration": 4,
    "start_time": "2025-02-27T07:30:54.443Z"
   },
   {
    "duration": 4,
    "start_time": "2025-02-27T07:30:54.449Z"
   },
   {
    "duration": 19,
    "start_time": "2025-02-27T07:30:54.454Z"
   },
   {
    "duration": 4,
    "start_time": "2025-02-27T07:30:54.475Z"
   },
   {
    "duration": 3,
    "start_time": "2025-02-27T07:30:54.480Z"
   },
   {
    "duration": 5,
    "start_time": "2025-02-27T07:30:54.485Z"
   },
   {
    "duration": 729,
    "start_time": "2025-02-27T07:32:13.706Z"
   },
   {
    "duration": 2713,
    "start_time": "2025-02-27T07:32:14.437Z"
   },
   {
    "duration": 4,
    "start_time": "2025-02-27T07:32:17.152Z"
   },
   {
    "duration": 4,
    "start_time": "2025-02-27T07:32:17.158Z"
   },
   {
    "duration": 5,
    "start_time": "2025-02-27T07:32:17.164Z"
   },
   {
    "duration": 19,
    "start_time": "2025-02-27T07:32:17.170Z"
   },
   {
    "duration": 52,
    "start_time": "2025-02-27T07:32:17.191Z"
   },
   {
    "duration": 6,
    "start_time": "2025-02-27T07:32:17.245Z"
   },
   {
    "duration": 81,
    "start_time": "2025-02-27T07:32:17.252Z"
   },
   {
    "duration": 18,
    "start_time": "2025-02-27T07:32:17.338Z"
   },
   {
    "duration": 79,
    "start_time": "2025-02-27T07:32:17.358Z"
   },
   {
    "duration": 9,
    "start_time": "2025-02-27T07:32:17.438Z"
   },
   {
    "duration": 9,
    "start_time": "2025-02-27T07:32:17.449Z"
   },
   {
    "duration": 86,
    "start_time": "2025-02-27T07:32:17.460Z"
   },
   {
    "duration": 83,
    "start_time": "2025-02-27T07:32:17.548Z"
   },
   {
    "duration": 7,
    "start_time": "2025-02-27T07:32:17.635Z"
   },
   {
    "duration": 10,
    "start_time": "2025-02-27T07:32:17.646Z"
   },
   {
    "duration": 4,
    "start_time": "2025-02-27T07:32:17.732Z"
   },
   {
    "duration": 4,
    "start_time": "2025-02-27T07:32:17.738Z"
   },
   {
    "duration": 3,
    "start_time": "2025-02-27T07:32:17.744Z"
   },
   {
    "duration": 3,
    "start_time": "2025-02-27T07:32:17.749Z"
   },
   {
    "duration": 4,
    "start_time": "2025-02-27T07:32:17.754Z"
   },
   {
    "duration": 4,
    "start_time": "2025-02-27T07:32:17.759Z"
   },
   {
    "duration": 261,
    "start_time": "2025-02-27T07:32:17.765Z"
   },
   {
    "duration": 0,
    "start_time": "2025-02-27T07:32:18.028Z"
   },
   {
    "duration": 0,
    "start_time": "2025-02-27T07:32:18.031Z"
   },
   {
    "duration": 3,
    "start_time": "2025-02-27T07:32:33.477Z"
   },
   {
    "duration": 7,
    "start_time": "2025-02-27T07:32:34.312Z"
   },
   {
    "duration": 4,
    "start_time": "2025-02-27T07:32:35.519Z"
   },
   {
    "duration": 7,
    "start_time": "2025-02-27T07:32:35.994Z"
   },
   {
    "duration": 742,
    "start_time": "2025-02-27T07:33:35.490Z"
   },
   {
    "duration": 2605,
    "start_time": "2025-02-27T07:33:36.234Z"
   },
   {
    "duration": 5,
    "start_time": "2025-02-27T07:33:38.841Z"
   },
   {
    "duration": 4,
    "start_time": "2025-02-27T07:33:38.847Z"
   },
   {
    "duration": 5,
    "start_time": "2025-02-27T07:33:38.853Z"
   },
   {
    "duration": 20,
    "start_time": "2025-02-27T07:33:38.859Z"
   },
   {
    "duration": 56,
    "start_time": "2025-02-27T07:33:38.880Z"
   },
   {
    "duration": 5,
    "start_time": "2025-02-27T07:33:38.938Z"
   },
   {
    "duration": 10,
    "start_time": "2025-02-27T07:33:38.944Z"
   },
   {
    "duration": 18,
    "start_time": "2025-02-27T07:33:39.032Z"
   },
   {
    "duration": 79,
    "start_time": "2025-02-27T07:33:39.052Z"
   },
   {
    "duration": 5,
    "start_time": "2025-02-27T07:33:39.133Z"
   },
   {
    "duration": 6,
    "start_time": "2025-02-27T07:33:39.140Z"
   },
   {
    "duration": 95,
    "start_time": "2025-02-27T07:33:39.149Z"
   },
   {
    "duration": 21,
    "start_time": "2025-02-27T07:33:39.246Z"
   },
   {
    "duration": 68,
    "start_time": "2025-02-27T07:33:39.269Z"
   },
   {
    "duration": 9,
    "start_time": "2025-02-27T07:33:39.341Z"
   },
   {
    "duration": 77,
    "start_time": "2025-02-27T07:33:39.354Z"
   },
   {
    "duration": 3,
    "start_time": "2025-02-27T07:33:39.433Z"
   },
   {
    "duration": 4,
    "start_time": "2025-02-27T07:33:39.438Z"
   },
   {
    "duration": 3,
    "start_time": "2025-02-27T07:33:39.444Z"
   },
   {
    "duration": 4,
    "start_time": "2025-02-27T07:33:39.449Z"
   },
   {
    "duration": 3,
    "start_time": "2025-02-27T07:33:39.455Z"
   },
   {
    "duration": 8,
    "start_time": "2025-02-27T07:33:39.460Z"
   },
   {
    "duration": 2,
    "start_time": "2025-02-27T07:33:39.470Z"
   },
   {
    "duration": 252,
    "start_time": "2025-02-27T07:33:39.474Z"
   },
   {
    "duration": 3,
    "start_time": "2025-02-27T07:34:06.374Z"
   },
   {
    "duration": 5,
    "start_time": "2025-02-27T07:34:07.150Z"
   },
   {
    "duration": 12,
    "start_time": "2025-02-27T07:34:50.250Z"
   },
   {
    "duration": 741,
    "start_time": "2025-02-27T07:34:55.191Z"
   },
   {
    "duration": 2676,
    "start_time": "2025-02-27T07:34:55.934Z"
   },
   {
    "duration": 4,
    "start_time": "2025-02-27T07:34:58.612Z"
   },
   {
    "duration": 3,
    "start_time": "2025-02-27T07:34:58.619Z"
   },
   {
    "duration": 5,
    "start_time": "2025-02-27T07:34:58.631Z"
   },
   {
    "duration": 19,
    "start_time": "2025-02-27T07:34:58.638Z"
   },
   {
    "duration": 79,
    "start_time": "2025-02-27T07:34:58.659Z"
   },
   {
    "duration": 5,
    "start_time": "2025-02-27T07:34:58.740Z"
   },
   {
    "duration": 86,
    "start_time": "2025-02-27T07:34:58.746Z"
   },
   {
    "duration": 20,
    "start_time": "2025-02-27T07:34:58.835Z"
   },
   {
    "duration": 19,
    "start_time": "2025-02-27T07:34:58.856Z"
   },
   {
    "duration": 58,
    "start_time": "2025-02-27T07:34:58.878Z"
   },
   {
    "duration": 7,
    "start_time": "2025-02-27T07:34:58.937Z"
   },
   {
    "duration": 97,
    "start_time": "2025-02-27T07:34:58.946Z"
   },
   {
    "duration": 18,
    "start_time": "2025-02-27T07:34:59.045Z"
   },
   {
    "duration": 5,
    "start_time": "2025-02-27T07:34:59.065Z"
   },
   {
    "duration": 62,
    "start_time": "2025-02-27T07:34:59.071Z"
   },
   {
    "duration": 2,
    "start_time": "2025-02-27T07:34:59.135Z"
   },
   {
    "duration": 4,
    "start_time": "2025-02-27T07:34:59.139Z"
   },
   {
    "duration": 4,
    "start_time": "2025-02-27T07:34:59.144Z"
   },
   {
    "duration": 4,
    "start_time": "2025-02-27T07:34:59.153Z"
   },
   {
    "duration": 3,
    "start_time": "2025-02-27T07:34:59.231Z"
   },
   {
    "duration": 4,
    "start_time": "2025-02-27T07:34:59.235Z"
   },
   {
    "duration": 220,
    "start_time": "2025-02-27T07:34:59.240Z"
   },
   {
    "duration": 0,
    "start_time": "2025-02-27T07:34:59.461Z"
   },
   {
    "duration": 0,
    "start_time": "2025-02-27T07:34:59.462Z"
   },
   {
    "duration": 0,
    "start_time": "2025-02-27T07:34:59.464Z"
   },
   {
    "duration": 13,
    "start_time": "2025-02-27T07:35:25.094Z"
   },
   {
    "duration": 732,
    "start_time": "2025-02-27T07:35:31.304Z"
   },
   {
    "duration": 3203,
    "start_time": "2025-02-27T07:35:32.038Z"
   },
   {
    "duration": 4,
    "start_time": "2025-02-27T07:35:35.244Z"
   },
   {
    "duration": 4,
    "start_time": "2025-02-27T07:35:35.250Z"
   },
   {
    "duration": 4,
    "start_time": "2025-02-27T07:35:35.257Z"
   },
   {
    "duration": 23,
    "start_time": "2025-02-27T07:35:35.262Z"
   },
   {
    "duration": 57,
    "start_time": "2025-02-27T07:35:35.287Z"
   },
   {
    "duration": 6,
    "start_time": "2025-02-27T07:35:35.346Z"
   },
   {
    "duration": 87,
    "start_time": "2025-02-27T07:35:35.353Z"
   },
   {
    "duration": 18,
    "start_time": "2025-02-27T07:35:35.441Z"
   },
   {
    "duration": 77,
    "start_time": "2025-02-27T07:35:35.460Z"
   },
   {
    "duration": 6,
    "start_time": "2025-02-27T07:35:35.538Z"
   },
   {
    "duration": 6,
    "start_time": "2025-02-27T07:35:35.546Z"
   },
   {
    "duration": 95,
    "start_time": "2025-02-27T07:35:35.555Z"
   },
   {
    "duration": 80,
    "start_time": "2025-02-27T07:35:35.651Z"
   },
   {
    "duration": 6,
    "start_time": "2025-02-27T07:35:35.733Z"
   },
   {
    "duration": 8,
    "start_time": "2025-02-27T07:35:35.741Z"
   },
   {
    "duration": 5,
    "start_time": "2025-02-27T07:35:35.750Z"
   },
   {
    "duration": 77,
    "start_time": "2025-02-27T07:35:35.756Z"
   },
   {
    "duration": 5,
    "start_time": "2025-02-27T07:35:35.834Z"
   },
   {
    "duration": 3,
    "start_time": "2025-02-27T07:35:35.840Z"
   },
   {
    "duration": 4,
    "start_time": "2025-02-27T07:35:35.845Z"
   },
   {
    "duration": 4,
    "start_time": "2025-02-27T07:35:35.850Z"
   },
   {
    "duration": 7,
    "start_time": "2025-02-27T07:35:35.856Z"
   },
   {
    "duration": 3,
    "start_time": "2025-02-27T07:35:35.864Z"
   },
   {
    "duration": 3,
    "start_time": "2025-02-27T07:35:35.869Z"
   },
   {
    "duration": 6,
    "start_time": "2025-02-27T07:35:35.873Z"
   },
   {
    "duration": 814,
    "start_time": "2025-02-27T08:09:49.003Z"
   },
   {
    "duration": 3033,
    "start_time": "2025-02-27T08:09:49.820Z"
   },
   {
    "duration": 4,
    "start_time": "2025-02-27T08:09:52.855Z"
   },
   {
    "duration": 3,
    "start_time": "2025-02-27T08:09:52.862Z"
   },
   {
    "duration": 4,
    "start_time": "2025-02-27T08:09:52.867Z"
   },
   {
    "duration": 19,
    "start_time": "2025-02-27T08:09:52.873Z"
   },
   {
    "duration": 50,
    "start_time": "2025-02-27T08:09:52.894Z"
   },
   {
    "duration": 6,
    "start_time": "2025-02-27T08:09:52.946Z"
   },
   {
    "duration": 82,
    "start_time": "2025-02-27T08:09:52.953Z"
   },
   {
    "duration": 18,
    "start_time": "2025-02-27T08:09:53.039Z"
   },
   {
    "duration": 78,
    "start_time": "2025-02-27T08:09:53.058Z"
   },
   {
    "duration": 5,
    "start_time": "2025-02-27T08:09:53.138Z"
   },
   {
    "duration": 6,
    "start_time": "2025-02-27T08:09:53.145Z"
   },
   {
    "duration": 94,
    "start_time": "2025-02-27T08:09:53.152Z"
   },
   {
    "duration": 20,
    "start_time": "2025-02-27T08:09:53.247Z"
   },
   {
    "duration": 5,
    "start_time": "2025-02-27T08:09:53.268Z"
   },
   {
    "duration": 62,
    "start_time": "2025-02-27T08:09:53.275Z"
   },
   {
    "duration": 3,
    "start_time": "2025-02-27T08:09:53.339Z"
   },
   {
    "duration": 3,
    "start_time": "2025-02-27T08:09:53.344Z"
   },
   {
    "duration": 4,
    "start_time": "2025-02-27T08:09:53.349Z"
   },
   {
    "duration": 77,
    "start_time": "2025-02-27T08:09:53.355Z"
   },
   {
    "duration": 5,
    "start_time": "2025-02-27T08:09:53.434Z"
   },
   {
    "duration": 4,
    "start_time": "2025-02-27T08:09:53.440Z"
   },
   {
    "duration": 9,
    "start_time": "2025-02-27T08:09:53.445Z"
   },
   {
    "duration": 3,
    "start_time": "2025-02-27T08:09:53.455Z"
   },
   {
    "duration": 3,
    "start_time": "2025-02-27T08:09:53.459Z"
   },
   {
    "duration": 4,
    "start_time": "2025-02-27T08:09:53.464Z"
   },
   {
    "duration": 585,
    "start_time": "2025-02-27T08:09:53.472Z"
   },
   {
    "duration": 744,
    "start_time": "2025-02-27T08:15:14.929Z"
   },
   {
    "duration": 2750,
    "start_time": "2025-02-27T08:15:15.675Z"
   },
   {
    "duration": 5,
    "start_time": "2025-02-27T08:15:18.426Z"
   },
   {
    "duration": 4,
    "start_time": "2025-02-27T08:15:18.433Z"
   },
   {
    "duration": 5,
    "start_time": "2025-02-27T08:15:18.438Z"
   },
   {
    "duration": 19,
    "start_time": "2025-02-27T08:15:18.445Z"
   },
   {
    "duration": 74,
    "start_time": "2025-02-27T08:15:18.466Z"
   },
   {
    "duration": 6,
    "start_time": "2025-02-27T08:15:18.542Z"
   },
   {
    "duration": 86,
    "start_time": "2025-02-27T08:15:18.550Z"
   },
   {
    "duration": 18,
    "start_time": "2025-02-27T08:15:18.640Z"
   },
   {
    "duration": 75,
    "start_time": "2025-02-27T08:15:18.660Z"
   },
   {
    "duration": 6,
    "start_time": "2025-02-27T08:15:18.737Z"
   },
   {
    "duration": 7,
    "start_time": "2025-02-27T08:15:18.745Z"
   },
   {
    "duration": 92,
    "start_time": "2025-02-27T08:15:18.754Z"
   },
   {
    "duration": 21,
    "start_time": "2025-02-27T08:15:18.848Z"
   },
   {
    "duration": 6,
    "start_time": "2025-02-27T08:15:18.930Z"
   },
   {
    "duration": 6,
    "start_time": "2025-02-27T08:15:18.938Z"
   },
   {
    "duration": 5,
    "start_time": "2025-02-27T08:15:18.946Z"
   },
   {
    "duration": 4,
    "start_time": "2025-02-27T08:15:18.952Z"
   },
   {
    "duration": 3,
    "start_time": "2025-02-27T08:15:19.032Z"
   },
   {
    "duration": 3,
    "start_time": "2025-02-27T08:15:19.037Z"
   },
   {
    "duration": 5,
    "start_time": "2025-02-27T08:15:19.041Z"
   },
   {
    "duration": 4,
    "start_time": "2025-02-27T08:15:19.047Z"
   },
   {
    "duration": 9,
    "start_time": "2025-02-27T08:15:19.052Z"
   },
   {
    "duration": 3,
    "start_time": "2025-02-27T08:15:19.063Z"
   },
   {
    "duration": 2,
    "start_time": "2025-02-27T08:15:19.068Z"
   },
   {
    "duration": 5,
    "start_time": "2025-02-27T08:15:19.072Z"
   },
   {
    "duration": 165,
    "start_time": "2025-02-27T08:15:19.080Z"
   },
   {
    "duration": 550,
    "start_time": "2025-02-27T08:15:39.735Z"
   },
   {
    "duration": 493,
    "start_time": "2025-02-27T08:16:36.096Z"
   },
   {
    "duration": 785,
    "start_time": "2025-02-27T08:20:40.349Z"
   },
   {
    "duration": 2576,
    "start_time": "2025-02-27T08:20:41.137Z"
   },
   {
    "duration": 5,
    "start_time": "2025-02-27T08:20:43.715Z"
   },
   {
    "duration": 3,
    "start_time": "2025-02-27T08:20:43.722Z"
   },
   {
    "duration": 4,
    "start_time": "2025-02-27T08:20:43.730Z"
   },
   {
    "duration": 19,
    "start_time": "2025-02-27T08:20:43.736Z"
   },
   {
    "duration": 79,
    "start_time": "2025-02-27T08:20:43.756Z"
   },
   {
    "duration": 6,
    "start_time": "2025-02-27T08:20:43.836Z"
   },
   {
    "duration": 10,
    "start_time": "2025-02-27T08:20:43.843Z"
   },
   {
    "duration": 92,
    "start_time": "2025-02-27T08:20:43.856Z"
   },
   {
    "duration": 21,
    "start_time": "2025-02-27T08:20:43.949Z"
   },
   {
    "duration": 62,
    "start_time": "2025-02-27T08:20:43.972Z"
   },
   {
    "duration": 6,
    "start_time": "2025-02-27T08:20:44.036Z"
   },
   {
    "duration": 102,
    "start_time": "2025-02-27T08:20:44.045Z"
   },
   {
    "duration": 21,
    "start_time": "2025-02-27T08:20:44.148Z"
   },
   {
    "duration": 65,
    "start_time": "2025-02-27T08:20:44.170Z"
   },
   {
    "duration": 6,
    "start_time": "2025-02-27T08:20:44.236Z"
   },
   {
    "duration": 3,
    "start_time": "2025-02-27T08:20:44.244Z"
   },
   {
    "duration": 3,
    "start_time": "2025-02-27T08:20:44.249Z"
   },
   {
    "duration": 78,
    "start_time": "2025-02-27T08:20:44.254Z"
   },
   {
    "duration": 3,
    "start_time": "2025-02-27T08:20:44.333Z"
   },
   {
    "duration": 3,
    "start_time": "2025-02-27T08:20:44.338Z"
   },
   {
    "duration": 2,
    "start_time": "2025-02-27T08:20:44.344Z"
   },
   {
    "duration": 8,
    "start_time": "2025-02-27T08:20:44.348Z"
   },
   {
    "duration": 3,
    "start_time": "2025-02-27T08:20:44.357Z"
   },
   {
    "duration": 2,
    "start_time": "2025-02-27T08:20:44.362Z"
   },
   {
    "duration": 4,
    "start_time": "2025-02-27T08:20:44.366Z"
   },
   {
    "duration": 565,
    "start_time": "2025-02-27T08:20:44.373Z"
   },
   {
    "duration": 744,
    "start_time": "2025-02-27T08:24:41.503Z"
   },
   {
    "duration": 2887,
    "start_time": "2025-02-27T08:24:42.249Z"
   },
   {
    "duration": 5,
    "start_time": "2025-02-27T08:24:45.138Z"
   },
   {
    "duration": 4,
    "start_time": "2025-02-27T08:24:45.145Z"
   },
   {
    "duration": 7,
    "start_time": "2025-02-27T08:24:45.150Z"
   },
   {
    "duration": 20,
    "start_time": "2025-02-27T08:24:45.158Z"
   },
   {
    "duration": 63,
    "start_time": "2025-02-27T08:24:45.179Z"
   },
   {
    "duration": 6,
    "start_time": "2025-02-27T08:24:45.244Z"
   },
   {
    "duration": 84,
    "start_time": "2025-02-27T08:24:45.252Z"
   },
   {
    "duration": 17,
    "start_time": "2025-02-27T08:24:45.340Z"
   },
   {
    "duration": 79,
    "start_time": "2025-02-27T08:24:45.359Z"
   },
   {
    "duration": 7,
    "start_time": "2025-02-27T08:24:45.440Z"
   },
   {
    "duration": 7,
    "start_time": "2025-02-27T08:24:45.449Z"
   },
   {
    "duration": 18,
    "start_time": "2025-02-27T08:24:45.531Z"
   },
   {
    "duration": 84,
    "start_time": "2025-02-27T08:24:45.551Z"
   },
   {
    "duration": 6,
    "start_time": "2025-02-27T08:24:45.637Z"
   },
   {
    "duration": 7,
    "start_time": "2025-02-27T08:24:45.645Z"
   },
   {
    "duration": 3,
    "start_time": "2025-02-27T08:24:45.730Z"
   },
   {
    "duration": 3,
    "start_time": "2025-02-27T08:24:45.735Z"
   },
   {
    "duration": 3,
    "start_time": "2025-02-27T08:24:45.740Z"
   },
   {
    "duration": 3,
    "start_time": "2025-02-27T08:24:45.745Z"
   },
   {
    "duration": 3,
    "start_time": "2025-02-27T08:24:45.750Z"
   },
   {
    "duration": 4,
    "start_time": "2025-02-27T08:24:45.755Z"
   },
   {
    "duration": 10,
    "start_time": "2025-02-27T08:24:45.760Z"
   },
   {
    "duration": 3,
    "start_time": "2025-02-27T08:24:45.771Z"
   },
   {
    "duration": 3,
    "start_time": "2025-02-27T08:24:45.776Z"
   },
   {
    "duration": 51,
    "start_time": "2025-02-27T08:24:45.781Z"
   },
   {
    "duration": 661,
    "start_time": "2025-02-27T08:24:45.836Z"
   },
   {
    "duration": 756,
    "start_time": "2025-02-27T08:25:09.572Z"
   },
   {
    "duration": 2635,
    "start_time": "2025-02-27T08:25:10.330Z"
   },
   {
    "duration": 4,
    "start_time": "2025-02-27T08:25:12.966Z"
   },
   {
    "duration": 3,
    "start_time": "2025-02-27T08:25:12.973Z"
   },
   {
    "duration": 4,
    "start_time": "2025-02-27T08:25:12.979Z"
   },
   {
    "duration": 23,
    "start_time": "2025-02-27T08:25:12.984Z"
   },
   {
    "duration": 42,
    "start_time": "2025-02-27T08:25:13.008Z"
   },
   {
    "duration": 79,
    "start_time": "2025-02-27T08:25:13.052Z"
   },
   {
    "duration": 12,
    "start_time": "2025-02-27T08:25:13.133Z"
   },
   {
    "duration": 18,
    "start_time": "2025-02-27T08:25:13.150Z"
   },
   {
    "duration": 81,
    "start_time": "2025-02-27T08:25:13.170Z"
   },
   {
    "duration": 79,
    "start_time": "2025-02-27T08:25:13.252Z"
   },
   {
    "duration": 6,
    "start_time": "2025-02-27T08:25:13.333Z"
   },
   {
    "duration": 21,
    "start_time": "2025-02-27T08:25:13.340Z"
   },
   {
    "duration": 81,
    "start_time": "2025-02-27T08:25:13.362Z"
   },
   {
    "duration": 7,
    "start_time": "2025-02-27T08:25:13.447Z"
   },
   {
    "duration": 7,
    "start_time": "2025-02-27T08:25:13.532Z"
   },
   {
    "duration": 2,
    "start_time": "2025-02-27T08:25:13.541Z"
   },
   {
    "duration": 3,
    "start_time": "2025-02-27T08:25:13.545Z"
   },
   {
    "duration": 4,
    "start_time": "2025-02-27T08:25:13.550Z"
   },
   {
    "duration": 4,
    "start_time": "2025-02-27T08:25:13.555Z"
   },
   {
    "duration": 5,
    "start_time": "2025-02-27T08:25:13.560Z"
   },
   {
    "duration": 4,
    "start_time": "2025-02-27T08:25:13.566Z"
   },
   {
    "duration": 67,
    "start_time": "2025-02-27T08:25:13.571Z"
   },
   {
    "duration": 3,
    "start_time": "2025-02-27T08:25:13.640Z"
   },
   {
    "duration": 2,
    "start_time": "2025-02-27T08:25:13.645Z"
   },
   {
    "duration": 4,
    "start_time": "2025-02-27T08:25:13.650Z"
   },
   {
    "duration": 548,
    "start_time": "2025-02-27T08:25:13.657Z"
   },
   {
    "duration": 785,
    "start_time": "2025-02-27T08:36:39.951Z"
   },
   {
    "duration": 2946,
    "start_time": "2025-02-27T08:36:40.738Z"
   },
   {
    "duration": 4,
    "start_time": "2025-02-27T08:36:43.686Z"
   },
   {
    "duration": 4,
    "start_time": "2025-02-27T08:36:43.692Z"
   },
   {
    "duration": 5,
    "start_time": "2025-02-27T08:36:43.697Z"
   },
   {
    "duration": 32,
    "start_time": "2025-02-27T08:36:43.704Z"
   },
   {
    "duration": 25,
    "start_time": "2025-02-27T08:36:43.737Z"
   },
   {
    "duration": 70,
    "start_time": "2025-02-27T08:36:43.763Z"
   },
   {
    "duration": 12,
    "start_time": "2025-02-27T08:36:43.835Z"
   },
   {
    "duration": 93,
    "start_time": "2025-02-27T08:36:43.853Z"
   },
   {
    "duration": 20,
    "start_time": "2025-02-27T08:36:43.948Z"
   },
   {
    "duration": 62,
    "start_time": "2025-02-27T08:36:43.970Z"
   },
   {
    "duration": 7,
    "start_time": "2025-02-27T08:36:44.034Z"
   },
   {
    "duration": 105,
    "start_time": "2025-02-27T08:36:44.043Z"
   },
   {
    "duration": 21,
    "start_time": "2025-02-27T08:36:44.149Z"
   },
   {
    "duration": 59,
    "start_time": "2025-02-27T08:36:44.172Z"
   },
   {
    "duration": 6,
    "start_time": "2025-02-27T08:36:44.233Z"
   },
   {
    "duration": 4,
    "start_time": "2025-02-27T08:36:44.240Z"
   },
   {
    "duration": 4,
    "start_time": "2025-02-27T08:36:44.245Z"
   },
   {
    "duration": 81,
    "start_time": "2025-02-27T08:36:44.251Z"
   },
   {
    "duration": 3,
    "start_time": "2025-02-27T08:36:44.334Z"
   },
   {
    "duration": 3,
    "start_time": "2025-02-27T08:36:44.339Z"
   },
   {
    "duration": 3,
    "start_time": "2025-02-27T08:36:44.344Z"
   },
   {
    "duration": 8,
    "start_time": "2025-02-27T08:36:44.349Z"
   },
   {
    "duration": 3,
    "start_time": "2025-02-27T08:36:44.359Z"
   },
   {
    "duration": 2,
    "start_time": "2025-02-27T08:36:44.364Z"
   },
   {
    "duration": 5,
    "start_time": "2025-02-27T08:36:44.368Z"
   },
   {
    "duration": 755,
    "start_time": "2025-02-27T08:37:13.673Z"
   },
   {
    "duration": 2603,
    "start_time": "2025-02-27T08:37:14.430Z"
   },
   {
    "duration": 4,
    "start_time": "2025-02-27T08:37:17.035Z"
   },
   {
    "duration": 4,
    "start_time": "2025-02-27T08:37:17.041Z"
   },
   {
    "duration": 4,
    "start_time": "2025-02-27T08:37:17.047Z"
   },
   {
    "duration": 19,
    "start_time": "2025-02-27T08:37:17.053Z"
   },
   {
    "duration": 65,
    "start_time": "2025-02-27T08:37:17.073Z"
   },
   {
    "duration": 6,
    "start_time": "2025-02-27T08:37:17.140Z"
   },
   {
    "duration": 88,
    "start_time": "2025-02-27T08:37:17.148Z"
   },
   {
    "duration": 19,
    "start_time": "2025-02-27T08:37:17.238Z"
   },
   {
    "duration": 80,
    "start_time": "2025-02-27T08:37:17.259Z"
   },
   {
    "duration": 7,
    "start_time": "2025-02-27T08:37:17.341Z"
   },
   {
    "duration": 82,
    "start_time": "2025-02-27T08:37:17.349Z"
   },
   {
    "duration": 19,
    "start_time": "2025-02-27T08:37:17.436Z"
   },
   {
    "duration": 79,
    "start_time": "2025-02-27T08:37:17.457Z"
   },
   {
    "duration": 6,
    "start_time": "2025-02-27T08:37:17.538Z"
   },
   {
    "duration": 7,
    "start_time": "2025-02-27T08:37:17.545Z"
   },
   {
    "duration": 3,
    "start_time": "2025-02-27T08:37:17.631Z"
   },
   {
    "duration": 4,
    "start_time": "2025-02-27T08:37:17.635Z"
   },
   {
    "duration": 4,
    "start_time": "2025-02-27T08:37:17.641Z"
   },
   {
    "duration": 4,
    "start_time": "2025-02-27T08:37:17.647Z"
   },
   {
    "duration": 13,
    "start_time": "2025-02-27T08:37:17.653Z"
   },
   {
    "duration": 6,
    "start_time": "2025-02-27T08:37:17.669Z"
   },
   {
    "duration": 8,
    "start_time": "2025-02-27T08:37:17.677Z"
   },
   {
    "duration": 3,
    "start_time": "2025-02-27T08:37:17.687Z"
   },
   {
    "duration": 3,
    "start_time": "2025-02-27T08:37:17.691Z"
   },
   {
    "duration": 36,
    "start_time": "2025-02-27T08:37:17.696Z"
   },
   {
    "duration": 782,
    "start_time": "2025-02-27T08:40:41.153Z"
   },
   {
    "duration": 10481,
    "start_time": "2025-02-27T08:40:41.938Z"
   },
   {
    "duration": 5,
    "start_time": "2025-02-27T08:40:52.421Z"
   },
   {
    "duration": 4,
    "start_time": "2025-02-27T08:40:52.428Z"
   },
   {
    "duration": 5,
    "start_time": "2025-02-27T08:40:52.434Z"
   },
   {
    "duration": 20,
    "start_time": "2025-02-27T08:40:52.440Z"
   },
   {
    "duration": 78,
    "start_time": "2025-02-27T08:40:52.462Z"
   },
   {
    "duration": 6,
    "start_time": "2025-02-27T08:40:52.542Z"
   },
   {
    "duration": 88,
    "start_time": "2025-02-27T08:40:52.550Z"
   },
   {
    "duration": 19,
    "start_time": "2025-02-27T08:40:52.641Z"
   },
   {
    "duration": 76,
    "start_time": "2025-02-27T08:40:52.662Z"
   },
   {
    "duration": 6,
    "start_time": "2025-02-27T08:40:52.740Z"
   },
   {
    "duration": 83,
    "start_time": "2025-02-27T08:40:52.749Z"
   },
   {
    "duration": 20,
    "start_time": "2025-02-27T08:40:52.835Z"
   },
   {
    "duration": 80,
    "start_time": "2025-02-27T08:40:52.857Z"
   },
   {
    "duration": 6,
    "start_time": "2025-02-27T08:40:52.939Z"
   },
   {
    "duration": 6,
    "start_time": "2025-02-27T08:40:52.946Z"
   },
   {
    "duration": 79,
    "start_time": "2025-02-27T08:40:52.953Z"
   },
   {
    "duration": 3,
    "start_time": "2025-02-27T08:40:53.034Z"
   },
   {
    "duration": 4,
    "start_time": "2025-02-27T08:40:53.039Z"
   },
   {
    "duration": 4,
    "start_time": "2025-02-27T08:40:53.045Z"
   },
   {
    "duration": 3,
    "start_time": "2025-02-27T08:40:53.050Z"
   },
   {
    "duration": 3,
    "start_time": "2025-02-27T08:40:53.055Z"
   },
   {
    "duration": 9,
    "start_time": "2025-02-27T08:40:53.060Z"
   },
   {
    "duration": 4,
    "start_time": "2025-02-27T08:40:53.071Z"
   },
   {
    "duration": 3,
    "start_time": "2025-02-27T08:40:53.076Z"
   },
   {
    "duration": 4,
    "start_time": "2025-02-27T08:40:53.132Z"
   },
   {
    "duration": 626,
    "start_time": "2025-02-27T08:40:53.139Z"
   },
   {
    "duration": 4,
    "start_time": "2025-02-27T08:40:53.767Z"
   },
   {
    "duration": 721,
    "start_time": "2025-02-27T08:53:39.001Z"
   },
   {
    "duration": 2715,
    "start_time": "2025-02-27T08:53:39.724Z"
   },
   {
    "duration": 6,
    "start_time": "2025-02-27T08:53:42.441Z"
   },
   {
    "duration": 4,
    "start_time": "2025-02-27T08:53:42.449Z"
   },
   {
    "duration": 4,
    "start_time": "2025-02-27T08:53:42.456Z"
   },
   {
    "duration": 19,
    "start_time": "2025-02-27T08:53:42.462Z"
   },
   {
    "duration": 61,
    "start_time": "2025-02-27T08:53:42.483Z"
   },
   {
    "duration": 5,
    "start_time": "2025-02-27T08:53:42.548Z"
   },
   {
    "duration": 84,
    "start_time": "2025-02-27T08:53:42.555Z"
   },
   {
    "duration": 19,
    "start_time": "2025-02-27T08:53:42.641Z"
   },
   {
    "duration": 83,
    "start_time": "2025-02-27T08:53:42.661Z"
   },
   {
    "duration": 6,
    "start_time": "2025-02-27T08:53:42.745Z"
   },
   {
    "duration": 80,
    "start_time": "2025-02-27T08:53:42.753Z"
   },
   {
    "duration": 19,
    "start_time": "2025-02-27T08:53:42.836Z"
   },
   {
    "duration": 78,
    "start_time": "2025-02-27T08:53:42.856Z"
   },
   {
    "duration": 6,
    "start_time": "2025-02-27T08:53:42.936Z"
   },
   {
    "duration": 7,
    "start_time": "2025-02-27T08:53:42.944Z"
   },
   {
    "duration": 3,
    "start_time": "2025-02-27T08:53:42.953Z"
   },
   {
    "duration": 4,
    "start_time": "2025-02-27T08:53:43.033Z"
   },
   {
    "duration": 4,
    "start_time": "2025-02-27T08:53:43.038Z"
   },
   {
    "duration": 3,
    "start_time": "2025-02-27T08:53:43.044Z"
   },
   {
    "duration": 4,
    "start_time": "2025-02-27T08:53:43.048Z"
   },
   {
    "duration": 4,
    "start_time": "2025-02-27T08:53:43.055Z"
   },
   {
    "duration": 10,
    "start_time": "2025-02-27T08:53:43.060Z"
   },
   {
    "duration": 3,
    "start_time": "2025-02-27T08:53:43.071Z"
   },
   {
    "duration": 3,
    "start_time": "2025-02-27T08:53:43.076Z"
   },
   {
    "duration": 4,
    "start_time": "2025-02-27T08:53:43.081Z"
   },
   {
    "duration": 665,
    "start_time": "2025-02-27T08:53:43.131Z"
   },
   {
    "duration": 5,
    "start_time": "2025-02-27T08:53:43.797Z"
   },
   {
    "duration": 4,
    "start_time": "2025-02-27T08:54:06.041Z"
   },
   {
    "duration": 6,
    "start_time": "2025-02-27T08:56:24.817Z"
   },
   {
    "duration": 784,
    "start_time": "2025-02-27T08:59:29.846Z"
   },
   {
    "duration": 2815,
    "start_time": "2025-02-27T08:59:30.633Z"
   },
   {
    "duration": 5,
    "start_time": "2025-02-27T08:59:33.449Z"
   },
   {
    "duration": 4,
    "start_time": "2025-02-27T08:59:33.456Z"
   },
   {
    "duration": 6,
    "start_time": "2025-02-27T08:59:33.462Z"
   },
   {
    "duration": 19,
    "start_time": "2025-02-27T08:59:33.470Z"
   },
   {
    "duration": 53,
    "start_time": "2025-02-27T08:59:33.490Z"
   },
   {
    "duration": 5,
    "start_time": "2025-02-27T08:59:33.545Z"
   },
   {
    "duration": 80,
    "start_time": "2025-02-27T08:59:33.552Z"
   },
   {
    "duration": 18,
    "start_time": "2025-02-27T08:59:33.636Z"
   },
   {
    "duration": 85,
    "start_time": "2025-02-27T08:59:33.657Z"
   },
   {
    "duration": 7,
    "start_time": "2025-02-27T08:59:33.743Z"
   },
   {
    "duration": 80,
    "start_time": "2025-02-27T08:59:33.752Z"
   },
   {
    "duration": 17,
    "start_time": "2025-02-27T08:59:33.838Z"
   },
   {
    "duration": 83,
    "start_time": "2025-02-27T08:59:33.857Z"
   },
   {
    "duration": 6,
    "start_time": "2025-02-27T08:59:33.942Z"
   },
   {
    "duration": 84,
    "start_time": "2025-02-27T08:59:33.949Z"
   },
   {
    "duration": 2,
    "start_time": "2025-02-27T08:59:34.037Z"
   },
   {
    "duration": 4,
    "start_time": "2025-02-27T08:59:34.040Z"
   },
   {
    "duration": 4,
    "start_time": "2025-02-27T08:59:34.046Z"
   },
   {
    "duration": 3,
    "start_time": "2025-02-27T08:59:34.051Z"
   },
   {
    "duration": 4,
    "start_time": "2025-02-27T08:59:34.056Z"
   },
   {
    "duration": 4,
    "start_time": "2025-02-27T08:59:34.061Z"
   },
   {
    "duration": 8,
    "start_time": "2025-02-27T08:59:34.066Z"
   },
   {
    "duration": 56,
    "start_time": "2025-02-27T08:59:34.076Z"
   },
   {
    "duration": 4,
    "start_time": "2025-02-27T08:59:34.134Z"
   },
   {
    "duration": 4,
    "start_time": "2025-02-27T08:59:34.140Z"
   },
   {
    "duration": 670,
    "start_time": "2025-02-27T08:59:34.146Z"
   },
   {
    "duration": 14,
    "start_time": "2025-02-27T08:59:34.818Z"
   },
   {
    "duration": 4,
    "start_time": "2025-02-27T08:59:34.833Z"
   },
   {
    "duration": 5,
    "start_time": "2025-02-27T08:59:34.839Z"
   },
   {
    "duration": 781,
    "start_time": "2025-02-27T09:06:39.543Z"
   },
   {
    "duration": 2575,
    "start_time": "2025-02-27T09:06:40.326Z"
   },
   {
    "duration": 4,
    "start_time": "2025-02-27T09:06:42.903Z"
   },
   {
    "duration": 3,
    "start_time": "2025-02-27T09:06:42.910Z"
   },
   {
    "duration": 17,
    "start_time": "2025-02-27T09:06:42.915Z"
   },
   {
    "duration": 20,
    "start_time": "2025-02-27T09:06:42.934Z"
   },
   {
    "duration": 81,
    "start_time": "2025-02-27T09:06:42.955Z"
   },
   {
    "duration": 6,
    "start_time": "2025-02-27T09:06:43.038Z"
   },
   {
    "duration": 86,
    "start_time": "2025-02-27T09:06:43.045Z"
   },
   {
    "duration": 21,
    "start_time": "2025-02-27T09:06:43.134Z"
   },
   {
    "duration": 80,
    "start_time": "2025-02-27T09:06:43.156Z"
   },
   {
    "duration": 6,
    "start_time": "2025-02-27T09:06:43.237Z"
   },
   {
    "duration": 7,
    "start_time": "2025-02-27T09:06:43.245Z"
   },
   {
    "duration": 22,
    "start_time": "2025-02-27T09:06:43.331Z"
   },
   {
    "duration": 77,
    "start_time": "2025-02-27T09:06:43.354Z"
   },
   {
    "duration": 5,
    "start_time": "2025-02-27T09:06:43.433Z"
   },
   {
    "duration": 6,
    "start_time": "2025-02-27T09:06:43.440Z"
   },
   {
    "duration": 2,
    "start_time": "2025-02-27T09:06:43.448Z"
   },
   {
    "duration": 4,
    "start_time": "2025-02-27T09:06:43.452Z"
   },
   {
    "duration": 3,
    "start_time": "2025-02-27T09:06:43.532Z"
   },
   {
    "duration": 3,
    "start_time": "2025-02-27T09:06:43.537Z"
   },
   {
    "duration": 5,
    "start_time": "2025-02-27T09:06:43.541Z"
   },
   {
    "duration": 4,
    "start_time": "2025-02-27T09:06:43.547Z"
   },
   {
    "duration": 9,
    "start_time": "2025-02-27T09:06:43.553Z"
   },
   {
    "duration": 3,
    "start_time": "2025-02-27T09:06:43.563Z"
   },
   {
    "duration": 3,
    "start_time": "2025-02-27T09:06:43.568Z"
   },
   {
    "duration": 6,
    "start_time": "2025-02-27T09:06:43.572Z"
   },
   {
    "duration": 694,
    "start_time": "2025-02-27T09:06:43.581Z"
   },
   {
    "duration": 4,
    "start_time": "2025-02-27T09:06:44.278Z"
   },
   {
    "duration": 6,
    "start_time": "2025-02-27T09:06:44.283Z"
   },
   {
    "duration": 4,
    "start_time": "2025-02-27T09:06:44.291Z"
   },
   {
    "duration": 759,
    "start_time": "2025-02-27T09:08:41.231Z"
   },
   {
    "duration": 2681,
    "start_time": "2025-02-27T09:08:41.992Z"
   },
   {
    "duration": 4,
    "start_time": "2025-02-27T09:08:44.675Z"
   },
   {
    "duration": 4,
    "start_time": "2025-02-27T09:08:44.681Z"
   },
   {
    "duration": 4,
    "start_time": "2025-02-27T09:08:44.687Z"
   },
   {
    "duration": 19,
    "start_time": "2025-02-27T09:08:44.693Z"
   },
   {
    "duration": 38,
    "start_time": "2025-02-27T09:08:44.714Z"
   },
   {
    "duration": 78,
    "start_time": "2025-02-27T09:08:44.754Z"
   },
   {
    "duration": 11,
    "start_time": "2025-02-27T09:08:44.834Z"
   },
   {
    "duration": 17,
    "start_time": "2025-02-27T09:08:44.849Z"
   },
   {
    "duration": 22,
    "start_time": "2025-02-27T09:08:44.931Z"
   },
   {
    "duration": 78,
    "start_time": "2025-02-27T09:08:44.955Z"
   },
   {
    "duration": 7,
    "start_time": "2025-02-27T09:08:45.035Z"
   },
   {
    "duration": 19,
    "start_time": "2025-02-27T09:08:45.044Z"
   },
   {
    "duration": 168,
    "start_time": "2025-02-27T09:08:45.065Z"
   },
   {
    "duration": 5,
    "start_time": "2025-02-27T09:08:45.235Z"
   },
   {
    "duration": 6,
    "start_time": "2025-02-27T09:08:45.242Z"
   },
   {
    "duration": 3,
    "start_time": "2025-02-27T09:08:45.249Z"
   },
   {
    "duration": 80,
    "start_time": "2025-02-27T09:08:45.253Z"
   },
   {
    "duration": 4,
    "start_time": "2025-02-27T09:08:45.336Z"
   },
   {
    "duration": 3,
    "start_time": "2025-02-27T09:08:45.342Z"
   },
   {
    "duration": 5,
    "start_time": "2025-02-27T09:08:45.347Z"
   },
   {
    "duration": 4,
    "start_time": "2025-02-27T09:08:45.355Z"
   },
   {
    "duration": 11,
    "start_time": "2025-02-27T09:08:45.361Z"
   },
   {
    "duration": 4,
    "start_time": "2025-02-27T09:08:45.374Z"
   },
   {
    "duration": 2,
    "start_time": "2025-02-27T09:08:45.380Z"
   },
   {
    "duration": 5,
    "start_time": "2025-02-27T09:08:45.384Z"
   },
   {
    "duration": 9,
    "start_time": "2025-02-27T09:08:45.435Z"
   },
   {
    "duration": 6,
    "start_time": "2025-02-27T09:08:45.446Z"
   },
   {
    "duration": 6,
    "start_time": "2025-02-27T09:08:45.454Z"
   },
   {
    "duration": 6,
    "start_time": "2025-02-27T09:08:45.462Z"
   },
   {
    "duration": 819,
    "start_time": "2025-02-27T09:10:08.037Z"
   },
   {
    "duration": 2731,
    "start_time": "2025-02-27T09:10:08.858Z"
   },
   {
    "duration": 4,
    "start_time": "2025-02-27T09:10:11.591Z"
   },
   {
    "duration": 4,
    "start_time": "2025-02-27T09:10:11.597Z"
   },
   {
    "duration": 4,
    "start_time": "2025-02-27T09:10:11.604Z"
   },
   {
    "duration": 35,
    "start_time": "2025-02-27T09:10:11.611Z"
   },
   {
    "duration": 84,
    "start_time": "2025-02-27T09:10:11.647Z"
   },
   {
    "duration": 6,
    "start_time": "2025-02-27T09:10:11.733Z"
   },
   {
    "duration": 11,
    "start_time": "2025-02-27T09:10:11.740Z"
   },
   {
    "duration": 92,
    "start_time": "2025-02-27T09:10:11.755Z"
   },
   {
    "duration": 82,
    "start_time": "2025-02-27T09:10:11.849Z"
   },
   {
    "duration": 6,
    "start_time": "2025-02-27T09:10:11.935Z"
   },
   {
    "duration": 7,
    "start_time": "2025-02-27T09:10:11.943Z"
   },
   {
    "duration": 95,
    "start_time": "2025-02-27T09:10:11.953Z"
   },
   {
    "duration": 83,
    "start_time": "2025-02-27T09:10:12.050Z"
   },
   {
    "duration": 5,
    "start_time": "2025-02-27T09:10:12.139Z"
   },
   {
    "duration": 8,
    "start_time": "2025-02-27T09:10:12.146Z"
   },
   {
    "duration": 76,
    "start_time": "2025-02-27T09:10:12.156Z"
   },
   {
    "duration": 3,
    "start_time": "2025-02-27T09:10:12.233Z"
   },
   {
    "duration": 3,
    "start_time": "2025-02-27T09:10:12.239Z"
   },
   {
    "duration": 4,
    "start_time": "2025-02-27T09:10:12.243Z"
   },
   {
    "duration": 4,
    "start_time": "2025-02-27T09:10:12.248Z"
   },
   {
    "duration": 4,
    "start_time": "2025-02-27T09:10:12.254Z"
   },
   {
    "duration": 9,
    "start_time": "2025-02-27T09:10:12.259Z"
   },
   {
    "duration": 3,
    "start_time": "2025-02-27T09:10:12.270Z"
   },
   {
    "duration": 3,
    "start_time": "2025-02-27T09:10:12.274Z"
   },
   {
    "duration": 4,
    "start_time": "2025-02-27T09:10:12.279Z"
   },
   {
    "duration": 50,
    "start_time": "2025-02-27T09:10:12.285Z"
   },
   {
    "duration": 4,
    "start_time": "2025-02-27T09:10:12.337Z"
   },
   {
    "duration": 4,
    "start_time": "2025-02-27T09:10:12.343Z"
   },
   {
    "duration": 5,
    "start_time": "2025-02-27T09:10:12.348Z"
   },
   {
    "duration": 718,
    "start_time": "2025-02-27T09:14:15.524Z"
   },
   {
    "duration": 768,
    "start_time": "2025-02-27T09:14:37.962Z"
   },
   {
    "duration": 2696,
    "start_time": "2025-02-27T09:14:38.733Z"
   },
   {
    "duration": 4,
    "start_time": "2025-02-27T09:14:41.430Z"
   },
   {
    "duration": 4,
    "start_time": "2025-02-27T09:14:41.436Z"
   },
   {
    "duration": 5,
    "start_time": "2025-02-27T09:14:41.442Z"
   },
   {
    "duration": 19,
    "start_time": "2025-02-27T09:14:41.448Z"
   },
   {
    "duration": 69,
    "start_time": "2025-02-27T09:14:41.469Z"
   },
   {
    "duration": 6,
    "start_time": "2025-02-27T09:14:41.540Z"
   },
   {
    "duration": 87,
    "start_time": "2025-02-27T09:14:41.547Z"
   },
   {
    "duration": 17,
    "start_time": "2025-02-27T09:14:41.636Z"
   },
   {
    "duration": 81,
    "start_time": "2025-02-27T09:14:41.655Z"
   },
   {
    "duration": 6,
    "start_time": "2025-02-27T09:14:41.738Z"
   },
   {
    "duration": 83,
    "start_time": "2025-02-27T09:14:41.749Z"
   },
   {
    "duration": 19,
    "start_time": "2025-02-27T09:14:41.836Z"
   },
   {
    "duration": 78,
    "start_time": "2025-02-27T09:14:41.856Z"
   },
   {
    "duration": 6,
    "start_time": "2025-02-27T09:14:41.936Z"
   },
   {
    "duration": 78,
    "start_time": "2025-02-27T09:14:41.952Z"
   },
   {
    "duration": 2,
    "start_time": "2025-02-27T09:14:42.033Z"
   },
   {
    "duration": 3,
    "start_time": "2025-02-27T09:14:42.037Z"
   },
   {
    "duration": 4,
    "start_time": "2025-02-27T09:14:42.042Z"
   },
   {
    "duration": 2,
    "start_time": "2025-02-27T09:14:42.049Z"
   },
   {
    "duration": 4,
    "start_time": "2025-02-27T09:14:42.053Z"
   },
   {
    "duration": 4,
    "start_time": "2025-02-27T09:14:42.058Z"
   },
   {
    "duration": 9,
    "start_time": "2025-02-27T09:14:42.063Z"
   },
   {
    "duration": 3,
    "start_time": "2025-02-27T09:14:42.074Z"
   },
   {
    "duration": 3,
    "start_time": "2025-02-27T09:14:42.078Z"
   },
   {
    "duration": 50,
    "start_time": "2025-02-27T09:14:42.082Z"
   },
   {
    "duration": 708,
    "start_time": "2025-02-27T09:14:42.134Z"
   },
   {
    "duration": 0,
    "start_time": "2025-02-27T09:14:42.844Z"
   },
   {
    "duration": 0,
    "start_time": "2025-02-27T09:14:42.845Z"
   },
   {
    "duration": 0,
    "start_time": "2025-02-27T09:14:42.846Z"
   },
   {
    "duration": 725,
    "start_time": "2025-02-27T09:15:34.125Z"
   },
   {
    "duration": 2578,
    "start_time": "2025-02-27T09:15:34.852Z"
   },
   {
    "duration": 5,
    "start_time": "2025-02-27T09:15:37.431Z"
   },
   {
    "duration": 3,
    "start_time": "2025-02-27T09:15:37.438Z"
   },
   {
    "duration": 5,
    "start_time": "2025-02-27T09:15:37.443Z"
   },
   {
    "duration": 18,
    "start_time": "2025-02-27T09:15:37.450Z"
   },
   {
    "duration": 69,
    "start_time": "2025-02-27T09:15:37.470Z"
   },
   {
    "duration": 5,
    "start_time": "2025-02-27T09:15:37.541Z"
   },
   {
    "duration": 87,
    "start_time": "2025-02-27T09:15:37.547Z"
   },
   {
    "duration": 22,
    "start_time": "2025-02-27T09:15:37.637Z"
   },
   {
    "duration": 77,
    "start_time": "2025-02-27T09:15:37.660Z"
   },
   {
    "duration": 7,
    "start_time": "2025-02-27T09:15:37.739Z"
   },
   {
    "duration": 7,
    "start_time": "2025-02-27T09:15:37.747Z"
   },
   {
    "duration": 94,
    "start_time": "2025-02-27T09:15:37.755Z"
   },
   {
    "duration": 22,
    "start_time": "2025-02-27T09:15:37.851Z"
   },
   {
    "duration": 7,
    "start_time": "2025-02-27T09:15:37.931Z"
   },
   {
    "duration": 7,
    "start_time": "2025-02-27T09:15:37.940Z"
   },
   {
    "duration": 3,
    "start_time": "2025-02-27T09:15:37.949Z"
   },
   {
    "duration": 77,
    "start_time": "2025-02-27T09:15:37.954Z"
   },
   {
    "duration": 4,
    "start_time": "2025-02-27T09:15:38.033Z"
   },
   {
    "duration": 5,
    "start_time": "2025-02-27T09:15:38.039Z"
   },
   {
    "duration": 3,
    "start_time": "2025-02-27T09:15:38.046Z"
   },
   {
    "duration": 3,
    "start_time": "2025-02-27T09:15:38.051Z"
   },
   {
    "duration": 9,
    "start_time": "2025-02-27T09:15:38.056Z"
   },
   {
    "duration": 4,
    "start_time": "2025-02-27T09:15:38.066Z"
   },
   {
    "duration": 3,
    "start_time": "2025-02-27T09:15:38.071Z"
   },
   {
    "duration": 4,
    "start_time": "2025-02-27T09:15:38.076Z"
   },
   {
    "duration": 48,
    "start_time": "2025-02-27T09:15:38.083Z"
   },
   {
    "duration": 6,
    "start_time": "2025-02-27T09:15:38.135Z"
   },
   {
    "duration": 4,
    "start_time": "2025-02-27T09:15:38.142Z"
   },
   {
    "duration": 4,
    "start_time": "2025-02-27T09:15:38.148Z"
   },
   {
    "duration": 784,
    "start_time": "2025-02-27T09:17:28.933Z"
   },
   {
    "duration": 2639,
    "start_time": "2025-02-27T09:17:29.719Z"
   },
   {
    "duration": 4,
    "start_time": "2025-02-27T09:17:32.360Z"
   },
   {
    "duration": 3,
    "start_time": "2025-02-27T09:17:32.366Z"
   },
   {
    "duration": 6,
    "start_time": "2025-02-27T09:17:32.372Z"
   },
   {
    "duration": 19,
    "start_time": "2025-02-27T09:17:32.379Z"
   },
   {
    "duration": 45,
    "start_time": "2025-02-27T09:17:32.400Z"
   },
   {
    "duration": 6,
    "start_time": "2025-02-27T09:17:32.447Z"
   },
   {
    "duration": 81,
    "start_time": "2025-02-27T09:17:32.455Z"
   },
   {
    "duration": 19,
    "start_time": "2025-02-27T09:17:32.538Z"
   },
   {
    "duration": 77,
    "start_time": "2025-02-27T09:17:32.559Z"
   },
   {
    "duration": 6,
    "start_time": "2025-02-27T09:17:32.637Z"
   },
   {
    "duration": 84,
    "start_time": "2025-02-27T09:17:32.647Z"
   },
   {
    "duration": 19,
    "start_time": "2025-02-27T09:17:32.734Z"
   },
   {
    "duration": 77,
    "start_time": "2025-02-27T09:17:32.754Z"
   },
   {
    "duration": 6,
    "start_time": "2025-02-27T09:17:32.837Z"
   },
   {
    "duration": 8,
    "start_time": "2025-02-27T09:17:32.847Z"
   },
   {
    "duration": 2,
    "start_time": "2025-02-27T09:17:32.932Z"
   },
   {
    "duration": 3,
    "start_time": "2025-02-27T09:17:32.936Z"
   },
   {
    "duration": 5,
    "start_time": "2025-02-27T09:17:32.940Z"
   },
   {
    "duration": 3,
    "start_time": "2025-02-27T09:17:32.946Z"
   },
   {
    "duration": 5,
    "start_time": "2025-02-27T09:17:32.951Z"
   },
   {
    "duration": 4,
    "start_time": "2025-02-27T09:17:32.958Z"
   },
   {
    "duration": 8,
    "start_time": "2025-02-27T09:17:32.964Z"
   },
   {
    "duration": 3,
    "start_time": "2025-02-27T09:17:32.974Z"
   },
   {
    "duration": 3,
    "start_time": "2025-02-27T09:17:32.979Z"
   },
   {
    "duration": 48,
    "start_time": "2025-02-27T09:17:32.984Z"
   },
   {
    "duration": 6,
    "start_time": "2025-02-27T09:17:33.034Z"
   },
   {
    "duration": 224,
    "start_time": "2025-02-27T09:17:33.041Z"
   },
   {
    "duration": 0,
    "start_time": "2025-02-27T09:17:33.267Z"
   },
   {
    "duration": 0,
    "start_time": "2025-02-27T09:17:33.269Z"
   },
   {
    "duration": 716,
    "start_time": "2025-02-27T09:17:52.715Z"
   },
   {
    "duration": 2670,
    "start_time": "2025-02-27T09:17:53.433Z"
   },
   {
    "duration": 4,
    "start_time": "2025-02-27T09:17:56.106Z"
   },
   {
    "duration": 3,
    "start_time": "2025-02-27T09:17:56.113Z"
   },
   {
    "duration": 16,
    "start_time": "2025-02-27T09:17:56.118Z"
   },
   {
    "duration": 20,
    "start_time": "2025-02-27T09:17:56.136Z"
   },
   {
    "duration": 74,
    "start_time": "2025-02-27T09:17:56.157Z"
   },
   {
    "duration": 5,
    "start_time": "2025-02-27T09:17:56.233Z"
   },
   {
    "duration": 10,
    "start_time": "2025-02-27T09:17:56.240Z"
   },
   {
    "duration": 93,
    "start_time": "2025-02-27T09:17:56.253Z"
   },
   {
    "duration": 22,
    "start_time": "2025-02-27T09:17:56.348Z"
   },
   {
    "duration": 8,
    "start_time": "2025-02-27T09:17:56.432Z"
   },
   {
    "duration": 9,
    "start_time": "2025-02-27T09:17:56.443Z"
   },
   {
    "duration": 18,
    "start_time": "2025-02-27T09:17:56.530Z"
   },
   {
    "duration": 21,
    "start_time": "2025-02-27T09:17:56.550Z"
   },
   {
    "duration": 62,
    "start_time": "2025-02-27T09:17:56.573Z"
   },
   {
    "duration": 6,
    "start_time": "2025-02-27T09:17:56.637Z"
   },
   {
    "duration": 3,
    "start_time": "2025-02-27T09:17:56.648Z"
   },
   {
    "duration": 78,
    "start_time": "2025-02-27T09:17:56.655Z"
   },
   {
    "duration": 4,
    "start_time": "2025-02-27T09:17:56.734Z"
   },
   {
    "duration": 3,
    "start_time": "2025-02-27T09:17:56.740Z"
   },
   {
    "duration": 3,
    "start_time": "2025-02-27T09:17:56.745Z"
   },
   {
    "duration": 3,
    "start_time": "2025-02-27T09:17:56.751Z"
   },
   {
    "duration": 9,
    "start_time": "2025-02-27T09:17:56.756Z"
   },
   {
    "duration": 3,
    "start_time": "2025-02-27T09:17:56.766Z"
   },
   {
    "duration": 2,
    "start_time": "2025-02-27T09:17:56.771Z"
   },
   {
    "duration": 4,
    "start_time": "2025-02-27T09:17:56.775Z"
   },
   {
    "duration": 50,
    "start_time": "2025-02-27T09:17:56.783Z"
   },
   {
    "duration": 4,
    "start_time": "2025-02-27T09:17:56.835Z"
   },
   {
    "duration": 4,
    "start_time": "2025-02-27T09:17:56.841Z"
   },
   {
    "duration": 4,
    "start_time": "2025-02-27T09:17:56.847Z"
   },
   {
    "duration": 778,
    "start_time": "2025-02-27T09:20:37.855Z"
   },
   {
    "duration": 2939,
    "start_time": "2025-02-27T09:20:38.636Z"
   },
   {
    "duration": 4,
    "start_time": "2025-02-27T09:20:41.577Z"
   },
   {
    "duration": 4,
    "start_time": "2025-02-27T09:20:41.584Z"
   },
   {
    "duration": 4,
    "start_time": "2025-02-27T09:20:41.590Z"
   },
   {
    "duration": 40,
    "start_time": "2025-02-27T09:20:41.596Z"
   },
   {
    "duration": 25,
    "start_time": "2025-02-27T09:20:41.637Z"
   },
   {
    "duration": 71,
    "start_time": "2025-02-27T09:20:41.664Z"
   },
   {
    "duration": 10,
    "start_time": "2025-02-27T09:20:41.737Z"
   },
   {
    "duration": 94,
    "start_time": "2025-02-27T09:20:41.751Z"
   },
   {
    "duration": 21,
    "start_time": "2025-02-27T09:20:41.846Z"
   },
   {
    "duration": 64,
    "start_time": "2025-02-27T09:20:41.868Z"
   },
   {
    "duration": 8,
    "start_time": "2025-02-27T09:20:41.933Z"
   },
   {
    "duration": 99,
    "start_time": "2025-02-27T09:20:41.943Z"
   },
   {
    "duration": 92,
    "start_time": "2025-02-27T09:20:42.044Z"
   },
   {
    "duration": 6,
    "start_time": "2025-02-27T09:20:42.138Z"
   },
   {
    "duration": 7,
    "start_time": "2025-02-27T09:20:42.148Z"
   },
   {
    "duration": 75,
    "start_time": "2025-02-27T09:20:42.157Z"
   },
   {
    "duration": 4,
    "start_time": "2025-02-27T09:20:42.233Z"
   },
   {
    "duration": 4,
    "start_time": "2025-02-27T09:20:42.239Z"
   },
   {
    "duration": 4,
    "start_time": "2025-02-27T09:20:42.244Z"
   },
   {
    "duration": 4,
    "start_time": "2025-02-27T09:20:42.249Z"
   },
   {
    "duration": 4,
    "start_time": "2025-02-27T09:20:42.254Z"
   },
   {
    "duration": 8,
    "start_time": "2025-02-27T09:20:42.260Z"
   },
   {
    "duration": 3,
    "start_time": "2025-02-27T09:20:42.270Z"
   },
   {
    "duration": 3,
    "start_time": "2025-02-27T09:20:42.274Z"
   },
   {
    "duration": 54,
    "start_time": "2025-02-27T09:20:42.280Z"
   },
   {
    "duration": 709,
    "start_time": "2025-02-27T09:20:42.337Z"
   },
   {
    "duration": 0,
    "start_time": "2025-02-27T09:20:43.048Z"
   },
   {
    "duration": 0,
    "start_time": "2025-02-27T09:20:43.049Z"
   },
   {
    "duration": 0,
    "start_time": "2025-02-27T09:20:43.051Z"
   },
   {
    "duration": 4,
    "start_time": "2025-02-27T09:23:01.739Z"
   },
   {
    "duration": 6,
    "start_time": "2025-02-27T09:23:18.677Z"
   },
   {
    "duration": 3,
    "start_time": "2025-02-27T09:23:36.708Z"
   },
   {
    "duration": 5,
    "start_time": "2025-02-27T09:23:37.656Z"
   },
   {
    "duration": 752,
    "start_time": "2025-02-27T09:23:42.492Z"
   },
   {
    "duration": 2664,
    "start_time": "2025-02-27T09:23:43.246Z"
   },
   {
    "duration": 5,
    "start_time": "2025-02-27T09:23:45.911Z"
   },
   {
    "duration": 3,
    "start_time": "2025-02-27T09:23:45.919Z"
   },
   {
    "duration": 5,
    "start_time": "2025-02-27T09:23:45.932Z"
   },
   {
    "duration": 21,
    "start_time": "2025-02-27T09:23:45.939Z"
   },
   {
    "duration": 73,
    "start_time": "2025-02-27T09:23:45.962Z"
   },
   {
    "duration": 6,
    "start_time": "2025-02-27T09:23:46.037Z"
   },
   {
    "duration": 86,
    "start_time": "2025-02-27T09:23:46.047Z"
   },
   {
    "duration": 33,
    "start_time": "2025-02-27T09:23:46.136Z"
   },
   {
    "duration": 63,
    "start_time": "2025-02-27T09:23:46.172Z"
   },
   {
    "duration": 5,
    "start_time": "2025-02-27T09:23:46.241Z"
   },
   {
    "duration": 84,
    "start_time": "2025-02-27T09:23:46.250Z"
   },
   {
    "duration": 19,
    "start_time": "2025-02-27T09:23:46.335Z"
   },
   {
    "duration": 78,
    "start_time": "2025-02-27T09:23:46.356Z"
   },
   {
    "duration": 7,
    "start_time": "2025-02-27T09:23:46.436Z"
   },
   {
    "duration": 84,
    "start_time": "2025-02-27T09:23:46.447Z"
   },
   {
    "duration": 3,
    "start_time": "2025-02-27T09:23:46.533Z"
   },
   {
    "duration": 3,
    "start_time": "2025-02-27T09:23:46.537Z"
   },
   {
    "duration": 3,
    "start_time": "2025-02-27T09:23:46.542Z"
   },
   {
    "duration": 3,
    "start_time": "2025-02-27T09:23:46.547Z"
   },
   {
    "duration": 3,
    "start_time": "2025-02-27T09:23:46.552Z"
   },
   {
    "duration": 3,
    "start_time": "2025-02-27T09:23:46.557Z"
   },
   {
    "duration": 9,
    "start_time": "2025-02-27T09:23:46.561Z"
   },
   {
    "duration": 4,
    "start_time": "2025-02-27T09:23:46.571Z"
   },
   {
    "duration": 3,
    "start_time": "2025-02-27T09:23:46.578Z"
   },
   {
    "duration": 5,
    "start_time": "2025-02-27T09:23:46.582Z"
   },
   {
    "duration": 6,
    "start_time": "2025-02-27T09:23:46.633Z"
   },
   {
    "duration": 5,
    "start_time": "2025-02-27T09:23:46.641Z"
   },
   {
    "duration": 5,
    "start_time": "2025-02-27T09:23:46.647Z"
   },
   {
    "duration": 4,
    "start_time": "2025-02-27T09:23:46.653Z"
   },
   {
    "duration": 714,
    "start_time": "2025-02-27T09:25:08.419Z"
   },
   {
    "duration": 2563,
    "start_time": "2025-02-27T09:25:09.135Z"
   },
   {
    "duration": 4,
    "start_time": "2025-02-27T09:25:11.700Z"
   },
   {
    "duration": 4,
    "start_time": "2025-02-27T09:25:11.706Z"
   },
   {
    "duration": 4,
    "start_time": "2025-02-27T09:25:11.712Z"
   },
   {
    "duration": 32,
    "start_time": "2025-02-27T09:25:11.718Z"
   },
   {
    "duration": 80,
    "start_time": "2025-02-27T09:25:11.752Z"
   },
   {
    "duration": 6,
    "start_time": "2025-02-27T09:25:11.833Z"
   },
   {
    "duration": 10,
    "start_time": "2025-02-27T09:25:11.841Z"
   },
   {
    "duration": 94,
    "start_time": "2025-02-27T09:25:11.853Z"
   },
   {
    "duration": 81,
    "start_time": "2025-02-27T09:25:11.949Z"
   },
   {
    "duration": 9,
    "start_time": "2025-02-27T09:25:12.033Z"
   },
   {
    "duration": 8,
    "start_time": "2025-02-27T09:25:12.046Z"
   },
   {
    "duration": 92,
    "start_time": "2025-02-27T09:25:12.058Z"
   },
   {
    "duration": 79,
    "start_time": "2025-02-27T09:25:12.152Z"
   },
   {
    "duration": 6,
    "start_time": "2025-02-27T09:25:12.233Z"
   },
   {
    "duration": 10,
    "start_time": "2025-02-27T09:25:12.242Z"
   },
   {
    "duration": 77,
    "start_time": "2025-02-27T09:25:12.255Z"
   },
   {
    "duration": 4,
    "start_time": "2025-02-27T09:25:12.333Z"
   },
   {
    "duration": 4,
    "start_time": "2025-02-27T09:25:12.338Z"
   },
   {
    "duration": 3,
    "start_time": "2025-02-27T09:25:12.344Z"
   },
   {
    "duration": 5,
    "start_time": "2025-02-27T09:25:12.348Z"
   },
   {
    "duration": 4,
    "start_time": "2025-02-27T09:25:12.354Z"
   },
   {
    "duration": 8,
    "start_time": "2025-02-27T09:25:12.360Z"
   },
   {
    "duration": 3,
    "start_time": "2025-02-27T09:25:12.370Z"
   },
   {
    "duration": 3,
    "start_time": "2025-02-27T09:25:12.375Z"
   },
   {
    "duration": 7,
    "start_time": "2025-02-27T09:25:12.379Z"
   },
   {
    "duration": 4,
    "start_time": "2025-02-27T09:25:12.432Z"
   },
   {
    "duration": 4,
    "start_time": "2025-02-27T09:25:12.438Z"
   },
   {
    "duration": 4,
    "start_time": "2025-02-27T09:25:12.444Z"
   },
   {
    "duration": 713,
    "start_time": "2025-02-27T09:26:16.918Z"
   },
   {
    "duration": 2429,
    "start_time": "2025-02-27T09:26:17.633Z"
   },
   {
    "duration": 4,
    "start_time": "2025-02-27T09:26:20.064Z"
   },
   {
    "duration": 4,
    "start_time": "2025-02-27T09:26:20.070Z"
   },
   {
    "duration": 5,
    "start_time": "2025-02-27T09:26:20.075Z"
   },
   {
    "duration": 20,
    "start_time": "2025-02-27T09:26:20.081Z"
   },
   {
    "duration": 42,
    "start_time": "2025-02-27T09:26:20.102Z"
   },
   {
    "duration": 6,
    "start_time": "2025-02-27T09:26:20.146Z"
   },
   {
    "duration": 86,
    "start_time": "2025-02-27T09:26:20.153Z"
   },
   {
    "duration": 18,
    "start_time": "2025-02-27T09:26:20.242Z"
   },
   {
    "duration": 78,
    "start_time": "2025-02-27T09:26:20.262Z"
   },
   {
    "duration": 5,
    "start_time": "2025-02-27T09:26:20.342Z"
   },
   {
    "duration": 6,
    "start_time": "2025-02-27T09:26:20.349Z"
   },
   {
    "duration": 19,
    "start_time": "2025-02-27T09:26:20.432Z"
   },
   {
    "duration": 18,
    "start_time": "2025-02-27T09:26:20.453Z"
   },
   {
    "duration": 62,
    "start_time": "2025-02-27T09:26:20.473Z"
   },
   {
    "duration": 6,
    "start_time": "2025-02-27T09:26:20.537Z"
   },
   {
    "duration": 3,
    "start_time": "2025-02-27T09:26:20.544Z"
   },
   {
    "duration": 3,
    "start_time": "2025-02-27T09:26:20.549Z"
   },
   {
    "duration": 77,
    "start_time": "2025-02-27T09:26:20.554Z"
   },
   {
    "duration": 4,
    "start_time": "2025-02-27T09:26:20.632Z"
   },
   {
    "duration": 4,
    "start_time": "2025-02-27T09:26:20.637Z"
   },
   {
    "duration": 4,
    "start_time": "2025-02-27T09:26:20.642Z"
   },
   {
    "duration": 9,
    "start_time": "2025-02-27T09:26:20.647Z"
   },
   {
    "duration": 4,
    "start_time": "2025-02-27T09:26:20.657Z"
   },
   {
    "duration": 3,
    "start_time": "2025-02-27T09:26:20.662Z"
   },
   {
    "duration": 248,
    "start_time": "2025-02-27T09:26:20.666Z"
   },
   {
    "duration": 0,
    "start_time": "2025-02-27T09:26:20.916Z"
   },
   {
    "duration": 0,
    "start_time": "2025-02-27T09:26:20.917Z"
   },
   {
    "duration": 0,
    "start_time": "2025-02-27T09:26:20.918Z"
   },
   {
    "duration": 7,
    "start_time": "2025-02-27T09:26:35.174Z"
   },
   {
    "duration": 8,
    "start_time": "2025-02-27T09:26:43.093Z"
   },
   {
    "duration": 5,
    "start_time": "2025-02-27T09:28:17.637Z"
   },
   {
    "duration": 710,
    "start_time": "2025-02-27T09:28:32.016Z"
   },
   {
    "duration": 3111,
    "start_time": "2025-02-27T09:28:32.729Z"
   },
   {
    "duration": 5,
    "start_time": "2025-02-27T09:28:35.841Z"
   },
   {
    "duration": 4,
    "start_time": "2025-02-27T09:28:35.848Z"
   },
   {
    "duration": 4,
    "start_time": "2025-02-27T09:28:35.854Z"
   },
   {
    "duration": 19,
    "start_time": "2025-02-27T09:28:35.860Z"
   },
   {
    "duration": 64,
    "start_time": "2025-02-27T09:28:35.881Z"
   },
   {
    "duration": 6,
    "start_time": "2025-02-27T09:28:35.947Z"
   },
   {
    "duration": 82,
    "start_time": "2025-02-27T09:28:35.955Z"
   },
   {
    "duration": 18,
    "start_time": "2025-02-27T09:28:36.041Z"
   },
   {
    "duration": 84,
    "start_time": "2025-02-27T09:28:36.061Z"
   },
   {
    "duration": 6,
    "start_time": "2025-02-27T09:28:36.149Z"
   },
   {
    "duration": 75,
    "start_time": "2025-02-27T09:28:36.157Z"
   },
   {
    "duration": 17,
    "start_time": "2025-02-27T09:28:36.239Z"
   },
   {
    "duration": 79,
    "start_time": "2025-02-27T09:28:36.258Z"
   },
   {
    "duration": 6,
    "start_time": "2025-02-27T09:28:36.339Z"
   },
   {
    "duration": 7,
    "start_time": "2025-02-27T09:28:36.347Z"
   },
   {
    "duration": 80,
    "start_time": "2025-02-27T09:28:36.356Z"
   },
   {
    "duration": 4,
    "start_time": "2025-02-27T09:28:36.438Z"
   },
   {
    "duration": 4,
    "start_time": "2025-02-27T09:28:36.444Z"
   },
   {
    "duration": 3,
    "start_time": "2025-02-27T09:28:36.450Z"
   },
   {
    "duration": 4,
    "start_time": "2025-02-27T09:28:36.455Z"
   },
   {
    "duration": 4,
    "start_time": "2025-02-27T09:28:36.460Z"
   },
   {
    "duration": 8,
    "start_time": "2025-02-27T09:28:36.466Z"
   },
   {
    "duration": 4,
    "start_time": "2025-02-27T09:28:36.476Z"
   },
   {
    "duration": 50,
    "start_time": "2025-02-27T09:28:36.481Z"
   },
   {
    "duration": 7,
    "start_time": "2025-02-27T09:28:36.533Z"
   },
   {
    "duration": 6,
    "start_time": "2025-02-27T09:28:36.541Z"
   },
   {
    "duration": 4,
    "start_time": "2025-02-27T09:28:36.548Z"
   },
   {
    "duration": 4,
    "start_time": "2025-02-27T09:28:36.554Z"
   },
   {
    "duration": 5,
    "start_time": "2025-02-27T09:28:36.560Z"
   },
   {
    "duration": 755,
    "start_time": "2025-02-27T09:29:26.479Z"
   },
   {
    "duration": 2526,
    "start_time": "2025-02-27T09:29:27.237Z"
   },
   {
    "duration": 5,
    "start_time": "2025-02-27T09:29:29.765Z"
   },
   {
    "duration": 4,
    "start_time": "2025-02-27T09:29:29.771Z"
   },
   {
    "duration": 5,
    "start_time": "2025-02-27T09:29:29.779Z"
   },
   {
    "duration": 21,
    "start_time": "2025-02-27T09:29:29.786Z"
   },
   {
    "duration": 43,
    "start_time": "2025-02-27T09:29:29.808Z"
   },
   {
    "duration": 83,
    "start_time": "2025-02-27T09:29:29.853Z"
   },
   {
    "duration": 11,
    "start_time": "2025-02-27T09:29:29.937Z"
   },
   {
    "duration": 19,
    "start_time": "2025-02-27T09:29:29.949Z"
   },
   {
    "duration": 82,
    "start_time": "2025-02-27T09:29:29.969Z"
   },
   {
    "duration": 78,
    "start_time": "2025-02-27T09:29:30.053Z"
   },
   {
    "duration": 7,
    "start_time": "2025-02-27T09:29:30.136Z"
   },
   {
    "duration": 19,
    "start_time": "2025-02-27T09:29:30.149Z"
   },
   {
    "duration": 72,
    "start_time": "2025-02-27T09:29:30.171Z"
   },
   {
    "duration": 6,
    "start_time": "2025-02-27T09:29:30.245Z"
   },
   {
    "duration": 83,
    "start_time": "2025-02-27T09:29:30.253Z"
   },
   {
    "duration": 3,
    "start_time": "2025-02-27T09:29:30.338Z"
   },
   {
    "duration": 3,
    "start_time": "2025-02-27T09:29:30.342Z"
   },
   {
    "duration": 4,
    "start_time": "2025-02-27T09:29:30.347Z"
   },
   {
    "duration": 4,
    "start_time": "2025-02-27T09:29:30.352Z"
   },
   {
    "duration": 4,
    "start_time": "2025-02-27T09:29:30.357Z"
   },
   {
    "duration": 4,
    "start_time": "2025-02-27T09:29:30.362Z"
   },
   {
    "duration": 69,
    "start_time": "2025-02-27T09:29:30.368Z"
   },
   {
    "duration": 3,
    "start_time": "2025-02-27T09:29:30.439Z"
   },
   {
    "duration": 3,
    "start_time": "2025-02-27T09:29:30.444Z"
   },
   {
    "duration": 6,
    "start_time": "2025-02-27T09:29:30.450Z"
   },
   {
    "duration": 4,
    "start_time": "2025-02-27T09:29:30.458Z"
   },
   {
    "duration": 4,
    "start_time": "2025-02-27T09:29:30.464Z"
   },
   {
    "duration": 4,
    "start_time": "2025-02-27T09:29:30.470Z"
   },
   {
    "duration": 5,
    "start_time": "2025-02-27T09:29:30.475Z"
   },
   {
    "duration": 4,
    "start_time": "2025-02-27T09:30:12.217Z"
   },
   {
    "duration": 779,
    "start_time": "2025-02-27T09:35:04.557Z"
   },
   {
    "duration": 2832,
    "start_time": "2025-02-27T09:35:05.340Z"
   },
   {
    "duration": 5,
    "start_time": "2025-02-27T09:35:08.173Z"
   },
   {
    "duration": 3,
    "start_time": "2025-02-27T09:35:08.181Z"
   },
   {
    "duration": 4,
    "start_time": "2025-02-27T09:35:08.187Z"
   },
   {
    "duration": 18,
    "start_time": "2025-02-27T09:35:08.193Z"
   },
   {
    "duration": 46,
    "start_time": "2025-02-27T09:35:08.213Z"
   },
   {
    "duration": 80,
    "start_time": "2025-02-27T09:35:08.260Z"
   },
   {
    "duration": 10,
    "start_time": "2025-02-27T09:35:08.343Z"
   },
   {
    "duration": 86,
    "start_time": "2025-02-27T09:35:08.356Z"
   },
   {
    "duration": 21,
    "start_time": "2025-02-27T09:35:08.444Z"
   },
   {
    "duration": 6,
    "start_time": "2025-02-27T09:35:08.530Z"
   },
   {
    "duration": 6,
    "start_time": "2025-02-27T09:35:08.538Z"
   },
   {
    "duration": 98,
    "start_time": "2025-02-27T09:35:08.546Z"
   },
   {
    "duration": 20,
    "start_time": "2025-02-27T09:35:08.646Z"
   },
   {
    "duration": 66,
    "start_time": "2025-02-27T09:35:08.667Z"
   },
   {
    "duration": 6,
    "start_time": "2025-02-27T09:35:08.735Z"
   },
   {
    "duration": 2,
    "start_time": "2025-02-27T09:35:08.743Z"
   },
   {
    "duration": 4,
    "start_time": "2025-02-27T09:35:08.747Z"
   },
   {
    "duration": 79,
    "start_time": "2025-02-27T09:35:08.754Z"
   },
   {
    "duration": 3,
    "start_time": "2025-02-27T09:35:08.834Z"
   },
   {
    "duration": 2,
    "start_time": "2025-02-27T09:35:08.840Z"
   },
   {
    "duration": 4,
    "start_time": "2025-02-27T09:35:08.844Z"
   },
   {
    "duration": 8,
    "start_time": "2025-02-27T09:35:08.850Z"
   },
   {
    "duration": 4,
    "start_time": "2025-02-27T09:35:08.859Z"
   },
   {
    "duration": 3,
    "start_time": "2025-02-27T09:35:08.864Z"
   },
   {
    "duration": 6,
    "start_time": "2025-02-27T09:35:08.869Z"
   },
   {
    "duration": 4,
    "start_time": "2025-02-27T09:35:08.878Z"
   },
   {
    "duration": 48,
    "start_time": "2025-02-27T09:35:08.884Z"
   },
   {
    "duration": 4,
    "start_time": "2025-02-27T09:35:08.933Z"
   },
   {
    "duration": 4,
    "start_time": "2025-02-27T09:35:08.939Z"
   },
   {
    "duration": 721,
    "start_time": "2025-02-27T09:35:39.616Z"
   },
   {
    "duration": 2617,
    "start_time": "2025-02-27T09:35:40.339Z"
   },
   {
    "duration": 5,
    "start_time": "2025-02-27T09:35:42.958Z"
   },
   {
    "duration": 3,
    "start_time": "2025-02-27T09:35:42.966Z"
   },
   {
    "duration": 4,
    "start_time": "2025-02-27T09:35:42.971Z"
   },
   {
    "duration": 19,
    "start_time": "2025-02-27T09:35:42.976Z"
   },
   {
    "duration": 52,
    "start_time": "2025-02-27T09:35:42.996Z"
   },
   {
    "duration": 7,
    "start_time": "2025-02-27T09:35:43.049Z"
   },
   {
    "duration": 12,
    "start_time": "2025-02-27T09:35:43.134Z"
   },
   {
    "duration": 19,
    "start_time": "2025-02-27T09:35:43.149Z"
   },
   {
    "duration": 79,
    "start_time": "2025-02-27T09:35:43.169Z"
   },
   {
    "duration": 7,
    "start_time": "2025-02-27T09:35:43.250Z"
   },
   {
    "duration": 7,
    "start_time": "2025-02-27T09:35:43.333Z"
   },
   {
    "duration": 18,
    "start_time": "2025-02-27T09:35:43.342Z"
   },
   {
    "duration": 81,
    "start_time": "2025-02-27T09:35:43.362Z"
   },
   {
    "duration": 5,
    "start_time": "2025-02-27T09:35:43.445Z"
   },
   {
    "duration": 80,
    "start_time": "2025-02-27T09:35:43.452Z"
   },
   {
    "duration": 3,
    "start_time": "2025-02-27T09:35:43.537Z"
   },
   {
    "duration": 3,
    "start_time": "2025-02-27T09:35:43.542Z"
   },
   {
    "duration": 3,
    "start_time": "2025-02-27T09:35:43.548Z"
   },
   {
    "duration": 3,
    "start_time": "2025-02-27T09:35:43.552Z"
   },
   {
    "duration": 4,
    "start_time": "2025-02-27T09:35:43.557Z"
   },
   {
    "duration": 4,
    "start_time": "2025-02-27T09:35:43.562Z"
   },
   {
    "duration": 65,
    "start_time": "2025-02-27T09:35:43.568Z"
   },
   {
    "duration": 3,
    "start_time": "2025-02-27T09:35:43.635Z"
   },
   {
    "duration": 3,
    "start_time": "2025-02-27T09:35:43.640Z"
   },
   {
    "duration": 7,
    "start_time": "2025-02-27T09:35:43.644Z"
   },
   {
    "duration": 4,
    "start_time": "2025-02-27T09:35:43.654Z"
   },
   {
    "duration": 5,
    "start_time": "2025-02-27T09:35:43.660Z"
   },
   {
    "duration": 4,
    "start_time": "2025-02-27T09:35:43.666Z"
   },
   {
    "duration": 5,
    "start_time": "2025-02-27T09:35:43.672Z"
   },
   {
    "duration": 761,
    "start_time": "2025-02-27T09:37:35.865Z"
   },
   {
    "duration": 2648,
    "start_time": "2025-02-27T09:37:36.628Z"
   },
   {
    "duration": 4,
    "start_time": "2025-02-27T09:37:39.278Z"
   },
   {
    "duration": 5,
    "start_time": "2025-02-27T09:37:39.284Z"
   },
   {
    "duration": 4,
    "start_time": "2025-02-27T09:37:39.291Z"
   },
   {
    "duration": 35,
    "start_time": "2025-02-27T09:37:39.297Z"
   },
   {
    "duration": 29,
    "start_time": "2025-02-27T09:37:39.333Z"
   },
   {
    "duration": 6,
    "start_time": "2025-02-27T09:37:39.432Z"
   },
   {
    "duration": 11,
    "start_time": "2025-02-27T09:37:39.440Z"
   },
   {
    "duration": 19,
    "start_time": "2025-02-27T09:37:39.530Z"
   },
   {
    "duration": 81,
    "start_time": "2025-02-27T09:37:39.550Z"
   },
   {
    "duration": 6,
    "start_time": "2025-02-27T09:37:39.637Z"
   },
   {
    "duration": 83,
    "start_time": "2025-02-27T09:37:39.648Z"
   },
   {
    "duration": 18,
    "start_time": "2025-02-27T09:37:39.734Z"
   },
   {
    "duration": 77,
    "start_time": "2025-02-27T09:37:39.754Z"
   },
   {
    "duration": 8,
    "start_time": "2025-02-27T09:37:39.833Z"
   },
   {
    "duration": 7,
    "start_time": "2025-02-27T09:37:39.843Z"
   },
   {
    "duration": 2,
    "start_time": "2025-02-27T09:37:39.852Z"
   },
   {
    "duration": 78,
    "start_time": "2025-02-27T09:37:39.856Z"
   },
   {
    "duration": 4,
    "start_time": "2025-02-27T09:37:39.936Z"
   },
   {
    "duration": 4,
    "start_time": "2025-02-27T09:37:39.941Z"
   },
   {
    "duration": 4,
    "start_time": "2025-02-27T09:37:39.947Z"
   },
   {
    "duration": 4,
    "start_time": "2025-02-27T09:37:39.952Z"
   },
   {
    "duration": 9,
    "start_time": "2025-02-27T09:37:39.957Z"
   },
   {
    "duration": 3,
    "start_time": "2025-02-27T09:37:39.968Z"
   },
   {
    "duration": 3,
    "start_time": "2025-02-27T09:37:39.972Z"
   },
   {
    "duration": 7,
    "start_time": "2025-02-27T09:37:39.977Z"
   },
   {
    "duration": 47,
    "start_time": "2025-02-27T09:37:39.985Z"
   },
   {
    "duration": 4,
    "start_time": "2025-02-27T09:37:40.033Z"
   },
   {
    "duration": 4,
    "start_time": "2025-02-27T09:37:40.039Z"
   },
   {
    "duration": 4,
    "start_time": "2025-02-27T09:37:40.045Z"
   },
   {
    "duration": 7,
    "start_time": "2025-02-27T09:38:11.181Z"
   },
   {
    "duration": 5,
    "start_time": "2025-02-27T09:38:11.819Z"
   },
   {
    "duration": 5,
    "start_time": "2025-02-27T09:38:12.303Z"
   },
   {
    "duration": 4,
    "start_time": "2025-02-27T09:38:13.058Z"
   },
   {
    "duration": 5,
    "start_time": "2025-02-27T09:38:14.147Z"
   },
   {
    "duration": 786,
    "start_time": "2025-02-27T09:41:42.938Z"
   },
   {
    "duration": 2578,
    "start_time": "2025-02-27T09:41:43.726Z"
   },
   {
    "duration": 5,
    "start_time": "2025-02-27T09:41:46.305Z"
   },
   {
    "duration": 4,
    "start_time": "2025-02-27T09:41:46.311Z"
   },
   {
    "duration": 3,
    "start_time": "2025-02-27T09:41:46.331Z"
   },
   {
    "duration": 19,
    "start_time": "2025-02-27T09:41:46.336Z"
   },
   {
    "duration": 74,
    "start_time": "2025-02-27T09:41:46.357Z"
   },
   {
    "duration": 6,
    "start_time": "2025-02-27T09:41:46.433Z"
   },
   {
    "duration": 10,
    "start_time": "2025-02-27T09:41:46.441Z"
   },
   {
    "duration": 95,
    "start_time": "2025-02-27T09:41:46.452Z"
   },
   {
    "duration": 22,
    "start_time": "2025-02-27T09:41:46.548Z"
   },
   {
    "duration": 64,
    "start_time": "2025-02-27T09:41:46.572Z"
   },
   {
    "duration": 7,
    "start_time": "2025-02-27T09:41:46.637Z"
   },
   {
    "duration": 96,
    "start_time": "2025-02-27T09:41:46.649Z"
   },
   {
    "duration": 85,
    "start_time": "2025-02-27T09:41:46.746Z"
   },
   {
    "duration": 5,
    "start_time": "2025-02-27T09:41:46.833Z"
   },
   {
    "duration": 6,
    "start_time": "2025-02-27T09:41:46.840Z"
   },
   {
    "duration": 3,
    "start_time": "2025-02-27T09:41:46.851Z"
   },
   {
    "duration": 7,
    "start_time": "2025-02-27T09:41:46.931Z"
   },
   {
    "duration": 7,
    "start_time": "2025-02-27T09:41:46.941Z"
   },
   {
    "duration": 5,
    "start_time": "2025-02-27T09:41:46.953Z"
   },
   {
    "duration": 4,
    "start_time": "2025-02-27T09:41:46.959Z"
   },
   {
    "duration": 4,
    "start_time": "2025-02-27T09:41:46.965Z"
   },
   {
    "duration": 10,
    "start_time": "2025-02-27T09:41:46.971Z"
   },
   {
    "duration": 4,
    "start_time": "2025-02-27T09:41:46.983Z"
   },
   {
    "duration": 2,
    "start_time": "2025-02-27T09:41:46.992Z"
   },
   {
    "duration": 10,
    "start_time": "2025-02-27T09:41:46.996Z"
   },
   {
    "duration": 228,
    "start_time": "2025-02-27T09:41:47.031Z"
   },
   {
    "duration": 0,
    "start_time": "2025-02-27T09:41:47.261Z"
   },
   {
    "duration": 0,
    "start_time": "2025-02-27T09:41:47.262Z"
   },
   {
    "duration": 0,
    "start_time": "2025-02-27T09:41:47.263Z"
   },
   {
    "duration": 5,
    "start_time": "2025-02-27T09:42:11.601Z"
   },
   {
    "duration": 5,
    "start_time": "2025-02-27T09:42:16.928Z"
   },
   {
    "duration": 5,
    "start_time": "2025-02-27T09:42:17.199Z"
   },
   {
    "duration": 5,
    "start_time": "2025-02-27T09:42:17.923Z"
   },
   {
    "duration": 732,
    "start_time": "2025-02-27T09:43:56.394Z"
   },
   {
    "duration": 2760,
    "start_time": "2025-02-27T09:43:57.128Z"
   },
   {
    "duration": 5,
    "start_time": "2025-02-27T09:43:59.889Z"
   },
   {
    "duration": 4,
    "start_time": "2025-02-27T09:43:59.895Z"
   },
   {
    "duration": 4,
    "start_time": "2025-02-27T09:43:59.901Z"
   },
   {
    "duration": 28,
    "start_time": "2025-02-27T09:43:59.907Z"
   },
   {
    "duration": 24,
    "start_time": "2025-02-27T09:43:59.936Z"
   },
   {
    "duration": 73,
    "start_time": "2025-02-27T09:43:59.962Z"
   },
   {
    "duration": 13,
    "start_time": "2025-02-27T09:44:00.037Z"
   },
   {
    "duration": 95,
    "start_time": "2025-02-27T09:44:00.052Z"
   },
   {
    "duration": 21,
    "start_time": "2025-02-27T09:44:00.149Z"
   },
   {
    "duration": 60,
    "start_time": "2025-02-27T09:44:00.174Z"
   },
   {
    "duration": 9,
    "start_time": "2025-02-27T09:44:00.238Z"
   },
   {
    "duration": 95,
    "start_time": "2025-02-27T09:44:00.252Z"
   },
   {
    "duration": 21,
    "start_time": "2025-02-27T09:44:00.349Z"
   },
   {
    "duration": 59,
    "start_time": "2025-02-27T09:44:00.372Z"
   },
   {
    "duration": 8,
    "start_time": "2025-02-27T09:44:00.433Z"
   },
   {
    "duration": 3,
    "start_time": "2025-02-27T09:44:00.442Z"
   },
   {
    "duration": 4,
    "start_time": "2025-02-27T09:44:00.447Z"
   },
   {
    "duration": 79,
    "start_time": "2025-02-27T09:44:00.452Z"
   },
   {
    "duration": 3,
    "start_time": "2025-02-27T09:44:00.533Z"
   },
   {
    "duration": 4,
    "start_time": "2025-02-27T09:44:00.538Z"
   },
   {
    "duration": 4,
    "start_time": "2025-02-27T09:44:00.543Z"
   },
   {
    "duration": 9,
    "start_time": "2025-02-27T09:44:00.548Z"
   },
   {
    "duration": 3,
    "start_time": "2025-02-27T09:44:00.560Z"
   },
   {
    "duration": 2,
    "start_time": "2025-02-27T09:44:00.565Z"
   },
   {
    "duration": 732,
    "start_time": "2025-02-27T09:44:00.569Z"
   },
   {
    "duration": 780,
    "start_time": "2025-02-27T10:01:23.648Z"
   },
   {
    "duration": 3160,
    "start_time": "2025-02-27T10:01:24.430Z"
   },
   {
    "duration": 5,
    "start_time": "2025-02-27T10:01:27.592Z"
   },
   {
    "duration": 4,
    "start_time": "2025-02-27T10:01:27.598Z"
   },
   {
    "duration": 5,
    "start_time": "2025-02-27T10:01:27.605Z"
   },
   {
    "duration": 32,
    "start_time": "2025-02-27T10:01:27.611Z"
   },
   {
    "duration": 32,
    "start_time": "2025-02-27T10:01:27.644Z"
   },
   {
    "duration": 7,
    "start_time": "2025-02-27T10:01:27.731Z"
   },
   {
    "duration": 14,
    "start_time": "2025-02-27T10:01:27.740Z"
   },
   {
    "duration": 97,
    "start_time": "2025-02-27T10:01:27.757Z"
   },
   {
    "duration": 20,
    "start_time": "2025-02-27T10:01:27.856Z"
   },
   {
    "duration": 5,
    "start_time": "2025-02-27T10:01:27.932Z"
   },
   {
    "duration": 8,
    "start_time": "2025-02-27T10:01:27.939Z"
   },
   {
    "duration": 97,
    "start_time": "2025-02-27T10:01:27.951Z"
   },
   {
    "duration": 19,
    "start_time": "2025-02-27T10:01:28.049Z"
   },
   {
    "duration": 64,
    "start_time": "2025-02-27T10:01:28.070Z"
   },
   {
    "duration": 8,
    "start_time": "2025-02-27T10:01:28.137Z"
   },
   {
    "duration": 5,
    "start_time": "2025-02-27T10:01:28.146Z"
   },
   {
    "duration": 4,
    "start_time": "2025-02-27T10:01:28.153Z"
   },
   {
    "duration": 73,
    "start_time": "2025-02-27T10:01:28.162Z"
   },
   {
    "duration": 6,
    "start_time": "2025-02-27T10:01:28.238Z"
   },
   {
    "duration": 4,
    "start_time": "2025-02-27T10:01:28.245Z"
   },
   {
    "duration": 4,
    "start_time": "2025-02-27T10:01:28.251Z"
   },
   {
    "duration": 10,
    "start_time": "2025-02-27T10:01:28.256Z"
   },
   {
    "duration": 4,
    "start_time": "2025-02-27T10:01:28.267Z"
   },
   {
    "duration": 3,
    "start_time": "2025-02-27T10:01:28.272Z"
   },
   {
    "duration": 733,
    "start_time": "2025-02-27T10:01:28.276Z"
   },
   {
    "duration": 4,
    "start_time": "2025-02-27T10:01:29.011Z"
   },
   {
    "duration": 739,
    "start_time": "2025-02-27T10:02:22.393Z"
   },
   {
    "duration": 2813,
    "start_time": "2025-02-27T10:02:23.134Z"
   },
   {
    "duration": 5,
    "start_time": "2025-02-27T10:02:25.948Z"
   },
   {
    "duration": 3,
    "start_time": "2025-02-27T10:02:25.955Z"
   },
   {
    "duration": 5,
    "start_time": "2025-02-27T10:02:25.960Z"
   },
   {
    "duration": 21,
    "start_time": "2025-02-27T10:02:25.966Z"
   },
   {
    "duration": 56,
    "start_time": "2025-02-27T10:02:25.988Z"
   },
   {
    "duration": 6,
    "start_time": "2025-02-27T10:02:26.045Z"
   },
   {
    "duration": 83,
    "start_time": "2025-02-27T10:02:26.053Z"
   },
   {
    "duration": 19,
    "start_time": "2025-02-27T10:02:26.139Z"
   },
   {
    "duration": 78,
    "start_time": "2025-02-27T10:02:26.160Z"
   },
   {
    "duration": 5,
    "start_time": "2025-02-27T10:02:26.240Z"
   },
   {
    "duration": 6,
    "start_time": "2025-02-27T10:02:26.247Z"
   },
   {
    "duration": 93,
    "start_time": "2025-02-27T10:02:26.255Z"
   },
   {
    "duration": 86,
    "start_time": "2025-02-27T10:02:26.349Z"
   },
   {
    "duration": 6,
    "start_time": "2025-02-27T10:02:26.436Z"
   },
   {
    "duration": 7,
    "start_time": "2025-02-27T10:02:26.444Z"
   },
   {
    "duration": 3,
    "start_time": "2025-02-27T10:02:26.452Z"
   },
   {
    "duration": 4,
    "start_time": "2025-02-27T10:02:26.532Z"
   },
   {
    "duration": 4,
    "start_time": "2025-02-27T10:02:26.537Z"
   },
   {
    "duration": 3,
    "start_time": "2025-02-27T10:02:26.543Z"
   },
   {
    "duration": 3,
    "start_time": "2025-02-27T10:02:26.548Z"
   },
   {
    "duration": 4,
    "start_time": "2025-02-27T10:02:26.553Z"
   },
   {
    "duration": 8,
    "start_time": "2025-02-27T10:02:26.558Z"
   },
   {
    "duration": 3,
    "start_time": "2025-02-27T10:02:26.568Z"
   },
   {
    "duration": 2,
    "start_time": "2025-02-27T10:02:26.573Z"
   },
   {
    "duration": 726,
    "start_time": "2025-02-27T10:02:26.577Z"
   },
   {
    "duration": 4,
    "start_time": "2025-02-27T10:02:27.307Z"
   },
   {
    "duration": 4,
    "start_time": "2025-02-27T10:02:27.313Z"
   },
   {
    "duration": 4,
    "start_time": "2025-02-27T10:09:06.630Z"
   },
   {
    "duration": 5,
    "start_time": "2025-02-27T10:09:23.092Z"
   },
   {
    "duration": 772,
    "start_time": "2025-02-27T10:17:28.053Z"
   },
   {
    "duration": 2702,
    "start_time": "2025-02-27T10:17:28.830Z"
   },
   {
    "duration": 5,
    "start_time": "2025-02-27T10:17:31.533Z"
   },
   {
    "duration": 4,
    "start_time": "2025-02-27T10:17:31.540Z"
   },
   {
    "duration": 5,
    "start_time": "2025-02-27T10:17:31.545Z"
   },
   {
    "duration": 20,
    "start_time": "2025-02-27T10:17:31.551Z"
   },
   {
    "duration": 67,
    "start_time": "2025-02-27T10:17:31.572Z"
   },
   {
    "duration": 6,
    "start_time": "2025-02-27T10:17:31.641Z"
   },
   {
    "duration": 87,
    "start_time": "2025-02-27T10:17:31.649Z"
   },
   {
    "duration": 20,
    "start_time": "2025-02-27T10:17:31.739Z"
   },
   {
    "duration": 80,
    "start_time": "2025-02-27T10:17:31.760Z"
   },
   {
    "duration": 5,
    "start_time": "2025-02-27T10:17:31.842Z"
   },
   {
    "duration": 82,
    "start_time": "2025-02-27T10:17:31.849Z"
   },
   {
    "duration": 24,
    "start_time": "2025-02-27T10:17:31.933Z"
   },
   {
    "duration": 78,
    "start_time": "2025-02-27T10:17:31.962Z"
   },
   {
    "duration": 6,
    "start_time": "2025-02-27T10:17:32.042Z"
   },
   {
    "duration": 81,
    "start_time": "2025-02-27T10:17:32.050Z"
   },
   {
    "duration": 2,
    "start_time": "2025-02-27T10:17:32.133Z"
   },
   {
    "duration": 3,
    "start_time": "2025-02-27T10:17:32.137Z"
   },
   {
    "duration": 3,
    "start_time": "2025-02-27T10:17:32.142Z"
   },
   {
    "duration": 3,
    "start_time": "2025-02-27T10:17:32.147Z"
   },
   {
    "duration": 3,
    "start_time": "2025-02-27T10:17:32.152Z"
   },
   {
    "duration": 5,
    "start_time": "2025-02-27T10:17:32.157Z"
   },
   {
    "duration": 9,
    "start_time": "2025-02-27T10:17:32.165Z"
   },
   {
    "duration": 4,
    "start_time": "2025-02-27T10:17:32.175Z"
   },
   {
    "duration": 48,
    "start_time": "2025-02-27T10:17:32.183Z"
   },
   {
    "duration": 929,
    "start_time": "2025-02-27T10:17:32.233Z"
   },
   {
    "duration": 0,
    "start_time": "2025-02-27T10:17:33.164Z"
   },
   {
    "duration": 0,
    "start_time": "2025-02-27T10:17:33.165Z"
   },
   {
    "duration": 674,
    "start_time": "2025-02-27T10:17:59.055Z"
   },
   {
    "duration": 680,
    "start_time": "2025-02-27T10:18:09.815Z"
   },
   {
    "duration": 733,
    "start_time": "2025-02-27T10:18:17.222Z"
   },
   {
    "duration": 2539,
    "start_time": "2025-02-27T10:18:17.957Z"
   },
   {
    "duration": 6,
    "start_time": "2025-02-27T10:18:20.497Z"
   },
   {
    "duration": 4,
    "start_time": "2025-02-27T10:18:20.504Z"
   },
   {
    "duration": 5,
    "start_time": "2025-02-27T10:18:20.510Z"
   },
   {
    "duration": 29,
    "start_time": "2025-02-27T10:18:20.516Z"
   },
   {
    "duration": 24,
    "start_time": "2025-02-27T10:18:20.547Z"
   },
   {
    "duration": 6,
    "start_time": "2025-02-27T10:18:20.632Z"
   },
   {
    "duration": 9,
    "start_time": "2025-02-27T10:18:20.640Z"
   },
   {
    "duration": 95,
    "start_time": "2025-02-27T10:18:20.651Z"
   },
   {
    "duration": 22,
    "start_time": "2025-02-27T10:18:20.747Z"
   },
   {
    "duration": 63,
    "start_time": "2025-02-27T10:18:20.771Z"
   },
   {
    "duration": 6,
    "start_time": "2025-02-27T10:18:20.836Z"
   },
   {
    "duration": 101,
    "start_time": "2025-02-27T10:18:20.845Z"
   },
   {
    "duration": 22,
    "start_time": "2025-02-27T10:18:20.948Z"
   },
   {
    "duration": 6,
    "start_time": "2025-02-27T10:18:21.031Z"
   },
   {
    "duration": 7,
    "start_time": "2025-02-27T10:18:21.039Z"
   },
   {
    "duration": 2,
    "start_time": "2025-02-27T10:18:21.048Z"
   },
   {
    "duration": 4,
    "start_time": "2025-02-27T10:18:21.052Z"
   },
   {
    "duration": 4,
    "start_time": "2025-02-27T10:18:21.132Z"
   },
   {
    "duration": 3,
    "start_time": "2025-02-27T10:18:21.138Z"
   },
   {
    "duration": 4,
    "start_time": "2025-02-27T10:18:21.142Z"
   },
   {
    "duration": 4,
    "start_time": "2025-02-27T10:18:21.147Z"
   },
   {
    "duration": 9,
    "start_time": "2025-02-27T10:18:21.152Z"
   },
   {
    "duration": 4,
    "start_time": "2025-02-27T10:18:21.162Z"
   },
   {
    "duration": 2,
    "start_time": "2025-02-27T10:18:21.168Z"
   },
   {
    "duration": 727,
    "start_time": "2025-02-27T10:18:21.172Z"
   },
   {
    "duration": 223,
    "start_time": "2025-02-27T10:18:21.901Z"
   },
   {
    "duration": 0,
    "start_time": "2025-02-27T10:18:22.125Z"
   },
   {
    "duration": 5,
    "start_time": "2025-02-27T10:18:46.068Z"
   },
   {
    "duration": 14,
    "start_time": "2025-02-27T10:18:48.777Z"
   },
   {
    "duration": 4,
    "start_time": "2025-02-27T10:19:02.117Z"
   },
   {
    "duration": 744,
    "start_time": "2025-02-27T18:58:38.383Z"
   },
   {
    "duration": 3163,
    "start_time": "2025-02-27T18:58:39.129Z"
   },
   {
    "duration": 5,
    "start_time": "2025-02-27T18:58:42.293Z"
   },
   {
    "duration": 12,
    "start_time": "2025-02-27T18:58:42.300Z"
   },
   {
    "duration": 5,
    "start_time": "2025-02-27T18:58:42.316Z"
   },
   {
    "duration": 22,
    "start_time": "2025-02-27T18:58:42.323Z"
   },
   {
    "duration": 70,
    "start_time": "2025-02-27T18:58:42.347Z"
   },
   {
    "duration": 10,
    "start_time": "2025-02-27T18:58:42.426Z"
   },
   {
    "duration": 75,
    "start_time": "2025-02-27T18:58:42.438Z"
   },
   {
    "duration": 19,
    "start_time": "2025-02-27T18:58:42.515Z"
   },
   {
    "duration": 77,
    "start_time": "2025-02-27T18:58:42.535Z"
   },
   {
    "duration": 7,
    "start_time": "2025-02-27T18:58:42.613Z"
   },
   {
    "duration": 9,
    "start_time": "2025-02-27T18:58:42.622Z"
   },
   {
    "duration": 92,
    "start_time": "2025-02-27T18:58:42.636Z"
   },
   {
    "duration": 21,
    "start_time": "2025-02-27T18:58:42.730Z"
   },
   {
    "duration": 59,
    "start_time": "2025-02-27T18:58:42.753Z"
   },
   {
    "duration": 8,
    "start_time": "2025-02-27T18:58:42.814Z"
   },
   {
    "duration": 2,
    "start_time": "2025-02-27T18:58:42.824Z"
   },
   {
    "duration": 4,
    "start_time": "2025-02-27T18:58:42.828Z"
   },
   {
    "duration": 79,
    "start_time": "2025-02-27T18:58:42.834Z"
   },
   {
    "duration": 3,
    "start_time": "2025-02-27T18:58:42.915Z"
   },
   {
    "duration": 5,
    "start_time": "2025-02-27T18:58:42.919Z"
   },
   {
    "duration": 4,
    "start_time": "2025-02-27T18:58:42.925Z"
   },
   {
    "duration": 11,
    "start_time": "2025-02-27T18:58:42.930Z"
   },
   {
    "duration": 4,
    "start_time": "2025-02-27T18:58:42.942Z"
   },
   {
    "duration": 4,
    "start_time": "2025-02-27T18:58:42.948Z"
   },
   {
    "duration": 3,
    "start_time": "2025-02-27T18:58:42.953Z"
   },
   {
    "duration": 758,
    "start_time": "2025-02-27T18:58:42.958Z"
   },
   {
    "duration": 4,
    "start_time": "2025-02-27T18:58:43.718Z"
   },
   {
    "duration": 4,
    "start_time": "2025-02-27T18:58:43.724Z"
   },
   {
    "duration": 771,
    "start_time": "2025-02-27T19:44:05.758Z"
   },
   {
    "duration": 2788,
    "start_time": "2025-02-27T19:44:06.531Z"
   },
   {
    "duration": 4,
    "start_time": "2025-02-27T19:44:09.321Z"
   },
   {
    "duration": 4,
    "start_time": "2025-02-27T19:44:09.327Z"
   },
   {
    "duration": 4,
    "start_time": "2025-02-27T19:44:09.333Z"
   },
   {
    "duration": 19,
    "start_time": "2025-02-27T19:44:09.339Z"
   },
   {
    "duration": 61,
    "start_time": "2025-02-27T19:44:09.360Z"
   },
   {
    "duration": 6,
    "start_time": "2025-02-27T19:44:09.423Z"
   },
   {
    "duration": 85,
    "start_time": "2025-02-27T19:44:09.431Z"
   },
   {
    "duration": 18,
    "start_time": "2025-02-27T19:44:09.518Z"
   },
   {
    "duration": 77,
    "start_time": "2025-02-27T19:44:09.538Z"
   },
   {
    "duration": 6,
    "start_time": "2025-02-27T19:44:09.617Z"
   },
   {
    "duration": 6,
    "start_time": "2025-02-27T19:44:09.624Z"
   },
   {
    "duration": 94,
    "start_time": "2025-02-27T19:44:09.633Z"
   },
   {
    "duration": 22,
    "start_time": "2025-02-27T19:44:09.728Z"
   },
   {
    "duration": 64,
    "start_time": "2025-02-27T19:44:09.751Z"
   },
   {
    "duration": 6,
    "start_time": "2025-02-27T19:44:09.817Z"
   },
   {
    "duration": 11,
    "start_time": "2025-02-27T19:44:09.824Z"
   },
   {
    "duration": 77,
    "start_time": "2025-02-27T19:44:09.836Z"
   },
   {
    "duration": 4,
    "start_time": "2025-02-27T19:44:09.914Z"
   },
   {
    "duration": 4,
    "start_time": "2025-02-27T19:44:09.919Z"
   },
   {
    "duration": 5,
    "start_time": "2025-02-27T19:44:09.924Z"
   },
   {
    "duration": 4,
    "start_time": "2025-02-27T19:44:09.930Z"
   },
   {
    "duration": 4,
    "start_time": "2025-02-27T19:44:09.935Z"
   },
   {
    "duration": 10,
    "start_time": "2025-02-27T19:44:09.940Z"
   },
   {
    "duration": 4,
    "start_time": "2025-02-27T19:44:09.952Z"
   },
   {
    "duration": 3,
    "start_time": "2025-02-27T19:44:09.958Z"
   },
   {
    "duration": 3,
    "start_time": "2025-02-27T19:44:09.962Z"
   },
   {
    "duration": 755,
    "start_time": "2025-02-27T19:44:09.966Z"
   },
   {
    "duration": 4,
    "start_time": "2025-02-27T19:44:10.724Z"
   },
   {
    "duration": 4,
    "start_time": "2025-02-27T19:44:10.730Z"
   },
   {
    "duration": 769,
    "start_time": "2025-02-27T19:49:11.635Z"
   },
   {
    "duration": 3083,
    "start_time": "2025-02-27T19:49:12.406Z"
   },
   {
    "duration": 5,
    "start_time": "2025-02-27T19:49:15.491Z"
   },
   {
    "duration": 4,
    "start_time": "2025-02-27T19:49:15.498Z"
   },
   {
    "duration": 9,
    "start_time": "2025-02-27T19:49:15.504Z"
   },
   {
    "duration": 22,
    "start_time": "2025-02-27T19:49:15.514Z"
   },
   {
    "duration": 77,
    "start_time": "2025-02-27T19:49:15.538Z"
   },
   {
    "duration": 7,
    "start_time": "2025-02-27T19:49:15.617Z"
   },
   {
    "duration": 11,
    "start_time": "2025-02-27T19:49:15.625Z"
   },
   {
    "duration": 24,
    "start_time": "2025-02-27T19:49:15.715Z"
   },
   {
    "duration": 74,
    "start_time": "2025-02-27T19:49:15.741Z"
   },
   {
    "duration": 7,
    "start_time": "2025-02-27T19:49:15.816Z"
   },
   {
    "duration": 6,
    "start_time": "2025-02-27T19:49:15.824Z"
   },
   {
    "duration": 97,
    "start_time": "2025-02-27T19:49:15.832Z"
   },
   {
    "duration": 23,
    "start_time": "2025-02-27T19:49:15.930Z"
   },
   {
    "duration": 6,
    "start_time": "2025-02-27T19:49:16.016Z"
   },
   {
    "duration": 8,
    "start_time": "2025-02-27T19:49:16.026Z"
   },
   {
    "duration": 84,
    "start_time": "2025-02-27T19:49:16.039Z"
   },
   {
    "duration": 3,
    "start_time": "2025-02-27T19:49:16.125Z"
   },
   {
    "duration": 3,
    "start_time": "2025-02-27T19:49:16.129Z"
   },
   {
    "duration": 4,
    "start_time": "2025-02-27T19:49:16.134Z"
   },
   {
    "duration": 3,
    "start_time": "2025-02-27T19:49:16.139Z"
   },
   {
    "duration": 4,
    "start_time": "2025-02-27T19:49:16.144Z"
   },
   {
    "duration": 4,
    "start_time": "2025-02-27T19:49:16.149Z"
   },
   {
    "duration": 8,
    "start_time": "2025-02-27T19:49:16.155Z"
   },
   {
    "duration": 5,
    "start_time": "2025-02-27T19:49:16.165Z"
   },
   {
    "duration": 4,
    "start_time": "2025-02-27T19:49:16.211Z"
   },
   {
    "duration": 2,
    "start_time": "2025-02-27T19:49:16.218Z"
   },
   {
    "duration": 776,
    "start_time": "2025-02-27T19:49:16.222Z"
   },
   {
    "duration": 12,
    "start_time": "2025-02-27T19:49:17.000Z"
   },
   {
    "duration": 5,
    "start_time": "2025-02-27T19:49:17.013Z"
   },
   {
    "duration": 773,
    "start_time": "2025-02-27T19:53:04.370Z"
   },
   {
    "duration": 2978,
    "start_time": "2025-02-27T19:53:05.145Z"
   },
   {
    "duration": 4,
    "start_time": "2025-02-27T19:53:08.124Z"
   },
   {
    "duration": 4,
    "start_time": "2025-02-27T19:53:08.131Z"
   },
   {
    "duration": 5,
    "start_time": "2025-02-27T19:53:08.136Z"
   },
   {
    "duration": 19,
    "start_time": "2025-02-27T19:53:08.143Z"
   },
   {
    "duration": 62,
    "start_time": "2025-02-27T19:53:08.163Z"
   },
   {
    "duration": 7,
    "start_time": "2025-02-27T19:53:08.227Z"
   },
   {
    "duration": 84,
    "start_time": "2025-02-27T19:53:08.235Z"
   },
   {
    "duration": 23,
    "start_time": "2025-02-27T19:53:08.323Z"
   },
   {
    "duration": 75,
    "start_time": "2025-02-27T19:53:08.348Z"
   },
   {
    "duration": 6,
    "start_time": "2025-02-27T19:53:08.425Z"
   },
   {
    "duration": 80,
    "start_time": "2025-02-27T19:53:08.435Z"
   },
   {
    "duration": 17,
    "start_time": "2025-02-27T19:53:08.520Z"
   },
   {
    "duration": 80,
    "start_time": "2025-02-27T19:53:08.539Z"
   },
   {
    "duration": 6,
    "start_time": "2025-02-27T19:53:08.621Z"
   },
   {
    "duration": 7,
    "start_time": "2025-02-27T19:53:08.629Z"
   },
   {
    "duration": 6,
    "start_time": "2025-02-27T19:53:08.712Z"
   },
   {
    "duration": 0,
    "start_time": "2025-02-27T19:53:08.720Z"
   },
   {
    "duration": 0,
    "start_time": "2025-02-27T19:53:08.721Z"
   },
   {
    "duration": 0,
    "start_time": "2025-02-27T19:53:08.722Z"
   },
   {
    "duration": 0,
    "start_time": "2025-02-27T19:53:08.724Z"
   },
   {
    "duration": 0,
    "start_time": "2025-02-27T19:53:08.725Z"
   },
   {
    "duration": 0,
    "start_time": "2025-02-27T19:53:08.727Z"
   },
   {
    "duration": 0,
    "start_time": "2025-02-27T19:53:08.728Z"
   },
   {
    "duration": 0,
    "start_time": "2025-02-27T19:53:08.729Z"
   },
   {
    "duration": 0,
    "start_time": "2025-02-27T19:53:08.731Z"
   },
   {
    "duration": 0,
    "start_time": "2025-02-27T19:53:08.732Z"
   },
   {
    "duration": 0,
    "start_time": "2025-02-27T19:53:08.734Z"
   },
   {
    "duration": 0,
    "start_time": "2025-02-27T19:53:08.735Z"
   },
   {
    "duration": 0,
    "start_time": "2025-02-27T19:53:08.737Z"
   },
   {
    "duration": 131,
    "start_time": "2025-02-27T19:53:40.825Z"
   },
   {
    "duration": 20,
    "start_time": "2025-02-27T19:54:12.311Z"
   },
   {
    "duration": 851,
    "start_time": "2025-02-27T19:54:32.196Z"
   },
   {
    "duration": 7,
    "start_time": "2025-02-27T19:54:48.638Z"
   },
   {
    "duration": 13,
    "start_time": "2025-02-27T19:55:04.283Z"
   },
   {
    "duration": 759,
    "start_time": "2025-02-27T19:55:20.553Z"
   },
   {
    "duration": 2649,
    "start_time": "2025-02-27T19:55:21.314Z"
   },
   {
    "duration": 5,
    "start_time": "2025-02-27T19:55:23.965Z"
   },
   {
    "duration": 4,
    "start_time": "2025-02-27T19:55:23.973Z"
   },
   {
    "duration": 5,
    "start_time": "2025-02-27T19:55:23.978Z"
   },
   {
    "duration": 39,
    "start_time": "2025-02-27T19:55:23.984Z"
   },
   {
    "duration": 23,
    "start_time": "2025-02-27T19:55:24.025Z"
   },
   {
    "duration": 66,
    "start_time": "2025-02-27T19:55:24.050Z"
   },
   {
    "duration": 9,
    "start_time": "2025-02-27T19:55:24.118Z"
   },
   {
    "duration": 101,
    "start_time": "2025-02-27T19:55:24.130Z"
   },
   {
    "duration": 21,
    "start_time": "2025-02-27T19:55:24.233Z"
   },
   {
    "duration": 7,
    "start_time": "2025-02-27T19:55:24.312Z"
   },
   {
    "duration": 10,
    "start_time": "2025-02-27T19:55:24.320Z"
   },
   {
    "duration": 96,
    "start_time": "2025-02-27T19:55:24.333Z"
   },
   {
    "duration": 21,
    "start_time": "2025-02-27T19:55:24.430Z"
   },
   {
    "duration": 7,
    "start_time": "2025-02-27T19:55:24.512Z"
   },
   {
    "duration": 9,
    "start_time": "2025-02-27T19:55:24.523Z"
   },
   {
    "duration": 147,
    "start_time": "2025-02-27T19:55:24.611Z"
   },
   {
    "duration": 0,
    "start_time": "2025-02-27T19:55:24.760Z"
   },
   {
    "duration": 0,
    "start_time": "2025-02-27T19:55:24.762Z"
   },
   {
    "duration": 0,
    "start_time": "2025-02-27T19:55:24.763Z"
   },
   {
    "duration": 0,
    "start_time": "2025-02-27T19:55:24.765Z"
   },
   {
    "duration": 0,
    "start_time": "2025-02-27T19:55:24.766Z"
   },
   {
    "duration": 0,
    "start_time": "2025-02-27T19:55:24.767Z"
   },
   {
    "duration": 0,
    "start_time": "2025-02-27T19:55:24.769Z"
   },
   {
    "duration": 0,
    "start_time": "2025-02-27T19:55:24.771Z"
   },
   {
    "duration": 0,
    "start_time": "2025-02-27T19:55:24.772Z"
   },
   {
    "duration": 0,
    "start_time": "2025-02-27T19:55:24.774Z"
   },
   {
    "duration": 0,
    "start_time": "2025-02-27T19:55:24.775Z"
   },
   {
    "duration": 0,
    "start_time": "2025-02-27T19:55:24.777Z"
   },
   {
    "duration": 0,
    "start_time": "2025-02-27T19:55:24.778Z"
   },
   {
    "duration": 12,
    "start_time": "2025-02-27T19:56:21.430Z"
   },
   {
    "duration": 16,
    "start_time": "2025-02-27T19:56:34.947Z"
   },
   {
    "duration": 769,
    "start_time": "2025-02-27T19:57:46.845Z"
   },
   {
    "duration": 2714,
    "start_time": "2025-02-27T19:57:47.616Z"
   },
   {
    "duration": 4,
    "start_time": "2025-02-27T19:57:50.332Z"
   },
   {
    "duration": 4,
    "start_time": "2025-02-27T19:57:50.338Z"
   },
   {
    "duration": 5,
    "start_time": "2025-02-27T19:57:50.345Z"
   },
   {
    "duration": 20,
    "start_time": "2025-02-27T19:57:50.351Z"
   },
   {
    "duration": 52,
    "start_time": "2025-02-27T19:57:50.373Z"
   },
   {
    "duration": 6,
    "start_time": "2025-02-27T19:57:50.426Z"
   },
   {
    "duration": 94,
    "start_time": "2025-02-27T19:57:50.433Z"
   },
   {
    "duration": 87,
    "start_time": "2025-02-27T19:57:50.529Z"
   },
   {
    "duration": 6,
    "start_time": "2025-02-27T19:57:50.618Z"
   },
   {
    "duration": 99,
    "start_time": "2025-02-27T19:57:50.626Z"
   },
   {
    "duration": 85,
    "start_time": "2025-02-27T19:57:50.727Z"
   },
   {
    "duration": 6,
    "start_time": "2025-02-27T19:57:50.817Z"
   },
   {
    "duration": 95,
    "start_time": "2025-02-27T19:57:50.825Z"
   },
   {
    "duration": 3,
    "start_time": "2025-02-27T19:57:50.921Z"
   },
   {
    "duration": 4,
    "start_time": "2025-02-27T19:57:50.925Z"
   },
   {
    "duration": 5,
    "start_time": "2025-02-27T19:57:50.930Z"
   },
   {
    "duration": 4,
    "start_time": "2025-02-27T19:57:50.936Z"
   },
   {
    "duration": 3,
    "start_time": "2025-02-27T19:57:50.942Z"
   },
   {
    "duration": 3,
    "start_time": "2025-02-27T19:57:50.947Z"
   },
   {
    "duration": 9,
    "start_time": "2025-02-27T19:57:50.952Z"
   },
   {
    "duration": 5,
    "start_time": "2025-02-27T19:57:50.962Z"
   },
   {
    "duration": 4,
    "start_time": "2025-02-27T19:57:51.012Z"
   },
   {
    "duration": 3,
    "start_time": "2025-02-27T19:57:51.017Z"
   },
   {
    "duration": 725,
    "start_time": "2025-02-27T19:57:51.021Z"
   },
   {
    "duration": 5,
    "start_time": "2025-02-27T19:57:51.748Z"
   },
   {
    "duration": 5,
    "start_time": "2025-02-27T19:57:51.755Z"
   },
   {
    "duration": 3,
    "start_time": "2025-02-27T20:08:40.019Z"
   },
   {
    "duration": 4,
    "start_time": "2025-02-27T20:09:34.146Z"
   },
   {
    "duration": 3,
    "start_time": "2025-02-27T20:10:23.459Z"
   },
   {
    "duration": 5,
    "start_time": "2025-02-27T20:10:55.216Z"
   },
   {
    "duration": 4,
    "start_time": "2025-02-27T20:11:09.640Z"
   },
   {
    "duration": 2,
    "start_time": "2025-02-27T20:13:00.249Z"
   },
   {
    "duration": 710,
    "start_time": "2025-02-27T20:13:08.689Z"
   },
   {
    "duration": 2828,
    "start_time": "2025-02-27T20:13:09.401Z"
   },
   {
    "duration": 7,
    "start_time": "2025-02-27T20:13:12.231Z"
   },
   {
    "duration": 4,
    "start_time": "2025-02-27T20:13:12.239Z"
   },
   {
    "duration": 4,
    "start_time": "2025-02-27T20:13:12.245Z"
   },
   {
    "duration": 72,
    "start_time": "2025-02-27T20:13:12.251Z"
   },
   {
    "duration": 184,
    "start_time": "2025-02-27T20:13:12.327Z"
   },
   {
    "duration": 121,
    "start_time": "2025-02-27T20:13:12.514Z"
   },
   {
    "duration": 86,
    "start_time": "2025-02-27T20:13:12.637Z"
   },
   {
    "duration": 5,
    "start_time": "2025-02-27T20:13:12.727Z"
   },
   {
    "duration": 3,
    "start_time": "2025-02-27T20:13:12.733Z"
   },
   {
    "duration": 277,
    "start_time": "2025-02-27T20:13:12.737Z"
   },
   {
    "duration": 0,
    "start_time": "2025-02-27T20:13:13.016Z"
   },
   {
    "duration": 0,
    "start_time": "2025-02-27T20:13:13.018Z"
   },
   {
    "duration": 0,
    "start_time": "2025-02-27T20:13:13.019Z"
   },
   {
    "duration": 0,
    "start_time": "2025-02-27T20:13:13.020Z"
   },
   {
    "duration": 0,
    "start_time": "2025-02-27T20:13:13.022Z"
   },
   {
    "duration": 0,
    "start_time": "2025-02-27T20:13:13.023Z"
   },
   {
    "duration": 0,
    "start_time": "2025-02-27T20:13:13.024Z"
   },
   {
    "duration": 0,
    "start_time": "2025-02-27T20:13:13.026Z"
   },
   {
    "duration": 0,
    "start_time": "2025-02-27T20:13:13.028Z"
   },
   {
    "duration": 0,
    "start_time": "2025-02-27T20:13:13.030Z"
   },
   {
    "duration": 4,
    "start_time": "2025-02-27T20:13:57.263Z"
   },
   {
    "duration": 4,
    "start_time": "2025-02-27T20:15:02.316Z"
   },
   {
    "duration": 4,
    "start_time": "2025-02-27T20:18:12.414Z"
   },
   {
    "duration": 4,
    "start_time": "2025-02-27T20:18:30.391Z"
   },
   {
    "duration": 3,
    "start_time": "2025-02-27T20:18:39.439Z"
   },
   {
    "duration": 4,
    "start_time": "2025-02-27T20:18:58.431Z"
   },
   {
    "duration": 3,
    "start_time": "2025-02-27T20:19:09.746Z"
   },
   {
    "duration": 3,
    "start_time": "2025-02-27T20:20:38.869Z"
   },
   {
    "duration": 4,
    "start_time": "2025-02-27T20:20:41.009Z"
   },
   {
    "duration": 5,
    "start_time": "2025-02-27T20:21:45.835Z"
   },
   {
    "duration": 14,
    "start_time": "2025-02-27T20:21:55.505Z"
   },
   {
    "duration": 2,
    "start_time": "2025-02-27T20:22:58.178Z"
   },
   {
    "duration": 761,
    "start_time": "2025-02-27T20:23:09.754Z"
   },
   {
    "duration": 3045,
    "start_time": "2025-02-27T20:23:10.517Z"
   },
   {
    "duration": 5,
    "start_time": "2025-02-27T20:23:13.563Z"
   },
   {
    "duration": 3,
    "start_time": "2025-02-27T20:23:13.570Z"
   },
   {
    "duration": 4,
    "start_time": "2025-02-27T20:23:13.575Z"
   },
   {
    "duration": 54,
    "start_time": "2025-02-27T20:23:13.581Z"
   },
   {
    "duration": 188,
    "start_time": "2025-02-27T20:23:13.637Z"
   },
   {
    "duration": 185,
    "start_time": "2025-02-27T20:23:13.827Z"
   },
   {
    "duration": 18,
    "start_time": "2025-02-27T20:23:14.014Z"
   },
   {
    "duration": 79,
    "start_time": "2025-02-27T20:23:14.034Z"
   },
   {
    "duration": 3,
    "start_time": "2025-02-27T20:23:14.115Z"
   },
   {
    "duration": 4,
    "start_time": "2025-02-27T20:23:14.120Z"
   },
   {
    "duration": 226,
    "start_time": "2025-02-27T20:23:14.126Z"
   },
   {
    "duration": 0,
    "start_time": "2025-02-27T20:23:14.354Z"
   },
   {
    "duration": 0,
    "start_time": "2025-02-27T20:23:14.355Z"
   },
   {
    "duration": 0,
    "start_time": "2025-02-27T20:23:14.357Z"
   },
   {
    "duration": 0,
    "start_time": "2025-02-27T20:23:14.358Z"
   },
   {
    "duration": 0,
    "start_time": "2025-02-27T20:23:14.360Z"
   },
   {
    "duration": 0,
    "start_time": "2025-02-27T20:23:14.361Z"
   },
   {
    "duration": 0,
    "start_time": "2025-02-27T20:23:14.363Z"
   },
   {
    "duration": 0,
    "start_time": "2025-02-27T20:23:14.364Z"
   },
   {
    "duration": 1,
    "start_time": "2025-02-27T20:23:14.365Z"
   },
   {
    "duration": 4,
    "start_time": "2025-02-27T20:24:16.911Z"
   },
   {
    "duration": 4,
    "start_time": "2025-02-27T20:24:35.557Z"
   },
   {
    "duration": 4,
    "start_time": "2025-02-27T20:26:08.605Z"
   },
   {
    "duration": 3,
    "start_time": "2025-02-27T20:26:29.502Z"
   },
   {
    "duration": 4,
    "start_time": "2025-02-27T20:26:53.157Z"
   },
   {
    "duration": 4,
    "start_time": "2025-02-27T20:27:58.712Z"
   },
   {
    "duration": 4,
    "start_time": "2025-02-27T20:28:09.440Z"
   },
   {
    "duration": 767,
    "start_time": "2025-02-27T20:28:45.041Z"
   },
   {
    "duration": 2955,
    "start_time": "2025-02-27T20:28:45.810Z"
   },
   {
    "duration": 4,
    "start_time": "2025-02-27T20:28:48.766Z"
   },
   {
    "duration": 3,
    "start_time": "2025-02-27T20:28:48.773Z"
   },
   {
    "duration": 7,
    "start_time": "2025-02-27T20:28:48.778Z"
   },
   {
    "duration": 132,
    "start_time": "2025-02-27T20:28:48.786Z"
   },
   {
    "duration": 121,
    "start_time": "2025-02-27T20:28:48.920Z"
   },
   {
    "duration": 192,
    "start_time": "2025-02-27T20:28:49.042Z"
   },
   {
    "duration": 84,
    "start_time": "2025-02-27T20:28:49.236Z"
   },
   {
    "duration": 4,
    "start_time": "2025-02-27T20:28:49.323Z"
   },
   {
    "duration": 3,
    "start_time": "2025-02-27T20:28:49.329Z"
   },
   {
    "duration": 5,
    "start_time": "2025-02-27T20:28:49.333Z"
   },
   {
    "duration": 4,
    "start_time": "2025-02-27T20:28:49.340Z"
   },
   {
    "duration": 9,
    "start_time": "2025-02-27T20:28:49.412Z"
   },
   {
    "duration": 4,
    "start_time": "2025-02-27T20:28:49.423Z"
   },
   {
    "duration": 3,
    "start_time": "2025-02-27T20:28:49.429Z"
   },
   {
    "duration": 2,
    "start_time": "2025-02-27T20:28:49.434Z"
   },
   {
    "duration": 753,
    "start_time": "2025-02-27T20:28:49.438Z"
   },
   {
    "duration": 5,
    "start_time": "2025-02-27T20:28:50.193Z"
   },
   {
    "duration": 15,
    "start_time": "2025-02-27T20:28:50.199Z"
   },
   {
    "duration": 5,
    "start_time": "2025-02-27T20:29:20.291Z"
   },
   {
    "duration": 3,
    "start_time": "2025-02-27T20:29:32.070Z"
   },
   {
    "duration": 8,
    "start_time": "2025-02-27T20:29:34.025Z"
   },
   {
    "duration": 5,
    "start_time": "2025-02-27T20:29:36.718Z"
   },
   {
    "duration": 3,
    "start_time": "2025-02-27T20:29:41.665Z"
   },
   {
    "duration": 3,
    "start_time": "2025-02-27T20:29:42.520Z"
   },
   {
    "duration": 703,
    "start_time": "2025-02-27T20:29:43.196Z"
   },
   {
    "duration": 5,
    "start_time": "2025-02-27T20:29:44.639Z"
   },
   {
    "duration": 5,
    "start_time": "2025-02-27T20:29:47.485Z"
   },
   {
    "duration": 756,
    "start_time": "2025-02-27T20:31:14.758Z"
   },
   {
    "duration": 2709,
    "start_time": "2025-02-27T20:31:15.516Z"
   },
   {
    "duration": 5,
    "start_time": "2025-02-27T20:31:18.227Z"
   },
   {
    "duration": 4,
    "start_time": "2025-02-27T20:31:18.234Z"
   },
   {
    "duration": 5,
    "start_time": "2025-02-27T20:31:18.239Z"
   },
   {
    "duration": 79,
    "start_time": "2025-02-27T20:31:18.246Z"
   },
   {
    "duration": 186,
    "start_time": "2025-02-27T20:31:18.327Z"
   },
   {
    "duration": 123,
    "start_time": "2025-02-27T20:31:18.515Z"
   },
   {
    "duration": 80,
    "start_time": "2025-02-27T20:31:18.640Z"
   },
   {
    "duration": 4,
    "start_time": "2025-02-27T20:31:18.723Z"
   },
   {
    "duration": 4,
    "start_time": "2025-02-27T20:31:18.728Z"
   },
   {
    "duration": 5,
    "start_time": "2025-02-27T20:31:18.733Z"
   },
   {
    "duration": 74,
    "start_time": "2025-02-27T20:31:18.739Z"
   },
   {
    "duration": 11,
    "start_time": "2025-02-27T20:31:18.814Z"
   },
   {
    "duration": 2,
    "start_time": "2025-02-27T20:31:18.827Z"
   },
   {
    "duration": 714,
    "start_time": "2025-02-27T20:31:18.831Z"
   },
   {
    "duration": 5,
    "start_time": "2025-02-27T20:31:19.547Z"
   },
   {
    "duration": 5,
    "start_time": "2025-02-27T20:31:19.553Z"
   },
   {
    "duration": 730,
    "start_time": "2025-02-27T20:34:06.083Z"
   },
   {
    "duration": 2648,
    "start_time": "2025-02-27T20:34:06.815Z"
   },
   {
    "duration": 6,
    "start_time": "2025-02-27T20:34:09.466Z"
   },
   {
    "duration": 4,
    "start_time": "2025-02-27T20:34:09.473Z"
   },
   {
    "duration": 5,
    "start_time": "2025-02-27T20:34:09.479Z"
   },
   {
    "duration": 55,
    "start_time": "2025-02-27T20:34:09.485Z"
   },
   {
    "duration": 187,
    "start_time": "2025-02-27T20:34:09.542Z"
   },
   {
    "duration": 193,
    "start_time": "2025-02-27T20:34:09.731Z"
   },
   {
    "duration": 93,
    "start_time": "2025-02-27T20:34:09.926Z"
   },
   {
    "duration": 4,
    "start_time": "2025-02-27T20:34:10.023Z"
   },
   {
    "duration": 3,
    "start_time": "2025-02-27T20:34:10.029Z"
   },
   {
    "duration": 7,
    "start_time": "2025-02-27T20:34:10.033Z"
   },
   {
    "duration": 4,
    "start_time": "2025-02-27T20:34:10.042Z"
   },
   {
    "duration": 10,
    "start_time": "2025-02-27T20:34:10.048Z"
   },
   {
    "duration": 272,
    "start_time": "2025-02-27T20:34:10.059Z"
   },
   {
    "duration": 0,
    "start_time": "2025-02-27T20:34:10.333Z"
   },
   {
    "duration": 0,
    "start_time": "2025-02-27T20:34:10.335Z"
   },
   {
    "duration": 0,
    "start_time": "2025-02-27T20:34:10.336Z"
   },
   {
    "duration": 0,
    "start_time": "2025-02-27T20:34:10.338Z"
   },
   {
    "duration": 5,
    "start_time": "2025-02-27T20:34:18.117Z"
   },
   {
    "duration": 790,
    "start_time": "2025-02-27T20:35:16.117Z"
   },
   {
    "duration": 2557,
    "start_time": "2025-02-27T20:35:16.909Z"
   },
   {
    "duration": 4,
    "start_time": "2025-02-27T20:35:19.468Z"
   },
   {
    "duration": 4,
    "start_time": "2025-02-27T20:35:19.475Z"
   },
   {
    "duration": 5,
    "start_time": "2025-02-27T20:35:19.480Z"
   },
   {
    "duration": 51,
    "start_time": "2025-02-27T20:35:19.487Z"
   },
   {
    "duration": 185,
    "start_time": "2025-02-27T20:35:19.540Z"
   },
   {
    "duration": 185,
    "start_time": "2025-02-27T20:35:19.728Z"
   },
   {
    "duration": 17,
    "start_time": "2025-02-27T20:35:19.914Z"
   },
   {
    "duration": 79,
    "start_time": "2025-02-27T20:35:19.934Z"
   },
   {
    "duration": 3,
    "start_time": "2025-02-27T20:35:20.015Z"
   },
   {
    "duration": 5,
    "start_time": "2025-02-27T20:35:20.020Z"
   },
   {
    "duration": 4,
    "start_time": "2025-02-27T20:35:20.026Z"
   },
   {
    "duration": 11,
    "start_time": "2025-02-27T20:35:20.031Z"
   },
   {
    "duration": 5,
    "start_time": "2025-02-27T20:35:20.044Z"
   },
   {
    "duration": 244,
    "start_time": "2025-02-27T20:35:20.050Z"
   },
   {
    "duration": 0,
    "start_time": "2025-02-27T20:35:20.295Z"
   },
   {
    "duration": 0,
    "start_time": "2025-02-27T20:35:20.296Z"
   },
   {
    "duration": 0,
    "start_time": "2025-02-27T20:35:20.297Z"
   },
   {
    "duration": 0,
    "start_time": "2025-02-27T20:35:20.299Z"
   },
   {
    "duration": 4,
    "start_time": "2025-02-27T20:35:56.795Z"
   },
   {
    "duration": 8,
    "start_time": "2025-02-27T20:35:57.286Z"
   },
   {
    "duration": 5,
    "start_time": "2025-02-27T20:35:57.781Z"
   },
   {
    "duration": 737,
    "start_time": "2025-02-27T20:43:39.171Z"
   },
   {
    "duration": 2825,
    "start_time": "2025-02-27T20:43:39.910Z"
   },
   {
    "duration": 5,
    "start_time": "2025-02-27T20:43:42.737Z"
   },
   {
    "duration": 3,
    "start_time": "2025-02-27T20:43:42.745Z"
   },
   {
    "duration": 5,
    "start_time": "2025-02-27T20:43:42.750Z"
   },
   {
    "duration": 67,
    "start_time": "2025-02-27T20:43:42.758Z"
   },
   {
    "duration": 186,
    "start_time": "2025-02-27T20:43:42.827Z"
   },
   {
    "duration": 119,
    "start_time": "2025-02-27T20:43:43.015Z"
   },
   {
    "duration": 86,
    "start_time": "2025-02-27T20:43:43.136Z"
   },
   {
    "duration": 4,
    "start_time": "2025-02-27T20:43:43.228Z"
   },
   {
    "duration": 3,
    "start_time": "2025-02-27T20:43:43.234Z"
   },
   {
    "duration": 75,
    "start_time": "2025-02-27T20:43:43.239Z"
   },
   {
    "duration": 4,
    "start_time": "2025-02-27T20:43:43.315Z"
   },
   {
    "duration": 8,
    "start_time": "2025-02-27T20:43:43.321Z"
   },
   {
    "duration": 9,
    "start_time": "2025-02-27T20:43:43.331Z"
   },
   {
    "duration": 256,
    "start_time": "2025-02-27T20:43:43.342Z"
   },
   {
    "duration": 0,
    "start_time": "2025-02-27T20:43:43.600Z"
   },
   {
    "duration": 0,
    "start_time": "2025-02-27T20:43:43.601Z"
   },
   {
    "duration": 0,
    "start_time": "2025-02-27T20:43:43.602Z"
   },
   {
    "duration": 0,
    "start_time": "2025-02-27T20:43:43.612Z"
   },
   {
    "duration": 4,
    "start_time": "2025-02-27T20:44:21.641Z"
   },
   {
    "duration": 3,
    "start_time": "2025-02-27T20:47:23.508Z"
   },
   {
    "duration": 3,
    "start_time": "2025-02-27T20:47:27.288Z"
   },
   {
    "duration": 7,
    "start_time": "2025-02-27T20:47:27.679Z"
   },
   {
    "duration": 4,
    "start_time": "2025-02-27T20:47:28.013Z"
   },
   {
    "duration": 740,
    "start_time": "2025-02-27T20:56:26.379Z"
   },
   {
    "duration": 2828,
    "start_time": "2025-02-27T20:56:27.122Z"
   },
   {
    "duration": 11,
    "start_time": "2025-02-27T20:56:29.952Z"
   },
   {
    "duration": 4,
    "start_time": "2025-02-27T20:56:29.965Z"
   },
   {
    "duration": 4,
    "start_time": "2025-02-27T20:56:29.972Z"
   },
   {
    "duration": 54,
    "start_time": "2025-02-27T20:56:29.977Z"
   },
   {
    "duration": 186,
    "start_time": "2025-02-27T20:56:30.033Z"
   },
   {
    "duration": 114,
    "start_time": "2025-02-27T20:56:30.221Z"
   },
   {
    "duration": 17,
    "start_time": "2025-02-27T20:56:30.412Z"
   },
   {
    "duration": 3,
    "start_time": "2025-02-27T20:56:30.432Z"
   },
   {
    "duration": 3,
    "start_time": "2025-02-27T20:56:30.436Z"
   },
   {
    "duration": 3,
    "start_time": "2025-02-27T20:56:30.512Z"
   },
   {
    "duration": 3,
    "start_time": "2025-02-27T20:56:30.517Z"
   },
   {
    "duration": 8,
    "start_time": "2025-02-27T20:56:30.523Z"
   },
   {
    "duration": 232,
    "start_time": "2025-02-27T20:56:30.532Z"
   },
   {
    "duration": 0,
    "start_time": "2025-02-27T20:56:30.766Z"
   },
   {
    "duration": 0,
    "start_time": "2025-02-27T20:56:30.767Z"
   },
   {
    "duration": 0,
    "start_time": "2025-02-27T20:56:30.768Z"
   },
   {
    "duration": 0,
    "start_time": "2025-02-27T20:56:30.769Z"
   },
   {
    "duration": 0,
    "start_time": "2025-02-27T20:56:30.770Z"
   },
   {
    "duration": 0,
    "start_time": "2025-02-27T20:56:30.771Z"
   },
   {
    "duration": 793,
    "start_time": "2025-02-27T21:03:50.117Z"
   },
   {
    "duration": 2970,
    "start_time": "2025-02-27T21:03:50.912Z"
   },
   {
    "duration": 4,
    "start_time": "2025-02-27T21:03:53.884Z"
   },
   {
    "duration": 4,
    "start_time": "2025-02-27T21:03:53.889Z"
   },
   {
    "duration": 5,
    "start_time": "2025-02-27T21:03:53.896Z"
   },
   {
    "duration": 41,
    "start_time": "2025-02-27T21:03:53.911Z"
   },
   {
    "duration": 121,
    "start_time": "2025-02-27T21:03:54.013Z"
   },
   {
    "duration": 190,
    "start_time": "2025-02-27T21:03:54.136Z"
   },
   {
    "duration": 89,
    "start_time": "2025-02-27T21:03:54.328Z"
   },
   {
    "duration": 4,
    "start_time": "2025-02-27T21:03:54.421Z"
   },
   {
    "duration": 4,
    "start_time": "2025-02-27T21:03:54.426Z"
   },
   {
    "duration": 6,
    "start_time": "2025-02-27T21:03:54.431Z"
   },
   {
    "duration": 4,
    "start_time": "2025-02-27T21:03:54.438Z"
   },
   {
    "duration": 74,
    "start_time": "2025-02-27T21:03:54.445Z"
   },
   {
    "duration": 4,
    "start_time": "2025-02-27T21:03:54.520Z"
   },
   {
    "duration": 255,
    "start_time": "2025-02-27T21:03:54.526Z"
   },
   {
    "duration": 0,
    "start_time": "2025-02-27T21:03:54.783Z"
   },
   {
    "duration": 0,
    "start_time": "2025-02-27T21:03:54.784Z"
   },
   {
    "duration": 0,
    "start_time": "2025-02-27T21:03:54.786Z"
   },
   {
    "duration": 0,
    "start_time": "2025-02-27T21:03:54.787Z"
   },
   {
    "duration": 4,
    "start_time": "2025-02-27T21:06:25.948Z"
   },
   {
    "duration": 8,
    "start_time": "2025-02-27T21:06:37.984Z"
   },
   {
    "duration": 8,
    "start_time": "2025-02-27T21:06:59.534Z"
   },
   {
    "duration": 9,
    "start_time": "2025-02-27T21:10:33.350Z"
   },
   {
    "duration": 731,
    "start_time": "2025-02-27T21:23:34.295Z"
   },
   {
    "duration": 3040,
    "start_time": "2025-02-27T21:23:35.029Z"
   },
   {
    "duration": 5,
    "start_time": "2025-02-27T21:23:38.071Z"
   },
   {
    "duration": 3,
    "start_time": "2025-02-27T21:23:38.079Z"
   },
   {
    "duration": 4,
    "start_time": "2025-02-27T21:23:38.085Z"
   },
   {
    "duration": 121,
    "start_time": "2025-02-27T21:23:38.091Z"
   },
   {
    "duration": 118,
    "start_time": "2025-02-27T21:23:38.214Z"
   },
   {
    "duration": 184,
    "start_time": "2025-02-27T21:23:38.334Z"
   },
   {
    "duration": 92,
    "start_time": "2025-02-27T21:23:38.520Z"
   },
   {
    "duration": 4,
    "start_time": "2025-02-27T21:23:38.614Z"
   },
   {
    "duration": 2,
    "start_time": "2025-02-27T21:23:38.620Z"
   },
   {
    "duration": 7,
    "start_time": "2025-02-27T21:23:38.624Z"
   },
   {
    "duration": 5,
    "start_time": "2025-02-27T21:23:38.632Z"
   },
   {
    "duration": 22,
    "start_time": "2025-02-27T21:23:38.639Z"
   },
   {
    "duration": 8,
    "start_time": "2025-02-27T21:23:38.662Z"
   },
   {
    "duration": 46,
    "start_time": "2025-02-27T21:23:38.672Z"
   },
   {
    "duration": 219,
    "start_time": "2025-02-27T21:23:38.721Z"
   },
   {
    "duration": 0,
    "start_time": "2025-02-27T21:23:38.942Z"
   },
   {
    "duration": 0,
    "start_time": "2025-02-27T21:23:38.943Z"
   },
   {
    "duration": 0,
    "start_time": "2025-02-27T21:23:38.944Z"
   },
   {
    "duration": 0,
    "start_time": "2025-02-27T21:23:38.946Z"
   },
   {
    "duration": 8,
    "start_time": "2025-02-27T21:23:57.854Z"
   },
   {
    "duration": 9,
    "start_time": "2025-02-27T21:24:00.639Z"
   },
   {
    "duration": 760,
    "start_time": "2025-02-27T21:39:28.263Z"
   },
   {
    "duration": 2724,
    "start_time": "2025-02-27T21:39:29.025Z"
   },
   {
    "duration": 5,
    "start_time": "2025-02-27T21:39:31.750Z"
   },
   {
    "duration": 4,
    "start_time": "2025-02-27T21:39:31.757Z"
   },
   {
    "duration": 4,
    "start_time": "2025-02-27T21:39:31.764Z"
   },
   {
    "duration": 64,
    "start_time": "2025-02-27T21:39:31.770Z"
   },
   {
    "duration": 192,
    "start_time": "2025-02-27T21:39:31.836Z"
   },
   {
    "duration": 191,
    "start_time": "2025-02-27T21:39:32.029Z"
   },
   {
    "duration": 90,
    "start_time": "2025-02-27T21:39:32.225Z"
   },
   {
    "duration": 4,
    "start_time": "2025-02-27T21:39:32.317Z"
   },
   {
    "duration": 3,
    "start_time": "2025-02-27T21:39:32.323Z"
   },
   {
    "duration": 4,
    "start_time": "2025-02-27T21:39:32.328Z"
   },
   {
    "duration": 4,
    "start_time": "2025-02-27T21:39:32.335Z"
   },
   {
    "duration": 20,
    "start_time": "2025-02-27T21:39:32.342Z"
   },
   {
    "duration": 49,
    "start_time": "2025-02-27T21:39:32.364Z"
   },
   {
    "duration": 8,
    "start_time": "2025-02-27T21:39:32.414Z"
   },
   {
    "duration": 224,
    "start_time": "2025-02-27T21:39:32.424Z"
   },
   {
    "duration": 0,
    "start_time": "2025-02-27T21:39:32.650Z"
   },
   {
    "duration": 0,
    "start_time": "2025-02-27T21:39:32.651Z"
   },
   {
    "duration": 0,
    "start_time": "2025-02-27T21:39:32.652Z"
   },
   {
    "duration": 0,
    "start_time": "2025-02-27T21:39:32.653Z"
   },
   {
    "duration": 8,
    "start_time": "2025-02-27T21:40:37.943Z"
   },
   {
    "duration": 774,
    "start_time": "2025-02-27T21:40:46.410Z"
   },
   {
    "duration": 2636,
    "start_time": "2025-02-27T21:40:47.187Z"
   },
   {
    "duration": 4,
    "start_time": "2025-02-27T21:40:49.824Z"
   },
   {
    "duration": 4,
    "start_time": "2025-02-27T21:40:49.830Z"
   },
   {
    "duration": 6,
    "start_time": "2025-02-27T21:40:49.835Z"
   },
   {
    "duration": 83,
    "start_time": "2025-02-27T21:40:49.843Z"
   },
   {
    "duration": 184,
    "start_time": "2025-02-27T21:40:49.928Z"
   },
   {
    "duration": 124,
    "start_time": "2025-02-27T21:40:50.114Z"
   },
   {
    "duration": 81,
    "start_time": "2025-02-27T21:40:50.240Z"
   },
   {
    "duration": 4,
    "start_time": "2025-02-27T21:40:50.325Z"
   },
   {
    "duration": 3,
    "start_time": "2025-02-27T21:40:50.331Z"
   },
   {
    "duration": 77,
    "start_time": "2025-02-27T21:40:50.336Z"
   },
   {
    "duration": 4,
    "start_time": "2025-02-27T21:40:50.415Z"
   },
   {
    "duration": 20,
    "start_time": "2025-02-27T21:40:50.421Z"
   },
   {
    "duration": 8,
    "start_time": "2025-02-27T21:40:50.442Z"
   },
   {
    "duration": 7,
    "start_time": "2025-02-27T21:40:50.452Z"
   },
   {
    "duration": 250,
    "start_time": "2025-02-27T21:40:50.461Z"
   },
   {
    "duration": 0,
    "start_time": "2025-02-27T21:40:50.713Z"
   },
   {
    "duration": 0,
    "start_time": "2025-02-27T21:40:50.715Z"
   },
   {
    "duration": 0,
    "start_time": "2025-02-27T21:40:50.716Z"
   },
   {
    "duration": 0,
    "start_time": "2025-02-27T21:40:50.717Z"
   },
   {
    "duration": 8,
    "start_time": "2025-02-27T21:41:27.496Z"
   },
   {
    "duration": 8,
    "start_time": "2025-02-27T21:41:37.470Z"
   },
   {
    "duration": 8,
    "start_time": "2025-02-27T21:41:38.760Z"
   },
   {
    "duration": 3,
    "start_time": "2025-02-27T21:42:09.836Z"
   },
   {
    "duration": 794,
    "start_time": "2025-02-27T21:42:14.039Z"
   },
   {
    "duration": 2930,
    "start_time": "2025-02-27T21:42:14.835Z"
   },
   {
    "duration": 5,
    "start_time": "2025-02-27T21:42:17.766Z"
   },
   {
    "duration": 3,
    "start_time": "2025-02-27T21:42:17.774Z"
   },
   {
    "duration": 5,
    "start_time": "2025-02-27T21:42:17.778Z"
   },
   {
    "duration": 56,
    "start_time": "2025-02-27T21:42:17.784Z"
   },
   {
    "duration": 200,
    "start_time": "2025-02-27T21:42:17.841Z"
   },
   {
    "duration": 183,
    "start_time": "2025-02-27T21:42:18.042Z"
   },
   {
    "duration": 88,
    "start_time": "2025-02-27T21:42:18.227Z"
   },
   {
    "duration": 5,
    "start_time": "2025-02-27T21:42:18.318Z"
   },
   {
    "duration": 3,
    "start_time": "2025-02-27T21:42:18.325Z"
   },
   {
    "duration": 5,
    "start_time": "2025-02-27T21:42:18.329Z"
   },
   {
    "duration": 4,
    "start_time": "2025-02-27T21:42:18.336Z"
   },
   {
    "duration": 20,
    "start_time": "2025-02-27T21:42:18.341Z"
   },
   {
    "duration": 56,
    "start_time": "2025-02-27T21:42:18.362Z"
   },
   {
    "duration": 9,
    "start_time": "2025-02-27T21:42:18.419Z"
   },
   {
    "duration": 3,
    "start_time": "2025-02-27T21:42:18.429Z"
   },
   {
    "duration": 736,
    "start_time": "2025-02-27T21:42:18.434Z"
   },
   {
    "duration": 5,
    "start_time": "2025-02-27T21:42:19.172Z"
   },
   {
    "duration": 5,
    "start_time": "2025-02-27T21:42:19.179Z"
   },
   {
    "duration": 762,
    "start_time": "2025-02-27T21:45:53.862Z"
   },
   {
    "duration": 3369,
    "start_time": "2025-02-27T21:45:54.626Z"
   },
   {
    "duration": 4,
    "start_time": "2025-02-27T21:45:57.997Z"
   },
   {
    "duration": 4,
    "start_time": "2025-02-27T21:45:58.003Z"
   },
   {
    "duration": 5,
    "start_time": "2025-02-27T21:45:58.012Z"
   },
   {
    "duration": 98,
    "start_time": "2025-02-27T21:45:58.019Z"
   },
   {
    "duration": 115,
    "start_time": "2025-02-27T21:45:58.119Z"
   },
   {
    "duration": 186,
    "start_time": "2025-02-27T21:45:58.236Z"
   },
   {
    "duration": 91,
    "start_time": "2025-02-27T21:45:58.423Z"
   },
   {
    "duration": 4,
    "start_time": "2025-02-27T21:45:58.517Z"
   },
   {
    "duration": 3,
    "start_time": "2025-02-27T21:45:58.523Z"
   },
   {
    "duration": 5,
    "start_time": "2025-02-27T21:45:58.528Z"
   },
   {
    "duration": 5,
    "start_time": "2025-02-27T21:45:58.534Z"
   },
   {
    "duration": 22,
    "start_time": "2025-02-27T21:45:58.542Z"
   },
   {
    "duration": 51,
    "start_time": "2025-02-27T21:45:58.566Z"
   },
   {
    "duration": 220,
    "start_time": "2025-02-27T21:45:58.619Z"
   },
   {
    "duration": 0,
    "start_time": "2025-02-27T21:45:58.841Z"
   },
   {
    "duration": 0,
    "start_time": "2025-02-27T21:45:58.842Z"
   },
   {
    "duration": 0,
    "start_time": "2025-02-27T21:45:58.844Z"
   },
   {
    "duration": 0,
    "start_time": "2025-02-27T21:45:58.845Z"
   },
   {
    "duration": 0,
    "start_time": "2025-02-27T21:45:58.847Z"
   },
   {
    "duration": 786,
    "start_time": "2025-02-27T21:47:34.226Z"
   },
   {
    "duration": 2780,
    "start_time": "2025-02-27T21:47:35.015Z"
   },
   {
    "duration": 5,
    "start_time": "2025-02-27T21:47:37.796Z"
   },
   {
    "duration": 3,
    "start_time": "2025-02-27T21:47:37.811Z"
   },
   {
    "duration": 4,
    "start_time": "2025-02-27T21:47:37.817Z"
   },
   {
    "duration": 90,
    "start_time": "2025-02-27T21:47:37.822Z"
   },
   {
    "duration": 130,
    "start_time": "2025-02-27T21:47:37.914Z"
   },
   {
    "duration": 120,
    "start_time": "2025-02-27T21:47:38.112Z"
   },
   {
    "duration": 89,
    "start_time": "2025-02-27T21:47:38.234Z"
   },
   {
    "duration": 3,
    "start_time": "2025-02-27T21:47:38.328Z"
   },
   {
    "duration": 3,
    "start_time": "2025-02-27T21:47:38.333Z"
   },
   {
    "duration": 6,
    "start_time": "2025-02-27T21:47:38.337Z"
   },
   {
    "duration": 69,
    "start_time": "2025-02-27T21:47:38.345Z"
   },
   {
    "duration": 19,
    "start_time": "2025-02-27T21:47:38.417Z"
   },
   {
    "duration": 3,
    "start_time": "2025-02-27T21:47:38.438Z"
   },
   {
    "duration": 4,
    "start_time": "2025-02-27T21:47:38.443Z"
   },
   {
    "duration": 8,
    "start_time": "2025-02-27T21:47:38.449Z"
   },
   {
    "duration": 263,
    "start_time": "2025-02-27T21:47:38.458Z"
   },
   {
    "duration": 0,
    "start_time": "2025-02-27T21:47:38.722Z"
   },
   {
    "duration": 0,
    "start_time": "2025-02-27T21:47:38.724Z"
   },
   {
    "duration": 0,
    "start_time": "2025-02-27T21:47:38.725Z"
   },
   {
    "duration": 0,
    "start_time": "2025-02-27T21:47:38.726Z"
   },
   {
    "duration": 0,
    "start_time": "2025-02-27T21:47:38.728Z"
   },
   {
    "duration": 762,
    "start_time": "2025-02-27T21:48:36.248Z"
   },
   {
    "duration": 2552,
    "start_time": "2025-02-27T21:48:37.013Z"
   },
   {
    "duration": 5,
    "start_time": "2025-02-27T21:48:39.567Z"
   },
   {
    "duration": 4,
    "start_time": "2025-02-27T21:48:39.574Z"
   },
   {
    "duration": 16,
    "start_time": "2025-02-27T21:48:39.580Z"
   },
   {
    "duration": 46,
    "start_time": "2025-02-27T21:48:39.598Z"
   },
   {
    "duration": 171,
    "start_time": "2025-02-27T21:48:39.647Z"
   },
   {
    "duration": 119,
    "start_time": "2025-02-27T21:48:39.820Z"
   },
   {
    "duration": 86,
    "start_time": "2025-02-27T21:48:39.941Z"
   },
   {
    "duration": 4,
    "start_time": "2025-02-27T21:48:40.030Z"
   },
   {
    "duration": 77,
    "start_time": "2025-02-27T21:48:40.035Z"
   },
   {
    "duration": 4,
    "start_time": "2025-02-27T21:48:40.114Z"
   },
   {
    "duration": 3,
    "start_time": "2025-02-27T21:48:40.120Z"
   },
   {
    "duration": 23,
    "start_time": "2025-02-27T21:48:40.125Z"
   },
   {
    "duration": 3,
    "start_time": "2025-02-27T21:48:40.150Z"
   },
   {
    "duration": 3,
    "start_time": "2025-02-27T21:48:40.155Z"
   },
   {
    "duration": 7,
    "start_time": "2025-02-27T21:48:40.160Z"
   },
   {
    "duration": 251,
    "start_time": "2025-02-27T21:48:40.168Z"
   },
   {
    "duration": 0,
    "start_time": "2025-02-27T21:48:40.420Z"
   },
   {
    "duration": 0,
    "start_time": "2025-02-27T21:48:40.422Z"
   },
   {
    "duration": 0,
    "start_time": "2025-02-27T21:48:40.423Z"
   },
   {
    "duration": 0,
    "start_time": "2025-02-27T21:48:40.424Z"
   },
   {
    "duration": 0,
    "start_time": "2025-02-27T21:48:40.425Z"
   },
   {
    "duration": 8,
    "start_time": "2025-02-27T21:49:25.372Z"
   },
   {
    "duration": 8,
    "start_time": "2025-02-27T21:49:30.769Z"
   },
   {
    "duration": 2,
    "start_time": "2025-02-27T21:50:12.842Z"
   },
   {
    "duration": 736,
    "start_time": "2025-02-27T21:50:14.251Z"
   },
   {
    "duration": 4,
    "start_time": "2025-02-27T21:50:16.134Z"
   },
   {
    "duration": 773,
    "start_time": "2025-02-27T23:23:46.181Z"
   },
   {
    "duration": 2809,
    "start_time": "2025-02-27T23:23:46.956Z"
   },
   {
    "duration": 3,
    "start_time": "2025-02-27T23:23:49.768Z"
   },
   {
    "duration": 8,
    "start_time": "2025-02-27T23:23:49.775Z"
   },
   {
    "duration": 5,
    "start_time": "2025-02-27T23:23:49.789Z"
   },
   {
    "duration": 60,
    "start_time": "2025-02-27T23:23:49.796Z"
   },
   {
    "duration": 188,
    "start_time": "2025-02-27T23:23:49.857Z"
   },
   {
    "duration": 181,
    "start_time": "2025-02-27T23:23:50.050Z"
   },
   {
    "duration": 18,
    "start_time": "2025-02-27T23:23:50.233Z"
   },
   {
    "duration": 3,
    "start_time": "2025-02-27T23:23:50.331Z"
   },
   {
    "duration": 4,
    "start_time": "2025-02-27T23:23:50.336Z"
   },
   {
    "duration": 5,
    "start_time": "2025-02-27T23:23:50.341Z"
   },
   {
    "duration": 4,
    "start_time": "2025-02-27T23:23:50.348Z"
   },
   {
    "duration": 26,
    "start_time": "2025-02-27T23:23:50.353Z"
   },
   {
    "duration": 10,
    "start_time": "2025-02-27T23:23:50.381Z"
   },
   {
    "duration": 40,
    "start_time": "2025-02-27T23:23:50.393Z"
   },
   {
    "duration": 3,
    "start_time": "2025-02-27T23:23:50.436Z"
   },
   {
    "duration": 181,
    "start_time": "2025-02-27T23:23:50.441Z"
   },
   {
    "duration": 5,
    "start_time": "2025-02-27T23:23:50.630Z"
   },
   {
    "duration": 4,
    "start_time": "2025-02-27T23:23:50.637Z"
   },
   {
    "duration": 758,
    "start_time": "2025-02-27T23:26:00.770Z"
   },
   {
    "duration": 2804,
    "start_time": "2025-02-27T23:26:01.530Z"
   },
   {
    "duration": 5,
    "start_time": "2025-02-27T23:26:04.336Z"
   },
   {
    "duration": 4,
    "start_time": "2025-02-27T23:26:04.344Z"
   },
   {
    "duration": 4,
    "start_time": "2025-02-27T23:26:04.350Z"
   },
   {
    "duration": 87,
    "start_time": "2025-02-27T23:26:04.355Z"
   },
   {
    "duration": 190,
    "start_time": "2025-02-27T23:26:04.444Z"
   },
   {
    "duration": 118,
    "start_time": "2025-02-27T23:26:04.636Z"
   },
   {
    "duration": 85,
    "start_time": "2025-02-27T23:26:04.756Z"
   },
   {
    "duration": 4,
    "start_time": "2025-02-27T23:26:04.845Z"
   },
   {
    "duration": 3,
    "start_time": "2025-02-27T23:26:04.851Z"
   },
   {
    "duration": 6,
    "start_time": "2025-02-27T23:26:04.855Z"
   },
   {
    "duration": 73,
    "start_time": "2025-02-27T23:26:04.862Z"
   },
   {
    "duration": 21,
    "start_time": "2025-02-27T23:26:04.937Z"
   },
   {
    "duration": 8,
    "start_time": "2025-02-27T23:26:04.959Z"
   },
   {
    "duration": 7,
    "start_time": "2025-02-27T23:26:04.969Z"
   },
   {
    "duration": 3,
    "start_time": "2025-02-27T23:26:04.978Z"
   },
   {
    "duration": 755,
    "start_time": "2025-02-27T23:26:04.982Z"
   },
   {
    "duration": 4,
    "start_time": "2025-02-27T23:26:05.739Z"
   },
   {
    "duration": 5,
    "start_time": "2025-02-27T23:26:05.744Z"
   },
   {
    "duration": 737,
    "start_time": "2025-02-27T23:26:33.786Z"
   },
   {
    "duration": 2896,
    "start_time": "2025-02-27T23:26:34.526Z"
   },
   {
    "duration": 4,
    "start_time": "2025-02-27T23:26:37.424Z"
   },
   {
    "duration": 4,
    "start_time": "2025-02-27T23:26:37.430Z"
   },
   {
    "duration": 4,
    "start_time": "2025-02-27T23:26:37.436Z"
   },
   {
    "duration": 94,
    "start_time": "2025-02-27T23:26:37.442Z"
   },
   {
    "duration": 122,
    "start_time": "2025-02-27T23:26:37.538Z"
   },
   {
    "duration": 202,
    "start_time": "2025-02-27T23:26:37.662Z"
   },
   {
    "duration": 17,
    "start_time": "2025-02-27T23:26:37.931Z"
   },
   {
    "duration": 4,
    "start_time": "2025-02-27T23:26:37.950Z"
   },
   {
    "duration": 76,
    "start_time": "2025-02-27T23:26:37.955Z"
   },
   {
    "duration": 6,
    "start_time": "2025-02-27T23:26:38.033Z"
   },
   {
    "duration": 5,
    "start_time": "2025-02-27T23:26:38.041Z"
   },
   {
    "duration": 21,
    "start_time": "2025-02-27T23:26:38.050Z"
   },
   {
    "duration": 7,
    "start_time": "2025-02-27T23:26:38.073Z"
   },
   {
    "duration": 8,
    "start_time": "2025-02-27T23:26:38.082Z"
   },
   {
    "duration": 3,
    "start_time": "2025-02-27T23:26:38.091Z"
   },
   {
    "duration": 225,
    "start_time": "2025-02-27T23:26:38.095Z"
   },
   {
    "duration": 11,
    "start_time": "2025-02-27T23:26:38.322Z"
   },
   {
    "duration": 4,
    "start_time": "2025-02-27T23:26:38.335Z"
   },
   {
    "duration": 4,
    "start_time": "2025-02-27T23:27:04.952Z"
   },
   {
    "duration": 4,
    "start_time": "2025-02-27T23:27:15.271Z"
   },
   {
    "duration": 2748,
    "start_time": "2025-02-27T23:44:15.027Z"
   },
   {
    "duration": 2911,
    "start_time": "2025-02-27T23:44:17.778Z"
   },
   {
    "duration": 4,
    "start_time": "2025-02-27T23:44:20.691Z"
   },
   {
    "duration": 4,
    "start_time": "2025-02-27T23:44:20.697Z"
   },
   {
    "duration": 5,
    "start_time": "2025-02-27T23:44:20.704Z"
   },
   {
    "duration": 136,
    "start_time": "2025-02-27T23:44:20.710Z"
   },
   {
    "duration": 117,
    "start_time": "2025-02-27T23:44:20.848Z"
   },
   {
    "duration": 183,
    "start_time": "2025-02-27T23:44:20.967Z"
   },
   {
    "duration": 89,
    "start_time": "2025-02-27T23:44:21.151Z"
   },
   {
    "duration": 5,
    "start_time": "2025-02-27T23:44:21.241Z"
   },
   {
    "duration": 3,
    "start_time": "2025-02-27T23:44:21.247Z"
   },
   {
    "duration": 6,
    "start_time": "2025-02-27T23:44:21.251Z"
   },
   {
    "duration": 4,
    "start_time": "2025-02-27T23:44:21.258Z"
   },
   {
    "duration": 77,
    "start_time": "2025-02-27T23:44:21.265Z"
   },
   {
    "duration": 7,
    "start_time": "2025-02-27T23:44:21.344Z"
   },
   {
    "duration": 8,
    "start_time": "2025-02-27T23:44:21.353Z"
   },
   {
    "duration": 3,
    "start_time": "2025-02-27T23:44:21.362Z"
   },
   {
    "duration": 196,
    "start_time": "2025-02-27T23:44:21.366Z"
   },
   {
    "duration": 4,
    "start_time": "2025-02-27T23:44:21.564Z"
   },
   {
    "duration": 249,
    "start_time": "2025-02-27T23:44:21.570Z"
   },
   {
    "duration": 90,
    "start_time": "2025-02-27T23:48:21.455Z"
   },
   {
    "duration": 958,
    "start_time": "2025-02-27T23:52:01.906Z"
   },
   {
    "duration": 2876,
    "start_time": "2025-02-27T23:52:02.867Z"
   },
   {
    "duration": 4,
    "start_time": "2025-02-27T23:52:05.744Z"
   },
   {
    "duration": 4,
    "start_time": "2025-02-27T23:52:05.750Z"
   },
   {
    "duration": 5,
    "start_time": "2025-02-27T23:52:05.755Z"
   },
   {
    "duration": 79,
    "start_time": "2025-02-27T23:52:05.762Z"
   },
   {
    "duration": 188,
    "start_time": "2025-02-27T23:52:05.843Z"
   },
   {
    "duration": 121,
    "start_time": "2025-02-27T23:52:06.033Z"
   },
   {
    "duration": 85,
    "start_time": "2025-02-27T23:52:06.156Z"
   },
   {
    "duration": 4,
    "start_time": "2025-02-27T23:52:06.245Z"
   },
   {
    "duration": 3,
    "start_time": "2025-02-27T23:52:06.251Z"
   },
   {
    "duration": 5,
    "start_time": "2025-02-27T23:52:06.255Z"
   },
   {
    "duration": 73,
    "start_time": "2025-02-27T23:52:06.262Z"
   },
   {
    "duration": 23,
    "start_time": "2025-02-27T23:52:06.336Z"
   },
   {
    "duration": 7,
    "start_time": "2025-02-27T23:52:06.360Z"
   },
   {
    "duration": 7,
    "start_time": "2025-02-27T23:52:06.369Z"
   },
   {
    "duration": 3,
    "start_time": "2025-02-27T23:52:06.377Z"
   },
   {
    "duration": 214,
    "start_time": "2025-02-27T23:52:06.382Z"
   },
   {
    "duration": 5,
    "start_time": "2025-02-27T23:52:06.598Z"
   },
   {
    "duration": 111,
    "start_time": "2025-02-27T23:52:06.604Z"
   },
   {
    "duration": 94,
    "start_time": "2025-02-27T23:52:50.966Z"
   },
   {
    "duration": 87,
    "start_time": "2025-02-27T23:53:02.883Z"
   },
   {
    "duration": 174,
    "start_time": "2025-02-27T23:53:34.509Z"
   },
   {
    "duration": 6,
    "start_time": "2025-02-27T23:53:35.071Z"
   },
   {
    "duration": 93,
    "start_time": "2025-02-27T23:53:36.558Z"
   },
   {
    "duration": 190,
    "start_time": "2025-02-27T23:54:15.096Z"
   },
   {
    "duration": 4,
    "start_time": "2025-02-27T23:54:28.903Z"
   },
   {
    "duration": 94,
    "start_time": "2025-02-27T23:54:29.332Z"
   },
   {
    "duration": 194,
    "start_time": "2025-02-27T23:57:32.628Z"
   },
   {
    "duration": 7,
    "start_time": "2025-02-27T23:57:33.484Z"
   },
   {
    "duration": 93,
    "start_time": "2025-02-27T23:57:35.045Z"
   },
   {
    "duration": 98,
    "start_time": "2025-02-27T23:59:06.580Z"
   },
   {
    "duration": 141,
    "start_time": "2025-02-28T00:06:33.084Z"
   },
   {
    "duration": 335,
    "start_time": "2025-02-28T00:06:45.054Z"
   },
   {
    "duration": 3,
    "start_time": "2025-02-28T00:07:07.193Z"
   },
   {
    "duration": 5,
    "start_time": "2025-02-28T00:07:12.129Z"
   },
   {
    "duration": 4,
    "start_time": "2025-02-28T00:09:00.196Z"
   },
   {
    "duration": 5,
    "start_time": "2025-02-28T00:10:23.660Z"
   },
   {
    "duration": 174,
    "start_time": "2025-02-28T00:15:39.780Z"
   },
   {
    "duration": 4,
    "start_time": "2025-02-28T00:15:40.229Z"
   },
   {
    "duration": 93,
    "start_time": "2025-02-28T00:15:40.949Z"
   },
   {
    "duration": 4,
    "start_time": "2025-02-28T00:16:20.609Z"
   },
   {
    "duration": 95,
    "start_time": "2025-02-28T00:16:21.519Z"
   },
   {
    "duration": 5,
    "start_time": "2025-02-28T00:16:44.746Z"
   },
   {
    "duration": 119,
    "start_time": "2025-02-28T00:16:45.382Z"
   },
   {
    "duration": 3,
    "start_time": "2025-02-28T00:17:02.398Z"
   },
   {
    "duration": 186,
    "start_time": "2025-02-28T00:17:02.849Z"
   },
   {
    "duration": 5,
    "start_time": "2025-02-28T00:17:03.641Z"
   },
   {
    "duration": 92,
    "start_time": "2025-02-28T00:17:04.834Z"
   },
   {
    "duration": 5,
    "start_time": "2025-02-28T00:17:18.043Z"
   },
   {
    "duration": 92,
    "start_time": "2025-02-28T00:17:20.618Z"
   },
   {
    "duration": 1003,
    "start_time": "2025-02-28T00:21:54.510Z"
   },
   {
    "duration": 3171,
    "start_time": "2025-02-28T00:21:55.515Z"
   },
   {
    "duration": 3,
    "start_time": "2025-02-28T00:21:58.688Z"
   },
   {
    "duration": 4,
    "start_time": "2025-02-28T00:21:58.693Z"
   },
   {
    "duration": 5,
    "start_time": "2025-02-28T00:21:58.700Z"
   },
   {
    "duration": 59,
    "start_time": "2025-02-28T00:21:58.706Z"
   },
   {
    "duration": 185,
    "start_time": "2025-02-28T00:21:58.767Z"
   },
   {
    "duration": 190,
    "start_time": "2025-02-28T00:21:58.954Z"
   },
   {
    "duration": 93,
    "start_time": "2025-02-28T00:21:59.148Z"
   },
   {
    "duration": 4,
    "start_time": "2025-02-28T00:21:59.243Z"
   },
   {
    "duration": 4,
    "start_time": "2025-02-28T00:21:59.248Z"
   },
   {
    "duration": 5,
    "start_time": "2025-02-28T00:21:59.254Z"
   },
   {
    "duration": 5,
    "start_time": "2025-02-28T00:21:59.260Z"
   },
   {
    "duration": 69,
    "start_time": "2025-02-28T00:21:59.269Z"
   },
   {
    "duration": 7,
    "start_time": "2025-02-28T00:21:59.340Z"
   },
   {
    "duration": 7,
    "start_time": "2025-02-28T00:21:59.348Z"
   },
   {
    "duration": 2,
    "start_time": "2025-02-28T00:21:59.357Z"
   },
   {
    "duration": 196,
    "start_time": "2025-02-28T00:21:59.362Z"
   },
   {
    "duration": 4,
    "start_time": "2025-02-28T00:21:59.560Z"
   },
   {
    "duration": 107,
    "start_time": "2025-02-28T00:21:59.566Z"
   },
   {
    "duration": 5,
    "start_time": "2025-02-28T00:21:59.675Z"
   },
   {
    "duration": 428,
    "start_time": "2025-02-28T00:24:32.295Z"
   },
   {
    "duration": 5,
    "start_time": "2025-02-28T00:24:32.866Z"
   },
   {
    "duration": 175,
    "start_time": "2025-02-28T00:24:43.671Z"
   },
   {
    "duration": 226,
    "start_time": "2025-02-28T00:25:21.899Z"
   },
   {
    "duration": 179,
    "start_time": "2025-02-28T00:25:34.805Z"
   },
   {
    "duration": 5,
    "start_time": "2025-02-28T00:32:32.085Z"
   },
   {
    "duration": 181,
    "start_time": "2025-02-28T00:36:34.575Z"
   },
   {
    "duration": 4,
    "start_time": "2025-02-28T00:36:35.199Z"
   },
   {
    "duration": 4,
    "start_time": "2025-02-28T00:37:42.916Z"
   },
   {
    "duration": 5,
    "start_time": "2025-02-28T00:37:58.604Z"
   },
   {
    "duration": 2,
    "start_time": "2025-02-28T00:46:30.675Z"
   },
   {
    "duration": 226,
    "start_time": "2025-02-28T00:46:31.160Z"
   },
   {
    "duration": 966,
    "start_time": "2025-02-28T00:47:05.604Z"
   },
   {
    "duration": 2734,
    "start_time": "2025-02-28T00:47:06.572Z"
   },
   {
    "duration": 6,
    "start_time": "2025-02-28T00:47:09.308Z"
   },
   {
    "duration": 4,
    "start_time": "2025-02-28T00:47:09.317Z"
   },
   {
    "duration": 9,
    "start_time": "2025-02-28T00:47:09.324Z"
   },
   {
    "duration": 103,
    "start_time": "2025-02-28T00:47:09.335Z"
   },
   {
    "duration": 119,
    "start_time": "2025-02-28T00:47:09.439Z"
   },
   {
    "duration": 188,
    "start_time": "2025-02-28T00:47:09.560Z"
   },
   {
    "duration": 88,
    "start_time": "2025-02-28T00:47:09.750Z"
   },
   {
    "duration": 4,
    "start_time": "2025-02-28T00:47:09.840Z"
   },
   {
    "duration": 3,
    "start_time": "2025-02-28T00:47:09.845Z"
   },
   {
    "duration": 4,
    "start_time": "2025-02-28T00:47:09.851Z"
   },
   {
    "duration": 4,
    "start_time": "2025-02-28T00:47:09.857Z"
   },
   {
    "duration": 77,
    "start_time": "2025-02-28T00:47:09.863Z"
   },
   {
    "duration": 7,
    "start_time": "2025-02-28T00:47:09.941Z"
   },
   {
    "duration": 7,
    "start_time": "2025-02-28T00:47:09.950Z"
   },
   {
    "duration": 3,
    "start_time": "2025-02-28T00:47:09.959Z"
   },
   {
    "duration": 215,
    "start_time": "2025-02-28T00:47:09.963Z"
   },
   {
    "duration": 106,
    "start_time": "2025-02-28T00:47:10.180Z"
   },
   {
    "duration": 94,
    "start_time": "2025-02-28T00:49:51.160Z"
   },
   {
    "duration": 288,
    "start_time": "2025-02-28T00:50:12.389Z"
   },
   {
    "duration": 97,
    "start_time": "2025-02-28T00:50:16.520Z"
   },
   {
    "duration": 417,
    "start_time": "2025-02-28T00:56:35.468Z"
   },
   {
    "duration": 271,
    "start_time": "2025-02-28T00:56:44.320Z"
   },
   {
    "duration": 945,
    "start_time": "2025-02-28T01:07:21.309Z"
   },
   {
    "duration": 2703,
    "start_time": "2025-02-28T01:07:22.256Z"
   },
   {
    "duration": 6,
    "start_time": "2025-02-28T01:07:24.961Z"
   },
   {
    "duration": 7,
    "start_time": "2025-02-28T01:07:24.969Z"
   },
   {
    "duration": 6,
    "start_time": "2025-02-28T01:07:24.979Z"
   },
   {
    "duration": 70,
    "start_time": "2025-02-28T01:07:24.987Z"
   },
   {
    "duration": 188,
    "start_time": "2025-02-28T01:07:25.061Z"
   },
   {
    "duration": 190,
    "start_time": "2025-02-28T01:07:25.251Z"
   },
   {
    "duration": 94,
    "start_time": "2025-02-28T01:07:25.443Z"
   },
   {
    "duration": 3,
    "start_time": "2025-02-28T01:07:25.539Z"
   },
   {
    "duration": 3,
    "start_time": "2025-02-28T01:07:25.544Z"
   },
   {
    "duration": 5,
    "start_time": "2025-02-28T01:07:25.549Z"
   },
   {
    "duration": 4,
    "start_time": "2025-02-28T01:07:25.555Z"
   },
   {
    "duration": 20,
    "start_time": "2025-02-28T01:07:25.562Z"
   },
   {
    "duration": 51,
    "start_time": "2025-02-28T01:07:25.584Z"
   },
   {
    "duration": 8,
    "start_time": "2025-02-28T01:07:25.637Z"
   },
   {
    "duration": 3,
    "start_time": "2025-02-28T01:07:25.646Z"
   },
   {
    "duration": 193,
    "start_time": "2025-02-28T01:07:25.651Z"
   },
   {
    "duration": 132,
    "start_time": "2025-02-28T01:07:25.846Z"
   },
   {
    "duration": 1022,
    "start_time": "2025-02-28T01:10:40.721Z"
   },
   {
    "duration": 2886,
    "start_time": "2025-02-28T01:10:41.745Z"
   },
   {
    "duration": 5,
    "start_time": "2025-02-28T01:10:44.633Z"
   },
   {
    "duration": 6,
    "start_time": "2025-02-28T01:10:44.640Z"
   },
   {
    "duration": 5,
    "start_time": "2025-02-28T01:10:44.648Z"
   },
   {
    "duration": 182,
    "start_time": "2025-02-28T01:10:44.655Z"
   },
   {
    "duration": 108,
    "start_time": "2025-02-28T01:10:44.839Z"
   },
   {
    "duration": 181,
    "start_time": "2025-02-28T01:10:44.949Z"
   },
   {
    "duration": 29,
    "start_time": "2025-02-28T01:10:45.132Z"
   },
   {
    "duration": 5,
    "start_time": "2025-02-28T01:10:45.232Z"
   },
   {
    "duration": 3,
    "start_time": "2025-02-28T01:10:45.239Z"
   },
   {
    "duration": 5,
    "start_time": "2025-02-28T01:10:45.244Z"
   },
   {
    "duration": 5,
    "start_time": "2025-02-28T01:10:45.251Z"
   },
   {
    "duration": 28,
    "start_time": "2025-02-28T01:10:45.259Z"
   },
   {
    "duration": 10,
    "start_time": "2025-02-28T01:10:45.289Z"
   },
   {
    "duration": 36,
    "start_time": "2025-02-28T01:10:45.300Z"
   },
   {
    "duration": 2,
    "start_time": "2025-02-28T01:10:45.338Z"
   },
   {
    "duration": 189,
    "start_time": "2025-02-28T01:10:45.342Z"
   },
   {
    "duration": 120,
    "start_time": "2025-02-28T01:10:45.533Z"
   },
   {
    "duration": 4,
    "start_time": "2025-02-28T01:10:45.655Z"
   },
   {
    "duration": 8,
    "start_time": "2025-02-28T01:10:45.660Z"
   },
   {
    "duration": 985,
    "start_time": "2025-02-28T01:33:45.571Z"
   },
   {
    "duration": 2824,
    "start_time": "2025-02-28T01:33:46.558Z"
   },
   {
    "duration": 3,
    "start_time": "2025-02-28T01:33:49.384Z"
   },
   {
    "duration": 4,
    "start_time": "2025-02-28T01:33:49.390Z"
   },
   {
    "duration": 5,
    "start_time": "2025-02-28T01:33:49.395Z"
   },
   {
    "duration": 56,
    "start_time": "2025-02-28T01:33:49.402Z"
   },
   {
    "duration": 186,
    "start_time": "2025-02-28T01:33:49.460Z"
   },
   {
    "duration": 192,
    "start_time": "2025-02-28T01:33:49.648Z"
   },
   {
    "duration": 91,
    "start_time": "2025-02-28T01:33:49.841Z"
   },
   {
    "duration": 4,
    "start_time": "2025-02-28T01:33:49.935Z"
   },
   {
    "duration": 3,
    "start_time": "2025-02-28T01:33:49.941Z"
   },
   {
    "duration": 5,
    "start_time": "2025-02-28T01:33:49.946Z"
   },
   {
    "duration": 3,
    "start_time": "2025-02-28T01:33:49.954Z"
   },
   {
    "duration": 21,
    "start_time": "2025-02-28T01:33:49.959Z"
   },
   {
    "duration": 7,
    "start_time": "2025-02-28T01:33:49.981Z"
   },
   {
    "duration": 42,
    "start_time": "2025-02-28T01:33:49.990Z"
   },
   {
    "duration": 3,
    "start_time": "2025-02-28T01:33:50.034Z"
   },
   {
    "duration": 3,
    "start_time": "2025-02-28T01:33:50.039Z"
   },
   {
    "duration": 0,
    "start_time": "2025-02-28T01:33:50.044Z"
   },
   {
    "duration": 0,
    "start_time": "2025-02-28T01:33:50.046Z"
   },
   {
    "duration": 0,
    "start_time": "2025-02-28T01:33:50.047Z"
   },
   {
    "duration": 0,
    "start_time": "2025-02-28T01:33:50.048Z"
   },
   {
    "duration": 3,
    "start_time": "2025-02-28T01:34:24.884Z"
   },
   {
    "duration": 5,
    "start_time": "2025-02-28T01:34:26.466Z"
   },
   {
    "duration": 3,
    "start_time": "2025-02-28T01:35:21.021Z"
   },
   {
    "duration": 4,
    "start_time": "2025-02-28T01:35:22.408Z"
   },
   {
    "duration": 950,
    "start_time": "2025-02-28T01:36:36.419Z"
   },
   {
    "duration": 3092,
    "start_time": "2025-02-28T01:36:37.371Z"
   },
   {
    "duration": 4,
    "start_time": "2025-02-28T01:36:40.465Z"
   },
   {
    "duration": 3,
    "start_time": "2025-02-28T01:36:40.472Z"
   },
   {
    "duration": 5,
    "start_time": "2025-02-28T01:36:40.477Z"
   },
   {
    "duration": 63,
    "start_time": "2025-02-28T01:36:40.483Z"
   },
   {
    "duration": 189,
    "start_time": "2025-02-28T01:36:40.548Z"
   },
   {
    "duration": 117,
    "start_time": "2025-02-28T01:36:40.739Z"
   },
   {
    "duration": 85,
    "start_time": "2025-02-28T01:36:40.858Z"
   },
   {
    "duration": 4,
    "start_time": "2025-02-28T01:36:40.948Z"
   },
   {
    "duration": 3,
    "start_time": "2025-02-28T01:36:40.955Z"
   },
   {
    "duration": 73,
    "start_time": "2025-02-28T01:36:40.959Z"
   },
   {
    "duration": 3,
    "start_time": "2025-02-28T01:36:41.034Z"
   },
   {
    "duration": 21,
    "start_time": "2025-02-28T01:36:41.039Z"
   },
   {
    "duration": 7,
    "start_time": "2025-02-28T01:36:41.062Z"
   },
   {
    "duration": 8,
    "start_time": "2025-02-28T01:36:41.070Z"
   },
   {
    "duration": 2,
    "start_time": "2025-02-28T01:36:41.080Z"
   },
   {
    "duration": 4,
    "start_time": "2025-02-28T01:36:41.084Z"
   },
   {
    "duration": 217,
    "start_time": "2025-02-28T01:36:41.089Z"
   },
   {
    "duration": 231,
    "start_time": "2025-02-28T01:36:41.308Z"
   },
   {
    "duration": 0,
    "start_time": "2025-02-28T01:36:41.541Z"
   },
   {
    "duration": 0,
    "start_time": "2025-02-28T01:36:41.542Z"
   },
   {
    "duration": 210,
    "start_time": "2025-02-28T01:36:50.981Z"
   },
   {
    "duration": 173,
    "start_time": "2025-02-28T01:37:18.127Z"
   },
   {
    "duration": 12,
    "start_time": "2025-02-28T01:47:53.604Z"
   },
   {
    "duration": 942,
    "start_time": "2025-02-28T01:48:00.511Z"
   },
   {
    "duration": 3267,
    "start_time": "2025-02-28T01:48:01.455Z"
   },
   {
    "duration": 3,
    "start_time": "2025-02-28T01:48:04.724Z"
   },
   {
    "duration": 4,
    "start_time": "2025-02-28T01:48:04.730Z"
   },
   {
    "duration": 4,
    "start_time": "2025-02-28T01:48:04.735Z"
   },
   {
    "duration": 97,
    "start_time": "2025-02-28T01:48:04.741Z"
   },
   {
    "duration": 115,
    "start_time": "2025-02-28T01:48:04.840Z"
   },
   {
    "duration": 189,
    "start_time": "2025-02-28T01:48:04.957Z"
   },
   {
    "duration": 92,
    "start_time": "2025-02-28T01:48:05.148Z"
   },
   {
    "duration": 4,
    "start_time": "2025-02-28T01:48:05.244Z"
   },
   {
    "duration": 3,
    "start_time": "2025-02-28T01:48:05.250Z"
   },
   {
    "duration": 5,
    "start_time": "2025-02-28T01:48:05.255Z"
   },
   {
    "duration": 4,
    "start_time": "2025-02-28T01:48:05.263Z"
   },
   {
    "duration": 78,
    "start_time": "2025-02-28T01:48:05.268Z"
   },
   {
    "duration": 8,
    "start_time": "2025-02-28T01:48:05.348Z"
   },
   {
    "duration": 7,
    "start_time": "2025-02-28T01:48:05.358Z"
   },
   {
    "duration": 2,
    "start_time": "2025-02-28T01:48:05.367Z"
   },
   {
    "duration": 3,
    "start_time": "2025-02-28T01:48:05.371Z"
   },
   {
    "duration": 4,
    "start_time": "2025-02-28T01:48:05.376Z"
   },
   {
    "duration": 193,
    "start_time": "2025-02-28T01:48:05.382Z"
   },
   {
    "duration": 124,
    "start_time": "2025-02-28T01:48:05.577Z"
   },
   {
    "duration": 236,
    "start_time": "2025-02-28T01:48:05.703Z"
   },
   {
    "duration": 0,
    "start_time": "2025-02-28T01:48:05.941Z"
   },
   {
    "duration": 3,
    "start_time": "2025-02-28T01:48:38.283Z"
   },
   {
    "duration": 183,
    "start_time": "2025-02-28T01:48:39.715Z"
   },
   {
    "duration": 94,
    "start_time": "2025-02-28T01:48:40.434Z"
   },
   {
    "duration": 4,
    "start_time": "2025-02-28T01:48:55.736Z"
   },
   {
    "duration": 3,
    "start_time": "2025-02-28T01:49:08.264Z"
   },
   {
    "duration": 173,
    "start_time": "2025-02-28T01:49:10.214Z"
   },
   {
    "duration": 96,
    "start_time": "2025-02-28T01:49:10.621Z"
   },
   {
    "duration": 13,
    "start_time": "2025-02-28T01:49:29.476Z"
   },
   {
    "duration": 15,
    "start_time": "2025-02-28T01:49:30.038Z"
   },
   {
    "duration": 4,
    "start_time": "2025-02-28T01:51:19.700Z"
   },
   {
    "duration": 171,
    "start_time": "2025-02-28T01:51:20.203Z"
   },
   {
    "duration": 94,
    "start_time": "2025-02-28T01:51:20.699Z"
   },
   {
    "duration": 3,
    "start_time": "2025-02-28T01:53:41.417Z"
   },
   {
    "duration": 201,
    "start_time": "2025-02-28T01:53:41.868Z"
   },
   {
    "duration": 96,
    "start_time": "2025-02-28T01:53:42.307Z"
   },
   {
    "duration": 72,
    "start_time": "2025-02-28T01:54:06.504Z"
   },
   {
    "duration": 166,
    "start_time": "2025-02-28T01:54:06.977Z"
   },
   {
    "duration": 1038,
    "start_time": "2025-02-28T01:54:17.253Z"
   },
   {
    "duration": 2769,
    "start_time": "2025-02-28T01:54:18.293Z"
   },
   {
    "duration": 3,
    "start_time": "2025-02-28T01:54:21.064Z"
   },
   {
    "duration": 4,
    "start_time": "2025-02-28T01:54:21.069Z"
   },
   {
    "duration": 4,
    "start_time": "2025-02-28T01:54:21.077Z"
   },
   {
    "duration": 62,
    "start_time": "2025-02-28T01:54:21.083Z"
   },
   {
    "duration": 190,
    "start_time": "2025-02-28T01:54:21.147Z"
   },
   {
    "duration": 121,
    "start_time": "2025-02-28T01:54:21.339Z"
   },
   {
    "duration": 80,
    "start_time": "2025-02-28T01:54:21.462Z"
   },
   {
    "duration": 4,
    "start_time": "2025-02-28T01:54:21.544Z"
   },
   {
    "duration": 3,
    "start_time": "2025-02-28T01:54:21.550Z"
   },
   {
    "duration": 4,
    "start_time": "2025-02-28T01:54:21.631Z"
   },
   {
    "duration": 4,
    "start_time": "2025-02-28T01:54:21.637Z"
   },
   {
    "duration": 20,
    "start_time": "2025-02-28T01:54:21.644Z"
   },
   {
    "duration": 7,
    "start_time": "2025-02-28T01:54:21.666Z"
   },
   {
    "duration": 7,
    "start_time": "2025-02-28T01:54:21.675Z"
   },
   {
    "duration": 3,
    "start_time": "2025-02-28T01:54:21.683Z"
   },
   {
    "duration": 3,
    "start_time": "2025-02-28T01:54:21.688Z"
   },
   {
    "duration": 3,
    "start_time": "2025-02-28T01:54:21.694Z"
   },
   {
    "duration": 239,
    "start_time": "2025-02-28T01:54:21.699Z"
   },
   {
    "duration": 117,
    "start_time": "2025-02-28T01:54:21.939Z"
   },
   {
    "duration": 236,
    "start_time": "2025-02-28T01:54:22.057Z"
   },
   {
    "duration": 0,
    "start_time": "2025-02-28T01:54:22.295Z"
   },
   {
    "duration": 96,
    "start_time": "2025-02-28T01:55:30.865Z"
   },
   {
    "duration": 1012,
    "start_time": "2025-02-28T01:56:14.450Z"
   },
   {
    "duration": 10681,
    "start_time": "2025-02-28T01:56:15.463Z"
   },
   {
    "duration": 3,
    "start_time": "2025-02-28T01:56:26.146Z"
   },
   {
    "duration": 4,
    "start_time": "2025-02-28T01:56:26.152Z"
   },
   {
    "duration": 5,
    "start_time": "2025-02-28T01:56:26.157Z"
   },
   {
    "duration": 80,
    "start_time": "2025-02-28T01:56:26.165Z"
   },
   {
    "duration": 185,
    "start_time": "2025-02-28T01:56:26.247Z"
   },
   {
    "duration": 124,
    "start_time": "2025-02-28T01:56:26.433Z"
   },
   {
    "duration": 79,
    "start_time": "2025-02-28T01:56:26.559Z"
   },
   {
    "duration": 5,
    "start_time": "2025-02-28T01:56:26.644Z"
   },
   {
    "duration": 3,
    "start_time": "2025-02-28T01:56:26.652Z"
   },
   {
    "duration": 76,
    "start_time": "2025-02-28T01:56:26.656Z"
   },
   {
    "duration": 4,
    "start_time": "2025-02-28T01:56:26.733Z"
   },
   {
    "duration": 21,
    "start_time": "2025-02-28T01:56:26.739Z"
   },
   {
    "duration": 7,
    "start_time": "2025-02-28T01:56:26.761Z"
   },
   {
    "duration": 7,
    "start_time": "2025-02-28T01:56:26.770Z"
   },
   {
    "duration": 2,
    "start_time": "2025-02-28T01:56:26.779Z"
   },
   {
    "duration": 4,
    "start_time": "2025-02-28T01:56:26.783Z"
   },
   {
    "duration": 6,
    "start_time": "2025-02-28T01:56:26.788Z"
   },
   {
    "duration": 326,
    "start_time": "2025-02-28T01:56:26.796Z"
   },
   {
    "duration": 227,
    "start_time": "2025-02-28T01:56:27.132Z"
   },
   {
    "duration": 983,
    "start_time": "2025-02-28T02:08:52.697Z"
   },
   {
    "duration": 3013,
    "start_time": "2025-02-28T02:08:53.683Z"
   },
   {
    "duration": 3,
    "start_time": "2025-02-28T02:08:56.698Z"
   },
   {
    "duration": 3,
    "start_time": "2025-02-28T02:08:56.703Z"
   },
   {
    "duration": 5,
    "start_time": "2025-02-28T02:08:56.709Z"
   },
   {
    "duration": 116,
    "start_time": "2025-02-28T02:08:56.715Z"
   },
   {
    "duration": 126,
    "start_time": "2025-02-28T02:08:56.833Z"
   },
   {
    "duration": 119,
    "start_time": "2025-02-28T02:08:57.031Z"
   },
   {
    "duration": 96,
    "start_time": "2025-02-28T02:08:57.151Z"
   },
   {
    "duration": 4,
    "start_time": "2025-02-28T02:08:57.249Z"
   },
   {
    "duration": 3,
    "start_time": "2025-02-28T02:08:57.255Z"
   },
   {
    "duration": 5,
    "start_time": "2025-02-28T02:08:57.259Z"
   },
   {
    "duration": 3,
    "start_time": "2025-02-28T02:08:57.266Z"
   },
   {
    "duration": 23,
    "start_time": "2025-02-28T02:08:57.334Z"
   },
   {
    "duration": 7,
    "start_time": "2025-02-28T02:08:57.359Z"
   },
   {
    "duration": 7,
    "start_time": "2025-02-28T02:08:57.367Z"
   },
   {
    "duration": 3,
    "start_time": "2025-02-28T02:08:57.376Z"
   },
   {
    "duration": 3,
    "start_time": "2025-02-28T02:08:57.382Z"
   },
   {
    "duration": 4,
    "start_time": "2025-02-28T02:08:57.387Z"
   },
   {
    "duration": 321,
    "start_time": "2025-02-28T02:08:57.392Z"
   },
   {
    "duration": 5,
    "start_time": "2025-02-28T02:08:57.716Z"
   },
   {
    "duration": 7,
    "start_time": "2025-02-28T02:10:15.743Z"
   },
   {
    "duration": 953,
    "start_time": "2025-02-28T02:11:03.699Z"
   },
   {
    "duration": 3264,
    "start_time": "2025-02-28T02:11:04.655Z"
   },
   {
    "duration": 3,
    "start_time": "2025-02-28T02:11:07.921Z"
   },
   {
    "duration": 5,
    "start_time": "2025-02-28T02:11:07.926Z"
   },
   {
    "duration": 5,
    "start_time": "2025-02-28T02:11:07.934Z"
   },
   {
    "duration": 97,
    "start_time": "2025-02-28T02:11:07.941Z"
   },
   {
    "duration": 191,
    "start_time": "2025-02-28T02:11:08.040Z"
   },
   {
    "duration": 120,
    "start_time": "2025-02-28T02:11:08.234Z"
   },
   {
    "duration": 84,
    "start_time": "2025-02-28T02:11:08.356Z"
   },
   {
    "duration": 4,
    "start_time": "2025-02-28T02:11:08.442Z"
   },
   {
    "duration": 3,
    "start_time": "2025-02-28T02:11:08.448Z"
   },
   {
    "duration": 5,
    "start_time": "2025-02-28T02:11:08.453Z"
   },
   {
    "duration": 4,
    "start_time": "2025-02-28T02:11:08.460Z"
   },
   {
    "duration": 20,
    "start_time": "2025-02-28T02:11:08.534Z"
   },
   {
    "duration": 6,
    "start_time": "2025-02-28T02:11:08.556Z"
   },
   {
    "duration": 7,
    "start_time": "2025-02-28T02:11:08.564Z"
   },
   {
    "duration": 3,
    "start_time": "2025-02-28T02:11:08.572Z"
   },
   {
    "duration": 3,
    "start_time": "2025-02-28T02:11:08.577Z"
   },
   {
    "duration": 4,
    "start_time": "2025-02-28T02:11:08.581Z"
   },
   {
    "duration": 307,
    "start_time": "2025-02-28T02:11:08.586Z"
   },
   {
    "duration": 3,
    "start_time": "2025-02-28T02:11:08.896Z"
   },
   {
    "duration": 997,
    "start_time": "2025-02-28T02:13:00.150Z"
   },
   {
    "duration": 2909,
    "start_time": "2025-02-28T02:13:01.150Z"
   },
   {
    "duration": 4,
    "start_time": "2025-02-28T02:13:04.060Z"
   },
   {
    "duration": 4,
    "start_time": "2025-02-28T02:13:04.066Z"
   },
   {
    "duration": 4,
    "start_time": "2025-02-28T02:13:04.073Z"
   },
   {
    "duration": 66,
    "start_time": "2025-02-28T02:13:04.079Z"
   },
   {
    "duration": 184,
    "start_time": "2025-02-28T02:13:04.147Z"
   },
   {
    "duration": 121,
    "start_time": "2025-02-28T02:13:04.333Z"
   },
   {
    "duration": 84,
    "start_time": "2025-02-28T02:13:04.456Z"
   },
   {
    "duration": 4,
    "start_time": "2025-02-28T02:13:04.547Z"
   },
   {
    "duration": 7,
    "start_time": "2025-02-28T02:13:04.553Z"
   },
   {
    "duration": 5,
    "start_time": "2025-02-28T02:13:04.561Z"
   },
   {
    "duration": 65,
    "start_time": "2025-02-28T02:13:04.568Z"
   },
   {
    "duration": 21,
    "start_time": "2025-02-28T02:13:04.635Z"
   },
   {
    "duration": 7,
    "start_time": "2025-02-28T02:13:04.657Z"
   },
   {
    "duration": 6,
    "start_time": "2025-02-28T02:13:04.666Z"
   },
   {
    "duration": 3,
    "start_time": "2025-02-28T02:13:04.674Z"
   },
   {
    "duration": 3,
    "start_time": "2025-02-28T02:13:04.678Z"
   },
   {
    "duration": 3,
    "start_time": "2025-02-28T02:13:04.683Z"
   },
   {
    "duration": 357,
    "start_time": "2025-02-28T02:13:04.688Z"
   },
   {
    "duration": 3,
    "start_time": "2025-02-28T02:13:05.048Z"
   },
   {
    "duration": 238,
    "start_time": "2025-02-28T02:13:05.053Z"
   },
   {
    "duration": 994,
    "start_time": "2025-02-28T02:16:03.175Z"
   },
   {
    "duration": 2637,
    "start_time": "2025-02-28T02:16:04.172Z"
   },
   {
    "duration": 3,
    "start_time": "2025-02-28T02:16:06.811Z"
   },
   {
    "duration": 15,
    "start_time": "2025-02-28T02:16:06.816Z"
   },
   {
    "duration": 4,
    "start_time": "2025-02-28T02:16:06.834Z"
   },
   {
    "duration": 91,
    "start_time": "2025-02-28T02:16:06.840Z"
   },
   {
    "duration": 121,
    "start_time": "2025-02-28T02:16:06.934Z"
   },
   {
    "duration": 189,
    "start_time": "2025-02-28T02:16:07.057Z"
   },
   {
    "duration": 90,
    "start_time": "2025-02-28T02:16:07.248Z"
   },
   {
    "duration": 4,
    "start_time": "2025-02-28T02:16:07.340Z"
   },
   {
    "duration": 3,
    "start_time": "2025-02-28T02:16:07.347Z"
   },
   {
    "duration": 6,
    "start_time": "2025-02-28T02:16:07.352Z"
   },
   {
    "duration": 4,
    "start_time": "2025-02-28T02:16:07.360Z"
   },
   {
    "duration": 77,
    "start_time": "2025-02-28T02:16:07.367Z"
   },
   {
    "duration": 8,
    "start_time": "2025-02-28T02:16:07.445Z"
   },
   {
    "duration": 7,
    "start_time": "2025-02-28T02:16:07.455Z"
   },
   {
    "duration": 3,
    "start_time": "2025-02-28T02:16:07.464Z"
   },
   {
    "duration": 7,
    "start_time": "2025-02-28T02:16:07.468Z"
   },
   {
    "duration": 4,
    "start_time": "2025-02-28T02:16:07.476Z"
   },
   {
    "duration": 307,
    "start_time": "2025-02-28T02:16:07.482Z"
   },
   {
    "duration": 4,
    "start_time": "2025-02-28T02:16:07.790Z"
   },
   {
    "duration": 5,
    "start_time": "2025-02-28T02:16:07.795Z"
   },
   {
    "duration": 6,
    "start_time": "2025-02-28T02:17:04.788Z"
   },
   {
    "duration": 8,
    "start_time": "2025-02-28T02:19:55.914Z"
   },
   {
    "duration": 997,
    "start_time": "2025-02-28T02:21:11.757Z"
   },
   {
    "duration": 2759,
    "start_time": "2025-02-28T02:21:12.757Z"
   },
   {
    "duration": 4,
    "start_time": "2025-02-28T02:21:15.518Z"
   },
   {
    "duration": 4,
    "start_time": "2025-02-28T02:21:15.531Z"
   },
   {
    "duration": 4,
    "start_time": "2025-02-28T02:21:15.537Z"
   },
   {
    "duration": 95,
    "start_time": "2025-02-28T02:21:15.542Z"
   },
   {
    "duration": 116,
    "start_time": "2025-02-28T02:21:15.639Z"
   },
   {
    "duration": 191,
    "start_time": "2025-02-28T02:21:15.757Z"
   },
   {
    "duration": 88,
    "start_time": "2025-02-28T02:21:15.953Z"
   },
   {
    "duration": 4,
    "start_time": "2025-02-28T02:21:16.044Z"
   },
   {
    "duration": 4,
    "start_time": "2025-02-28T02:21:16.049Z"
   },
   {
    "duration": 5,
    "start_time": "2025-02-28T02:21:16.054Z"
   },
   {
    "duration": 4,
    "start_time": "2025-02-28T02:21:16.061Z"
   },
   {
    "duration": 78,
    "start_time": "2025-02-28T02:21:16.066Z"
   },
   {
    "duration": 8,
    "start_time": "2025-02-28T02:21:16.145Z"
   },
   {
    "duration": 9,
    "start_time": "2025-02-28T02:21:16.156Z"
   },
   {
    "duration": 3,
    "start_time": "2025-02-28T02:21:16.166Z"
   },
   {
    "duration": 3,
    "start_time": "2025-02-28T02:21:16.170Z"
   },
   {
    "duration": 4,
    "start_time": "2025-02-28T02:21:16.175Z"
   },
   {
    "duration": 283,
    "start_time": "2025-02-28T02:21:16.180Z"
   },
   {
    "duration": 4,
    "start_time": "2025-02-28T02:21:16.464Z"
   },
   {
    "duration": 7,
    "start_time": "2025-02-28T02:21:16.469Z"
   },
   {
    "duration": 8,
    "start_time": "2025-02-28T02:21:16.478Z"
   },
   {
    "duration": 7,
    "start_time": "2025-02-28T02:21:16.487Z"
   },
   {
    "duration": 950,
    "start_time": "2025-02-28T02:22:06.515Z"
   },
   {
    "duration": 2743,
    "start_time": "2025-02-28T02:22:07.468Z"
   },
   {
    "duration": 3,
    "start_time": "2025-02-28T02:22:10.213Z"
   },
   {
    "duration": 4,
    "start_time": "2025-02-28T02:22:10.218Z"
   },
   {
    "duration": 4,
    "start_time": "2025-02-28T02:22:10.232Z"
   },
   {
    "duration": 95,
    "start_time": "2025-02-28T02:22:10.237Z"
   },
   {
    "duration": 118,
    "start_time": "2025-02-28T02:22:10.334Z"
   },
   {
    "duration": 191,
    "start_time": "2025-02-28T02:22:10.454Z"
   },
   {
    "duration": 86,
    "start_time": "2025-02-28T02:22:10.647Z"
   },
   {
    "duration": 5,
    "start_time": "2025-02-28T02:22:10.737Z"
   },
   {
    "duration": 3,
    "start_time": "2025-02-28T02:22:10.744Z"
   },
   {
    "duration": 4,
    "start_time": "2025-02-28T02:22:10.749Z"
   },
   {
    "duration": 4,
    "start_time": "2025-02-28T02:22:10.756Z"
   },
   {
    "duration": 68,
    "start_time": "2025-02-28T02:22:10.763Z"
   },
   {
    "duration": 8,
    "start_time": "2025-02-28T02:22:10.833Z"
   },
   {
    "duration": 7,
    "start_time": "2025-02-28T02:22:10.842Z"
   },
   {
    "duration": 3,
    "start_time": "2025-02-28T02:22:10.850Z"
   },
   {
    "duration": 4,
    "start_time": "2025-02-28T02:22:10.854Z"
   },
   {
    "duration": 4,
    "start_time": "2025-02-28T02:22:10.859Z"
   },
   {
    "duration": 300,
    "start_time": "2025-02-28T02:22:10.864Z"
   },
   {
    "duration": 4,
    "start_time": "2025-02-28T02:22:11.165Z"
   },
   {
    "duration": 8,
    "start_time": "2025-02-28T02:22:11.170Z"
   },
   {
    "duration": 7,
    "start_time": "2025-02-28T02:22:11.179Z"
   },
   {
    "duration": 7,
    "start_time": "2025-02-28T02:22:11.188Z"
   },
   {
    "duration": 1004,
    "start_time": "2025-02-28T02:23:38.573Z"
   },
   {
    "duration": 2692,
    "start_time": "2025-02-28T02:23:39.579Z"
   },
   {
    "duration": 4,
    "start_time": "2025-02-28T02:23:42.272Z"
   },
   {
    "duration": 3,
    "start_time": "2025-02-28T02:23:42.279Z"
   },
   {
    "duration": 5,
    "start_time": "2025-02-28T02:23:42.284Z"
   },
   {
    "duration": 66,
    "start_time": "2025-02-28T02:23:42.290Z"
   },
   {
    "duration": 190,
    "start_time": "2025-02-28T02:23:42.358Z"
   },
   {
    "duration": 188,
    "start_time": "2025-02-28T02:23:42.550Z"
   },
   {
    "duration": 93,
    "start_time": "2025-02-28T02:23:42.740Z"
   },
   {
    "duration": 4,
    "start_time": "2025-02-28T02:23:42.837Z"
   },
   {
    "duration": 4,
    "start_time": "2025-02-28T02:23:42.842Z"
   },
   {
    "duration": 5,
    "start_time": "2025-02-28T02:23:42.848Z"
   },
   {
    "duration": 4,
    "start_time": "2025-02-28T02:23:42.854Z"
   },
   {
    "duration": 21,
    "start_time": "2025-02-28T02:23:42.860Z"
   },
   {
    "duration": 8,
    "start_time": "2025-02-28T02:23:42.882Z"
   },
   {
    "duration": 44,
    "start_time": "2025-02-28T02:23:42.892Z"
   },
   {
    "duration": 3,
    "start_time": "2025-02-28T02:23:42.937Z"
   },
   {
    "duration": 4,
    "start_time": "2025-02-28T02:23:42.941Z"
   },
   {
    "duration": 3,
    "start_time": "2025-02-28T02:23:42.947Z"
   },
   {
    "duration": 309,
    "start_time": "2025-02-28T02:23:42.952Z"
   },
   {
    "duration": 3,
    "start_time": "2025-02-28T02:23:43.263Z"
   },
   {
    "duration": 7,
    "start_time": "2025-02-28T02:23:43.267Z"
   },
   {
    "duration": 9,
    "start_time": "2025-02-28T02:23:43.276Z"
   },
   {
    "duration": 8,
    "start_time": "2025-02-28T02:23:43.287Z"
   },
   {
    "duration": 1012,
    "start_time": "2025-02-28T02:26:33.174Z"
   },
   {
    "duration": 2652,
    "start_time": "2025-02-28T02:26:34.188Z"
   },
   {
    "duration": 4,
    "start_time": "2025-02-28T02:26:36.842Z"
   },
   {
    "duration": 4,
    "start_time": "2025-02-28T02:26:36.848Z"
   },
   {
    "duration": 4,
    "start_time": "2025-02-28T02:26:36.853Z"
   },
   {
    "duration": 88,
    "start_time": "2025-02-28T02:26:36.859Z"
   },
   {
    "duration": 189,
    "start_time": "2025-02-28T02:26:36.949Z"
   },
   {
    "duration": 123,
    "start_time": "2025-02-28T02:26:37.140Z"
   },
   {
    "duration": 17,
    "start_time": "2025-02-28T02:26:37.331Z"
   },
   {
    "duration": 4,
    "start_time": "2025-02-28T02:26:37.351Z"
   },
   {
    "duration": 3,
    "start_time": "2025-02-28T02:26:37.431Z"
   },
   {
    "duration": 6,
    "start_time": "2025-02-28T02:26:37.436Z"
   },
   {
    "duration": 4,
    "start_time": "2025-02-28T02:26:37.443Z"
   },
   {
    "duration": 21,
    "start_time": "2025-02-28T02:26:37.449Z"
   },
   {
    "duration": 7,
    "start_time": "2025-02-28T02:26:37.471Z"
   },
   {
    "duration": 6,
    "start_time": "2025-02-28T02:26:37.480Z"
   },
   {
    "duration": 4,
    "start_time": "2025-02-28T02:26:37.489Z"
   },
   {
    "duration": 37,
    "start_time": "2025-02-28T02:26:37.495Z"
   },
   {
    "duration": 3,
    "start_time": "2025-02-28T02:26:37.533Z"
   },
   {
    "duration": 7,
    "start_time": "2025-02-28T02:26:37.538Z"
   },
   {
    "duration": 7,
    "start_time": "2025-02-28T02:26:37.547Z"
   },
   {
    "duration": 7,
    "start_time": "2025-02-28T02:26:37.556Z"
   },
   {
    "duration": 3,
    "start_time": "2025-02-28T02:26:37.564Z"
   },
   {
    "duration": 5,
    "start_time": "2025-02-28T02:26:37.568Z"
   },
   {
    "duration": 5,
    "start_time": "2025-02-28T02:26:37.574Z"
   },
   {
    "duration": 317,
    "start_time": "2025-02-28T02:26:37.581Z"
   },
   {
    "duration": 994,
    "start_time": "2025-02-28T02:28:01.689Z"
   },
   {
    "duration": 2653,
    "start_time": "2025-02-28T02:28:02.685Z"
   },
   {
    "duration": 4,
    "start_time": "2025-02-28T02:28:05.341Z"
   },
   {
    "duration": 5,
    "start_time": "2025-02-28T02:28:05.346Z"
   },
   {
    "duration": 4,
    "start_time": "2025-02-28T02:28:05.354Z"
   },
   {
    "duration": 78,
    "start_time": "2025-02-28T02:28:05.360Z"
   },
   {
    "duration": 114,
    "start_time": "2025-02-28T02:28:05.440Z"
   },
   {
    "duration": 192,
    "start_time": "2025-02-28T02:28:05.556Z"
   },
   {
    "duration": 89,
    "start_time": "2025-02-28T02:28:05.750Z"
   },
   {
    "duration": 5,
    "start_time": "2025-02-28T02:28:05.841Z"
   },
   {
    "duration": 4,
    "start_time": "2025-02-28T02:28:05.847Z"
   },
   {
    "duration": 5,
    "start_time": "2025-02-28T02:28:05.852Z"
   },
   {
    "duration": 4,
    "start_time": "2025-02-28T02:28:05.858Z"
   },
   {
    "duration": 80,
    "start_time": "2025-02-28T02:28:05.866Z"
   },
   {
    "duration": 9,
    "start_time": "2025-02-28T02:28:05.947Z"
   },
   {
    "duration": 7,
    "start_time": "2025-02-28T02:28:05.957Z"
   },
   {
    "duration": 5,
    "start_time": "2025-02-28T02:28:05.965Z"
   },
   {
    "duration": 6,
    "start_time": "2025-02-28T02:28:05.971Z"
   },
   {
    "duration": 4,
    "start_time": "2025-02-28T02:28:05.979Z"
   },
   {
    "duration": 8,
    "start_time": "2025-02-28T02:28:05.984Z"
   },
   {
    "duration": 40,
    "start_time": "2025-02-28T02:28:05.993Z"
   },
   {
    "duration": 8,
    "start_time": "2025-02-28T02:28:06.034Z"
   },
   {
    "duration": 3,
    "start_time": "2025-02-28T02:28:06.043Z"
   },
   {
    "duration": 4,
    "start_time": "2025-02-28T02:28:06.048Z"
   },
   {
    "duration": 4,
    "start_time": "2025-02-28T02:28:06.053Z"
   },
   {
    "duration": 285,
    "start_time": "2025-02-28T02:28:06.058Z"
   },
   {
    "duration": 4,
    "start_time": "2025-02-28T02:31:27.312Z"
   },
   {
    "duration": 8,
    "start_time": "2025-02-28T02:34:08.617Z"
   },
   {
    "duration": 229,
    "start_time": "2025-02-28T02:36:57.891Z"
   },
   {
    "duration": 949,
    "start_time": "2025-02-28T02:37:34.831Z"
   },
   {
    "duration": 2689,
    "start_time": "2025-02-28T02:37:35.782Z"
   },
   {
    "duration": 4,
    "start_time": "2025-02-28T02:37:38.473Z"
   },
   {
    "duration": 4,
    "start_time": "2025-02-28T02:37:38.480Z"
   },
   {
    "duration": 5,
    "start_time": "2025-02-28T02:37:38.485Z"
   },
   {
    "duration": 62,
    "start_time": "2025-02-28T02:37:38.491Z"
   },
   {
    "duration": 186,
    "start_time": "2025-02-28T02:37:38.555Z"
   },
   {
    "duration": 122,
    "start_time": "2025-02-28T02:37:38.743Z"
   },
   {
    "duration": 16,
    "start_time": "2025-02-28T02:37:38.932Z"
   },
   {
    "duration": 80,
    "start_time": "2025-02-28T02:37:38.951Z"
   },
   {
    "duration": 3,
    "start_time": "2025-02-28T02:37:39.033Z"
   },
   {
    "duration": 5,
    "start_time": "2025-02-28T02:37:39.037Z"
   },
   {
    "duration": 4,
    "start_time": "2025-02-28T02:37:39.044Z"
   },
   {
    "duration": 21,
    "start_time": "2025-02-28T02:37:39.049Z"
   },
   {
    "duration": 7,
    "start_time": "2025-02-28T02:37:39.072Z"
   },
   {
    "duration": 6,
    "start_time": "2025-02-28T02:37:39.081Z"
   },
   {
    "duration": 4,
    "start_time": "2025-02-28T02:37:39.089Z"
   },
   {
    "duration": 4,
    "start_time": "2025-02-28T02:37:39.131Z"
   },
   {
    "duration": 6,
    "start_time": "2025-02-28T02:37:39.137Z"
   },
   {
    "duration": 4,
    "start_time": "2025-02-28T02:37:39.145Z"
   },
   {
    "duration": 7,
    "start_time": "2025-02-28T02:37:39.151Z"
   },
   {
    "duration": 8,
    "start_time": "2025-02-28T02:37:39.159Z"
   },
   {
    "duration": 7,
    "start_time": "2025-02-28T02:37:39.169Z"
   },
   {
    "duration": 8,
    "start_time": "2025-02-28T02:37:39.178Z"
   },
   {
    "duration": 3,
    "start_time": "2025-02-28T02:37:39.188Z"
   },
   {
    "duration": 4,
    "start_time": "2025-02-28T02:37:39.232Z"
   },
   {
    "duration": 4,
    "start_time": "2025-02-28T02:37:39.238Z"
   },
   {
    "duration": 278,
    "start_time": "2025-02-28T02:37:39.247Z"
   },
   {
    "duration": 6,
    "start_time": "2025-02-28T02:38:10.495Z"
   },
   {
    "duration": 5,
    "start_time": "2025-02-28T02:38:37.924Z"
   },
   {
    "duration": 937,
    "start_time": "2025-02-28T02:39:42.214Z"
   },
   {
    "duration": 2683,
    "start_time": "2025-02-28T02:39:43.153Z"
   },
   {
    "duration": 3,
    "start_time": "2025-02-28T02:39:45.837Z"
   },
   {
    "duration": 3,
    "start_time": "2025-02-28T02:39:45.842Z"
   },
   {
    "duration": 5,
    "start_time": "2025-02-28T02:39:45.848Z"
   },
   {
    "duration": 87,
    "start_time": "2025-02-28T02:39:45.855Z"
   },
   {
    "duration": 187,
    "start_time": "2025-02-28T02:39:45.944Z"
   },
   {
    "duration": 121,
    "start_time": "2025-02-28T02:39:46.133Z"
   },
   {
    "duration": 85,
    "start_time": "2025-02-28T02:39:46.256Z"
   },
   {
    "duration": 5,
    "start_time": "2025-02-28T02:39:46.345Z"
   },
   {
    "duration": 2,
    "start_time": "2025-02-28T02:39:46.352Z"
   },
   {
    "duration": 5,
    "start_time": "2025-02-28T02:39:46.356Z"
   },
   {
    "duration": 69,
    "start_time": "2025-02-28T02:39:46.363Z"
   },
   {
    "duration": 20,
    "start_time": "2025-02-28T02:39:46.436Z"
   },
   {
    "duration": 7,
    "start_time": "2025-02-28T02:39:46.458Z"
   },
   {
    "duration": 8,
    "start_time": "2025-02-28T02:39:46.467Z"
   },
   {
    "duration": 3,
    "start_time": "2025-02-28T02:39:46.477Z"
   },
   {
    "duration": 8,
    "start_time": "2025-02-28T02:39:46.482Z"
   },
   {
    "duration": 41,
    "start_time": "2025-02-28T02:39:46.491Z"
   },
   {
    "duration": 8,
    "start_time": "2025-02-28T02:39:46.534Z"
   },
   {
    "duration": 3,
    "start_time": "2025-02-28T02:39:46.543Z"
   },
   {
    "duration": 4,
    "start_time": "2025-02-28T02:39:46.548Z"
   },
   {
    "duration": 4,
    "start_time": "2025-02-28T02:39:46.554Z"
   },
   {
    "duration": 289,
    "start_time": "2025-02-28T02:39:46.559Z"
   },
   {
    "duration": 984,
    "start_time": "2025-02-28T02:41:38.871Z"
   },
   {
    "duration": 3152,
    "start_time": "2025-02-28T02:41:39.857Z"
   },
   {
    "duration": 4,
    "start_time": "2025-02-28T02:41:43.011Z"
   },
   {
    "duration": 6,
    "start_time": "2025-02-28T02:41:43.016Z"
   },
   {
    "duration": 4,
    "start_time": "2025-02-28T02:41:43.032Z"
   },
   {
    "duration": 107,
    "start_time": "2025-02-28T02:41:43.038Z"
   },
   {
    "duration": 119,
    "start_time": "2025-02-28T02:41:43.147Z"
   },
   {
    "duration": 181,
    "start_time": "2025-02-28T02:41:43.268Z"
   },
   {
    "duration": 88,
    "start_time": "2025-02-28T02:41:43.451Z"
   },
   {
    "duration": 4,
    "start_time": "2025-02-28T02:41:43.541Z"
   },
   {
    "duration": 3,
    "start_time": "2025-02-28T02:41:43.546Z"
   },
   {
    "duration": 4,
    "start_time": "2025-02-28T02:41:43.552Z"
   },
   {
    "duration": 3,
    "start_time": "2025-02-28T02:41:43.558Z"
   },
   {
    "duration": 81,
    "start_time": "2025-02-28T02:41:43.564Z"
   },
   {
    "duration": 7,
    "start_time": "2025-02-28T02:41:43.646Z"
   },
   {
    "duration": 6,
    "start_time": "2025-02-28T02:41:43.655Z"
   },
   {
    "duration": 3,
    "start_time": "2025-02-28T02:41:43.663Z"
   },
   {
    "duration": 7,
    "start_time": "2025-02-28T02:41:43.667Z"
   },
   {
    "duration": 7,
    "start_time": "2025-02-28T02:41:43.676Z"
   },
   {
    "duration": 6,
    "start_time": "2025-02-28T02:41:43.685Z"
   },
   {
    "duration": 2,
    "start_time": "2025-02-28T02:41:43.693Z"
   },
   {
    "duration": 35,
    "start_time": "2025-02-28T02:41:43.697Z"
   },
   {
    "duration": 4,
    "start_time": "2025-02-28T02:41:43.734Z"
   },
   {
    "duration": 293,
    "start_time": "2025-02-28T02:41:43.739Z"
   },
   {
    "duration": 1023,
    "start_time": "2025-02-28T02:48:34.233Z"
   },
   {
    "duration": 3246,
    "start_time": "2025-02-28T02:48:35.259Z"
   },
   {
    "duration": 4,
    "start_time": "2025-02-28T02:48:38.506Z"
   },
   {
    "duration": 4,
    "start_time": "2025-02-28T02:48:38.512Z"
   },
   {
    "duration": 14,
    "start_time": "2025-02-28T02:48:38.518Z"
   },
   {
    "duration": 99,
    "start_time": "2025-02-28T02:48:38.533Z"
   },
   {
    "duration": 119,
    "start_time": "2025-02-28T02:48:38.634Z"
   },
   {
    "duration": 191,
    "start_time": "2025-02-28T02:48:38.755Z"
   },
   {
    "duration": 87,
    "start_time": "2025-02-28T02:48:38.948Z"
   },
   {
    "duration": 5,
    "start_time": "2025-02-28T02:48:39.037Z"
   },
   {
    "duration": 4,
    "start_time": "2025-02-28T02:48:39.043Z"
   },
   {
    "duration": 5,
    "start_time": "2025-02-28T02:48:39.048Z"
   },
   {
    "duration": 4,
    "start_time": "2025-02-28T02:48:39.055Z"
   },
   {
    "duration": 71,
    "start_time": "2025-02-28T02:48:39.063Z"
   },
   {
    "duration": 7,
    "start_time": "2025-02-28T02:48:39.136Z"
   },
   {
    "duration": 7,
    "start_time": "2025-02-28T02:48:39.145Z"
   },
   {
    "duration": 4,
    "start_time": "2025-02-28T02:48:39.153Z"
   },
   {
    "duration": 7,
    "start_time": "2025-02-28T02:48:39.158Z"
   },
   {
    "duration": 7,
    "start_time": "2025-02-28T02:48:39.167Z"
   },
   {
    "duration": 7,
    "start_time": "2025-02-28T02:48:39.176Z"
   },
   {
    "duration": 3,
    "start_time": "2025-02-28T02:48:39.184Z"
   },
   {
    "duration": 4,
    "start_time": "2025-02-28T02:48:39.188Z"
   },
   {
    "duration": 40,
    "start_time": "2025-02-28T02:48:39.194Z"
   },
   {
    "duration": 274,
    "start_time": "2025-02-28T02:48:39.235Z"
   },
   {
    "duration": 270,
    "start_time": "2025-02-28T02:48:39.511Z"
   },
   {
    "duration": 268,
    "start_time": "2025-02-28T02:48:39.783Z"
   },
   {
    "duration": 224,
    "start_time": "2025-02-28T03:01:21.985Z"
   },
   {
    "duration": 8,
    "start_time": "2025-02-28T03:01:41.212Z"
   },
   {
    "duration": 1026,
    "start_time": "2025-02-28T03:21:01.231Z"
   },
   {
    "duration": 2812,
    "start_time": "2025-02-28T03:21:02.259Z"
   },
   {
    "duration": 3,
    "start_time": "2025-02-28T03:21:05.072Z"
   },
   {
    "duration": 4,
    "start_time": "2025-02-28T03:21:05.077Z"
   },
   {
    "duration": 4,
    "start_time": "2025-02-28T03:21:05.084Z"
   },
   {
    "duration": 55,
    "start_time": "2025-02-28T03:21:05.090Z"
   },
   {
    "duration": 185,
    "start_time": "2025-02-28T03:21:05.146Z"
   },
   {
    "duration": 125,
    "start_time": "2025-02-28T03:21:05.333Z"
   },
   {
    "duration": 80,
    "start_time": "2025-02-28T03:21:05.460Z"
   },
   {
    "duration": 5,
    "start_time": "2025-02-28T03:21:05.542Z"
   },
   {
    "duration": 3,
    "start_time": "2025-02-28T03:21:05.549Z"
   },
   {
    "duration": 72,
    "start_time": "2025-02-28T03:21:05.560Z"
   },
   {
    "duration": 4,
    "start_time": "2025-02-28T03:21:05.634Z"
   },
   {
    "duration": 21,
    "start_time": "2025-02-28T03:21:05.641Z"
   },
   {
    "duration": 9,
    "start_time": "2025-02-28T03:21:05.664Z"
   },
   {
    "duration": 10,
    "start_time": "2025-02-28T03:21:05.675Z"
   },
   {
    "duration": 3,
    "start_time": "2025-02-28T03:21:05.687Z"
   },
   {
    "duration": 7,
    "start_time": "2025-02-28T03:21:05.692Z"
   },
   {
    "duration": 37,
    "start_time": "2025-02-28T03:21:05.700Z"
   },
   {
    "duration": 7,
    "start_time": "2025-02-28T03:21:05.738Z"
   },
   {
    "duration": 2,
    "start_time": "2025-02-28T03:21:05.747Z"
   },
   {
    "duration": 4,
    "start_time": "2025-02-28T03:21:05.751Z"
   },
   {
    "duration": 4,
    "start_time": "2025-02-28T03:21:05.756Z"
   },
   {
    "duration": 296,
    "start_time": "2025-02-28T03:21:05.762Z"
   },
   {
    "duration": 7,
    "start_time": "2025-02-28T03:21:06.060Z"
   },
   {
    "duration": 12,
    "start_time": "2025-02-28T03:22:15.671Z"
   },
   {
    "duration": 1003,
    "start_time": "2025-02-28T03:22:30.128Z"
   },
   {
    "duration": 2822,
    "start_time": "2025-02-28T03:22:31.133Z"
   },
   {
    "duration": 4,
    "start_time": "2025-02-28T03:22:33.957Z"
   },
   {
    "duration": 4,
    "start_time": "2025-02-28T03:22:33.962Z"
   },
   {
    "duration": 5,
    "start_time": "2025-02-28T03:22:33.969Z"
   },
   {
    "duration": 68,
    "start_time": "2025-02-28T03:22:33.977Z"
   },
   {
    "duration": 184,
    "start_time": "2025-02-28T03:22:34.047Z"
   },
   {
    "duration": 117,
    "start_time": "2025-02-28T03:22:34.237Z"
   },
   {
    "duration": 85,
    "start_time": "2025-02-28T03:22:34.360Z"
   },
   {
    "duration": 3,
    "start_time": "2025-02-28T03:22:34.448Z"
   },
   {
    "duration": 3,
    "start_time": "2025-02-28T03:22:34.453Z"
   },
   {
    "duration": 73,
    "start_time": "2025-02-28T03:22:34.458Z"
   },
   {
    "duration": 4,
    "start_time": "2025-02-28T03:22:34.533Z"
   },
   {
    "duration": 20,
    "start_time": "2025-02-28T03:22:34.541Z"
   },
   {
    "duration": 8,
    "start_time": "2025-02-28T03:22:34.563Z"
   },
   {
    "duration": 7,
    "start_time": "2025-02-28T03:22:34.573Z"
   },
   {
    "duration": 3,
    "start_time": "2025-02-28T03:22:34.582Z"
   },
   {
    "duration": 7,
    "start_time": "2025-02-28T03:22:34.587Z"
   },
   {
    "duration": 37,
    "start_time": "2025-02-28T03:22:34.595Z"
   },
   {
    "duration": 8,
    "start_time": "2025-02-28T03:22:34.634Z"
   },
   {
    "duration": 2,
    "start_time": "2025-02-28T03:22:34.644Z"
   },
   {
    "duration": 4,
    "start_time": "2025-02-28T03:22:34.648Z"
   },
   {
    "duration": 3,
    "start_time": "2025-02-28T03:22:34.654Z"
   },
   {
    "duration": 291,
    "start_time": "2025-02-28T03:22:34.658Z"
   },
   {
    "duration": 10,
    "start_time": "2025-02-28T03:22:34.951Z"
   },
   {
    "duration": 1009,
    "start_time": "2025-02-28T05:13:07.754Z"
   },
   {
    "duration": 2763,
    "start_time": "2025-02-28T05:13:08.766Z"
   },
   {
    "duration": 3,
    "start_time": "2025-02-28T05:13:11.531Z"
   },
   {
    "duration": 4,
    "start_time": "2025-02-28T05:13:11.536Z"
   },
   {
    "duration": 4,
    "start_time": "2025-02-28T05:13:11.542Z"
   },
   {
    "duration": 86,
    "start_time": "2025-02-28T05:13:11.547Z"
   },
   {
    "duration": 127,
    "start_time": "2025-02-28T05:13:11.635Z"
   },
   {
    "duration": 189,
    "start_time": "2025-02-28T05:13:11.764Z"
   },
   {
    "duration": 91,
    "start_time": "2025-02-28T05:13:11.955Z"
   },
   {
    "duration": 4,
    "start_time": "2025-02-28T05:13:12.049Z"
   },
   {
    "duration": 3,
    "start_time": "2025-02-28T05:13:12.055Z"
   },
   {
    "duration": 5,
    "start_time": "2025-02-28T05:13:12.060Z"
   },
   {
    "duration": 69,
    "start_time": "2025-02-28T05:13:12.066Z"
   },
   {
    "duration": 22,
    "start_time": "2025-02-28T05:13:12.136Z"
   },
   {
    "duration": 7,
    "start_time": "2025-02-28T05:13:12.159Z"
   },
   {
    "duration": 7,
    "start_time": "2025-02-28T05:13:12.167Z"
   },
   {
    "duration": 4,
    "start_time": "2025-02-28T05:13:12.175Z"
   },
   {
    "duration": 6,
    "start_time": "2025-02-28T05:13:12.181Z"
   },
   {
    "duration": 8,
    "start_time": "2025-02-28T05:13:12.189Z"
   },
   {
    "duration": 37,
    "start_time": "2025-02-28T05:13:12.198Z"
   },
   {
    "duration": 3,
    "start_time": "2025-02-28T05:13:12.237Z"
   },
   {
    "duration": 3,
    "start_time": "2025-02-28T05:13:12.242Z"
   },
   {
    "duration": 3,
    "start_time": "2025-02-28T05:13:12.247Z"
   },
   {
    "duration": 302,
    "start_time": "2025-02-28T05:13:12.252Z"
   },
   {
    "duration": 11,
    "start_time": "2025-02-28T05:13:12.555Z"
   },
   {
    "duration": 9,
    "start_time": "2025-02-28T05:25:40.633Z"
   },
   {
    "duration": 247,
    "start_time": "2025-02-28T05:26:35.549Z"
   },
   {
    "duration": 5,
    "start_time": "2025-02-28T05:27:00.127Z"
   },
   {
    "duration": 8,
    "start_time": "2025-02-28T05:27:15.861Z"
   },
   {
    "duration": 5,
    "start_time": "2025-02-28T05:41:08.846Z"
   },
   {
    "duration": 5,
    "start_time": "2025-02-28T05:47:41.483Z"
   },
   {
    "duration": 5,
    "start_time": "2025-02-28T05:47:52.671Z"
   },
   {
    "duration": 5,
    "start_time": "2025-02-28T05:48:02.956Z"
   },
   {
    "duration": 6,
    "start_time": "2025-02-28T05:49:01.293Z"
   },
   {
    "duration": 4,
    "start_time": "2025-02-28T05:49:15.440Z"
   },
   {
    "duration": 5,
    "start_time": "2025-02-28T05:49:24.342Z"
   },
   {
    "duration": 5,
    "start_time": "2025-02-28T05:49:38.623Z"
   },
   {
    "duration": 5,
    "start_time": "2025-02-28T05:54:57.491Z"
   },
   {
    "duration": 5,
    "start_time": "2025-02-28T05:55:04.563Z"
   },
   {
    "duration": 1038,
    "start_time": "2025-02-28T05:55:10.835Z"
   },
   {
    "duration": 3028,
    "start_time": "2025-02-28T05:55:11.875Z"
   },
   {
    "duration": 4,
    "start_time": "2025-02-28T05:55:14.905Z"
   },
   {
    "duration": 3,
    "start_time": "2025-02-28T05:55:14.911Z"
   },
   {
    "duration": 5,
    "start_time": "2025-02-28T05:55:14.916Z"
   },
   {
    "duration": 101,
    "start_time": "2025-02-28T05:55:14.932Z"
   },
   {
    "duration": 117,
    "start_time": "2025-02-28T05:55:15.035Z"
   },
   {
    "duration": 191,
    "start_time": "2025-02-28T05:55:15.154Z"
   },
   {
    "duration": 90,
    "start_time": "2025-02-28T05:55:15.347Z"
   },
   {
    "duration": 4,
    "start_time": "2025-02-28T05:55:15.440Z"
   },
   {
    "duration": 3,
    "start_time": "2025-02-28T05:55:15.446Z"
   },
   {
    "duration": 4,
    "start_time": "2025-02-28T05:55:15.451Z"
   },
   {
    "duration": 3,
    "start_time": "2025-02-28T05:55:15.457Z"
   },
   {
    "duration": 70,
    "start_time": "2025-02-28T05:55:15.462Z"
   },
   {
    "duration": 8,
    "start_time": "2025-02-28T05:55:15.533Z"
   },
   {
    "duration": 7,
    "start_time": "2025-02-28T05:55:15.542Z"
   },
   {
    "duration": 3,
    "start_time": "2025-02-28T05:55:15.551Z"
   },
   {
    "duration": 7,
    "start_time": "2025-02-28T05:55:15.555Z"
   },
   {
    "duration": 7,
    "start_time": "2025-02-28T05:55:15.563Z"
   },
   {
    "duration": 7,
    "start_time": "2025-02-28T05:55:15.572Z"
   },
   {
    "duration": 3,
    "start_time": "2025-02-28T05:55:15.582Z"
   },
   {
    "duration": 3,
    "start_time": "2025-02-28T05:55:15.587Z"
   },
   {
    "duration": 40,
    "start_time": "2025-02-28T05:55:15.592Z"
   },
   {
    "duration": 278,
    "start_time": "2025-02-28T05:55:15.634Z"
   },
   {
    "duration": 24,
    "start_time": "2025-02-28T05:55:15.913Z"
   },
   {
    "duration": 8,
    "start_time": "2025-02-28T05:55:15.938Z"
   },
   {
    "duration": 4,
    "start_time": "2025-02-28T05:55:15.948Z"
   },
   {
    "duration": 3,
    "start_time": "2025-02-28T05:55:15.956Z"
   },
   {
    "duration": 4,
    "start_time": "2025-02-28T05:55:15.961Z"
   },
   {
    "duration": 5,
    "start_time": "2025-02-28T05:55:15.966Z"
   },
   {
    "duration": 6,
    "start_time": "2025-02-28T05:55:15.972Z"
   },
   {
    "duration": 4,
    "start_time": "2025-02-28T05:58:32.170Z"
   },
   {
    "duration": 4,
    "start_time": "2025-02-28T05:59:37.016Z"
   },
   {
    "duration": 4,
    "start_time": "2025-02-28T06:00:42.654Z"
   },
   {
    "duration": 4,
    "start_time": "2025-02-28T06:02:25.858Z"
   },
   {
    "duration": 4,
    "start_time": "2025-02-28T06:03:48.675Z"
   },
   {
    "duration": 1024,
    "start_time": "2025-02-28T06:04:07.353Z"
   },
   {
    "duration": 2943,
    "start_time": "2025-02-28T06:04:08.379Z"
   },
   {
    "duration": 5,
    "start_time": "2025-02-28T06:04:11.324Z"
   },
   {
    "duration": 3,
    "start_time": "2025-02-28T06:04:11.332Z"
   },
   {
    "duration": 4,
    "start_time": "2025-02-28T06:04:11.338Z"
   },
   {
    "duration": 94,
    "start_time": "2025-02-28T06:04:11.343Z"
   },
   {
    "duration": 121,
    "start_time": "2025-02-28T06:04:11.440Z"
   },
   {
    "duration": 268,
    "start_time": "2025-02-28T06:04:11.563Z"
   },
   {
    "duration": 17,
    "start_time": "2025-02-28T06:04:11.837Z"
   },
   {
    "duration": 76,
    "start_time": "2025-02-28T06:04:11.856Z"
   },
   {
    "duration": 3,
    "start_time": "2025-02-28T06:04:11.934Z"
   },
   {
    "duration": 4,
    "start_time": "2025-02-28T06:04:11.939Z"
   },
   {
    "duration": 4,
    "start_time": "2025-02-28T06:04:11.944Z"
   },
   {
    "duration": 26,
    "start_time": "2025-02-28T06:04:11.952Z"
   },
   {
    "duration": 7,
    "start_time": "2025-02-28T06:04:11.980Z"
   },
   {
    "duration": 7,
    "start_time": "2025-02-28T06:04:11.988Z"
   },
   {
    "duration": 36,
    "start_time": "2025-02-28T06:04:11.996Z"
   },
   {
    "duration": 7,
    "start_time": "2025-02-28T06:04:12.033Z"
   },
   {
    "duration": 7,
    "start_time": "2025-02-28T06:04:12.041Z"
   },
   {
    "duration": 6,
    "start_time": "2025-02-28T06:04:12.050Z"
   },
   {
    "duration": 4,
    "start_time": "2025-02-28T06:04:12.058Z"
   },
   {
    "duration": 4,
    "start_time": "2025-02-28T06:04:12.063Z"
   },
   {
    "duration": 4,
    "start_time": "2025-02-28T06:04:12.068Z"
   },
   {
    "duration": 298,
    "start_time": "2025-02-28T06:04:12.074Z"
   },
   {
    "duration": 12,
    "start_time": "2025-02-28T06:04:12.374Z"
   },
   {
    "duration": 7,
    "start_time": "2025-02-28T06:04:12.388Z"
   },
   {
    "duration": 4,
    "start_time": "2025-02-28T06:04:12.397Z"
   },
   {
    "duration": 29,
    "start_time": "2025-02-28T06:04:12.403Z"
   },
   {
    "duration": 5,
    "start_time": "2025-02-28T06:04:12.434Z"
   },
   {
    "duration": 5,
    "start_time": "2025-02-28T06:04:12.440Z"
   },
   {
    "duration": 3,
    "start_time": "2025-02-28T06:04:12.447Z"
   },
   {
    "duration": 4,
    "start_time": "2025-02-28T06:04:12.452Z"
   },
   {
    "duration": 0,
    "start_time": "2025-02-28T06:04:12.458Z"
   },
   {
    "duration": 2,
    "start_time": "2025-02-28T06:04:23.214Z"
   },
   {
    "duration": 4,
    "start_time": "2025-02-28T06:04:23.941Z"
   },
   {
    "duration": 3,
    "start_time": "2025-02-28T06:05:04.164Z"
   },
   {
    "duration": 4,
    "start_time": "2025-02-28T06:05:11.893Z"
   },
   {
    "duration": 4,
    "start_time": "2025-02-28T06:05:22.021Z"
   },
   {
    "duration": 2,
    "start_time": "2025-02-28T06:14:09.087Z"
   },
   {
    "duration": 4,
    "start_time": "2025-02-28T06:14:16.876Z"
   },
   {
    "duration": 9,
    "start_time": "2025-02-28T06:16:23.731Z"
   },
   {
    "duration": 10,
    "start_time": "2025-02-28T06:17:07.664Z"
   },
   {
    "duration": 9,
    "start_time": "2025-02-28T06:17:51.626Z"
   },
   {
    "duration": 617,
    "start_time": "2025-02-28T06:20:27.180Z"
   },
   {
    "duration": 27,
    "start_time": "2025-02-28T06:22:17.824Z"
   },
   {
    "duration": 36,
    "start_time": "2025-02-28T06:22:44.035Z"
   },
   {
    "duration": 34,
    "start_time": "2025-02-28T06:23:12.467Z"
   },
   {
    "duration": 7,
    "start_time": "2025-02-28T06:23:49.753Z"
   },
   {
    "duration": 946,
    "start_time": "2025-02-28T06:39:25.206Z"
   },
   {
    "duration": 3462,
    "start_time": "2025-02-28T06:39:26.154Z"
   },
   {
    "duration": 4,
    "start_time": "2025-02-28T06:39:29.617Z"
   },
   {
    "duration": 5,
    "start_time": "2025-02-28T06:39:29.622Z"
   },
   {
    "duration": 5,
    "start_time": "2025-02-28T06:39:29.631Z"
   },
   {
    "duration": 95,
    "start_time": "2025-02-28T06:39:29.638Z"
   },
   {
    "duration": 126,
    "start_time": "2025-02-28T06:39:29.734Z"
   },
   {
    "duration": 188,
    "start_time": "2025-02-28T06:39:29.861Z"
   },
   {
    "duration": 90,
    "start_time": "2025-02-28T06:39:30.051Z"
   },
   {
    "duration": 4,
    "start_time": "2025-02-28T06:39:30.143Z"
   },
   {
    "duration": 4,
    "start_time": "2025-02-28T06:39:30.148Z"
   },
   {
    "duration": 5,
    "start_time": "2025-02-28T06:39:30.153Z"
   },
   {
    "duration": 4,
    "start_time": "2025-02-28T06:39:30.159Z"
   },
   {
    "duration": 77,
    "start_time": "2025-02-28T06:39:30.167Z"
   },
   {
    "duration": 7,
    "start_time": "2025-02-28T06:39:30.245Z"
   },
   {
    "duration": 7,
    "start_time": "2025-02-28T06:39:30.254Z"
   },
   {
    "duration": 4,
    "start_time": "2025-02-28T06:39:30.262Z"
   },
   {
    "duration": 6,
    "start_time": "2025-02-28T06:39:30.267Z"
   },
   {
    "duration": 7,
    "start_time": "2025-02-28T06:39:30.276Z"
   },
   {
    "duration": 8,
    "start_time": "2025-02-28T06:39:30.284Z"
   },
   {
    "duration": 3,
    "start_time": "2025-02-28T06:39:30.293Z"
   },
   {
    "duration": 36,
    "start_time": "2025-02-28T06:39:30.297Z"
   },
   {
    "duration": 3,
    "start_time": "2025-02-28T06:39:30.335Z"
   },
   {
    "duration": 295,
    "start_time": "2025-02-28T06:39:30.340Z"
   },
   {
    "duration": 11,
    "start_time": "2025-02-28T06:39:30.637Z"
   },
   {
    "duration": 6,
    "start_time": "2025-02-28T06:39:30.650Z"
   },
   {
    "duration": 5,
    "start_time": "2025-02-28T06:39:30.657Z"
   },
   {
    "duration": 4,
    "start_time": "2025-02-28T06:39:30.663Z"
   },
   {
    "duration": 3,
    "start_time": "2025-02-28T06:39:30.669Z"
   },
   {
    "duration": 5,
    "start_time": "2025-02-28T06:39:30.673Z"
   },
   {
    "duration": 4,
    "start_time": "2025-02-28T06:39:30.681Z"
   },
   {
    "duration": 1035,
    "start_time": "2025-02-28T06:39:57.522Z"
   },
   {
    "duration": 2803,
    "start_time": "2025-02-28T06:39:58.560Z"
   },
   {
    "duration": 4,
    "start_time": "2025-02-28T06:40:01.364Z"
   },
   {
    "duration": 5,
    "start_time": "2025-02-28T06:40:01.370Z"
   },
   {
    "duration": 5,
    "start_time": "2025-02-28T06:40:01.376Z"
   },
   {
    "duration": 62,
    "start_time": "2025-02-28T06:40:01.383Z"
   },
   {
    "duration": 182,
    "start_time": "2025-02-28T06:40:01.449Z"
   },
   {
    "duration": 126,
    "start_time": "2025-02-28T06:40:01.633Z"
   },
   {
    "duration": 80,
    "start_time": "2025-02-28T06:40:01.761Z"
   },
   {
    "duration": 5,
    "start_time": "2025-02-28T06:40:01.844Z"
   },
   {
    "duration": 4,
    "start_time": "2025-02-28T06:40:01.851Z"
   },
   {
    "duration": 76,
    "start_time": "2025-02-28T06:40:01.856Z"
   },
   {
    "duration": 3,
    "start_time": "2025-02-28T06:40:01.934Z"
   },
   {
    "duration": 27,
    "start_time": "2025-02-28T06:40:01.938Z"
   },
   {
    "duration": 7,
    "start_time": "2025-02-28T06:40:01.966Z"
   },
   {
    "duration": 8,
    "start_time": "2025-02-28T06:40:01.975Z"
   },
   {
    "duration": 4,
    "start_time": "2025-02-28T06:40:01.984Z"
   },
   {
    "duration": 6,
    "start_time": "2025-02-28T06:40:01.989Z"
   },
   {
    "duration": 40,
    "start_time": "2025-02-28T06:40:01.997Z"
   },
   {
    "duration": 8,
    "start_time": "2025-02-28T06:40:02.039Z"
   },
   {
    "duration": 4,
    "start_time": "2025-02-28T06:40:02.048Z"
   },
   {
    "duration": 3,
    "start_time": "2025-02-28T06:40:02.053Z"
   },
   {
    "duration": 3,
    "start_time": "2025-02-28T06:40:02.058Z"
   },
   {
    "duration": 301,
    "start_time": "2025-02-28T06:40:02.063Z"
   },
   {
    "duration": 11,
    "start_time": "2025-02-28T06:40:02.366Z"
   },
   {
    "duration": 5,
    "start_time": "2025-02-28T06:40:02.379Z"
   },
   {
    "duration": 5,
    "start_time": "2025-02-28T06:40:02.386Z"
   },
   {
    "duration": 4,
    "start_time": "2025-02-28T06:40:02.394Z"
   },
   {
    "duration": 32,
    "start_time": "2025-02-28T06:40:02.400Z"
   },
   {
    "duration": 4,
    "start_time": "2025-02-28T06:40:02.433Z"
   },
   {
    "duration": 3,
    "start_time": "2025-02-28T06:40:02.439Z"
   },
   {
    "duration": 954,
    "start_time": "2025-02-28T06:49:57.804Z"
   },
   {
    "duration": 2740,
    "start_time": "2025-02-28T06:49:58.760Z"
   },
   {
    "duration": 3,
    "start_time": "2025-02-28T06:50:01.501Z"
   },
   {
    "duration": 4,
    "start_time": "2025-02-28T06:50:01.506Z"
   },
   {
    "duration": 4,
    "start_time": "2025-02-28T06:50:01.512Z"
   },
   {
    "duration": 50,
    "start_time": "2025-02-28T06:50:01.517Z"
   },
   {
    "duration": 123,
    "start_time": "2025-02-28T06:50:01.632Z"
   },
   {
    "duration": 188,
    "start_time": "2025-02-28T06:50:01.757Z"
   },
   {
    "duration": 90,
    "start_time": "2025-02-28T06:50:01.947Z"
   },
   {
    "duration": 4,
    "start_time": "2025-02-28T06:50:02.042Z"
   },
   {
    "duration": 3,
    "start_time": "2025-02-28T06:50:02.048Z"
   },
   {
    "duration": 5,
    "start_time": "2025-02-28T06:50:02.052Z"
   },
   {
    "duration": 4,
    "start_time": "2025-02-28T06:50:02.059Z"
   },
   {
    "duration": 74,
    "start_time": "2025-02-28T06:50:02.064Z"
   },
   {
    "duration": 6,
    "start_time": "2025-02-28T06:50:02.140Z"
   },
   {
    "duration": 7,
    "start_time": "2025-02-28T06:50:02.148Z"
   },
   {
    "duration": 4,
    "start_time": "2025-02-28T06:50:02.156Z"
   },
   {
    "duration": 7,
    "start_time": "2025-02-28T06:50:02.162Z"
   },
   {
    "duration": 9,
    "start_time": "2025-02-28T06:50:02.170Z"
   },
   {
    "duration": 7,
    "start_time": "2025-02-28T06:50:02.181Z"
   },
   {
    "duration": 3,
    "start_time": "2025-02-28T06:50:02.190Z"
   },
   {
    "duration": 37,
    "start_time": "2025-02-28T06:50:02.195Z"
   },
   {
    "duration": 4,
    "start_time": "2025-02-28T06:50:02.233Z"
   },
   {
    "duration": 273,
    "start_time": "2025-02-28T06:50:02.239Z"
   },
   {
    "duration": 267,
    "start_time": "2025-02-28T06:50:02.513Z"
   },
   {
    "duration": 259,
    "start_time": "2025-02-28T06:50:02.781Z"
   },
   {
    "duration": 163,
    "start_time": "2025-02-28T15:12:50.185Z"
   },
   {
    "duration": 2745,
    "start_time": "2025-02-28T15:13:01.148Z"
   },
   {
    "duration": 3000,
    "start_time": "2025-02-28T15:13:03.895Z"
   },
   {
    "duration": 3,
    "start_time": "2025-02-28T15:13:06.897Z"
   },
   {
    "duration": 3,
    "start_time": "2025-02-28T15:13:06.903Z"
   },
   {
    "duration": 5,
    "start_time": "2025-02-28T15:13:06.907Z"
   },
   {
    "duration": 93,
    "start_time": "2025-02-28T15:13:06.914Z"
   },
   {
    "duration": 188,
    "start_time": "2025-02-28T15:13:07.008Z"
   },
   {
    "duration": 190,
    "start_time": "2025-02-28T15:13:07.198Z"
   },
   {
    "duration": 16,
    "start_time": "2025-02-28T15:13:07.390Z"
   },
   {
    "duration": 78,
    "start_time": "2025-02-28T15:13:07.410Z"
   },
   {
    "duration": 4,
    "start_time": "2025-02-28T15:13:07.490Z"
   },
   {
    "duration": 5,
    "start_time": "2025-02-28T15:13:07.495Z"
   },
   {
    "duration": 4,
    "start_time": "2025-02-28T15:13:07.502Z"
   },
   {
    "duration": 24,
    "start_time": "2025-02-28T15:13:07.508Z"
   },
   {
    "duration": 8,
    "start_time": "2025-02-28T15:13:07.534Z"
   },
   {
    "duration": 10,
    "start_time": "2025-02-28T15:13:07.544Z"
   },
   {
    "duration": 4,
    "start_time": "2025-02-28T15:13:07.588Z"
   },
   {
    "duration": 8,
    "start_time": "2025-02-28T15:13:07.594Z"
   },
   {
    "duration": 4,
    "start_time": "2025-02-28T15:13:07.603Z"
   },
   {
    "duration": 7,
    "start_time": "2025-02-28T15:13:07.609Z"
   },
   {
    "duration": 8,
    "start_time": "2025-02-28T15:13:07.617Z"
   },
   {
    "duration": 3,
    "start_time": "2025-02-28T15:13:07.628Z"
   },
   {
    "duration": 4,
    "start_time": "2025-02-28T15:13:07.632Z"
   },
   {
    "duration": 4,
    "start_time": "2025-02-28T15:13:07.637Z"
   },
   {
    "duration": 329,
    "start_time": "2025-02-28T15:13:07.642Z"
   },
   {
    "duration": 299,
    "start_time": "2025-02-28T15:13:07.973Z"
   },
   {
    "duration": 332,
    "start_time": "2025-02-28T15:13:08.275Z"
   },
   {
    "duration": 5,
    "start_time": "2025-02-28T15:13:39.596Z"
   },
   {
    "duration": 4,
    "start_time": "2025-02-28T15:14:35.417Z"
   },
   {
    "duration": 5,
    "start_time": "2025-02-28T15:14:52.516Z"
   },
   {
    "duration": 1027,
    "start_time": "2025-02-28T15:23:23.618Z"
   },
   {
    "duration": 3205,
    "start_time": "2025-02-28T15:23:24.647Z"
   },
   {
    "duration": 5,
    "start_time": "2025-02-28T15:23:27.854Z"
   },
   {
    "duration": 8,
    "start_time": "2025-02-28T15:23:27.863Z"
   },
   {
    "duration": 4,
    "start_time": "2025-02-28T15:23:27.874Z"
   },
   {
    "duration": 129,
    "start_time": "2025-02-28T15:23:27.880Z"
   },
   {
    "duration": 123,
    "start_time": "2025-02-28T15:23:28.011Z"
   },
   {
    "duration": 264,
    "start_time": "2025-02-28T15:23:28.136Z"
   },
   {
    "duration": 23,
    "start_time": "2025-02-28T15:23:28.403Z"
   },
   {
    "duration": 4,
    "start_time": "2025-02-28T15:23:28.429Z"
   },
   {
    "duration": 3,
    "start_time": "2025-02-28T15:23:28.435Z"
   },
   {
    "duration": 4,
    "start_time": "2025-02-28T15:23:28.440Z"
   },
   {
    "duration": 19,
    "start_time": "2025-02-28T15:23:28.490Z"
   },
   {
    "duration": 24,
    "start_time": "2025-02-28T15:23:28.512Z"
   },
   {
    "duration": 7,
    "start_time": "2025-02-28T15:23:28.537Z"
   },
   {
    "duration": 6,
    "start_time": "2025-02-28T15:23:28.546Z"
   },
   {
    "duration": 4,
    "start_time": "2025-02-28T15:23:28.554Z"
   },
   {
    "duration": 7,
    "start_time": "2025-02-28T15:23:28.559Z"
   },
   {
    "duration": 614,
    "start_time": "2025-02-28T15:23:28.567Z"
   },
   {
    "duration": 0,
    "start_time": "2025-02-28T15:23:29.194Z"
   },
   {
    "duration": 0,
    "start_time": "2025-02-28T15:23:29.195Z"
   },
   {
    "duration": 0,
    "start_time": "2025-02-28T15:23:29.195Z"
   },
   {
    "duration": 0,
    "start_time": "2025-02-28T15:23:29.196Z"
   },
   {
    "duration": 0,
    "start_time": "2025-02-28T15:23:29.197Z"
   },
   {
    "duration": 0,
    "start_time": "2025-02-28T15:23:29.197Z"
   },
   {
    "duration": 0,
    "start_time": "2025-02-28T15:23:29.198Z"
   },
   {
    "duration": 0,
    "start_time": "2025-02-28T15:23:29.199Z"
   },
   {
    "duration": 4,
    "start_time": "2025-02-28T15:23:48.229Z"
   },
   {
    "duration": 1090,
    "start_time": "2025-02-28T15:29:42.203Z"
   },
   {
    "duration": 2857,
    "start_time": "2025-02-28T15:29:43.307Z"
   },
   {
    "duration": 3,
    "start_time": "2025-02-28T15:29:46.166Z"
   },
   {
    "duration": 4,
    "start_time": "2025-02-28T15:29:46.171Z"
   },
   {
    "duration": 15,
    "start_time": "2025-02-28T15:29:46.177Z"
   },
   {
    "duration": 91,
    "start_time": "2025-02-28T15:29:46.199Z"
   },
   {
    "duration": 199,
    "start_time": "2025-02-28T15:29:46.298Z"
   },
   {
    "duration": 122,
    "start_time": "2025-02-28T15:29:46.510Z"
   },
   {
    "duration": 74,
    "start_time": "2025-02-28T15:29:46.635Z"
   },
   {
    "duration": 9,
    "start_time": "2025-02-28T15:29:46.714Z"
   },
   {
    "duration": 3,
    "start_time": "2025-02-28T15:29:46.725Z"
   },
   {
    "duration": 4,
    "start_time": "2025-02-28T15:29:46.730Z"
   },
   {
    "duration": 4,
    "start_time": "2025-02-28T15:29:46.735Z"
   },
   {
    "duration": 91,
    "start_time": "2025-02-28T15:29:46.742Z"
   },
   {
    "duration": 8,
    "start_time": "2025-02-28T15:29:46.835Z"
   },
   {
    "duration": 7,
    "start_time": "2025-02-28T15:29:46.845Z"
   },
   {
    "duration": 5,
    "start_time": "2025-02-28T15:29:46.853Z"
   },
   {
    "duration": 6,
    "start_time": "2025-02-28T15:29:46.860Z"
   },
   {
    "duration": 7,
    "start_time": "2025-02-28T15:29:46.867Z"
   },
   {
    "duration": 7,
    "start_time": "2025-02-28T15:29:46.876Z"
   },
   {
    "duration": 23,
    "start_time": "2025-02-28T15:29:46.886Z"
   },
   {
    "duration": 3,
    "start_time": "2025-02-28T15:29:46.912Z"
   },
   {
    "duration": 4,
    "start_time": "2025-02-28T15:29:46.917Z"
   },
   {
    "duration": 286,
    "start_time": "2025-02-28T15:29:46.923Z"
   },
   {
    "duration": 307,
    "start_time": "2025-02-28T15:29:47.213Z"
   },
   {
    "duration": 279,
    "start_time": "2025-02-28T15:29:47.522Z"
   },
   {
    "duration": 974,
    "start_time": "2025-02-28T15:35:11.348Z"
   },
   {
    "duration": 2859,
    "start_time": "2025-02-28T15:35:12.324Z"
   },
   {
    "duration": 20,
    "start_time": "2025-02-28T15:35:15.185Z"
   },
   {
    "duration": 4,
    "start_time": "2025-02-28T15:35:15.215Z"
   },
   {
    "duration": 4,
    "start_time": "2025-02-28T15:35:15.222Z"
   },
   {
    "duration": 66,
    "start_time": "2025-02-28T15:35:15.228Z"
   },
   {
    "duration": 104,
    "start_time": "2025-02-28T15:35:15.296Z"
   },
   {
    "duration": 187,
    "start_time": "2025-02-28T15:35:15.402Z"
   },
   {
    "duration": 30,
    "start_time": "2025-02-28T15:35:15.591Z"
   },
   {
    "duration": 8,
    "start_time": "2025-02-28T15:35:15.623Z"
   },
   {
    "duration": 4,
    "start_time": "2025-02-28T15:35:15.632Z"
   },
   {
    "duration": 60,
    "start_time": "2025-02-28T15:35:15.637Z"
   },
   {
    "duration": 5,
    "start_time": "2025-02-28T15:35:15.710Z"
   },
   {
    "duration": 21,
    "start_time": "2025-02-28T15:35:15.717Z"
   },
   {
    "duration": 7,
    "start_time": "2025-02-28T15:35:15.740Z"
   },
   {
    "duration": 7,
    "start_time": "2025-02-28T15:35:15.749Z"
   },
   {
    "duration": 3,
    "start_time": "2025-02-28T15:35:15.758Z"
   },
   {
    "duration": 7,
    "start_time": "2025-02-28T15:35:15.763Z"
   },
   {
    "duration": 38,
    "start_time": "2025-02-28T15:35:15.772Z"
   },
   {
    "duration": 7,
    "start_time": "2025-02-28T15:35:15.811Z"
   },
   {
    "duration": 3,
    "start_time": "2025-02-28T15:35:15.820Z"
   },
   {
    "duration": 4,
    "start_time": "2025-02-28T15:35:15.824Z"
   },
   {
    "duration": 4,
    "start_time": "2025-02-28T15:35:15.829Z"
   },
   {
    "duration": 278,
    "start_time": "2025-02-28T15:35:15.835Z"
   },
   {
    "duration": 286,
    "start_time": "2025-02-28T15:35:16.115Z"
   },
   {
    "duration": 301,
    "start_time": "2025-02-28T15:35:16.415Z"
   },
   {
    "duration": 242,
    "start_time": "2025-02-28T15:38:18.859Z"
   },
   {
    "duration": 1043,
    "start_time": "2025-02-28T15:38:24.721Z"
   },
   {
    "duration": 2875,
    "start_time": "2025-02-28T15:38:25.766Z"
   },
   {
    "duration": 4,
    "start_time": "2025-02-28T15:38:28.643Z"
   },
   {
    "duration": 4,
    "start_time": "2025-02-28T15:38:28.648Z"
   },
   {
    "duration": 5,
    "start_time": "2025-02-28T15:38:28.655Z"
   },
   {
    "duration": 139,
    "start_time": "2025-02-28T15:38:28.662Z"
   },
   {
    "duration": 113,
    "start_time": "2025-02-28T15:38:28.818Z"
   },
   {
    "duration": 169,
    "start_time": "2025-02-28T15:38:28.933Z"
   },
   {
    "duration": 27,
    "start_time": "2025-02-28T15:38:29.103Z"
   },
   {
    "duration": 61,
    "start_time": "2025-02-28T15:38:29.132Z"
   },
   {
    "duration": 5,
    "start_time": "2025-02-28T15:38:29.206Z"
   },
   {
    "duration": 4,
    "start_time": "2025-02-28T15:38:29.213Z"
   },
   {
    "duration": 4,
    "start_time": "2025-02-28T15:38:29.218Z"
   },
   {
    "duration": 20,
    "start_time": "2025-02-28T15:38:29.226Z"
   },
   {
    "duration": 7,
    "start_time": "2025-02-28T15:38:29.248Z"
   },
   {
    "duration": 9,
    "start_time": "2025-02-28T15:38:29.256Z"
   },
   {
    "duration": 4,
    "start_time": "2025-02-28T15:38:29.267Z"
   },
   {
    "duration": 28,
    "start_time": "2025-02-28T15:38:29.272Z"
   },
   {
    "duration": 8,
    "start_time": "2025-02-28T15:38:29.313Z"
   },
   {
    "duration": 8,
    "start_time": "2025-02-28T15:38:29.322Z"
   },
   {
    "duration": 4,
    "start_time": "2025-02-28T15:38:29.331Z"
   },
   {
    "duration": 3,
    "start_time": "2025-02-28T15:38:29.336Z"
   },
   {
    "duration": 4,
    "start_time": "2025-02-28T15:38:29.341Z"
   },
   {
    "duration": 272,
    "start_time": "2025-02-28T15:38:29.347Z"
   },
   {
    "duration": 0,
    "start_time": "2025-02-28T15:38:29.621Z"
   },
   {
    "duration": 0,
    "start_time": "2025-02-28T15:38:29.623Z"
   },
   {
    "duration": 0,
    "start_time": "2025-02-28T15:38:29.624Z"
   },
   {
    "duration": 4,
    "start_time": "2025-02-28T15:38:53.310Z"
   },
   {
    "duration": 3,
    "start_time": "2025-02-28T15:42:00.047Z"
   },
   {
    "duration": 2,
    "start_time": "2025-02-28T15:44:20.387Z"
   },
   {
    "duration": 10,
    "start_time": "2025-02-28T15:48:09.854Z"
   },
   {
    "duration": 14,
    "start_time": "2025-02-28T15:50:26.457Z"
   },
   {
    "duration": 14,
    "start_time": "2025-02-28T15:50:52.642Z"
   },
   {
    "duration": 5,
    "start_time": "2025-02-28T15:50:58.763Z"
   },
   {
    "duration": 967,
    "start_time": "2025-02-28T15:57:13.651Z"
   },
   {
    "duration": 2918,
    "start_time": "2025-02-28T15:57:14.621Z"
   },
   {
    "duration": 4,
    "start_time": "2025-02-28T15:57:17.541Z"
   },
   {
    "duration": 4,
    "start_time": "2025-02-28T15:57:17.548Z"
   },
   {
    "duration": 4,
    "start_time": "2025-02-28T15:57:17.555Z"
   },
   {
    "duration": 61,
    "start_time": "2025-02-28T15:57:17.560Z"
   },
   {
    "duration": 187,
    "start_time": "2025-02-28T15:57:17.623Z"
   },
   {
    "duration": 191,
    "start_time": "2025-02-28T15:57:17.811Z"
   },
   {
    "duration": 90,
    "start_time": "2025-02-28T15:57:18.004Z"
   },
   {
    "duration": 3,
    "start_time": "2025-02-28T15:57:18.096Z"
   },
   {
    "duration": 4,
    "start_time": "2025-02-28T15:57:18.101Z"
   },
   {
    "duration": 5,
    "start_time": "2025-02-28T15:57:18.107Z"
   },
   {
    "duration": 5,
    "start_time": "2025-02-28T15:57:18.113Z"
   },
   {
    "duration": 83,
    "start_time": "2025-02-28T15:57:18.121Z"
   },
   {
    "duration": 8,
    "start_time": "2025-02-28T15:57:18.205Z"
   },
   {
    "duration": 9,
    "start_time": "2025-02-28T15:57:18.214Z"
   },
   {
    "duration": 4,
    "start_time": "2025-02-28T15:57:18.224Z"
   },
   {
    "duration": 6,
    "start_time": "2025-02-28T15:57:18.230Z"
   },
   {
    "duration": 6,
    "start_time": "2025-02-28T15:57:18.237Z"
   },
   {
    "duration": 7,
    "start_time": "2025-02-28T15:57:18.244Z"
   },
   {
    "duration": 35,
    "start_time": "2025-02-28T15:57:18.253Z"
   },
   {
    "duration": 3,
    "start_time": "2025-02-28T15:57:18.290Z"
   },
   {
    "duration": 4,
    "start_time": "2025-02-28T15:57:18.295Z"
   },
   {
    "duration": 4,
    "start_time": "2025-02-28T15:57:18.300Z"
   },
   {
    "duration": 310,
    "start_time": "2025-02-28T15:57:18.306Z"
   },
   {
    "duration": 314,
    "start_time": "2025-02-28T15:57:18.618Z"
   },
   {
    "duration": 267,
    "start_time": "2025-02-28T15:57:18.934Z"
   },
   {
    "duration": 1095,
    "start_time": "2025-02-28T18:00:44.350Z"
   },
   {
    "duration": 2906,
    "start_time": "2025-02-28T18:00:45.448Z"
   },
   {
    "duration": 4,
    "start_time": "2025-02-28T18:00:48.355Z"
   },
   {
    "duration": 5,
    "start_time": "2025-02-28T18:00:48.361Z"
   },
   {
    "duration": 5,
    "start_time": "2025-02-28T18:00:48.369Z"
   },
   {
    "duration": 122,
    "start_time": "2025-02-28T18:00:48.387Z"
   },
   {
    "duration": 117,
    "start_time": "2025-02-28T18:00:48.512Z"
   },
   {
    "duration": 119,
    "start_time": "2025-02-28T18:00:48.691Z"
   },
   {
    "duration": 85,
    "start_time": "2025-02-28T18:00:48.812Z"
   },
   {
    "duration": 5,
    "start_time": "2025-02-28T18:00:48.899Z"
   },
   {
    "duration": 3,
    "start_time": "2025-02-28T18:00:48.906Z"
   },
   {
    "duration": 5,
    "start_time": "2025-02-28T18:00:48.910Z"
   },
   {
    "duration": 72,
    "start_time": "2025-02-28T18:00:48.916Z"
   },
   {
    "duration": 21,
    "start_time": "2025-02-28T18:00:48.992Z"
   },
   {
    "duration": 6,
    "start_time": "2025-02-28T18:00:49.015Z"
   },
   {
    "duration": 8,
    "start_time": "2025-02-28T18:00:49.023Z"
   },
   {
    "duration": 3,
    "start_time": "2025-02-28T18:00:49.033Z"
   },
   {
    "duration": 6,
    "start_time": "2025-02-28T18:00:49.038Z"
   },
   {
    "duration": 42,
    "start_time": "2025-02-28T18:00:49.045Z"
   },
   {
    "duration": 8,
    "start_time": "2025-02-28T18:00:49.088Z"
   },
   {
    "duration": 6,
    "start_time": "2025-02-28T18:00:49.097Z"
   },
   {
    "duration": 3,
    "start_time": "2025-02-28T18:00:49.105Z"
   },
   {
    "duration": 3,
    "start_time": "2025-02-28T18:00:49.110Z"
   },
   {
    "duration": 4,
    "start_time": "2025-02-28T18:00:49.115Z"
   },
   {
    "duration": 324,
    "start_time": "2025-02-28T18:00:49.120Z"
   },
   {
    "duration": 283,
    "start_time": "2025-02-28T18:00:49.447Z"
   },
   {
    "duration": 277,
    "start_time": "2025-02-28T18:00:49.733Z"
   },
   {
    "duration": 1083,
    "start_time": "2025-02-28T18:01:29.786Z"
   },
   {
    "duration": 2806,
    "start_time": "2025-02-28T18:01:30.871Z"
   },
   {
    "duration": 4,
    "start_time": "2025-02-28T18:01:33.679Z"
   },
   {
    "duration": 7,
    "start_time": "2025-02-28T18:01:33.686Z"
   },
   {
    "duration": 5,
    "start_time": "2025-02-28T18:01:33.695Z"
   },
   {
    "duration": 108,
    "start_time": "2025-02-28T18:01:33.701Z"
   },
   {
    "duration": 274,
    "start_time": "2025-02-28T18:01:33.813Z"
   },
   {
    "duration": 119,
    "start_time": "2025-02-28T18:01:34.089Z"
   },
   {
    "duration": 91,
    "start_time": "2025-02-28T18:01:34.210Z"
   },
   {
    "duration": 4,
    "start_time": "2025-02-28T18:01:34.305Z"
   },
   {
    "duration": 3,
    "start_time": "2025-02-28T18:01:34.311Z"
   },
   {
    "duration": 5,
    "start_time": "2025-02-28T18:01:34.315Z"
   },
   {
    "duration": 4,
    "start_time": "2025-02-28T18:01:34.387Z"
   },
   {
    "duration": 22,
    "start_time": "2025-02-28T18:01:34.392Z"
   },
   {
    "duration": 7,
    "start_time": "2025-02-28T18:01:34.416Z"
   },
   {
    "duration": 7,
    "start_time": "2025-02-28T18:01:34.425Z"
   },
   {
    "duration": 4,
    "start_time": "2025-02-28T18:01:34.433Z"
   },
   {
    "duration": 7,
    "start_time": "2025-02-28T18:01:34.439Z"
   },
   {
    "duration": 41,
    "start_time": "2025-02-28T18:01:34.447Z"
   },
   {
    "duration": 7,
    "start_time": "2025-02-28T18:01:34.489Z"
   },
   {
    "duration": 2,
    "start_time": "2025-02-28T18:01:34.498Z"
   },
   {
    "duration": 3,
    "start_time": "2025-02-28T18:01:34.502Z"
   },
   {
    "duration": 3,
    "start_time": "2025-02-28T18:01:34.508Z"
   },
   {
    "duration": 302,
    "start_time": "2025-02-28T18:01:34.513Z"
   },
   {
    "duration": 6,
    "start_time": "2025-02-28T18:01:34.817Z"
   },
   {
    "duration": 8,
    "start_time": "2025-02-28T18:02:35.012Z"
   },
   {
    "duration": 3,
    "start_time": "2025-02-28T18:03:42.782Z"
   },
   {
    "duration": 1064,
    "start_time": "2025-02-28T18:05:03.654Z"
   },
   {
    "duration": 2720,
    "start_time": "2025-02-28T18:05:04.720Z"
   },
   {
    "duration": 4,
    "start_time": "2025-02-28T18:05:07.441Z"
   },
   {
    "duration": 4,
    "start_time": "2025-02-28T18:05:07.447Z"
   },
   {
    "duration": 5,
    "start_time": "2025-02-28T18:05:07.453Z"
   },
   {
    "duration": 63,
    "start_time": "2025-02-28T18:05:07.460Z"
   },
   {
    "duration": 181,
    "start_time": "2025-02-28T18:05:07.524Z"
   },
   {
    "duration": 195,
    "start_time": "2025-02-28T18:05:07.707Z"
   },
   {
    "duration": 93,
    "start_time": "2025-02-28T18:05:07.904Z"
   },
   {
    "duration": 4,
    "start_time": "2025-02-28T18:05:08.000Z"
   },
   {
    "duration": 4,
    "start_time": "2025-02-28T18:05:08.005Z"
   },
   {
    "duration": 6,
    "start_time": "2025-02-28T18:05:08.011Z"
   },
   {
    "duration": 3,
    "start_time": "2025-02-28T18:05:08.021Z"
   },
   {
    "duration": 78,
    "start_time": "2025-02-28T18:05:08.026Z"
   },
   {
    "duration": 7,
    "start_time": "2025-02-28T18:05:08.106Z"
   },
   {
    "duration": 8,
    "start_time": "2025-02-28T18:05:08.115Z"
   },
   {
    "duration": 3,
    "start_time": "2025-02-28T18:05:08.126Z"
   },
   {
    "duration": 9,
    "start_time": "2025-02-28T18:05:08.132Z"
   },
   {
    "duration": 9,
    "start_time": "2025-02-28T18:05:08.143Z"
   },
   {
    "duration": 7,
    "start_time": "2025-02-28T18:05:08.153Z"
   },
   {
    "duration": 25,
    "start_time": "2025-02-28T18:05:08.162Z"
   },
   {
    "duration": 4,
    "start_time": "2025-02-28T18:05:08.188Z"
   },
   {
    "duration": 4,
    "start_time": "2025-02-28T18:05:08.194Z"
   },
   {
    "duration": 1140,
    "start_time": "2025-02-28T18:07:23.171Z"
   },
   {
    "duration": 2873,
    "start_time": "2025-02-28T18:07:24.313Z"
   },
   {
    "duration": 4,
    "start_time": "2025-02-28T18:07:27.188Z"
   },
   {
    "duration": 4,
    "start_time": "2025-02-28T18:07:27.194Z"
   },
   {
    "duration": 4,
    "start_time": "2025-02-28T18:07:27.201Z"
   },
   {
    "duration": 96,
    "start_time": "2025-02-28T18:07:27.207Z"
   },
   {
    "duration": 188,
    "start_time": "2025-02-28T18:07:27.305Z"
   },
   {
    "duration": 192,
    "start_time": "2025-02-28T18:07:27.495Z"
   },
   {
    "duration": 16,
    "start_time": "2025-02-28T18:07:27.689Z"
   },
   {
    "duration": 78,
    "start_time": "2025-02-28T18:07:27.710Z"
   },
   {
    "duration": 3,
    "start_time": "2025-02-28T18:07:27.790Z"
   },
   {
    "duration": 4,
    "start_time": "2025-02-28T18:07:27.795Z"
   },
   {
    "duration": 4,
    "start_time": "2025-02-28T18:07:27.801Z"
   },
   {
    "duration": 21,
    "start_time": "2025-02-28T18:07:27.808Z"
   },
   {
    "duration": 7,
    "start_time": "2025-02-28T18:07:27.832Z"
   },
   {
    "duration": 7,
    "start_time": "2025-02-28T18:07:27.841Z"
   },
   {
    "duration": 4,
    "start_time": "2025-02-28T18:07:27.887Z"
   },
   {
    "duration": 7,
    "start_time": "2025-02-28T18:07:27.893Z"
   },
   {
    "duration": 8,
    "start_time": "2025-02-28T18:07:27.902Z"
   },
   {
    "duration": 7,
    "start_time": "2025-02-28T18:07:27.912Z"
   },
   {
    "duration": 3,
    "start_time": "2025-02-28T18:07:27.921Z"
   },
   {
    "duration": 3,
    "start_time": "2025-02-28T18:07:27.926Z"
   },
   {
    "duration": 417,
    "start_time": "2025-02-28T18:07:27.931Z"
   },
   {
    "duration": 0,
    "start_time": "2025-02-28T18:07:28.350Z"
   },
   {
    "duration": 0,
    "start_time": "2025-02-28T18:07:28.351Z"
   },
   {
    "duration": 151,
    "start_time": "2025-02-28T18:07:52.561Z"
   },
   {
    "duration": 4,
    "start_time": "2025-02-28T18:07:53.379Z"
   },
   {
    "duration": 6,
    "start_time": "2025-02-28T18:07:53.839Z"
   },
   {
    "duration": 589,
    "start_time": "2025-02-28T18:09:23.180Z"
   },
   {
    "duration": 993,
    "start_time": "2025-02-28T18:12:16.932Z"
   },
   {
    "duration": 3191,
    "start_time": "2025-02-28T18:12:17.928Z"
   },
   {
    "duration": 4,
    "start_time": "2025-02-28T18:12:21.120Z"
   },
   {
    "duration": 4,
    "start_time": "2025-02-28T18:12:21.126Z"
   },
   {
    "duration": 5,
    "start_time": "2025-02-28T18:12:21.133Z"
   },
   {
    "duration": 63,
    "start_time": "2025-02-28T18:12:21.139Z"
   },
   {
    "duration": 191,
    "start_time": "2025-02-28T18:12:21.204Z"
   },
   {
    "duration": 190,
    "start_time": "2025-02-28T18:12:21.397Z"
   },
   {
    "duration": 15,
    "start_time": "2025-02-28T18:12:21.589Z"
   },
   {
    "duration": 81,
    "start_time": "2025-02-28T18:12:21.607Z"
   },
   {
    "duration": 3,
    "start_time": "2025-02-28T18:12:21.690Z"
   },
   {
    "duration": 6,
    "start_time": "2025-02-28T18:12:21.694Z"
   },
   {
    "duration": 4,
    "start_time": "2025-02-28T18:12:21.701Z"
   },
   {
    "duration": 22,
    "start_time": "2025-02-28T18:12:21.707Z"
   },
   {
    "duration": 7,
    "start_time": "2025-02-28T18:12:21.731Z"
   },
   {
    "duration": 7,
    "start_time": "2025-02-28T18:12:21.740Z"
   },
   {
    "duration": 39,
    "start_time": "2025-02-28T18:12:21.748Z"
   },
   {
    "duration": 7,
    "start_time": "2025-02-28T18:12:21.789Z"
   },
   {
    "duration": 7,
    "start_time": "2025-02-28T18:12:21.797Z"
   },
   {
    "duration": 8,
    "start_time": "2025-02-28T18:12:21.807Z"
   },
   {
    "duration": 5,
    "start_time": "2025-02-28T18:12:21.816Z"
   },
   {
    "duration": 4,
    "start_time": "2025-02-28T18:12:21.823Z"
   },
   {
    "duration": 161,
    "start_time": "2025-02-28T18:12:21.828Z"
   },
   {
    "duration": 4,
    "start_time": "2025-02-28T18:12:21.991Z"
   },
   {
    "duration": 598,
    "start_time": "2025-02-28T18:12:21.997Z"
   },
   {
    "duration": 6,
    "start_time": "2025-02-28T18:12:22.598Z"
   },
   {
    "duration": 5,
    "start_time": "2025-02-28T18:12:44.311Z"
   },
   {
    "duration": 5,
    "start_time": "2025-02-28T18:13:03.409Z"
   },
   {
    "duration": 6,
    "start_time": "2025-02-28T18:13:30.443Z"
   },
   {
    "duration": 980,
    "start_time": "2025-02-28T18:16:38.150Z"
   },
   {
    "duration": 2723,
    "start_time": "2025-02-28T18:16:39.133Z"
   },
   {
    "duration": 3,
    "start_time": "2025-02-28T18:16:41.858Z"
   },
   {
    "duration": 5,
    "start_time": "2025-02-28T18:16:41.863Z"
   },
   {
    "duration": 18,
    "start_time": "2025-02-28T18:16:41.870Z"
   },
   {
    "duration": 100,
    "start_time": "2025-02-28T18:16:41.890Z"
   },
   {
    "duration": 195,
    "start_time": "2025-02-28T18:16:41.992Z"
   },
   {
    "duration": 124,
    "start_time": "2025-02-28T18:16:42.189Z"
   },
   {
    "duration": 16,
    "start_time": "2025-02-28T18:16:42.388Z"
   },
   {
    "duration": 3,
    "start_time": "2025-02-28T18:16:42.407Z"
   },
   {
    "duration": 75,
    "start_time": "2025-02-28T18:16:42.412Z"
   },
   {
    "duration": 5,
    "start_time": "2025-02-28T18:16:42.489Z"
   },
   {
    "duration": 4,
    "start_time": "2025-02-28T18:16:42.496Z"
   },
   {
    "duration": 22,
    "start_time": "2025-02-28T18:16:42.504Z"
   },
   {
    "duration": 8,
    "start_time": "2025-02-28T18:16:42.527Z"
   },
   {
    "duration": 7,
    "start_time": "2025-02-28T18:16:42.537Z"
   },
   {
    "duration": 4,
    "start_time": "2025-02-28T18:16:42.545Z"
   },
   {
    "duration": 38,
    "start_time": "2025-02-28T18:16:42.551Z"
   },
   {
    "duration": 7,
    "start_time": "2025-02-28T18:16:42.591Z"
   },
   {
    "duration": 8,
    "start_time": "2025-02-28T18:16:42.599Z"
   },
   {
    "duration": 2,
    "start_time": "2025-02-28T18:16:42.609Z"
   },
   {
    "duration": 3,
    "start_time": "2025-02-28T18:16:42.613Z"
   },
   {
    "duration": 196,
    "start_time": "2025-02-28T18:16:42.618Z"
   },
   {
    "duration": 5,
    "start_time": "2025-02-28T18:16:42.816Z"
   },
   {
    "duration": 240,
    "start_time": "2025-02-28T18:16:42.822Z"
   },
   {
    "duration": 0,
    "start_time": "2025-02-28T18:16:43.064Z"
   },
   {
    "duration": 5,
    "start_time": "2025-02-28T18:17:12.220Z"
   },
   {
    "duration": 15,
    "start_time": "2025-02-28T18:17:40.110Z"
   },
   {
    "duration": 993,
    "start_time": "2025-02-28T18:17:54.238Z"
   },
   {
    "duration": 2723,
    "start_time": "2025-02-28T18:17:55.234Z"
   },
   {
    "duration": 4,
    "start_time": "2025-02-28T18:17:57.959Z"
   },
   {
    "duration": 4,
    "start_time": "2025-02-28T18:17:57.965Z"
   },
   {
    "duration": 17,
    "start_time": "2025-02-28T18:17:57.971Z"
   },
   {
    "duration": 105,
    "start_time": "2025-02-28T18:17:57.989Z"
   },
   {
    "duration": 124,
    "start_time": "2025-02-28T18:17:58.095Z"
   },
   {
    "duration": 122,
    "start_time": "2025-02-28T18:17:58.287Z"
   },
   {
    "duration": 85,
    "start_time": "2025-02-28T18:17:58.410Z"
   },
   {
    "duration": 5,
    "start_time": "2025-02-28T18:17:58.500Z"
   },
   {
    "duration": 3,
    "start_time": "2025-02-28T18:17:58.507Z"
   },
   {
    "duration": 5,
    "start_time": "2025-02-28T18:17:58.511Z"
   },
   {
    "duration": 71,
    "start_time": "2025-02-28T18:17:58.517Z"
   },
   {
    "duration": 22,
    "start_time": "2025-02-28T18:17:58.592Z"
   },
   {
    "duration": 8,
    "start_time": "2025-02-28T18:17:58.616Z"
   },
   {
    "duration": 9,
    "start_time": "2025-02-28T18:17:58.626Z"
   },
   {
    "duration": 4,
    "start_time": "2025-02-28T18:17:58.637Z"
   },
   {
    "duration": 8,
    "start_time": "2025-02-28T18:17:58.643Z"
   },
   {
    "duration": 8,
    "start_time": "2025-02-28T18:17:58.686Z"
   },
   {
    "duration": 7,
    "start_time": "2025-02-28T18:17:58.696Z"
   },
   {
    "duration": 3,
    "start_time": "2025-02-28T18:17:58.704Z"
   },
   {
    "duration": 3,
    "start_time": "2025-02-28T18:17:58.709Z"
   },
   {
    "duration": 221,
    "start_time": "2025-02-28T18:17:58.713Z"
   },
   {
    "duration": 4,
    "start_time": "2025-02-28T18:17:58.939Z"
   },
   {
    "duration": 242,
    "start_time": "2025-02-28T18:17:58.944Z"
   },
   {
    "duration": 8,
    "start_time": "2025-02-28T18:18:14.958Z"
   },
   {
    "duration": 6,
    "start_time": "2025-02-28T18:18:35.287Z"
   },
   {
    "duration": 1056,
    "start_time": "2025-02-28T18:21:15.788Z"
   },
   {
    "duration": 2831,
    "start_time": "2025-02-28T18:21:16.847Z"
   },
   {
    "duration": 3,
    "start_time": "2025-02-28T18:21:19.680Z"
   },
   {
    "duration": 5,
    "start_time": "2025-02-28T18:21:19.686Z"
   },
   {
    "duration": 5,
    "start_time": "2025-02-28T18:21:19.693Z"
   },
   {
    "duration": 94,
    "start_time": "2025-02-28T18:21:19.700Z"
   },
   {
    "duration": 127,
    "start_time": "2025-02-28T18:21:19.795Z"
   },
   {
    "duration": 121,
    "start_time": "2025-02-28T18:21:19.987Z"
   },
   {
    "duration": 83,
    "start_time": "2025-02-28T18:21:20.110Z"
   },
   {
    "duration": 6,
    "start_time": "2025-02-28T18:21:20.200Z"
   },
   {
    "duration": 4,
    "start_time": "2025-02-28T18:21:20.207Z"
   },
   {
    "duration": 5,
    "start_time": "2025-02-28T18:21:20.212Z"
   },
   {
    "duration": 70,
    "start_time": "2025-02-28T18:21:20.218Z"
   },
   {
    "duration": 23,
    "start_time": "2025-02-28T18:21:20.290Z"
   },
   {
    "duration": 8,
    "start_time": "2025-02-28T18:21:20.314Z"
   },
   {
    "duration": 7,
    "start_time": "2025-02-28T18:21:20.324Z"
   },
   {
    "duration": 4,
    "start_time": "2025-02-28T18:21:20.332Z"
   },
   {
    "duration": 6,
    "start_time": "2025-02-28T18:21:20.337Z"
   },
   {
    "duration": 7,
    "start_time": "2025-02-28T18:21:20.345Z"
   },
   {
    "duration": 38,
    "start_time": "2025-02-28T18:21:20.353Z"
   },
   {
    "duration": 4,
    "start_time": "2025-02-28T18:21:20.392Z"
   },
   {
    "duration": 4,
    "start_time": "2025-02-28T18:21:20.398Z"
   },
   {
    "duration": 194,
    "start_time": "2025-02-28T18:21:20.403Z"
   },
   {
    "duration": 4,
    "start_time": "2025-02-28T18:21:20.598Z"
   },
   {
    "duration": 5,
    "start_time": "2025-02-28T18:21:20.604Z"
   },
   {
    "duration": 1127,
    "start_time": "2025-02-28T18:26:02.298Z"
   },
   {
    "duration": 2863,
    "start_time": "2025-02-28T18:26:03.428Z"
   },
   {
    "duration": 3,
    "start_time": "2025-02-28T18:26:06.293Z"
   },
   {
    "duration": 4,
    "start_time": "2025-02-28T18:26:06.298Z"
   },
   {
    "duration": 4,
    "start_time": "2025-02-28T18:26:06.305Z"
   },
   {
    "duration": 94,
    "start_time": "2025-02-28T18:26:06.311Z"
   },
   {
    "duration": 188,
    "start_time": "2025-02-28T18:26:06.407Z"
   },
   {
    "duration": 127,
    "start_time": "2025-02-28T18:26:06.597Z"
   },
   {
    "duration": 19,
    "start_time": "2025-02-28T18:26:06.791Z"
   },
   {
    "duration": 3,
    "start_time": "2025-02-28T18:26:06.887Z"
   },
   {
    "duration": 4,
    "start_time": "2025-02-28T18:26:06.892Z"
   },
   {
    "duration": 5,
    "start_time": "2025-02-28T18:26:06.897Z"
   },
   {
    "duration": 3,
    "start_time": "2025-02-28T18:26:06.904Z"
   },
   {
    "duration": 21,
    "start_time": "2025-02-28T18:26:06.911Z"
   },
   {
    "duration": 7,
    "start_time": "2025-02-28T18:26:06.933Z"
   },
   {
    "duration": 8,
    "start_time": "2025-02-28T18:26:06.942Z"
   },
   {
    "duration": 4,
    "start_time": "2025-02-28T18:26:06.987Z"
   },
   {
    "duration": 7,
    "start_time": "2025-02-28T18:26:06.992Z"
   },
   {
    "duration": 7,
    "start_time": "2025-02-28T18:26:07.001Z"
   },
   {
    "duration": 7,
    "start_time": "2025-02-28T18:26:07.010Z"
   },
   {
    "duration": 3,
    "start_time": "2025-02-28T18:26:07.018Z"
   },
   {
    "duration": 5,
    "start_time": "2025-02-28T18:26:07.023Z"
   },
   {
    "duration": 4,
    "start_time": "2025-02-28T18:26:07.029Z"
   },
   {
    "duration": 215,
    "start_time": "2025-02-28T18:26:07.035Z"
   },
   {
    "duration": 3,
    "start_time": "2025-02-28T18:26:07.252Z"
   },
   {
    "duration": 6,
    "start_time": "2025-02-28T18:26:07.257Z"
   },
   {
    "duration": 1023,
    "start_time": "2025-02-28T18:26:51.172Z"
   },
   {
    "duration": 2567,
    "start_time": "2025-02-28T18:26:52.198Z"
   },
   {
    "duration": 3,
    "start_time": "2025-02-28T18:26:54.767Z"
   },
   {
    "duration": 4,
    "start_time": "2025-02-28T18:26:54.773Z"
   },
   {
    "duration": 4,
    "start_time": "2025-02-28T18:26:54.787Z"
   },
   {
    "duration": 94,
    "start_time": "2025-02-28T18:26:54.793Z"
   },
   {
    "duration": 123,
    "start_time": "2025-02-28T18:26:54.888Z"
   },
   {
    "duration": 189,
    "start_time": "2025-02-28T18:26:55.013Z"
   },
   {
    "duration": 97,
    "start_time": "2025-02-28T18:26:55.204Z"
   },
   {
    "duration": 4,
    "start_time": "2025-02-28T18:26:55.305Z"
   },
   {
    "duration": 4,
    "start_time": "2025-02-28T18:26:55.311Z"
   },
   {
    "duration": 5,
    "start_time": "2025-02-28T18:26:55.316Z"
   },
   {
    "duration": 4,
    "start_time": "2025-02-28T18:26:55.323Z"
   },
   {
    "duration": 22,
    "start_time": "2025-02-28T18:26:55.386Z"
   },
   {
    "duration": 7,
    "start_time": "2025-02-28T18:26:55.409Z"
   },
   {
    "duration": 7,
    "start_time": "2025-02-28T18:26:55.418Z"
   },
   {
    "duration": 4,
    "start_time": "2025-02-28T18:26:55.426Z"
   },
   {
    "duration": 6,
    "start_time": "2025-02-28T18:26:55.432Z"
   },
   {
    "duration": 7,
    "start_time": "2025-02-28T18:26:55.439Z"
   },
   {
    "duration": 40,
    "start_time": "2025-02-28T18:26:55.448Z"
   },
   {
    "duration": 3,
    "start_time": "2025-02-28T18:26:55.489Z"
   },
   {
    "duration": 3,
    "start_time": "2025-02-28T18:26:55.494Z"
   },
   {
    "duration": 4,
    "start_time": "2025-02-28T18:26:55.498Z"
   },
   {
    "duration": 293,
    "start_time": "2025-02-28T18:26:55.503Z"
   },
   {
    "duration": 3,
    "start_time": "2025-02-28T18:26:55.798Z"
   },
   {
    "duration": 5,
    "start_time": "2025-02-28T18:26:55.803Z"
   },
   {
    "duration": 1013,
    "start_time": "2025-02-28T18:37:11.219Z"
   },
   {
    "duration": 3242,
    "start_time": "2025-02-28T18:37:12.234Z"
   },
   {
    "duration": 4,
    "start_time": "2025-02-28T18:37:15.477Z"
   },
   {
    "duration": 5,
    "start_time": "2025-02-28T18:37:15.482Z"
   },
   {
    "duration": 4,
    "start_time": "2025-02-28T18:37:15.490Z"
   },
   {
    "duration": 100,
    "start_time": "2025-02-28T18:37:15.496Z"
   },
   {
    "duration": 191,
    "start_time": "2025-02-28T18:37:15.598Z"
   },
   {
    "duration": 125,
    "start_time": "2025-02-28T18:37:15.791Z"
   },
   {
    "duration": 87,
    "start_time": "2025-02-28T18:37:15.917Z"
   },
   {
    "duration": 4,
    "start_time": "2025-02-28T18:37:16.006Z"
   },
   {
    "duration": 78,
    "start_time": "2025-02-28T18:37:16.012Z"
   },
   {
    "duration": 5,
    "start_time": "2025-02-28T18:37:16.092Z"
   },
   {
    "duration": 4,
    "start_time": "2025-02-28T18:37:16.099Z"
   },
   {
    "duration": 26,
    "start_time": "2025-02-28T18:37:16.107Z"
   },
   {
    "duration": 7,
    "start_time": "2025-02-28T18:37:16.135Z"
   },
   {
    "duration": 7,
    "start_time": "2025-02-28T18:37:16.144Z"
   },
   {
    "duration": 3,
    "start_time": "2025-02-28T18:37:16.187Z"
   },
   {
    "duration": 6,
    "start_time": "2025-02-28T18:37:16.192Z"
   },
   {
    "duration": 7,
    "start_time": "2025-02-28T18:37:16.199Z"
   },
   {
    "duration": 6,
    "start_time": "2025-02-28T18:37:16.208Z"
   },
   {
    "duration": 4,
    "start_time": "2025-02-28T18:37:16.216Z"
   },
   {
    "duration": 3,
    "start_time": "2025-02-28T18:37:16.221Z"
   },
   {
    "duration": 4,
    "start_time": "2025-02-28T18:37:16.226Z"
   },
   {
    "duration": 305,
    "start_time": "2025-02-28T18:37:16.231Z"
   },
   {
    "duration": 1084,
    "start_time": "2025-02-28T18:40:40.483Z"
   },
   {
    "duration": 3002,
    "start_time": "2025-02-28T18:40:41.570Z"
   },
   {
    "duration": 3,
    "start_time": "2025-02-28T18:40:44.574Z"
   },
   {
    "duration": 6,
    "start_time": "2025-02-28T18:40:44.580Z"
   },
   {
    "duration": 4,
    "start_time": "2025-02-28T18:40:44.588Z"
   },
   {
    "duration": 109,
    "start_time": "2025-02-28T18:40:44.594Z"
   },
   {
    "duration": 190,
    "start_time": "2025-02-28T18:40:44.705Z"
   },
   {
    "duration": 191,
    "start_time": "2025-02-28T18:40:44.896Z"
   },
   {
    "duration": 16,
    "start_time": "2025-02-28T18:40:45.089Z"
   },
   {
    "duration": 79,
    "start_time": "2025-02-28T18:40:45.108Z"
   },
   {
    "duration": 4,
    "start_time": "2025-02-28T18:40:45.189Z"
   },
   {
    "duration": 4,
    "start_time": "2025-02-28T18:40:45.195Z"
   },
   {
    "duration": 4,
    "start_time": "2025-02-28T18:40:45.201Z"
   },
   {
    "duration": 22,
    "start_time": "2025-02-28T18:40:45.206Z"
   },
   {
    "duration": 8,
    "start_time": "2025-02-28T18:40:45.229Z"
   },
   {
    "duration": 6,
    "start_time": "2025-02-28T18:40:45.239Z"
   },
   {
    "duration": 3,
    "start_time": "2025-02-28T18:40:45.247Z"
   },
   {
    "duration": 39,
    "start_time": "2025-02-28T18:40:45.252Z"
   },
   {
    "duration": 7,
    "start_time": "2025-02-28T18:40:45.292Z"
   },
   {
    "duration": 8,
    "start_time": "2025-02-28T18:40:45.301Z"
   },
   {
    "duration": 3,
    "start_time": "2025-02-28T18:40:45.310Z"
   },
   {
    "duration": 4,
    "start_time": "2025-02-28T18:40:45.314Z"
   },
   {
    "duration": 3,
    "start_time": "2025-02-28T18:40:45.320Z"
   },
   {
    "duration": 298,
    "start_time": "2025-02-28T18:40:45.325Z"
   },
   {
    "duration": 997,
    "start_time": "2025-02-28T18:41:04.940Z"
   },
   {
    "duration": 2562,
    "start_time": "2025-02-28T18:41:05.940Z"
   },
   {
    "duration": 3,
    "start_time": "2025-02-28T18:41:08.504Z"
   },
   {
    "duration": 4,
    "start_time": "2025-02-28T18:41:08.510Z"
   },
   {
    "duration": 4,
    "start_time": "2025-02-28T18:41:08.516Z"
   },
   {
    "duration": 84,
    "start_time": "2025-02-28T18:41:08.522Z"
   },
   {
    "duration": 186,
    "start_time": "2025-02-28T18:41:08.608Z"
   },
   {
    "duration": 191,
    "start_time": "2025-02-28T18:41:08.796Z"
   },
   {
    "duration": 96,
    "start_time": "2025-02-28T18:41:08.991Z"
   },
   {
    "duration": 4,
    "start_time": "2025-02-28T18:41:09.091Z"
   },
   {
    "duration": 4,
    "start_time": "2025-02-28T18:41:09.097Z"
   },
   {
    "duration": 5,
    "start_time": "2025-02-28T18:41:09.103Z"
   },
   {
    "duration": 4,
    "start_time": "2025-02-28T18:41:09.110Z"
   },
   {
    "duration": 25,
    "start_time": "2025-02-28T18:41:09.115Z"
   },
   {
    "duration": 7,
    "start_time": "2025-02-28T18:41:09.141Z"
   },
   {
    "duration": 38,
    "start_time": "2025-02-28T18:41:09.150Z"
   },
   {
    "duration": 3,
    "start_time": "2025-02-28T18:41:09.190Z"
   },
   {
    "duration": 6,
    "start_time": "2025-02-28T18:41:09.195Z"
   },
   {
    "duration": 7,
    "start_time": "2025-02-28T18:41:09.202Z"
   },
   {
    "duration": 8,
    "start_time": "2025-02-28T18:41:09.211Z"
   },
   {
    "duration": 3,
    "start_time": "2025-02-28T18:41:09.221Z"
   },
   {
    "duration": 3,
    "start_time": "2025-02-28T18:41:09.226Z"
   },
   {
    "duration": 3,
    "start_time": "2025-02-28T18:41:09.231Z"
   },
   {
    "duration": 307,
    "start_time": "2025-02-28T18:41:09.236Z"
   },
   {
    "duration": 1044,
    "start_time": "2025-02-28T18:50:35.261Z"
   },
   {
    "duration": 2895,
    "start_time": "2025-02-28T18:50:36.308Z"
   },
   {
    "duration": 3,
    "start_time": "2025-02-28T18:50:39.205Z"
   },
   {
    "duration": 4,
    "start_time": "2025-02-28T18:50:39.210Z"
   },
   {
    "duration": 4,
    "start_time": "2025-02-28T18:50:39.216Z"
   },
   {
    "duration": 81,
    "start_time": "2025-02-28T18:50:39.222Z"
   },
   {
    "duration": 178,
    "start_time": "2025-02-28T18:50:39.310Z"
   },
   {
    "duration": 118,
    "start_time": "2025-02-28T18:50:39.490Z"
   },
   {
    "duration": 83,
    "start_time": "2025-02-28T18:50:39.611Z"
   },
   {
    "duration": 5,
    "start_time": "2025-02-28T18:50:39.695Z"
   },
   {
    "duration": 3,
    "start_time": "2025-02-28T18:50:39.701Z"
   },
   {
    "duration": 5,
    "start_time": "2025-02-28T18:50:39.706Z"
   },
   {
    "duration": 4,
    "start_time": "2025-02-28T18:50:39.712Z"
   },
   {
    "duration": 21,
    "start_time": "2025-02-28T18:50:39.786Z"
   },
   {
    "duration": 7,
    "start_time": "2025-02-28T18:50:39.809Z"
   },
   {
    "duration": 8,
    "start_time": "2025-02-28T18:50:39.817Z"
   },
   {
    "duration": 3,
    "start_time": "2025-02-28T18:50:39.827Z"
   },
   {
    "duration": 6,
    "start_time": "2025-02-28T18:50:39.832Z"
   },
   {
    "duration": 7,
    "start_time": "2025-02-28T18:50:39.840Z"
   },
   {
    "duration": 40,
    "start_time": "2025-02-28T18:50:39.848Z"
   },
   {
    "duration": 4,
    "start_time": "2025-02-28T18:50:39.889Z"
   },
   {
    "duration": 3,
    "start_time": "2025-02-28T18:50:39.897Z"
   },
   {
    "duration": 4,
    "start_time": "2025-02-28T18:50:39.902Z"
   },
   {
    "duration": 302,
    "start_time": "2025-02-28T18:50:39.908Z"
   },
   {
    "duration": 266,
    "start_time": "2025-02-28T18:50:40.212Z"
   },
   {
    "duration": 308,
    "start_time": "2025-02-28T18:53:38.068Z"
   },
   {
    "duration": 316,
    "start_time": "2025-02-28T18:58:11.886Z"
   },
   {
    "duration": 301,
    "start_time": "2025-02-28T18:59:46.398Z"
   },
   {
    "duration": 310,
    "start_time": "2025-02-28T19:13:26.558Z"
   },
   {
    "duration": 1072,
    "start_time": "2025-02-28T19:21:50.845Z"
   },
   {
    "duration": 2904,
    "start_time": "2025-02-28T19:21:51.919Z"
   },
   {
    "duration": 4,
    "start_time": "2025-02-28T19:21:54.825Z"
   },
   {
    "duration": 4,
    "start_time": "2025-02-28T19:21:54.832Z"
   },
   {
    "duration": 5,
    "start_time": "2025-02-28T19:21:54.839Z"
   },
   {
    "duration": 142,
    "start_time": "2025-02-28T19:21:54.846Z"
   },
   {
    "duration": 119,
    "start_time": "2025-02-28T19:21:54.990Z"
   },
   {
    "duration": 193,
    "start_time": "2025-02-28T19:21:55.111Z"
   },
   {
    "duration": 89,
    "start_time": "2025-02-28T19:21:55.306Z"
   },
   {
    "duration": 4,
    "start_time": "2025-02-28T19:21:55.398Z"
   },
   {
    "duration": 5,
    "start_time": "2025-02-28T19:21:55.403Z"
   },
   {
    "duration": 5,
    "start_time": "2025-02-28T19:21:55.409Z"
   },
   {
    "duration": 4,
    "start_time": "2025-02-28T19:21:55.415Z"
   },
   {
    "duration": 78,
    "start_time": "2025-02-28T19:21:55.421Z"
   },
   {
    "duration": 7,
    "start_time": "2025-02-28T19:21:55.501Z"
   },
   {
    "duration": 8,
    "start_time": "2025-02-28T19:21:55.510Z"
   },
   {
    "duration": 4,
    "start_time": "2025-02-28T19:21:55.519Z"
   },
   {
    "duration": 6,
    "start_time": "2025-02-28T19:21:55.525Z"
   },
   {
    "duration": 7,
    "start_time": "2025-02-28T19:21:55.533Z"
   },
   {
    "duration": 7,
    "start_time": "2025-02-28T19:21:55.542Z"
   },
   {
    "duration": 37,
    "start_time": "2025-02-28T19:21:55.551Z"
   },
   {
    "duration": 4,
    "start_time": "2025-02-28T19:21:55.590Z"
   },
   {
    "duration": 5,
    "start_time": "2025-02-28T19:21:55.595Z"
   },
   {
    "duration": 861,
    "start_time": "2025-02-28T19:21:55.601Z"
   },
   {
    "duration": 923,
    "start_time": "2025-02-28T19:21:56.463Z"
   },
   {
    "duration": 1104,
    "start_time": "2025-02-28T20:10:02.325Z"
   },
   {
    "duration": 2807,
    "start_time": "2025-02-28T20:10:03.432Z"
   },
   {
    "duration": 3,
    "start_time": "2025-02-28T20:10:06.241Z"
   },
   {
    "duration": 5,
    "start_time": "2025-02-28T20:10:06.245Z"
   },
   {
    "duration": 4,
    "start_time": "2025-02-28T20:10:06.254Z"
   },
   {
    "duration": 127,
    "start_time": "2025-02-28T20:10:06.260Z"
   },
   {
    "duration": 130,
    "start_time": "2025-02-28T20:10:06.389Z"
   },
   {
    "duration": 137,
    "start_time": "2025-02-28T20:10:06.586Z"
   },
   {
    "duration": 77,
    "start_time": "2025-02-28T20:10:06.725Z"
   },
   {
    "duration": 4,
    "start_time": "2025-02-28T20:10:06.803Z"
   },
   {
    "duration": 79,
    "start_time": "2025-02-28T20:10:06.809Z"
   },
   {
    "duration": 5,
    "start_time": "2025-02-28T20:10:06.889Z"
   },
   {
    "duration": 4,
    "start_time": "2025-02-28T20:10:06.896Z"
   },
   {
    "duration": 22,
    "start_time": "2025-02-28T20:10:06.903Z"
   },
   {
    "duration": 8,
    "start_time": "2025-02-28T20:10:06.926Z"
   },
   {
    "duration": 7,
    "start_time": "2025-02-28T20:10:06.935Z"
   },
   {
    "duration": 4,
    "start_time": "2025-02-28T20:10:06.943Z"
   },
   {
    "duration": 42,
    "start_time": "2025-02-28T20:10:06.949Z"
   },
   {
    "duration": 7,
    "start_time": "2025-02-28T20:10:06.993Z"
   },
   {
    "duration": 8,
    "start_time": "2025-02-28T20:10:07.002Z"
   },
   {
    "duration": 2,
    "start_time": "2025-02-28T20:10:07.013Z"
   },
   {
    "duration": 3,
    "start_time": "2025-02-28T20:10:07.017Z"
   },
   {
    "duration": 4,
    "start_time": "2025-02-28T20:10:07.022Z"
   },
   {
    "duration": 322,
    "start_time": "2025-02-28T20:10:07.028Z"
   },
   {
    "duration": 239,
    "start_time": "2025-02-28T20:15:04.851Z"
   },
   {
    "duration": 1025,
    "start_time": "2025-02-28T20:17:22.732Z"
   },
   {
    "duration": 3274,
    "start_time": "2025-02-28T20:17:23.759Z"
   },
   {
    "duration": 4,
    "start_time": "2025-02-28T20:17:27.035Z"
   },
   {
    "duration": 3,
    "start_time": "2025-02-28T20:17:27.043Z"
   },
   {
    "duration": 4,
    "start_time": "2025-02-28T20:17:27.048Z"
   },
   {
    "duration": 62,
    "start_time": "2025-02-28T20:17:27.053Z"
   },
   {
    "duration": 189,
    "start_time": "2025-02-28T20:17:27.117Z"
   },
   {
    "duration": 187,
    "start_time": "2025-02-28T20:17:27.307Z"
   },
   {
    "duration": 92,
    "start_time": "2025-02-28T20:17:27.496Z"
   },
   {
    "duration": 3,
    "start_time": "2025-02-28T20:17:27.592Z"
   },
   {
    "duration": 2,
    "start_time": "2025-02-28T20:17:27.597Z"
   },
   {
    "duration": 5,
    "start_time": "2025-02-28T20:17:27.601Z"
   },
   {
    "duration": 4,
    "start_time": "2025-02-28T20:17:27.607Z"
   },
   {
    "duration": 21,
    "start_time": "2025-02-28T20:17:27.613Z"
   },
   {
    "duration": 8,
    "start_time": "2025-02-28T20:17:27.636Z"
   },
   {
    "duration": 50,
    "start_time": "2025-02-28T20:17:27.646Z"
   },
   {
    "duration": 8,
    "start_time": "2025-02-28T20:17:27.698Z"
   },
   {
    "duration": 8,
    "start_time": "2025-02-28T20:17:27.708Z"
   },
   {
    "duration": 9,
    "start_time": "2025-02-28T20:17:27.717Z"
   },
   {
    "duration": 8,
    "start_time": "2025-02-28T20:17:27.727Z"
   },
   {
    "duration": 4,
    "start_time": "2025-02-28T20:17:27.737Z"
   },
   {
    "duration": 3,
    "start_time": "2025-02-28T20:17:27.742Z"
   },
   {
    "duration": 40,
    "start_time": "2025-02-28T20:17:27.747Z"
   },
   {
    "duration": 288,
    "start_time": "2025-02-28T20:17:27.788Z"
   },
   {
    "duration": 11,
    "start_time": "2025-02-28T20:17:28.078Z"
   },
   {
    "duration": 6,
    "start_time": "2025-02-28T20:18:17.827Z"
   },
   {
    "duration": 1035,
    "start_time": "2025-02-28T20:20:17.415Z"
   },
   {
    "duration": 2795,
    "start_time": "2025-02-28T20:20:18.453Z"
   },
   {
    "duration": 3,
    "start_time": "2025-02-28T20:20:21.249Z"
   },
   {
    "duration": 4,
    "start_time": "2025-02-28T20:20:21.255Z"
   },
   {
    "duration": 5,
    "start_time": "2025-02-28T20:20:21.261Z"
   },
   {
    "duration": 129,
    "start_time": "2025-02-28T20:20:21.267Z"
   },
   {
    "duration": 189,
    "start_time": "2025-02-28T20:20:21.398Z"
   },
   {
    "duration": 121,
    "start_time": "2025-02-28T20:20:21.588Z"
   },
   {
    "duration": 84,
    "start_time": "2025-02-28T20:20:21.711Z"
   },
   {
    "duration": 4,
    "start_time": "2025-02-28T20:20:21.798Z"
   },
   {
    "duration": 3,
    "start_time": "2025-02-28T20:20:21.804Z"
   },
   {
    "duration": 4,
    "start_time": "2025-02-28T20:20:21.809Z"
   },
   {
    "duration": 73,
    "start_time": "2025-02-28T20:20:21.815Z"
   },
   {
    "duration": 22,
    "start_time": "2025-02-28T20:20:21.890Z"
   },
   {
    "duration": 8,
    "start_time": "2025-02-28T20:20:21.913Z"
   },
   {
    "duration": 7,
    "start_time": "2025-02-28T20:20:21.923Z"
   },
   {
    "duration": 4,
    "start_time": "2025-02-28T20:20:21.931Z"
   },
   {
    "duration": 7,
    "start_time": "2025-02-28T20:20:21.936Z"
   },
   {
    "duration": 42,
    "start_time": "2025-02-28T20:20:21.945Z"
   },
   {
    "duration": 7,
    "start_time": "2025-02-28T20:20:21.988Z"
   },
   {
    "duration": 3,
    "start_time": "2025-02-28T20:20:21.997Z"
   },
   {
    "duration": 3,
    "start_time": "2025-02-28T20:20:22.002Z"
   },
   {
    "duration": 4,
    "start_time": "2025-02-28T20:20:22.007Z"
   },
   {
    "duration": 307,
    "start_time": "2025-02-28T20:20:22.012Z"
   },
   {
    "duration": 6,
    "start_time": "2025-02-28T20:20:22.321Z"
   },
   {
    "duration": 7,
    "start_time": "2025-02-28T20:20:58.617Z"
   },
   {
    "duration": 5,
    "start_time": "2025-02-28T20:22:19.204Z"
   },
   {
    "duration": 230,
    "start_time": "2025-02-28T20:22:39.440Z"
   },
   {
    "duration": 5,
    "start_time": "2025-02-28T20:24:14.537Z"
   },
   {
    "duration": 1100,
    "start_time": "2025-02-28T20:26:32.096Z"
   },
   {
    "duration": 2695,
    "start_time": "2025-02-28T20:26:33.199Z"
   },
   {
    "duration": 4,
    "start_time": "2025-02-28T20:26:35.895Z"
   },
   {
    "duration": 4,
    "start_time": "2025-02-28T20:26:35.901Z"
   },
   {
    "duration": 4,
    "start_time": "2025-02-28T20:26:35.907Z"
   },
   {
    "duration": 94,
    "start_time": "2025-02-28T20:26:35.913Z"
   },
   {
    "duration": 194,
    "start_time": "2025-02-28T20:26:36.010Z"
   },
   {
    "duration": 192,
    "start_time": "2025-02-28T20:26:36.206Z"
   },
   {
    "duration": 94,
    "start_time": "2025-02-28T20:26:36.400Z"
   },
   {
    "duration": 4,
    "start_time": "2025-02-28T20:26:36.497Z"
   },
   {
    "duration": 3,
    "start_time": "2025-02-28T20:26:36.503Z"
   },
   {
    "duration": 4,
    "start_time": "2025-02-28T20:26:36.508Z"
   },
   {
    "duration": 4,
    "start_time": "2025-02-28T20:26:36.514Z"
   },
   {
    "duration": 72,
    "start_time": "2025-02-28T20:26:36.519Z"
   },
   {
    "duration": 8,
    "start_time": "2025-02-28T20:26:36.593Z"
   },
   {
    "duration": 8,
    "start_time": "2025-02-28T20:26:36.602Z"
   },
   {
    "duration": 4,
    "start_time": "2025-02-28T20:26:36.612Z"
   },
   {
    "duration": 7,
    "start_time": "2025-02-28T20:26:36.617Z"
   },
   {
    "duration": 8,
    "start_time": "2025-02-28T20:26:36.626Z"
   },
   {
    "duration": 7,
    "start_time": "2025-02-28T20:26:36.635Z"
   },
   {
    "duration": 3,
    "start_time": "2025-02-28T20:26:36.644Z"
   },
   {
    "duration": 39,
    "start_time": "2025-02-28T20:26:36.648Z"
   },
   {
    "duration": 4,
    "start_time": "2025-02-28T20:26:36.689Z"
   },
   {
    "duration": 293,
    "start_time": "2025-02-28T20:26:36.695Z"
   },
   {
    "duration": 3,
    "start_time": "2025-02-28T20:26:36.991Z"
   },
   {
    "duration": 3,
    "start_time": "2025-02-28T20:26:36.996Z"
   },
   {
    "duration": 5,
    "start_time": "2025-02-28T20:26:37.001Z"
   },
   {
    "duration": 4,
    "start_time": "2025-02-28T20:27:11.299Z"
   },
   {
    "duration": 3,
    "start_time": "2025-02-28T20:27:25.414Z"
   },
   {
    "duration": 4,
    "start_time": "2025-02-28T20:27:33.252Z"
   },
   {
    "duration": 1005,
    "start_time": "2025-02-28T20:31:25.653Z"
   },
   {
    "duration": 2951,
    "start_time": "2025-02-28T20:31:26.661Z"
   },
   {
    "duration": 3,
    "start_time": "2025-02-28T20:31:29.614Z"
   },
   {
    "duration": 4,
    "start_time": "2025-02-28T20:31:29.620Z"
   },
   {
    "duration": 4,
    "start_time": "2025-02-28T20:31:29.627Z"
   },
   {
    "duration": 154,
    "start_time": "2025-02-28T20:31:29.633Z"
   },
   {
    "duration": 125,
    "start_time": "2025-02-28T20:31:29.789Z"
   },
   {
    "duration": 195,
    "start_time": "2025-02-28T20:31:29.915Z"
   },
   {
    "duration": 89,
    "start_time": "2025-02-28T20:31:30.112Z"
   },
   {
    "duration": 3,
    "start_time": "2025-02-28T20:31:30.204Z"
   },
   {
    "duration": 3,
    "start_time": "2025-02-28T20:31:30.209Z"
   },
   {
    "duration": 73,
    "start_time": "2025-02-28T20:31:30.214Z"
   },
   {
    "duration": 4,
    "start_time": "2025-02-28T20:31:30.288Z"
   },
   {
    "duration": 21,
    "start_time": "2025-02-28T20:31:30.294Z"
   },
   {
    "duration": 7,
    "start_time": "2025-02-28T20:31:30.317Z"
   },
   {
    "duration": 9,
    "start_time": "2025-02-28T20:31:30.326Z"
   },
   {
    "duration": 3,
    "start_time": "2025-02-28T20:31:30.337Z"
   },
   {
    "duration": 6,
    "start_time": "2025-02-28T20:31:30.342Z"
   },
   {
    "duration": 42,
    "start_time": "2025-02-28T20:31:30.350Z"
   },
   {
    "duration": 8,
    "start_time": "2025-02-28T20:31:30.394Z"
   },
   {
    "duration": 2,
    "start_time": "2025-02-28T20:31:30.404Z"
   },
   {
    "duration": 3,
    "start_time": "2025-02-28T20:31:30.408Z"
   },
   {
    "duration": 4,
    "start_time": "2025-02-28T20:31:30.413Z"
   },
   {
    "duration": 302,
    "start_time": "2025-02-28T20:31:30.419Z"
   },
   {
    "duration": 5,
    "start_time": "2025-02-28T20:31:30.723Z"
   },
   {
    "duration": 5,
    "start_time": "2025-02-28T20:31:30.729Z"
   },
   {
    "duration": 274,
    "start_time": "2025-02-28T20:31:30.735Z"
   },
   {
    "duration": 0,
    "start_time": "2025-02-28T20:31:31.010Z"
   },
   {
    "duration": 4,
    "start_time": "2025-02-28T20:31:50.003Z"
   },
   {
    "duration": 4,
    "start_time": "2025-02-28T20:34:34.571Z"
   },
   {
    "duration": 4,
    "start_time": "2025-02-28T20:35:29.812Z"
   },
   {
    "duration": 4,
    "start_time": "2025-02-28T20:36:16.665Z"
   },
   {
    "duration": 3,
    "start_time": "2025-02-28T20:36:34.847Z"
   },
   {
    "duration": 5,
    "start_time": "2025-02-28T20:36:46.158Z"
   },
   {
    "duration": 990,
    "start_time": "2025-02-28T20:36:51.047Z"
   },
   {
    "duration": 3723,
    "start_time": "2025-02-28T20:36:52.040Z"
   },
   {
    "duration": 3,
    "start_time": "2025-02-28T20:36:55.765Z"
   },
   {
    "duration": 5,
    "start_time": "2025-02-28T20:36:55.772Z"
   },
   {
    "duration": 4,
    "start_time": "2025-02-28T20:36:55.787Z"
   },
   {
    "duration": 95,
    "start_time": "2025-02-28T20:36:55.793Z"
   },
   {
    "duration": 125,
    "start_time": "2025-02-28T20:36:55.889Z"
   },
   {
    "duration": 128,
    "start_time": "2025-02-28T20:36:56.090Z"
   },
   {
    "duration": 77,
    "start_time": "2025-02-28T20:36:56.220Z"
   },
   {
    "duration": 5,
    "start_time": "2025-02-28T20:36:56.301Z"
   },
   {
    "duration": 3,
    "start_time": "2025-02-28T20:36:56.309Z"
   },
   {
    "duration": 75,
    "start_time": "2025-02-28T20:36:56.314Z"
   },
   {
    "duration": 5,
    "start_time": "2025-02-28T20:36:56.391Z"
   },
   {
    "duration": 24,
    "start_time": "2025-02-28T20:36:56.398Z"
   },
   {
    "duration": 8,
    "start_time": "2025-02-28T20:36:56.424Z"
   },
   {
    "duration": 8,
    "start_time": "2025-02-28T20:36:56.434Z"
   },
   {
    "duration": 4,
    "start_time": "2025-02-28T20:36:56.443Z"
   },
   {
    "duration": 43,
    "start_time": "2025-02-28T20:36:56.449Z"
   },
   {
    "duration": 9,
    "start_time": "2025-02-28T20:36:56.494Z"
   },
   {
    "duration": 7,
    "start_time": "2025-02-28T20:36:56.505Z"
   },
   {
    "duration": 2,
    "start_time": "2025-02-28T20:36:56.515Z"
   },
   {
    "duration": 3,
    "start_time": "2025-02-28T20:36:56.519Z"
   },
   {
    "duration": 4,
    "start_time": "2025-02-28T20:36:56.524Z"
   },
   {
    "duration": 311,
    "start_time": "2025-02-28T20:36:56.530Z"
   },
   {
    "duration": 4,
    "start_time": "2025-02-28T20:36:56.843Z"
   },
   {
    "duration": 5,
    "start_time": "2025-02-28T20:36:56.848Z"
   },
   {
    "duration": 4,
    "start_time": "2025-02-28T20:36:56.854Z"
   },
   {
    "duration": 0,
    "start_time": "2025-02-28T20:36:56.860Z"
   },
   {
    "duration": 4,
    "start_time": "2025-02-28T20:37:16.979Z"
   },
   {
    "duration": 4,
    "start_time": "2025-02-28T20:39:10.253Z"
   },
   {
    "duration": 4,
    "start_time": "2025-02-28T20:39:39.662Z"
   },
   {
    "duration": 4,
    "start_time": "2025-02-28T20:39:47.926Z"
   },
   {
    "duration": 4,
    "start_time": "2025-02-28T20:42:24.619Z"
   },
   {
    "duration": 4,
    "start_time": "2025-02-28T20:42:32.520Z"
   },
   {
    "duration": 4,
    "start_time": "2025-02-28T20:43:02.414Z"
   },
   {
    "duration": 4,
    "start_time": "2025-02-28T20:43:10.281Z"
   },
   {
    "duration": 4,
    "start_time": "2025-02-28T20:43:18.815Z"
   },
   {
    "duration": 973,
    "start_time": "2025-02-28T20:50:06.645Z"
   },
   {
    "duration": 2813,
    "start_time": "2025-02-28T20:50:07.620Z"
   },
   {
    "duration": 3,
    "start_time": "2025-02-28T20:50:10.434Z"
   },
   {
    "duration": 5,
    "start_time": "2025-02-28T20:50:10.439Z"
   },
   {
    "duration": 5,
    "start_time": "2025-02-28T20:50:10.446Z"
   },
   {
    "duration": 64,
    "start_time": "2025-02-28T20:50:10.452Z"
   },
   {
    "duration": 186,
    "start_time": "2025-02-28T20:50:10.520Z"
   },
   {
    "duration": 193,
    "start_time": "2025-02-28T20:50:10.707Z"
   },
   {
    "duration": 93,
    "start_time": "2025-02-28T20:50:10.902Z"
   },
   {
    "duration": 4,
    "start_time": "2025-02-28T20:50:10.997Z"
   },
   {
    "duration": 4,
    "start_time": "2025-02-28T20:50:11.002Z"
   },
   {
    "duration": 5,
    "start_time": "2025-02-28T20:50:11.007Z"
   },
   {
    "duration": 4,
    "start_time": "2025-02-28T20:50:11.013Z"
   },
   {
    "duration": 71,
    "start_time": "2025-02-28T20:50:11.020Z"
   },
   {
    "duration": 8,
    "start_time": "2025-02-28T20:50:11.092Z"
   },
   {
    "duration": 8,
    "start_time": "2025-02-28T20:50:11.101Z"
   },
   {
    "duration": 4,
    "start_time": "2025-02-28T20:50:11.110Z"
   },
   {
    "duration": 7,
    "start_time": "2025-02-28T20:50:11.115Z"
   },
   {
    "duration": 7,
    "start_time": "2025-02-28T20:50:11.124Z"
   },
   {
    "duration": 8,
    "start_time": "2025-02-28T20:50:11.133Z"
   },
   {
    "duration": 3,
    "start_time": "2025-02-28T20:50:11.143Z"
   },
   {
    "duration": 41,
    "start_time": "2025-02-28T20:50:11.147Z"
   },
   {
    "duration": 5,
    "start_time": "2025-02-28T20:50:11.190Z"
   },
   {
    "duration": 302,
    "start_time": "2025-02-28T20:50:11.196Z"
   },
   {
    "duration": 6,
    "start_time": "2025-02-28T20:50:11.500Z"
   },
   {
    "duration": 4,
    "start_time": "2025-02-28T20:50:11.507Z"
   },
   {
    "duration": 4,
    "start_time": "2025-02-28T20:50:11.513Z"
   },
   {
    "duration": 962,
    "start_time": "2025-02-28T20:58:29.458Z"
   },
   {
    "duration": 3426,
    "start_time": "2025-02-28T20:58:30.423Z"
   },
   {
    "duration": 3,
    "start_time": "2025-02-28T20:58:33.851Z"
   },
   {
    "duration": 4,
    "start_time": "2025-02-28T20:58:33.857Z"
   },
   {
    "duration": 5,
    "start_time": "2025-02-28T20:58:33.862Z"
   },
   {
    "duration": 119,
    "start_time": "2025-02-28T20:58:33.868Z"
   },
   {
    "duration": 198,
    "start_time": "2025-02-28T20:58:33.989Z"
   },
   {
    "duration": 126,
    "start_time": "2025-02-28T20:58:34.189Z"
   },
   {
    "duration": 78,
    "start_time": "2025-02-28T20:58:34.317Z"
   },
   {
    "duration": 5,
    "start_time": "2025-02-28T20:58:34.399Z"
   },
   {
    "duration": 3,
    "start_time": "2025-02-28T20:58:34.406Z"
   },
   {
    "duration": 5,
    "start_time": "2025-02-28T20:58:34.486Z"
   },
   {
    "duration": 4,
    "start_time": "2025-02-28T20:58:34.492Z"
   },
   {
    "duration": 23,
    "start_time": "2025-02-28T20:58:34.498Z"
   },
   {
    "duration": 7,
    "start_time": "2025-02-28T20:58:34.522Z"
   },
   {
    "duration": 7,
    "start_time": "2025-02-28T20:58:34.531Z"
   },
   {
    "duration": 3,
    "start_time": "2025-02-28T20:58:34.540Z"
   },
   {
    "duration": 7,
    "start_time": "2025-02-28T20:58:34.545Z"
   },
   {
    "duration": 7,
    "start_time": "2025-02-28T20:58:34.586Z"
   },
   {
    "duration": 8,
    "start_time": "2025-02-28T20:58:34.594Z"
   },
   {
    "duration": 3,
    "start_time": "2025-02-28T20:58:34.604Z"
   },
   {
    "duration": 4,
    "start_time": "2025-02-28T20:58:34.609Z"
   },
   {
    "duration": 6,
    "start_time": "2025-02-28T20:58:34.614Z"
   },
   {
    "duration": 0,
    "start_time": "2025-02-28T20:58:34.622Z"
   },
   {
    "duration": 0,
    "start_time": "2025-02-28T20:58:34.623Z"
   },
   {
    "duration": 0,
    "start_time": "2025-02-28T20:58:34.624Z"
   },
   {
    "duration": 0,
    "start_time": "2025-02-28T20:58:34.626Z"
   },
   {
    "duration": 5,
    "start_time": "2025-02-28T21:00:04.486Z"
   },
   {
    "duration": 4,
    "start_time": "2025-02-28T21:00:56.811Z"
   },
   {
    "duration": 291,
    "start_time": "2025-02-28T21:01:11.497Z"
   },
   {
    "duration": 4,
    "start_time": "2025-02-28T21:01:50.162Z"
   },
   {
    "duration": 268,
    "start_time": "2025-02-28T21:01:50.780Z"
   },
   {
    "duration": 1051,
    "start_time": "2025-02-28T21:03:16.513Z"
   },
   {
    "duration": 2815,
    "start_time": "2025-02-28T21:03:17.566Z"
   },
   {
    "duration": 3,
    "start_time": "2025-02-28T21:03:20.383Z"
   },
   {
    "duration": 4,
    "start_time": "2025-02-28T21:03:20.389Z"
   },
   {
    "duration": 5,
    "start_time": "2025-02-28T21:03:20.395Z"
   },
   {
    "duration": 190,
    "start_time": "2025-02-28T21:03:20.402Z"
   },
   {
    "duration": 108,
    "start_time": "2025-02-28T21:03:20.597Z"
   },
   {
    "duration": 188,
    "start_time": "2025-02-28T21:03:20.707Z"
   },
   {
    "duration": 16,
    "start_time": "2025-02-28T21:03:20.897Z"
   },
   {
    "duration": 71,
    "start_time": "2025-02-28T21:03:20.916Z"
   },
   {
    "duration": 4,
    "start_time": "2025-02-28T21:03:20.990Z"
   },
   {
    "duration": 5,
    "start_time": "2025-02-28T21:03:20.995Z"
   },
   {
    "duration": 4,
    "start_time": "2025-02-28T21:03:21.002Z"
   },
   {
    "duration": 30,
    "start_time": "2025-02-28T21:03:21.008Z"
   },
   {
    "duration": 10,
    "start_time": "2025-02-28T21:03:21.040Z"
   },
   {
    "duration": 34,
    "start_time": "2025-02-28T21:03:21.053Z"
   },
   {
    "duration": 5,
    "start_time": "2025-02-28T21:03:21.088Z"
   },
   {
    "duration": 8,
    "start_time": "2025-02-28T21:03:21.095Z"
   },
   {
    "duration": 9,
    "start_time": "2025-02-28T21:03:21.105Z"
   },
   {
    "duration": 8,
    "start_time": "2025-02-28T21:03:21.115Z"
   },
   {
    "duration": 2,
    "start_time": "2025-02-28T21:03:21.125Z"
   },
   {
    "duration": 4,
    "start_time": "2025-02-28T21:03:21.128Z"
   },
   {
    "duration": 4,
    "start_time": "2025-02-28T21:03:21.136Z"
   },
   {
    "duration": 334,
    "start_time": "2025-02-28T21:03:21.141Z"
   },
   {
    "duration": 10,
    "start_time": "2025-02-28T21:03:21.477Z"
   },
   {
    "duration": 6,
    "start_time": "2025-02-28T21:03:21.489Z"
   },
   {
    "duration": 5,
    "start_time": "2025-02-28T21:03:21.497Z"
   },
   {
    "duration": 833,
    "start_time": "2025-02-28T21:07:57.374Z"
   },
   {
    "duration": 5,
    "start_time": "2025-02-28T21:12:12.587Z"
   },
   {
    "duration": 4,
    "start_time": "2025-02-28T21:12:28.062Z"
   },
   {
    "duration": 861,
    "start_time": "2025-02-28T21:12:37.614Z"
   },
   {
    "duration": 4,
    "start_time": "2025-02-28T21:12:54.510Z"
   },
   {
    "duration": 1401,
    "start_time": "2025-02-28T21:12:55.210Z"
   },
   {
    "duration": 5,
    "start_time": "2025-02-28T21:13:47.925Z"
   },
   {
    "duration": 1236,
    "start_time": "2025-02-28T21:13:50.107Z"
   },
   {
    "duration": 5,
    "start_time": "2025-02-28T21:14:36.751Z"
   },
   {
    "duration": 1053,
    "start_time": "2025-02-28T21:14:38.424Z"
   },
   {
    "duration": 4,
    "start_time": "2025-02-28T21:15:21.644Z"
   },
   {
    "duration": 1161,
    "start_time": "2025-02-28T21:15:22.236Z"
   },
   {
    "duration": 968,
    "start_time": "2025-02-28T21:27:27.280Z"
   },
   {
    "duration": 2928,
    "start_time": "2025-02-28T21:27:28.250Z"
   },
   {
    "duration": 4,
    "start_time": "2025-02-28T21:27:31.180Z"
   },
   {
    "duration": 4,
    "start_time": "2025-02-28T21:27:31.186Z"
   },
   {
    "duration": 4,
    "start_time": "2025-02-28T21:27:31.193Z"
   },
   {
    "duration": 95,
    "start_time": "2025-02-28T21:27:31.200Z"
   },
   {
    "duration": 121,
    "start_time": "2025-02-28T21:27:31.297Z"
   },
   {
    "duration": 130,
    "start_time": "2025-02-28T21:27:31.486Z"
   },
   {
    "duration": 20,
    "start_time": "2025-02-28T21:27:31.692Z"
   },
   {
    "duration": 5,
    "start_time": "2025-02-28T21:27:31.787Z"
   },
   {
    "duration": 4,
    "start_time": "2025-02-28T21:27:31.794Z"
   },
   {
    "duration": 4,
    "start_time": "2025-02-28T21:27:31.800Z"
   },
   {
    "duration": 4,
    "start_time": "2025-02-28T21:27:31.806Z"
   },
   {
    "duration": 26,
    "start_time": "2025-02-28T21:27:31.814Z"
   },
   {
    "duration": 8,
    "start_time": "2025-02-28T21:27:31.841Z"
   },
   {
    "duration": 43,
    "start_time": "2025-02-28T21:27:31.850Z"
   },
   {
    "duration": 3,
    "start_time": "2025-02-28T21:27:31.896Z"
   },
   {
    "duration": 6,
    "start_time": "2025-02-28T21:27:31.901Z"
   },
   {
    "duration": 8,
    "start_time": "2025-02-28T21:27:31.909Z"
   },
   {
    "duration": 7,
    "start_time": "2025-02-28T21:27:31.919Z"
   },
   {
    "duration": 3,
    "start_time": "2025-02-28T21:27:31.928Z"
   },
   {
    "duration": 4,
    "start_time": "2025-02-28T21:27:31.933Z"
   },
   {
    "duration": 6,
    "start_time": "2025-02-28T21:27:31.938Z"
   },
   {
    "duration": 1152,
    "start_time": "2025-02-28T21:27:31.946Z"
   },
   {
    "duration": 4,
    "start_time": "2025-02-28T21:28:02.140Z"
   },
   {
    "duration": 1222,
    "start_time": "2025-02-28T21:28:02.617Z"
   },
   {
    "duration": 4,
    "start_time": "2025-02-28T21:28:13.318Z"
   },
   {
    "duration": 1145,
    "start_time": "2025-02-28T21:28:13.787Z"
   },
   {
    "duration": 5,
    "start_time": "2025-02-28T21:29:02.764Z"
   },
   {
    "duration": 695,
    "start_time": "2025-02-28T21:29:03.553Z"
   },
   {
    "duration": 5,
    "start_time": "2025-02-28T21:30:51.873Z"
   },
   {
    "duration": 1138,
    "start_time": "2025-02-28T21:30:52.935Z"
   },
   {
    "duration": 5,
    "start_time": "2025-02-28T21:31:29.893Z"
   },
   {
    "duration": 657,
    "start_time": "2025-02-28T21:31:30.867Z"
   },
   {
    "duration": 5,
    "start_time": "2025-02-28T21:32:02.403Z"
   },
   {
    "duration": 5,
    "start_time": "2025-02-28T21:32:42.903Z"
   },
   {
    "duration": 7,
    "start_time": "2025-02-28T21:32:43.453Z"
   },
   {
    "duration": 20240,
    "start_time": "2025-02-28T21:32:45.200Z"
   },
   {
    "duration": 5,
    "start_time": "2025-02-28T21:34:08.881Z"
   },
   {
    "duration": 5,
    "start_time": "2025-02-28T21:34:09.367Z"
   },
   {
    "duration": 1125,
    "start_time": "2025-02-28T21:34:11.997Z"
   },
   {
    "duration": 5,
    "start_time": "2025-02-28T21:43:03.729Z"
   },
   {
    "duration": 5,
    "start_time": "2025-02-28T21:43:04.242Z"
   },
   {
    "duration": 207,
    "start_time": "2025-02-28T21:43:05.017Z"
   },
   {
    "duration": 7,
    "start_time": "2025-02-28T21:43:20.271Z"
   },
   {
    "duration": 4,
    "start_time": "2025-02-28T21:43:20.773Z"
   },
   {
    "duration": 1565,
    "start_time": "2025-02-28T21:43:21.328Z"
   },
   {
    "duration": 5,
    "start_time": "2025-02-28T21:43:41.139Z"
   },
   {
    "duration": 4,
    "start_time": "2025-02-28T21:43:41.576Z"
   },
   {
    "duration": 1233,
    "start_time": "2025-02-28T21:43:42.188Z"
   },
   {
    "duration": 7,
    "start_time": "2025-02-28T21:44:23.148Z"
   },
   {
    "duration": 4,
    "start_time": "2025-02-28T21:44:23.597Z"
   },
   {
    "duration": 1496,
    "start_time": "2025-02-28T21:44:24.115Z"
   },
   {
    "duration": 5,
    "start_time": "2025-02-28T21:47:56.829Z"
   },
   {
    "duration": 4,
    "start_time": "2025-02-28T21:47:57.416Z"
   },
   {
    "duration": 1376,
    "start_time": "2025-02-28T21:47:57.956Z"
   },
   {
    "duration": 5,
    "start_time": "2025-02-28T21:52:32.328Z"
   },
   {
    "duration": 4,
    "start_time": "2025-02-28T21:52:32.825Z"
   },
   {
    "duration": 2247,
    "start_time": "2025-02-28T21:52:33.568Z"
   },
   {
    "duration": 5,
    "start_time": "2025-02-28T21:52:54.812Z"
   },
   {
    "duration": 6,
    "start_time": "2025-02-28T21:52:55.336Z"
   },
   {
    "duration": 1627,
    "start_time": "2025-02-28T21:52:55.924Z"
   },
   {
    "duration": 5,
    "start_time": "2025-02-28T21:53:28.100Z"
   },
   {
    "duration": 5,
    "start_time": "2025-02-28T21:53:30.086Z"
   },
   {
    "duration": 1539,
    "start_time": "2025-02-28T21:53:30.324Z"
   },
   {
    "duration": 7,
    "start_time": "2025-02-28T21:54:45.499Z"
   },
   {
    "duration": 5,
    "start_time": "2025-02-28T21:54:45.935Z"
   },
   {
    "duration": 1735,
    "start_time": "2025-02-28T21:54:46.410Z"
   },
   {
    "duration": 6,
    "start_time": "2025-02-28T21:55:02.970Z"
   },
   {
    "duration": 5,
    "start_time": "2025-02-28T21:55:03.424Z"
   },
   {
    "duration": 1461,
    "start_time": "2025-02-28T21:55:03.879Z"
   },
   {
    "duration": 5,
    "start_time": "2025-02-28T21:55:13.028Z"
   },
   {
    "duration": 5,
    "start_time": "2025-02-28T21:55:13.322Z"
   },
   {
    "duration": 1503,
    "start_time": "2025-02-28T21:55:13.829Z"
   },
   {
    "duration": 1037,
    "start_time": "2025-02-28T21:59:36.592Z"
   },
   {
    "duration": 2950,
    "start_time": "2025-02-28T21:59:37.631Z"
   },
   {
    "duration": 4,
    "start_time": "2025-02-28T21:59:40.583Z"
   },
   {
    "duration": 4,
    "start_time": "2025-02-28T21:59:40.589Z"
   },
   {
    "duration": 6,
    "start_time": "2025-02-28T21:59:40.594Z"
   },
   {
    "duration": 92,
    "start_time": "2025-02-28T21:59:40.602Z"
   },
   {
    "duration": 192,
    "start_time": "2025-02-28T21:59:40.696Z"
   },
   {
    "duration": 200,
    "start_time": "2025-02-28T21:59:40.890Z"
   },
   {
    "duration": 18,
    "start_time": "2025-02-28T21:59:41.092Z"
   },
   {
    "duration": 4,
    "start_time": "2025-02-28T21:59:41.188Z"
   },
   {
    "duration": 4,
    "start_time": "2025-02-28T21:59:41.194Z"
   },
   {
    "duration": 4,
    "start_time": "2025-02-28T21:59:41.200Z"
   },
   {
    "duration": 4,
    "start_time": "2025-02-28T21:59:41.206Z"
   },
   {
    "duration": 23,
    "start_time": "2025-02-28T21:59:41.212Z"
   },
   {
    "duration": 8,
    "start_time": "2025-02-28T21:59:41.236Z"
   },
   {
    "duration": 8,
    "start_time": "2025-02-28T21:59:41.245Z"
   },
   {
    "duration": 4,
    "start_time": "2025-02-28T21:59:41.287Z"
   },
   {
    "duration": 7,
    "start_time": "2025-02-28T21:59:41.293Z"
   },
   {
    "duration": 8,
    "start_time": "2025-02-28T21:59:41.302Z"
   },
   {
    "duration": 8,
    "start_time": "2025-02-28T21:59:41.312Z"
   },
   {
    "duration": 4,
    "start_time": "2025-02-28T21:59:41.322Z"
   },
   {
    "duration": 3,
    "start_time": "2025-02-28T21:59:41.328Z"
   },
   {
    "duration": 6,
    "start_time": "2025-02-28T21:59:41.332Z"
   },
   {
    "duration": 47,
    "start_time": "2025-02-28T21:59:41.339Z"
   },
   {
    "duration": 1459,
    "start_time": "2025-02-28T21:59:41.388Z"
   },
   {
    "duration": 6,
    "start_time": "2025-02-28T22:00:44.108Z"
   },
   {
    "duration": 5,
    "start_time": "2025-02-28T22:00:44.423Z"
   },
   {
    "duration": 1502,
    "start_time": "2025-02-28T22:00:44.673Z"
   },
   {
    "duration": 5,
    "start_time": "2025-02-28T22:01:38.691Z"
   },
   {
    "duration": 1434,
    "start_time": "2025-02-28T22:01:39.049Z"
   },
   {
    "duration": 1047,
    "start_time": "2025-02-28T22:15:24.591Z"
   },
   {
    "duration": 3143,
    "start_time": "2025-02-28T22:15:25.640Z"
   },
   {
    "duration": 3,
    "start_time": "2025-02-28T22:15:28.785Z"
   },
   {
    "duration": 4,
    "start_time": "2025-02-28T22:15:28.791Z"
   },
   {
    "duration": 5,
    "start_time": "2025-02-28T22:15:28.796Z"
   },
   {
    "duration": 93,
    "start_time": "2025-02-28T22:15:28.802Z"
   },
   {
    "duration": 190,
    "start_time": "2025-02-28T22:15:28.897Z"
   },
   {
    "duration": 198,
    "start_time": "2025-02-28T22:15:29.089Z"
   },
   {
    "duration": 336,
    "start_time": "2025-02-28T22:15:29.291Z"
   },
   {
    "duration": 0,
    "start_time": "2025-02-28T22:15:29.629Z"
   },
   {
    "duration": 0,
    "start_time": "2025-02-28T22:15:29.630Z"
   },
   {
    "duration": 0,
    "start_time": "2025-02-28T22:15:29.631Z"
   },
   {
    "duration": 0,
    "start_time": "2025-02-28T22:15:29.632Z"
   },
   {
    "duration": 0,
    "start_time": "2025-02-28T22:15:29.634Z"
   },
   {
    "duration": 0,
    "start_time": "2025-02-28T22:15:29.636Z"
   },
   {
    "duration": 0,
    "start_time": "2025-02-28T22:15:29.637Z"
   },
   {
    "duration": 0,
    "start_time": "2025-02-28T22:15:29.638Z"
   },
   {
    "duration": 0,
    "start_time": "2025-02-28T22:15:29.639Z"
   },
   {
    "duration": 0,
    "start_time": "2025-02-28T22:15:29.641Z"
   },
   {
    "duration": 0,
    "start_time": "2025-02-28T22:15:29.643Z"
   },
   {
    "duration": 0,
    "start_time": "2025-02-28T22:15:29.644Z"
   },
   {
    "duration": 0,
    "start_time": "2025-02-28T22:15:29.646Z"
   },
   {
    "duration": 0,
    "start_time": "2025-02-28T22:15:29.647Z"
   },
   {
    "duration": 0,
    "start_time": "2025-02-28T22:15:29.649Z"
   },
   {
    "duration": 0,
    "start_time": "2025-02-28T22:15:29.686Z"
   },
   {
    "duration": 6,
    "start_time": "2025-02-28T22:15:50.732Z"
   },
   {
    "duration": 7,
    "start_time": "2025-02-28T22:18:19.585Z"
   },
   {
    "duration": 609,
    "start_time": "2025-02-28T22:18:20.219Z"
   },
   {
    "duration": 175,
    "start_time": "2025-02-28T22:19:46.899Z"
   },
   {
    "duration": 181,
    "start_time": "2025-02-28T22:19:55.592Z"
   },
   {
    "duration": 24,
    "start_time": "2025-02-28T22:22:37.789Z"
   },
   {
    "duration": 1029,
    "start_time": "2025-02-28T22:22:45.776Z"
   },
   {
    "duration": 3234,
    "start_time": "2025-02-28T22:22:46.808Z"
   },
   {
    "duration": 4,
    "start_time": "2025-02-28T22:22:50.043Z"
   },
   {
    "duration": 4,
    "start_time": "2025-02-28T22:22:50.049Z"
   },
   {
    "duration": 5,
    "start_time": "2025-02-28T22:22:50.055Z"
   },
   {
    "duration": 125,
    "start_time": "2025-02-28T22:22:50.062Z"
   },
   {
    "duration": 206,
    "start_time": "2025-02-28T22:22:50.189Z"
   },
   {
    "duration": 213,
    "start_time": "2025-02-28T22:22:50.398Z"
   },
   {
    "duration": 11,
    "start_time": "2025-02-28T22:22:50.618Z"
   },
   {
    "duration": 64,
    "start_time": "2025-02-28T22:22:50.634Z"
   },
   {
    "duration": 6,
    "start_time": "2025-02-28T22:22:50.701Z"
   },
   {
    "duration": 4,
    "start_time": "2025-02-28T22:22:50.710Z"
   },
   {
    "duration": 7,
    "start_time": "2025-02-28T22:22:50.716Z"
   },
   {
    "duration": 4,
    "start_time": "2025-02-28T22:22:50.725Z"
   },
   {
    "duration": 24,
    "start_time": "2025-02-28T22:22:50.730Z"
   },
   {
    "duration": 307,
    "start_time": "2025-02-28T22:22:50.756Z"
   },
   {
    "duration": 0,
    "start_time": "2025-02-28T22:22:51.065Z"
   },
   {
    "duration": 0,
    "start_time": "2025-02-28T22:22:51.066Z"
   },
   {
    "duration": 0,
    "start_time": "2025-02-28T22:22:51.067Z"
   },
   {
    "duration": 0,
    "start_time": "2025-02-28T22:22:51.068Z"
   },
   {
    "duration": 0,
    "start_time": "2025-02-28T22:22:51.069Z"
   },
   {
    "duration": 0,
    "start_time": "2025-02-28T22:22:51.070Z"
   },
   {
    "duration": 0,
    "start_time": "2025-02-28T22:22:51.072Z"
   },
   {
    "duration": 0,
    "start_time": "2025-02-28T22:22:51.073Z"
   },
   {
    "duration": 0,
    "start_time": "2025-02-28T22:22:51.074Z"
   },
   {
    "duration": 0,
    "start_time": "2025-02-28T22:22:51.076Z"
   },
   {
    "duration": 10,
    "start_time": "2025-02-28T22:23:10.607Z"
   },
   {
    "duration": 131,
    "start_time": "2025-02-28T22:24:47.542Z"
   },
   {
    "duration": 13,
    "start_time": "2025-02-28T22:25:57.854Z"
   },
   {
    "duration": 523,
    "start_time": "2025-02-28T22:28:03.150Z"
   },
   {
    "duration": 103,
    "start_time": "2025-02-28T22:28:36.031Z"
   },
   {
    "duration": 15,
    "start_time": "2025-02-28T22:31:17.032Z"
   },
   {
    "duration": 958,
    "start_time": "2025-02-28T22:31:39.460Z"
   },
   {
    "duration": 2815,
    "start_time": "2025-02-28T22:31:40.421Z"
   },
   {
    "duration": 3,
    "start_time": "2025-02-28T22:31:43.238Z"
   },
   {
    "duration": 3,
    "start_time": "2025-02-28T22:31:43.243Z"
   },
   {
    "duration": 4,
    "start_time": "2025-02-28T22:31:43.249Z"
   },
   {
    "duration": 66,
    "start_time": "2025-02-28T22:31:43.255Z"
   },
   {
    "duration": 190,
    "start_time": "2025-02-28T22:31:43.322Z"
   },
   {
    "duration": 192,
    "start_time": "2025-02-28T22:31:43.514Z"
   },
   {
    "duration": 81,
    "start_time": "2025-02-28T22:31:43.708Z"
   },
   {
    "duration": 15,
    "start_time": "2025-02-28T22:31:43.793Z"
   },
   {
    "duration": 4,
    "start_time": "2025-02-28T22:31:43.809Z"
   },
   {
    "duration": 9,
    "start_time": "2025-02-28T22:31:43.814Z"
   },
   {
    "duration": 5,
    "start_time": "2025-02-28T22:31:43.825Z"
   },
   {
    "duration": 52,
    "start_time": "2025-02-28T22:31:43.835Z"
   },
   {
    "duration": 22,
    "start_time": "2025-02-28T22:31:43.889Z"
   },
   {
    "duration": 8,
    "start_time": "2025-02-28T22:31:43.912Z"
   },
   {
    "duration": 6,
    "start_time": "2025-02-28T22:31:43.922Z"
   },
   {
    "duration": 7,
    "start_time": "2025-02-28T22:31:43.929Z"
   },
   {
    "duration": 4,
    "start_time": "2025-02-28T22:31:43.937Z"
   },
   {
    "duration": 5,
    "start_time": "2025-02-28T22:31:43.943Z"
   },
   {
    "duration": 6,
    "start_time": "2025-02-28T22:31:43.986Z"
   },
   {
    "duration": 6,
    "start_time": "2025-02-28T22:31:43.994Z"
   },
   {
    "duration": 4,
    "start_time": "2025-02-28T22:31:44.001Z"
   },
   {
    "duration": 3,
    "start_time": "2025-02-28T22:31:44.006Z"
   },
   {
    "duration": 5,
    "start_time": "2025-02-28T22:31:44.011Z"
   },
   {
    "duration": 1623,
    "start_time": "2025-02-28T22:31:44.017Z"
   },
   {
    "duration": 3,
    "start_time": "2025-02-28T22:34:53.718Z"
   },
   {
    "duration": 3020,
    "start_time": "2025-02-28T22:34:54.938Z"
   },
   {
    "duration": 6,
    "start_time": "2025-02-28T22:35:33.098Z"
   },
   {
    "duration": 4,
    "start_time": "2025-02-28T22:36:00.920Z"
   },
   {
    "duration": 5,
    "start_time": "2025-02-28T22:36:13.596Z"
   },
   {
    "duration": 43,
    "start_time": "2025-02-28T22:36:14.689Z"
   },
   {
    "duration": 40,
    "start_time": "2025-02-28T22:36:15.508Z"
   },
   {
    "duration": 44,
    "start_time": "2025-02-28T22:36:16.345Z"
   },
   {
    "duration": 4,
    "start_time": "2025-02-28T22:38:03.324Z"
   },
   {
    "duration": 4,
    "start_time": "2025-02-28T22:38:20.719Z"
   },
   {
    "duration": 4,
    "start_time": "2025-02-28T22:38:29.462Z"
   },
   {
    "duration": 950,
    "start_time": "2025-02-28T22:41:05.005Z"
   },
   {
    "duration": 2942,
    "start_time": "2025-02-28T22:41:05.958Z"
   },
   {
    "duration": 3,
    "start_time": "2025-02-28T22:41:08.902Z"
   },
   {
    "duration": 5,
    "start_time": "2025-02-28T22:41:08.907Z"
   },
   {
    "duration": 5,
    "start_time": "2025-02-28T22:41:08.915Z"
   },
   {
    "duration": 112,
    "start_time": "2025-02-28T22:41:08.922Z"
   },
   {
    "duration": 192,
    "start_time": "2025-02-28T22:41:09.036Z"
   },
   {
    "duration": 178,
    "start_time": "2025-02-28T22:41:09.230Z"
   },
   {
    "duration": 82,
    "start_time": "2025-02-28T22:41:09.411Z"
   },
   {
    "duration": 7,
    "start_time": "2025-02-28T22:41:09.495Z"
   },
   {
    "duration": 2,
    "start_time": "2025-02-28T22:41:09.506Z"
   },
   {
    "duration": 5,
    "start_time": "2025-02-28T22:41:09.510Z"
   },
   {
    "duration": 3,
    "start_time": "2025-02-28T22:41:09.517Z"
   },
   {
    "duration": 28,
    "start_time": "2025-02-28T22:41:09.524Z"
   },
   {
    "duration": 10,
    "start_time": "2025-02-28T22:41:09.587Z"
   },
   {
    "duration": 10,
    "start_time": "2025-02-28T22:41:09.599Z"
   },
   {
    "duration": 4,
    "start_time": "2025-02-28T22:41:09.611Z"
   },
   {
    "duration": 9,
    "start_time": "2025-02-28T22:41:09.616Z"
   },
   {
    "duration": 7,
    "start_time": "2025-02-28T22:41:09.627Z"
   },
   {
    "duration": 7,
    "start_time": "2025-02-28T22:41:09.636Z"
   },
   {
    "duration": 4,
    "start_time": "2025-02-28T22:41:09.644Z"
   },
   {
    "duration": 38,
    "start_time": "2025-02-28T22:41:09.650Z"
   },
   {
    "duration": 7,
    "start_time": "2025-02-28T22:41:09.690Z"
   },
   {
    "duration": 1648,
    "start_time": "2025-02-28T22:41:09.702Z"
   },
   {
    "duration": 1042,
    "start_time": "2025-02-28T22:45:49.567Z"
   },
   {
    "duration": 3081,
    "start_time": "2025-02-28T22:45:50.612Z"
   },
   {
    "duration": 8,
    "start_time": "2025-02-28T22:45:53.696Z"
   },
   {
    "duration": 6,
    "start_time": "2025-02-28T22:45:53.709Z"
   },
   {
    "duration": 6,
    "start_time": "2025-02-28T22:45:53.721Z"
   },
   {
    "duration": 80,
    "start_time": "2025-02-28T22:45:53.730Z"
   },
   {
    "duration": 190,
    "start_time": "2025-02-28T22:45:53.812Z"
   },
   {
    "duration": 189,
    "start_time": "2025-02-28T22:45:54.005Z"
   },
   {
    "duration": 21,
    "start_time": "2025-02-28T22:45:54.196Z"
   },
   {
    "duration": 71,
    "start_time": "2025-02-28T22:45:54.220Z"
   },
   {
    "duration": 5,
    "start_time": "2025-02-28T22:45:54.293Z"
   },
   {
    "duration": 8,
    "start_time": "2025-02-28T22:45:54.300Z"
   },
   {
    "duration": 7,
    "start_time": "2025-02-28T22:45:54.310Z"
   },
   {
    "duration": 22,
    "start_time": "2025-02-28T22:45:54.321Z"
   },
   {
    "duration": 7,
    "start_time": "2025-02-28T22:45:54.345Z"
   },
   {
    "duration": 8,
    "start_time": "2025-02-28T22:45:54.354Z"
   },
   {
    "duration": 4,
    "start_time": "2025-02-28T22:45:54.363Z"
   },
   {
    "duration": 7,
    "start_time": "2025-02-28T22:45:54.386Z"
   },
   {
    "duration": 11,
    "start_time": "2025-02-28T22:45:54.395Z"
   },
   {
    "duration": 15,
    "start_time": "2025-02-28T22:45:54.409Z"
   },
   {
    "duration": 3,
    "start_time": "2025-02-28T22:45:54.426Z"
   },
   {
    "duration": 4,
    "start_time": "2025-02-28T22:45:54.431Z"
   },
   {
    "duration": 5,
    "start_time": "2025-02-28T22:45:54.436Z"
   },
   {
    "duration": 1725,
    "start_time": "2025-02-28T22:45:54.443Z"
   },
   {
    "duration": 1014,
    "start_time": "2025-02-28T22:49:01.758Z"
   },
   {
    "duration": 2933,
    "start_time": "2025-02-28T22:49:02.775Z"
   },
   {
    "duration": 3,
    "start_time": "2025-02-28T22:49:05.710Z"
   },
   {
    "duration": 5,
    "start_time": "2025-02-28T22:49:05.716Z"
   },
   {
    "duration": 6,
    "start_time": "2025-02-28T22:49:05.722Z"
   },
   {
    "duration": 76,
    "start_time": "2025-02-28T22:49:05.729Z"
   },
   {
    "duration": 195,
    "start_time": "2025-02-28T22:49:05.807Z"
   },
   {
    "duration": 201,
    "start_time": "2025-02-28T22:49:06.004Z"
   },
   {
    "duration": 89,
    "start_time": "2025-02-28T22:49:06.207Z"
   },
   {
    "duration": 5,
    "start_time": "2025-02-28T22:49:06.299Z"
   },
   {
    "duration": 4,
    "start_time": "2025-02-28T22:49:06.305Z"
   },
   {
    "duration": 5,
    "start_time": "2025-02-28T22:49:06.311Z"
   },
   {
    "duration": 4,
    "start_time": "2025-02-28T22:49:06.318Z"
   },
   {
    "duration": 84,
    "start_time": "2025-02-28T22:49:06.323Z"
   },
   {
    "duration": 8,
    "start_time": "2025-02-28T22:49:06.409Z"
   },
   {
    "duration": 7,
    "start_time": "2025-02-28T22:49:06.420Z"
   },
   {
    "duration": 4,
    "start_time": "2025-02-28T22:49:06.429Z"
   },
   {
    "duration": 7,
    "start_time": "2025-02-28T22:49:06.435Z"
   },
   {
    "duration": 41,
    "start_time": "2025-02-28T22:49:06.446Z"
   },
   {
    "duration": 8,
    "start_time": "2025-02-28T22:49:06.488Z"
   },
   {
    "duration": 4,
    "start_time": "2025-02-28T22:49:06.498Z"
   },
   {
    "duration": 3,
    "start_time": "2025-02-28T22:49:06.504Z"
   },
   {
    "duration": 5,
    "start_time": "2025-02-28T22:49:06.509Z"
   },
   {
    "duration": 1634,
    "start_time": "2025-02-28T22:49:06.516Z"
   },
   {
    "duration": 908,
    "start_time": "2025-03-01T00:01:05.814Z"
   },
   {
    "duration": 3203,
    "start_time": "2025-03-01T00:01:06.724Z"
   },
   {
    "duration": 3,
    "start_time": "2025-03-01T00:01:09.929Z"
   },
   {
    "duration": 4,
    "start_time": "2025-03-01T00:01:09.935Z"
   },
   {
    "duration": 6,
    "start_time": "2025-03-01T00:01:09.940Z"
   },
   {
    "duration": 63,
    "start_time": "2025-03-01T00:01:09.947Z"
   },
   {
    "duration": 199,
    "start_time": "2025-03-01T00:01:10.012Z"
   },
   {
    "duration": 190,
    "start_time": "2025-03-01T00:01:10.213Z"
   },
   {
    "duration": 89,
    "start_time": "2025-03-01T00:01:10.405Z"
   },
   {
    "duration": 3,
    "start_time": "2025-03-01T00:01:10.498Z"
   },
   {
    "duration": 4,
    "start_time": "2025-03-01T00:01:10.503Z"
   },
   {
    "duration": 4,
    "start_time": "2025-03-01T00:01:10.508Z"
   },
   {
    "duration": 4,
    "start_time": "2025-03-01T00:01:10.514Z"
   },
   {
    "duration": 79,
    "start_time": "2025-03-01T00:01:10.519Z"
   },
   {
    "duration": 7,
    "start_time": "2025-03-01T00:01:10.600Z"
   },
   {
    "duration": 10,
    "start_time": "2025-03-01T00:01:10.609Z"
   },
   {
    "duration": 3,
    "start_time": "2025-03-01T00:01:10.621Z"
   },
   {
    "duration": 6,
    "start_time": "2025-03-01T00:01:10.626Z"
   },
   {
    "duration": 7,
    "start_time": "2025-03-01T00:01:10.634Z"
   },
   {
    "duration": 7,
    "start_time": "2025-03-01T00:01:10.643Z"
   },
   {
    "duration": 35,
    "start_time": "2025-03-01T00:01:10.652Z"
   },
   {
    "duration": 4,
    "start_time": "2025-03-01T00:01:10.688Z"
   },
   {
    "duration": 5,
    "start_time": "2025-03-01T00:01:10.693Z"
   },
   {
    "duration": 1561,
    "start_time": "2025-03-01T00:01:10.700Z"
   },
   {
    "duration": 863,
    "start_time": "2025-03-01T00:30:49.155Z"
   },
   {
    "duration": 2883,
    "start_time": "2025-03-01T00:30:50.020Z"
   },
   {
    "duration": 4,
    "start_time": "2025-03-01T00:30:52.904Z"
   },
   {
    "duration": 3,
    "start_time": "2025-03-01T00:30:52.910Z"
   },
   {
    "duration": 5,
    "start_time": "2025-03-01T00:30:52.915Z"
   },
   {
    "duration": 82,
    "start_time": "2025-03-01T00:30:52.921Z"
   },
   {
    "duration": 194,
    "start_time": "2025-03-01T00:30:53.005Z"
   },
   {
    "duration": 184,
    "start_time": "2025-03-01T00:30:53.203Z"
   },
   {
    "duration": 26,
    "start_time": "2025-03-01T00:30:53.388Z"
   },
   {
    "duration": 4,
    "start_time": "2025-03-01T00:30:53.490Z"
   },
   {
    "duration": 3,
    "start_time": "2025-03-01T00:30:53.497Z"
   },
   {
    "duration": 5,
    "start_time": "2025-03-01T00:30:53.501Z"
   },
   {
    "duration": 4,
    "start_time": "2025-03-01T00:30:53.508Z"
   },
   {
    "duration": 22,
    "start_time": "2025-03-01T00:30:53.513Z"
   },
   {
    "duration": 7,
    "start_time": "2025-03-01T00:30:53.537Z"
   },
   {
    "duration": 40,
    "start_time": "2025-03-01T00:30:53.546Z"
   },
   {
    "duration": 5,
    "start_time": "2025-03-01T00:30:53.589Z"
   },
   {
    "duration": 6,
    "start_time": "2025-03-01T00:30:53.596Z"
   },
   {
    "duration": 7,
    "start_time": "2025-03-01T00:30:53.604Z"
   },
   {
    "duration": 7,
    "start_time": "2025-03-01T00:30:53.612Z"
   },
   {
    "duration": 3,
    "start_time": "2025-03-01T00:30:53.621Z"
   },
   {
    "duration": 4,
    "start_time": "2025-03-01T00:30:53.625Z"
   },
   {
    "duration": 5,
    "start_time": "2025-03-01T00:30:53.630Z"
   },
   {
    "duration": 1514,
    "start_time": "2025-03-01T00:30:53.638Z"
   },
   {
    "duration": 1559,
    "start_time": "2025-03-01T00:30:55.154Z"
   },
   {
    "duration": 912,
    "start_time": "2025-03-01T00:56:46.008Z"
   },
   {
    "duration": 2750,
    "start_time": "2025-03-01T00:56:46.922Z"
   },
   {
    "duration": 3,
    "start_time": "2025-03-01T00:56:49.674Z"
   },
   {
    "duration": 4,
    "start_time": "2025-03-01T00:56:49.688Z"
   },
   {
    "duration": 4,
    "start_time": "2025-03-01T00:56:49.694Z"
   },
   {
    "duration": 97,
    "start_time": "2025-03-01T00:56:49.700Z"
   },
   {
    "duration": 188,
    "start_time": "2025-03-01T00:56:49.799Z"
   },
   {
    "duration": 198,
    "start_time": "2025-03-01T00:56:49.989Z"
   },
   {
    "duration": 17,
    "start_time": "2025-03-01T00:56:50.189Z"
   },
   {
    "duration": 77,
    "start_time": "2025-03-01T00:56:50.211Z"
   },
   {
    "duration": 4,
    "start_time": "2025-03-01T00:56:50.290Z"
   },
   {
    "duration": 5,
    "start_time": "2025-03-01T00:56:50.296Z"
   },
   {
    "duration": 4,
    "start_time": "2025-03-01T00:56:50.303Z"
   },
   {
    "duration": 25,
    "start_time": "2025-03-01T00:56:50.309Z"
   },
   {
    "duration": 10,
    "start_time": "2025-03-01T00:56:50.335Z"
   },
   {
    "duration": 42,
    "start_time": "2025-03-01T00:56:50.346Z"
   },
   {
    "duration": 3,
    "start_time": "2025-03-01T00:56:50.390Z"
   },
   {
    "duration": 8,
    "start_time": "2025-03-01T00:56:50.395Z"
   },
   {
    "duration": 7,
    "start_time": "2025-03-01T00:56:50.405Z"
   },
   {
    "duration": 8,
    "start_time": "2025-03-01T00:56:50.414Z"
   },
   {
    "duration": 3,
    "start_time": "2025-03-01T00:56:50.424Z"
   },
   {
    "duration": 3,
    "start_time": "2025-03-01T00:56:50.428Z"
   },
   {
    "duration": 6,
    "start_time": "2025-03-01T00:56:50.433Z"
   },
   {
    "duration": 1609,
    "start_time": "2025-03-01T00:56:50.440Z"
   },
   {
    "duration": 1600,
    "start_time": "2025-03-01T00:56:52.051Z"
   },
   {
    "duration": 877,
    "start_time": "2025-03-01T01:12:07.270Z"
   },
   {
    "duration": 3102,
    "start_time": "2025-03-01T01:12:08.150Z"
   },
   {
    "duration": 4,
    "start_time": "2025-03-01T01:12:11.253Z"
   },
   {
    "duration": 4,
    "start_time": "2025-03-01T01:12:11.259Z"
   },
   {
    "duration": 4,
    "start_time": "2025-03-01T01:12:11.266Z"
   },
   {
    "duration": 115,
    "start_time": "2025-03-01T01:12:11.272Z"
   },
   {
    "duration": 120,
    "start_time": "2025-03-01T01:12:11.389Z"
   },
   {
    "duration": 192,
    "start_time": "2025-03-01T01:12:11.510Z"
   },
   {
    "duration": 94,
    "start_time": "2025-03-01T01:12:11.704Z"
   },
   {
    "duration": 4,
    "start_time": "2025-03-01T01:12:11.799Z"
   },
   {
    "duration": 3,
    "start_time": "2025-03-01T01:12:11.806Z"
   },
   {
    "duration": 5,
    "start_time": "2025-03-01T01:12:11.810Z"
   },
   {
    "duration": 3,
    "start_time": "2025-03-01T01:12:11.817Z"
   },
   {
    "duration": 342,
    "start_time": "2025-03-01T01:12:11.823Z"
   },
   {
    "duration": 0,
    "start_time": "2025-03-01T01:12:12.167Z"
   },
   {
    "duration": 0,
    "start_time": "2025-03-01T01:12:12.168Z"
   },
   {
    "duration": 0,
    "start_time": "2025-03-01T01:12:12.169Z"
   },
   {
    "duration": 0,
    "start_time": "2025-03-01T01:12:12.171Z"
   },
   {
    "duration": 0,
    "start_time": "2025-03-01T01:12:12.173Z"
   },
   {
    "duration": 0,
    "start_time": "2025-03-01T01:12:12.174Z"
   },
   {
    "duration": 0,
    "start_time": "2025-03-01T01:12:12.187Z"
   },
   {
    "duration": 0,
    "start_time": "2025-03-01T01:12:12.188Z"
   },
   {
    "duration": 0,
    "start_time": "2025-03-01T01:12:12.189Z"
   },
   {
    "duration": 0,
    "start_time": "2025-03-01T01:12:12.190Z"
   },
   {
    "duration": 0,
    "start_time": "2025-03-01T01:12:12.191Z"
   },
   {
    "duration": 929,
    "start_time": "2025-03-01T01:17:31.211Z"
   },
   {
    "duration": 3373,
    "start_time": "2025-03-01T01:17:32.142Z"
   },
   {
    "duration": 4,
    "start_time": "2025-03-01T01:17:35.516Z"
   },
   {
    "duration": 5,
    "start_time": "2025-03-01T01:17:35.522Z"
   },
   {
    "duration": 5,
    "start_time": "2025-03-01T01:17:35.528Z"
   },
   {
    "duration": 70,
    "start_time": "2025-03-01T01:17:35.535Z"
   },
   {
    "duration": 186,
    "start_time": "2025-03-01T01:17:35.607Z"
   },
   {
    "duration": 119,
    "start_time": "2025-03-01T01:17:35.795Z"
   },
   {
    "duration": 86,
    "start_time": "2025-03-01T01:17:35.916Z"
   },
   {
    "duration": 81,
    "start_time": "2025-03-01T01:17:36.007Z"
   },
   {
    "duration": 3,
    "start_time": "2025-03-01T01:17:36.089Z"
   },
   {
    "duration": 5,
    "start_time": "2025-03-01T01:17:36.094Z"
   },
   {
    "duration": 3,
    "start_time": "2025-03-01T01:17:36.101Z"
   },
   {
    "duration": 17,
    "start_time": "2025-03-01T01:17:36.106Z"
   },
   {
    "duration": 309,
    "start_time": "2025-03-01T01:17:36.125Z"
   },
   {
    "duration": 0,
    "start_time": "2025-03-01T01:17:36.436Z"
   },
   {
    "duration": 0,
    "start_time": "2025-03-01T01:17:36.438Z"
   },
   {
    "duration": 0,
    "start_time": "2025-03-01T01:17:36.439Z"
   },
   {
    "duration": 1,
    "start_time": "2025-03-01T01:17:36.440Z"
   },
   {
    "duration": 0,
    "start_time": "2025-03-01T01:17:36.441Z"
   },
   {
    "duration": 0,
    "start_time": "2025-03-01T01:17:36.443Z"
   },
   {
    "duration": 0,
    "start_time": "2025-03-01T01:17:36.443Z"
   },
   {
    "duration": 0,
    "start_time": "2025-03-01T01:17:36.444Z"
   },
   {
    "duration": 0,
    "start_time": "2025-03-01T01:17:36.445Z"
   },
   {
    "duration": 0,
    "start_time": "2025-03-01T01:17:36.446Z"
   },
   {
    "duration": 0,
    "start_time": "2025-03-01T01:17:36.447Z"
   },
   {
    "duration": 927,
    "start_time": "2025-03-01T01:50:24.184Z"
   },
   {
    "duration": 3081,
    "start_time": "2025-03-01T01:50:25.114Z"
   },
   {
    "duration": 4,
    "start_time": "2025-03-01T01:50:28.197Z"
   },
   {
    "duration": 4,
    "start_time": "2025-03-01T01:50:28.204Z"
   },
   {
    "duration": 6,
    "start_time": "2025-03-01T01:50:28.209Z"
   },
   {
    "duration": 90,
    "start_time": "2025-03-01T01:50:28.216Z"
   },
   {
    "duration": 197,
    "start_time": "2025-03-01T01:50:28.308Z"
   },
   {
    "duration": 193,
    "start_time": "2025-03-01T01:50:28.507Z"
   },
   {
    "duration": 92,
    "start_time": "2025-03-01T01:50:28.702Z"
   },
   {
    "duration": 5,
    "start_time": "2025-03-01T01:50:28.798Z"
   },
   {
    "duration": 3,
    "start_time": "2025-03-01T01:50:28.805Z"
   },
   {
    "duration": 5,
    "start_time": "2025-03-01T01:50:28.810Z"
   },
   {
    "duration": 3,
    "start_time": "2025-03-01T01:50:28.817Z"
   },
   {
    "duration": 65,
    "start_time": "2025-03-01T01:50:28.822Z"
   },
   {
    "duration": 4,
    "start_time": "2025-03-01T01:50:28.890Z"
   },
   {
    "duration": 9,
    "start_time": "2025-03-01T01:50:28.895Z"
   },
   {
    "duration": 309,
    "start_time": "2025-03-01T01:50:28.906Z"
   },
   {
    "duration": 0,
    "start_time": "2025-03-01T01:50:29.217Z"
   },
   {
    "duration": 0,
    "start_time": "2025-03-01T01:50:29.218Z"
   },
   {
    "duration": 0,
    "start_time": "2025-03-01T01:50:29.220Z"
   },
   {
    "duration": 0,
    "start_time": "2025-03-01T01:50:29.220Z"
   },
   {
    "duration": 0,
    "start_time": "2025-03-01T01:50:29.222Z"
   },
   {
    "duration": 0,
    "start_time": "2025-03-01T01:50:29.223Z"
   },
   {
    "duration": 1,
    "start_time": "2025-03-01T01:50:29.223Z"
   },
   {
    "duration": 0,
    "start_time": "2025-03-01T01:50:29.225Z"
   },
   {
    "duration": 0,
    "start_time": "2025-03-01T01:50:29.226Z"
   },
   {
    "duration": 899,
    "start_time": "2025-03-01T01:57:59.164Z"
   },
   {
    "duration": 3019,
    "start_time": "2025-03-01T01:58:00.066Z"
   },
   {
    "duration": 4,
    "start_time": "2025-03-01T01:58:03.087Z"
   },
   {
    "duration": 4,
    "start_time": "2025-03-01T01:58:03.094Z"
   },
   {
    "duration": 8,
    "start_time": "2025-03-01T01:58:03.099Z"
   },
   {
    "duration": 104,
    "start_time": "2025-03-01T01:58:03.109Z"
   },
   {
    "duration": 110,
    "start_time": "2025-03-01T01:58:03.287Z"
   },
   {
    "duration": 189,
    "start_time": "2025-03-01T01:58:03.399Z"
   },
   {
    "duration": 20,
    "start_time": "2025-03-01T01:58:03.590Z"
   },
   {
    "duration": 5,
    "start_time": "2025-03-01T01:58:03.688Z"
   },
   {
    "duration": 4,
    "start_time": "2025-03-01T01:58:03.694Z"
   },
   {
    "duration": 4,
    "start_time": "2025-03-01T01:58:03.700Z"
   },
   {
    "duration": 3,
    "start_time": "2025-03-01T01:58:03.706Z"
   },
   {
    "duration": 18,
    "start_time": "2025-03-01T01:58:03.710Z"
   },
   {
    "duration": 3,
    "start_time": "2025-03-01T01:58:03.730Z"
   },
   {
    "duration": 6,
    "start_time": "2025-03-01T01:58:03.735Z"
   },
   {
    "duration": 7,
    "start_time": "2025-03-01T01:58:03.743Z"
   },
   {
    "duration": 10,
    "start_time": "2025-03-01T01:58:03.787Z"
   },
   {
    "duration": 308,
    "start_time": "2025-03-01T01:58:03.799Z"
   },
   {
    "duration": 0,
    "start_time": "2025-03-01T01:58:04.109Z"
   },
   {
    "duration": 0,
    "start_time": "2025-03-01T01:58:04.110Z"
   },
   {
    "duration": 0,
    "start_time": "2025-03-01T01:58:04.112Z"
   },
   {
    "duration": 0,
    "start_time": "2025-03-01T01:58:04.113Z"
   },
   {
    "duration": 0,
    "start_time": "2025-03-01T01:58:04.115Z"
   },
   {
    "duration": 0,
    "start_time": "2025-03-01T01:58:04.117Z"
   },
   {
    "duration": 0,
    "start_time": "2025-03-01T01:58:04.118Z"
   },
   {
    "duration": 0,
    "start_time": "2025-03-01T01:58:04.120Z"
   },
   {
    "duration": 0,
    "start_time": "2025-03-01T01:58:04.121Z"
   },
   {
    "duration": 866,
    "start_time": "2025-03-01T02:06:57.253Z"
   },
   {
    "duration": 3217,
    "start_time": "2025-03-01T02:06:58.122Z"
   },
   {
    "duration": 3,
    "start_time": "2025-03-01T02:07:01.341Z"
   },
   {
    "duration": 3,
    "start_time": "2025-03-01T02:07:01.347Z"
   },
   {
    "duration": 4,
    "start_time": "2025-03-01T02:07:01.353Z"
   },
   {
    "duration": 54,
    "start_time": "2025-03-01T02:07:01.359Z"
   },
   {
    "duration": 187,
    "start_time": "2025-03-01T02:07:01.415Z"
   },
   {
    "duration": 190,
    "start_time": "2025-03-01T02:07:01.603Z"
   },
   {
    "duration": 92,
    "start_time": "2025-03-01T02:07:01.795Z"
   },
   {
    "duration": 3,
    "start_time": "2025-03-01T02:07:01.891Z"
   },
   {
    "duration": 4,
    "start_time": "2025-03-01T02:07:01.896Z"
   },
   {
    "duration": 4,
    "start_time": "2025-03-01T02:07:01.902Z"
   },
   {
    "duration": 3,
    "start_time": "2025-03-01T02:07:01.908Z"
   },
   {
    "duration": 18,
    "start_time": "2025-03-01T02:07:01.913Z"
   },
   {
    "duration": 3,
    "start_time": "2025-03-01T02:07:01.932Z"
   },
   {
    "duration": 7,
    "start_time": "2025-03-01T02:07:01.937Z"
   },
   {
    "duration": 7,
    "start_time": "2025-03-01T02:07:01.946Z"
   },
   {
    "duration": 7,
    "start_time": "2025-03-01T02:07:01.987Z"
   },
   {
    "duration": 6,
    "start_time": "2025-03-01T02:07:01.996Z"
   },
   {
    "duration": 7,
    "start_time": "2025-03-01T02:07:02.004Z"
   },
   {
    "duration": 7,
    "start_time": "2025-03-01T02:07:02.013Z"
   },
   {
    "duration": 302,
    "start_time": "2025-03-01T02:07:02.022Z"
   },
   {
    "duration": 0,
    "start_time": "2025-03-01T02:07:02.326Z"
   },
   {
    "duration": 0,
    "start_time": "2025-03-01T02:07:02.327Z"
   },
   {
    "duration": 0,
    "start_time": "2025-03-01T02:07:02.329Z"
   },
   {
    "duration": 0,
    "start_time": "2025-03-01T02:07:02.330Z"
   },
   {
    "duration": 0,
    "start_time": "2025-03-01T02:07:02.331Z"
   },
   {
    "duration": 0,
    "start_time": "2025-03-01T02:07:02.332Z"
   },
   {
    "duration": 0,
    "start_time": "2025-03-01T02:07:02.333Z"
   },
   {
    "duration": 0,
    "start_time": "2025-03-01T02:07:02.334Z"
   },
   {
    "duration": 0,
    "start_time": "2025-03-01T02:07:02.335Z"
   },
   {
    "duration": 9,
    "start_time": "2025-03-01T02:08:38.260Z"
   },
   {
    "duration": 865,
    "start_time": "2025-03-01T02:11:30.467Z"
   },
   {
    "duration": 2833,
    "start_time": "2025-03-01T02:11:31.335Z"
   },
   {
    "duration": 3,
    "start_time": "2025-03-01T02:11:34.169Z"
   },
   {
    "duration": 5,
    "start_time": "2025-03-01T02:11:34.174Z"
   },
   {
    "duration": 4,
    "start_time": "2025-03-01T02:11:34.187Z"
   },
   {
    "duration": 96,
    "start_time": "2025-03-01T02:11:34.192Z"
   },
   {
    "duration": 128,
    "start_time": "2025-03-01T02:11:34.290Z"
   },
   {
    "duration": 194,
    "start_time": "2025-03-01T02:11:34.420Z"
   },
   {
    "duration": 83,
    "start_time": "2025-03-01T02:11:34.618Z"
   },
   {
    "duration": 5,
    "start_time": "2025-03-01T02:11:34.705Z"
   },
   {
    "duration": 76,
    "start_time": "2025-03-01T02:11:34.712Z"
   },
   {
    "duration": 5,
    "start_time": "2025-03-01T02:11:34.789Z"
   },
   {
    "duration": 3,
    "start_time": "2025-03-01T02:11:34.795Z"
   },
   {
    "duration": 17,
    "start_time": "2025-03-01T02:11:34.802Z"
   },
   {
    "duration": 3,
    "start_time": "2025-03-01T02:11:34.821Z"
   },
   {
    "duration": 7,
    "start_time": "2025-03-01T02:11:34.826Z"
   },
   {
    "duration": 7,
    "start_time": "2025-03-01T02:11:34.836Z"
   },
   {
    "duration": 7,
    "start_time": "2025-03-01T02:11:34.845Z"
   },
   {
    "duration": 7,
    "start_time": "2025-03-01T02:11:34.887Z"
   },
   {
    "duration": 8,
    "start_time": "2025-03-01T02:11:34.896Z"
   },
   {
    "duration": 9,
    "start_time": "2025-03-01T02:11:34.906Z"
   },
   {
    "duration": 4,
    "start_time": "2025-03-01T02:11:34.916Z"
   },
   {
    "duration": 3,
    "start_time": "2025-03-01T02:11:34.922Z"
   },
   {
    "duration": 7,
    "start_time": "2025-03-01T02:11:34.926Z"
   },
   {
    "duration": 1606,
    "start_time": "2025-03-01T02:11:34.936Z"
   },
   {
    "duration": 1582,
    "start_time": "2025-03-01T02:11:36.544Z"
   },
   {
    "duration": 6,
    "start_time": "2025-03-01T02:27:39.419Z"
   },
   {
    "duration": 1451,
    "start_time": "2025-03-01T02:27:40.484Z"
   },
   {
    "duration": 6,
    "start_time": "2025-03-01T02:28:23.935Z"
   },
   {
    "duration": 1594,
    "start_time": "2025-03-01T02:28:24.551Z"
   },
   {
    "duration": 1497,
    "start_time": "2025-03-01T02:28:26.148Z"
   },
   {
    "duration": 5,
    "start_time": "2025-03-01T02:29:38.438Z"
   },
   {
    "duration": 1589,
    "start_time": "2025-03-01T02:29:38.782Z"
   },
   {
    "duration": 236,
    "start_time": "2025-03-01T02:55:38.850Z"
   },
   {
    "duration": 894,
    "start_time": "2025-03-01T02:55:45.614Z"
   },
   {
    "duration": 3248,
    "start_time": "2025-03-01T02:55:46.511Z"
   },
   {
    "duration": 5,
    "start_time": "2025-03-01T02:55:49.761Z"
   },
   {
    "duration": 5,
    "start_time": "2025-03-01T02:55:49.769Z"
   },
   {
    "duration": 10,
    "start_time": "2025-03-01T02:55:49.776Z"
   },
   {
    "duration": 107,
    "start_time": "2025-03-01T02:55:49.788Z"
   },
   {
    "duration": 112,
    "start_time": "2025-03-01T02:55:49.896Z"
   },
   {
    "duration": 192,
    "start_time": "2025-03-01T02:55:50.010Z"
   },
   {
    "duration": 378,
    "start_time": "2025-03-01T02:55:50.204Z"
   },
   {
    "duration": 0,
    "start_time": "2025-03-01T02:55:50.587Z"
   },
   {
    "duration": 0,
    "start_time": "2025-03-01T02:55:50.589Z"
   },
   {
    "duration": 0,
    "start_time": "2025-03-01T02:55:50.590Z"
   },
   {
    "duration": 0,
    "start_time": "2025-03-01T02:55:50.591Z"
   },
   {
    "duration": 0,
    "start_time": "2025-03-01T02:55:50.593Z"
   },
   {
    "duration": 0,
    "start_time": "2025-03-01T02:55:50.594Z"
   },
   {
    "duration": 0,
    "start_time": "2025-03-01T02:55:50.596Z"
   },
   {
    "duration": 0,
    "start_time": "2025-03-01T02:55:50.602Z"
   },
   {
    "duration": 0,
    "start_time": "2025-03-01T02:55:50.603Z"
   },
   {
    "duration": 0,
    "start_time": "2025-03-01T02:55:50.605Z"
   },
   {
    "duration": 0,
    "start_time": "2025-03-01T02:55:50.606Z"
   },
   {
    "duration": 1,
    "start_time": "2025-03-01T02:55:50.607Z"
   },
   {
    "duration": 0,
    "start_time": "2025-03-01T02:55:50.609Z"
   },
   {
    "duration": 0,
    "start_time": "2025-03-01T02:55:50.610Z"
   },
   {
    "duration": 0,
    "start_time": "2025-03-01T02:55:50.611Z"
   },
   {
    "duration": 0,
    "start_time": "2025-03-01T02:55:50.612Z"
   },
   {
    "duration": 0,
    "start_time": "2025-03-01T02:55:50.614Z"
   },
   {
    "duration": 0,
    "start_time": "2025-03-01T02:55:50.615Z"
   },
   {
    "duration": 6,
    "start_time": "2025-03-01T02:56:03.531Z"
   },
   {
    "duration": 15,
    "start_time": "2025-03-01T02:56:06.932Z"
   },
   {
    "duration": 4,
    "start_time": "2025-03-01T02:57:56.152Z"
   },
   {
    "duration": 5,
    "start_time": "2025-03-01T02:58:26.929Z"
   },
   {
    "duration": 253,
    "start_time": "2025-03-01T03:01:46.629Z"
   },
   {
    "duration": 14,
    "start_time": "2025-03-01T03:01:57.756Z"
   },
   {
    "duration": 910,
    "start_time": "2025-03-01T03:05:10.811Z"
   },
   {
    "duration": 3070,
    "start_time": "2025-03-01T03:05:11.723Z"
   },
   {
    "duration": 4,
    "start_time": "2025-03-01T03:05:14.795Z"
   },
   {
    "duration": 5,
    "start_time": "2025-03-01T03:05:14.800Z"
   },
   {
    "duration": 4,
    "start_time": "2025-03-01T03:05:14.808Z"
   },
   {
    "duration": 91,
    "start_time": "2025-03-01T03:05:14.814Z"
   },
   {
    "duration": 189,
    "start_time": "2025-03-01T03:05:14.907Z"
   },
   {
    "duration": 188,
    "start_time": "2025-03-01T03:05:15.099Z"
   },
   {
    "duration": 9,
    "start_time": "2025-03-01T03:05:15.290Z"
   },
   {
    "duration": 84,
    "start_time": "2025-03-01T03:05:15.303Z"
   },
   {
    "duration": 7,
    "start_time": "2025-03-01T03:05:15.389Z"
   },
   {
    "duration": 14,
    "start_time": "2025-03-01T03:05:15.398Z"
   },
   {
    "duration": 14,
    "start_time": "2025-03-01T03:05:15.414Z"
   },
   {
    "duration": 298,
    "start_time": "2025-03-01T03:05:15.432Z"
   },
   {
    "duration": 0,
    "start_time": "2025-03-01T03:05:15.732Z"
   },
   {
    "duration": 0,
    "start_time": "2025-03-01T03:05:15.733Z"
   },
   {
    "duration": 0,
    "start_time": "2025-03-01T03:05:15.734Z"
   },
   {
    "duration": 0,
    "start_time": "2025-03-01T03:05:15.735Z"
   },
   {
    "duration": 0,
    "start_time": "2025-03-01T03:05:15.736Z"
   },
   {
    "duration": 0,
    "start_time": "2025-03-01T03:05:15.737Z"
   },
   {
    "duration": 0,
    "start_time": "2025-03-01T03:05:15.738Z"
   },
   {
    "duration": 0,
    "start_time": "2025-03-01T03:05:15.739Z"
   },
   {
    "duration": 0,
    "start_time": "2025-03-01T03:05:15.741Z"
   },
   {
    "duration": 0,
    "start_time": "2025-03-01T03:05:15.743Z"
   },
   {
    "duration": 0,
    "start_time": "2025-03-01T03:05:15.744Z"
   },
   {
    "duration": 0,
    "start_time": "2025-03-01T03:05:15.745Z"
   },
   {
    "duration": 0,
    "start_time": "2025-03-01T03:05:15.746Z"
   },
   {
    "duration": 0,
    "start_time": "2025-03-01T03:05:15.748Z"
   },
   {
    "duration": 0,
    "start_time": "2025-03-01T03:05:15.749Z"
   },
   {
    "duration": 0,
    "start_time": "2025-03-01T03:05:15.751Z"
   },
   {
    "duration": 0,
    "start_time": "2025-03-01T03:05:15.752Z"
   },
   {
    "duration": 20,
    "start_time": "2025-03-01T03:13:02.932Z"
   },
   {
    "duration": 5,
    "start_time": "2025-03-01T03:16:22.403Z"
   },
   {
    "duration": 5,
    "start_time": "2025-03-01T03:17:41.471Z"
   },
   {
    "duration": 14,
    "start_time": "2025-03-01T03:24:14.086Z"
   },
   {
    "duration": 16,
    "start_time": "2025-03-01T03:24:21.818Z"
   },
   {
    "duration": 30,
    "start_time": "2025-03-01T03:32:26.670Z"
   },
   {
    "duration": 914,
    "start_time": "2025-03-01T03:33:01.708Z"
   },
   {
    "duration": 3360,
    "start_time": "2025-03-01T03:33:02.624Z"
   },
   {
    "duration": 4,
    "start_time": "2025-03-01T03:33:05.986Z"
   },
   {
    "duration": 4,
    "start_time": "2025-03-01T03:33:05.992Z"
   },
   {
    "duration": 5,
    "start_time": "2025-03-01T03:33:05.998Z"
   },
   {
    "duration": 101,
    "start_time": "2025-03-01T03:33:06.006Z"
   },
   {
    "duration": 176,
    "start_time": "2025-03-01T03:33:06.109Z"
   },
   {
    "duration": 137,
    "start_time": "2025-03-01T03:33:06.287Z"
   },
   {
    "duration": 64,
    "start_time": "2025-03-01T03:33:06.426Z"
   },
   {
    "duration": 9,
    "start_time": "2025-03-01T03:33:06.495Z"
   },
   {
    "duration": 10,
    "start_time": "2025-03-01T03:33:06.505Z"
   },
   {
    "duration": 81,
    "start_time": "2025-03-01T03:33:06.517Z"
   },
   {
    "duration": 14,
    "start_time": "2025-03-01T03:33:06.600Z"
   },
   {
    "duration": 297,
    "start_time": "2025-03-01T03:33:06.615Z"
   },
   {
    "duration": 0,
    "start_time": "2025-03-01T03:33:06.914Z"
   },
   {
    "duration": 0,
    "start_time": "2025-03-01T03:33:06.915Z"
   },
   {
    "duration": 0,
    "start_time": "2025-03-01T03:33:06.917Z"
   },
   {
    "duration": 0,
    "start_time": "2025-03-01T03:33:06.918Z"
   },
   {
    "duration": 0,
    "start_time": "2025-03-01T03:33:06.920Z"
   },
   {
    "duration": 0,
    "start_time": "2025-03-01T03:33:06.921Z"
   },
   {
    "duration": 0,
    "start_time": "2025-03-01T03:33:06.922Z"
   },
   {
    "duration": 0,
    "start_time": "2025-03-01T03:33:06.924Z"
   },
   {
    "duration": 0,
    "start_time": "2025-03-01T03:33:06.925Z"
   },
   {
    "duration": 0,
    "start_time": "2025-03-01T03:33:06.927Z"
   },
   {
    "duration": 0,
    "start_time": "2025-03-01T03:33:06.928Z"
   },
   {
    "duration": 0,
    "start_time": "2025-03-01T03:33:06.929Z"
   },
   {
    "duration": 0,
    "start_time": "2025-03-01T03:33:06.930Z"
   },
   {
    "duration": 0,
    "start_time": "2025-03-01T03:33:06.932Z"
   },
   {
    "duration": 0,
    "start_time": "2025-03-01T03:33:06.933Z"
   },
   {
    "duration": 0,
    "start_time": "2025-03-01T03:33:06.934Z"
   },
   {
    "duration": 0,
    "start_time": "2025-03-01T03:33:06.935Z"
   },
   {
    "duration": 1001,
    "start_time": "2025-03-01T03:42:12.262Z"
   },
   {
    "duration": 3082,
    "start_time": "2025-03-01T03:42:13.265Z"
   },
   {
    "duration": 3,
    "start_time": "2025-03-01T03:42:16.349Z"
   },
   {
    "duration": 4,
    "start_time": "2025-03-01T03:42:16.356Z"
   },
   {
    "duration": 5,
    "start_time": "2025-03-01T03:42:16.362Z"
   },
   {
    "duration": 119,
    "start_time": "2025-03-01T03:42:16.368Z"
   },
   {
    "duration": 136,
    "start_time": "2025-03-01T03:42:16.489Z"
   },
   {
    "duration": 195,
    "start_time": "2025-03-01T03:42:16.627Z"
   },
   {
    "duration": 75,
    "start_time": "2025-03-01T03:42:16.824Z"
   },
   {
    "duration": 5,
    "start_time": "2025-03-01T03:42:16.904Z"
   },
   {
    "duration": 4,
    "start_time": "2025-03-01T03:42:16.911Z"
   },
   {
    "duration": 72,
    "start_time": "2025-03-01T03:42:16.917Z"
   },
   {
    "duration": 316,
    "start_time": "2025-03-01T03:42:16.991Z"
   },
   {
    "duration": 0,
    "start_time": "2025-03-01T03:42:17.310Z"
   },
   {
    "duration": 0,
    "start_time": "2025-03-01T03:42:17.312Z"
   },
   {
    "duration": 0,
    "start_time": "2025-03-01T03:42:17.313Z"
   },
   {
    "duration": 0,
    "start_time": "2025-03-01T03:42:17.314Z"
   },
   {
    "duration": 0,
    "start_time": "2025-03-01T03:42:17.316Z"
   },
   {
    "duration": 0,
    "start_time": "2025-03-01T03:42:17.317Z"
   },
   {
    "duration": 0,
    "start_time": "2025-03-01T03:42:17.319Z"
   },
   {
    "duration": 0,
    "start_time": "2025-03-01T03:42:17.320Z"
   },
   {
    "duration": 0,
    "start_time": "2025-03-01T03:42:17.322Z"
   },
   {
    "duration": 0,
    "start_time": "2025-03-01T03:42:17.323Z"
   },
   {
    "duration": 0,
    "start_time": "2025-03-01T03:42:17.325Z"
   },
   {
    "duration": 0,
    "start_time": "2025-03-01T03:42:17.326Z"
   },
   {
    "duration": 0,
    "start_time": "2025-03-01T03:42:17.328Z"
   },
   {
    "duration": 0,
    "start_time": "2025-03-01T03:42:17.329Z"
   },
   {
    "duration": 958,
    "start_time": "2025-03-01T03:51:21.735Z"
   },
   {
    "duration": 2616,
    "start_time": "2025-03-01T03:51:22.695Z"
   },
   {
    "duration": 5,
    "start_time": "2025-03-01T03:51:25.312Z"
   },
   {
    "duration": 4,
    "start_time": "2025-03-01T03:51:25.320Z"
   },
   {
    "duration": 5,
    "start_time": "2025-03-01T03:51:25.325Z"
   },
   {
    "duration": 74,
    "start_time": "2025-03-01T03:51:25.331Z"
   },
   {
    "duration": 186,
    "start_time": "2025-03-01T03:51:25.407Z"
   },
   {
    "duration": 117,
    "start_time": "2025-03-01T03:51:25.599Z"
   },
   {
    "duration": 73,
    "start_time": "2025-03-01T03:51:25.722Z"
   },
   {
    "duration": 6,
    "start_time": "2025-03-01T03:51:25.801Z"
   },
   {
    "duration": 3,
    "start_time": "2025-03-01T03:51:25.811Z"
   },
   {
    "duration": 4,
    "start_time": "2025-03-01T03:51:25.816Z"
   },
   {
    "duration": 67,
    "start_time": "2025-03-01T03:51:25.821Z"
   },
   {
    "duration": 21,
    "start_time": "2025-03-01T03:51:25.890Z"
   },
   {
    "duration": 4,
    "start_time": "2025-03-01T03:51:25.913Z"
   },
   {
    "duration": 7,
    "start_time": "2025-03-01T03:51:25.918Z"
   },
   {
    "duration": 8,
    "start_time": "2025-03-01T03:51:25.928Z"
   },
   {
    "duration": 8,
    "start_time": "2025-03-01T03:51:25.938Z"
   },
   {
    "duration": 6,
    "start_time": "2025-03-01T03:51:25.947Z"
   },
   {
    "duration": 39,
    "start_time": "2025-03-01T03:51:25.955Z"
   },
   {
    "duration": 9,
    "start_time": "2025-03-01T03:51:25.995Z"
   },
   {
    "duration": 318,
    "start_time": "2025-03-01T03:51:26.006Z"
   },
   {
    "duration": 0,
    "start_time": "2025-03-01T03:51:26.326Z"
   },
   {
    "duration": 0,
    "start_time": "2025-03-01T03:51:26.327Z"
   },
   {
    "duration": 0,
    "start_time": "2025-03-01T03:51:26.328Z"
   },
   {
    "duration": 0,
    "start_time": "2025-03-01T03:51:26.329Z"
   },
   {
    "duration": 0,
    "start_time": "2025-03-01T03:51:26.330Z"
   },
   {
    "duration": 1011,
    "start_time": "2025-03-01T04:27:14.807Z"
   },
   {
    "duration": 2695,
    "start_time": "2025-03-01T04:27:15.820Z"
   },
   {
    "duration": 3,
    "start_time": "2025-03-01T04:27:18.517Z"
   },
   {
    "duration": 5,
    "start_time": "2025-03-01T04:27:18.522Z"
   },
   {
    "duration": 5,
    "start_time": "2025-03-01T04:27:18.528Z"
   },
   {
    "duration": 77,
    "start_time": "2025-03-01T04:27:18.535Z"
   },
   {
    "duration": 188,
    "start_time": "2025-03-01T04:27:18.614Z"
   },
   {
    "duration": 197,
    "start_time": "2025-03-01T04:27:18.804Z"
   },
   {
    "duration": 94,
    "start_time": "2025-03-01T04:27:19.003Z"
   },
   {
    "duration": 5,
    "start_time": "2025-03-01T04:27:19.100Z"
   },
   {
    "duration": 4,
    "start_time": "2025-03-01T04:27:19.106Z"
   },
   {
    "duration": 4,
    "start_time": "2025-03-01T04:27:19.112Z"
   },
   {
    "duration": 3,
    "start_time": "2025-03-01T04:27:19.118Z"
   },
   {
    "duration": 19,
    "start_time": "2025-03-01T04:27:19.123Z"
   },
   {
    "duration": 5,
    "start_time": "2025-03-01T04:27:19.187Z"
   },
   {
    "duration": 8,
    "start_time": "2025-03-01T04:27:19.194Z"
   },
   {
    "duration": 9,
    "start_time": "2025-03-01T04:27:19.205Z"
   },
   {
    "duration": 9,
    "start_time": "2025-03-01T04:27:19.216Z"
   },
   {
    "duration": 7,
    "start_time": "2025-03-01T04:27:19.226Z"
   },
   {
    "duration": 8,
    "start_time": "2025-03-01T04:27:19.236Z"
   },
   {
    "duration": 41,
    "start_time": "2025-03-01T04:27:19.246Z"
   },
   {
    "duration": 4,
    "start_time": "2025-03-01T04:27:19.288Z"
   },
   {
    "duration": 3,
    "start_time": "2025-03-01T04:27:19.294Z"
   },
   {
    "duration": 5,
    "start_time": "2025-03-01T04:27:19.299Z"
   },
   {
    "duration": 1644,
    "start_time": "2025-03-01T04:27:19.306Z"
   },
   {
    "duration": 285,
    "start_time": "2025-03-01T04:27:20.952Z"
   },
   {
    "duration": 0,
    "start_time": "2025-03-01T04:27:21.239Z"
   },
   {
    "duration": 908,
    "start_time": "2025-03-01T04:53:03.265Z"
   },
   {
    "duration": 3042,
    "start_time": "2025-03-01T04:53:04.176Z"
   },
   {
    "duration": 5,
    "start_time": "2025-03-01T04:53:07.219Z"
   },
   {
    "duration": 5,
    "start_time": "2025-03-01T04:53:07.227Z"
   },
   {
    "duration": 5,
    "start_time": "2025-03-01T04:53:07.233Z"
   },
   {
    "duration": 147,
    "start_time": "2025-03-01T04:53:07.240Z"
   },
   {
    "duration": 116,
    "start_time": "2025-03-01T04:53:07.389Z"
   },
   {
    "duration": 194,
    "start_time": "2025-03-01T04:53:07.507Z"
   },
   {
    "duration": 94,
    "start_time": "2025-03-01T04:53:07.703Z"
   },
   {
    "duration": 3,
    "start_time": "2025-03-01T04:53:07.802Z"
   },
   {
    "duration": 3,
    "start_time": "2025-03-01T04:53:07.808Z"
   },
   {
    "duration": 5,
    "start_time": "2025-03-01T04:53:07.813Z"
   },
   {
    "duration": 3,
    "start_time": "2025-03-01T04:53:07.820Z"
   },
   {
    "duration": 85,
    "start_time": "2025-03-01T04:53:07.825Z"
   },
   {
    "duration": 4,
    "start_time": "2025-03-01T04:53:07.912Z"
   },
   {
    "duration": 10,
    "start_time": "2025-03-01T04:53:07.918Z"
   },
   {
    "duration": 9,
    "start_time": "2025-03-01T04:53:07.930Z"
   },
   {
    "duration": 9,
    "start_time": "2025-03-01T04:53:07.941Z"
   },
   {
    "duration": 39,
    "start_time": "2025-03-01T04:53:07.952Z"
   },
   {
    "duration": 8,
    "start_time": "2025-03-01T04:53:07.994Z"
   },
   {
    "duration": 12,
    "start_time": "2025-03-01T04:53:08.004Z"
   },
   {
    "duration": 5,
    "start_time": "2025-03-01T04:53:08.019Z"
   },
   {
    "duration": 8,
    "start_time": "2025-03-01T04:53:08.027Z"
   },
   {
    "duration": 7,
    "start_time": "2025-03-01T04:53:08.037Z"
   },
   {
    "duration": 9,
    "start_time": "2025-03-01T04:53:08.046Z"
   },
   {
    "duration": 1587,
    "start_time": "2025-03-01T04:53:08.057Z"
   },
   {
    "duration": 1575,
    "start_time": "2025-03-01T04:53:09.646Z"
   },
   {
    "duration": 895,
    "start_time": "2025-03-01T05:15:21.219Z"
   },
   {
    "duration": 2831,
    "start_time": "2025-03-01T05:15:22.117Z"
   },
   {
    "duration": 4,
    "start_time": "2025-03-01T05:15:24.949Z"
   },
   {
    "duration": 5,
    "start_time": "2025-03-01T05:15:24.955Z"
   },
   {
    "duration": 5,
    "start_time": "2025-03-01T05:15:24.961Z"
   },
   {
    "duration": 59,
    "start_time": "2025-03-01T05:15:24.967Z"
   },
   {
    "duration": 182,
    "start_time": "2025-03-01T05:15:25.027Z"
   },
   {
    "duration": 189,
    "start_time": "2025-03-01T05:15:25.213Z"
   },
   {
    "duration": 89,
    "start_time": "2025-03-01T05:15:25.404Z"
   },
   {
    "duration": 4,
    "start_time": "2025-03-01T05:15:25.497Z"
   },
   {
    "duration": 5,
    "start_time": "2025-03-01T05:15:25.502Z"
   },
   {
    "duration": 4,
    "start_time": "2025-03-01T05:15:25.509Z"
   },
   {
    "duration": 2,
    "start_time": "2025-03-01T05:15:25.515Z"
   },
   {
    "duration": 76,
    "start_time": "2025-03-01T05:15:25.519Z"
   },
   {
    "duration": 3,
    "start_time": "2025-03-01T05:15:25.597Z"
   },
   {
    "duration": 7,
    "start_time": "2025-03-01T05:15:25.601Z"
   },
   {
    "duration": 8,
    "start_time": "2025-03-01T05:15:25.609Z"
   },
   {
    "duration": 7,
    "start_time": "2025-03-01T05:15:25.619Z"
   },
   {
    "duration": 6,
    "start_time": "2025-03-01T05:15:25.628Z"
   },
   {
    "duration": 7,
    "start_time": "2025-03-01T05:15:25.636Z"
   },
   {
    "duration": 42,
    "start_time": "2025-03-01T05:15:25.644Z"
   },
   {
    "duration": 3,
    "start_time": "2025-03-01T05:15:25.688Z"
   },
   {
    "duration": 3,
    "start_time": "2025-03-01T05:15:25.693Z"
   },
   {
    "duration": 6,
    "start_time": "2025-03-01T05:15:25.698Z"
   },
   {
    "duration": 1551,
    "start_time": "2025-03-01T05:15:25.705Z"
   },
   {
    "duration": 2771,
    "start_time": "2025-03-01T15:18:20.373Z"
   },
   {
    "duration": 3066,
    "start_time": "2025-03-01T15:18:23.147Z"
   },
   {
    "duration": 958,
    "start_time": "2025-03-01T15:18:36.394Z"
   },
   {
    "duration": 2719,
    "start_time": "2025-03-01T15:18:37.354Z"
   },
   {
    "duration": 3,
    "start_time": "2025-03-01T15:18:40.075Z"
   },
   {
    "duration": 8,
    "start_time": "2025-03-01T15:18:40.080Z"
   },
   {
    "duration": 5,
    "start_time": "2025-03-01T15:18:40.089Z"
   },
   {
    "duration": 91,
    "start_time": "2025-03-01T15:18:40.096Z"
   },
   {
    "duration": 123,
    "start_time": "2025-03-01T15:18:40.189Z"
   },
   {
    "duration": 189,
    "start_time": "2025-03-01T15:18:40.314Z"
   },
   {
    "duration": 93,
    "start_time": "2025-03-01T15:18:40.505Z"
   },
   {
    "duration": 3,
    "start_time": "2025-03-01T15:18:40.600Z"
   },
   {
    "duration": 4,
    "start_time": "2025-03-01T15:18:40.605Z"
   },
   {
    "duration": 4,
    "start_time": "2025-03-01T15:18:40.611Z"
   },
   {
    "duration": 3,
    "start_time": "2025-03-01T15:18:40.617Z"
   },
   {
    "duration": 78,
    "start_time": "2025-03-01T15:18:40.624Z"
   },
   {
    "duration": 3,
    "start_time": "2025-03-01T15:18:40.704Z"
   },
   {
    "duration": 7,
    "start_time": "2025-03-01T15:18:40.709Z"
   },
   {
    "duration": 8,
    "start_time": "2025-03-01T15:18:40.717Z"
   },
   {
    "duration": 7,
    "start_time": "2025-03-01T15:18:40.726Z"
   },
   {
    "duration": 6,
    "start_time": "2025-03-01T15:18:40.736Z"
   },
   {
    "duration": 6,
    "start_time": "2025-03-01T15:18:40.744Z"
   },
   {
    "duration": 41,
    "start_time": "2025-03-01T15:18:40.752Z"
   },
   {
    "duration": 3,
    "start_time": "2025-03-01T15:18:40.794Z"
   },
   {
    "duration": 4,
    "start_time": "2025-03-01T15:18:40.798Z"
   },
   {
    "duration": 5,
    "start_time": "2025-03-01T15:18:40.803Z"
   },
   {
    "duration": 1640,
    "start_time": "2025-03-01T15:18:40.810Z"
   },
   {
    "duration": 5,
    "start_time": "2025-03-01T15:38:54.625Z"
   },
   {
    "duration": 14,
    "start_time": "2025-03-01T16:06:37.702Z"
   },
   {
    "duration": 896,
    "start_time": "2025-03-02T07:26:22.034Z"
   },
   {
    "duration": 2702,
    "start_time": "2025-03-02T07:26:22.933Z"
   },
   {
    "duration": 3,
    "start_time": "2025-03-02T07:26:25.637Z"
   },
   {
    "duration": 4,
    "start_time": "2025-03-02T07:26:25.642Z"
   },
   {
    "duration": 5,
    "start_time": "2025-03-02T07:26:25.647Z"
   },
   {
    "duration": 72,
    "start_time": "2025-03-02T07:26:25.653Z"
   },
   {
    "duration": 186,
    "start_time": "2025-03-02T07:26:25.727Z"
   },
   {
    "duration": 122,
    "start_time": "2025-03-02T07:26:25.915Z"
   },
   {
    "duration": 78,
    "start_time": "2025-03-02T07:26:26.039Z"
   },
   {
    "duration": 5,
    "start_time": "2025-03-02T07:26:26.123Z"
   },
   {
    "duration": 3,
    "start_time": "2025-03-02T07:26:26.132Z"
   },
   {
    "duration": 75,
    "start_time": "2025-03-02T07:26:26.137Z"
   },
   {
    "duration": 3,
    "start_time": "2025-03-02T07:26:26.214Z"
   },
   {
    "duration": 18,
    "start_time": "2025-03-02T07:26:26.219Z"
   },
   {
    "duration": 4,
    "start_time": "2025-03-02T07:26:26.238Z"
   },
   {
    "duration": 18,
    "start_time": "2025-03-02T07:26:26.244Z"
   },
   {
    "duration": 7,
    "start_time": "2025-03-02T07:26:26.263Z"
   },
   {
    "duration": 8,
    "start_time": "2025-03-02T07:26:26.271Z"
   },
   {
    "duration": 31,
    "start_time": "2025-03-02T07:26:26.281Z"
   },
   {
    "duration": 7,
    "start_time": "2025-03-02T07:26:26.313Z"
   },
   {
    "duration": 7,
    "start_time": "2025-03-02T07:26:26.322Z"
   },
   {
    "duration": 4,
    "start_time": "2025-03-02T07:26:26.330Z"
   },
   {
    "duration": 3,
    "start_time": "2025-03-02T07:26:26.336Z"
   },
   {
    "duration": 5,
    "start_time": "2025-03-02T07:26:26.341Z"
   },
   {
    "duration": 1509,
    "start_time": "2025-03-02T07:26:26.347Z"
   },
   {
    "duration": 3,
    "start_time": "2025-03-02T07:29:10.611Z"
   },
   {
    "duration": 887,
    "start_time": "2025-03-02T07:29:18.445Z"
   },
   {
    "duration": 3047,
    "start_time": "2025-03-02T07:29:19.334Z"
   },
   {
    "duration": 3,
    "start_time": "2025-03-02T07:29:22.383Z"
   },
   {
    "duration": 4,
    "start_time": "2025-03-02T07:29:22.388Z"
   },
   {
    "duration": 21,
    "start_time": "2025-03-02T07:29:22.393Z"
   },
   {
    "duration": 97,
    "start_time": "2025-03-02T07:29:22.415Z"
   },
   {
    "duration": 119,
    "start_time": "2025-03-02T07:29:22.514Z"
   },
   {
    "duration": 191,
    "start_time": "2025-03-02T07:29:22.635Z"
   },
   {
    "duration": 87,
    "start_time": "2025-03-02T07:29:22.828Z"
   },
   {
    "duration": 3,
    "start_time": "2025-03-02T07:29:22.921Z"
   },
   {
    "duration": 4,
    "start_time": "2025-03-02T07:29:22.926Z"
   },
   {
    "duration": 5,
    "start_time": "2025-03-02T07:29:22.931Z"
   },
   {
    "duration": 3,
    "start_time": "2025-03-02T07:29:22.938Z"
   },
   {
    "duration": 76,
    "start_time": "2025-03-02T07:29:22.943Z"
   },
   {
    "duration": 3,
    "start_time": "2025-03-02T07:29:23.021Z"
   },
   {
    "duration": 7,
    "start_time": "2025-03-02T07:29:23.026Z"
   },
   {
    "duration": 7,
    "start_time": "2025-03-02T07:29:23.035Z"
   },
   {
    "duration": 7,
    "start_time": "2025-03-02T07:29:23.043Z"
   },
   {
    "duration": 5,
    "start_time": "2025-03-02T07:29:23.052Z"
   },
   {
    "duration": 8,
    "start_time": "2025-03-02T07:29:23.058Z"
   },
   {
    "duration": 7,
    "start_time": "2025-03-02T07:29:23.067Z"
   },
   {
    "duration": 36,
    "start_time": "2025-03-02T07:29:23.076Z"
   },
   {
    "duration": 4,
    "start_time": "2025-03-02T07:29:23.114Z"
   },
   {
    "duration": 3,
    "start_time": "2025-03-02T07:29:23.119Z"
   },
   {
    "duration": 0,
    "start_time": "2025-03-02T07:29:23.124Z"
   },
   {
    "duration": 0,
    "start_time": "2025-03-02T07:29:23.125Z"
   },
   {
    "duration": 873,
    "start_time": "2025-03-02T07:40:46.809Z"
   },
   {
    "duration": 2964,
    "start_time": "2025-03-02T07:40:47.685Z"
   },
   {
    "duration": 3,
    "start_time": "2025-03-02T07:40:50.651Z"
   },
   {
    "duration": 4,
    "start_time": "2025-03-02T07:40:50.656Z"
   },
   {
    "duration": 4,
    "start_time": "2025-03-02T07:40:50.664Z"
   },
   {
    "duration": 60,
    "start_time": "2025-03-02T07:40:50.669Z"
   },
   {
    "duration": 191,
    "start_time": "2025-03-02T07:40:50.731Z"
   },
   {
    "duration": 188,
    "start_time": "2025-03-02T07:40:50.924Z"
   },
   {
    "duration": 16,
    "start_time": "2025-03-02T07:40:51.114Z"
   },
   {
    "duration": 83,
    "start_time": "2025-03-02T07:40:51.132Z"
   },
   {
    "duration": 4,
    "start_time": "2025-03-02T07:40:51.217Z"
   },
   {
    "duration": 4,
    "start_time": "2025-03-02T07:40:51.223Z"
   },
   {
    "duration": 3,
    "start_time": "2025-03-02T07:40:51.228Z"
   },
   {
    "duration": 18,
    "start_time": "2025-03-02T07:40:51.235Z"
   },
   {
    "duration": 3,
    "start_time": "2025-03-02T07:40:51.254Z"
   },
   {
    "duration": 7,
    "start_time": "2025-03-02T07:40:51.259Z"
   },
   {
    "duration": 7,
    "start_time": "2025-03-02T07:40:51.267Z"
   },
   {
    "duration": 8,
    "start_time": "2025-03-02T07:40:51.311Z"
   },
   {
    "duration": 7,
    "start_time": "2025-03-02T07:40:51.321Z"
   },
   {
    "duration": 7,
    "start_time": "2025-03-02T07:40:51.329Z"
   },
   {
    "duration": 8,
    "start_time": "2025-03-02T07:40:51.338Z"
   },
   {
    "duration": 3,
    "start_time": "2025-03-02T07:40:51.348Z"
   },
   {
    "duration": 4,
    "start_time": "2025-03-02T07:40:51.352Z"
   },
   {
    "duration": 5,
    "start_time": "2025-03-02T07:40:51.358Z"
   },
   {
    "duration": 1533,
    "start_time": "2025-03-02T07:40:51.365Z"
   },
   {
    "duration": 875,
    "start_time": "2025-03-02T07:53:43.463Z"
   },
   {
    "duration": 3054,
    "start_time": "2025-03-02T07:53:44.341Z"
   },
   {
    "duration": 3,
    "start_time": "2025-03-02T07:53:47.396Z"
   },
   {
    "duration": 4,
    "start_time": "2025-03-02T07:53:47.401Z"
   },
   {
    "duration": 4,
    "start_time": "2025-03-02T07:53:47.413Z"
   },
   {
    "duration": 96,
    "start_time": "2025-03-02T07:53:47.419Z"
   },
   {
    "duration": 127,
    "start_time": "2025-03-02T07:53:47.517Z"
   },
   {
    "duration": 190,
    "start_time": "2025-03-02T07:53:47.646Z"
   },
   {
    "duration": 85,
    "start_time": "2025-03-02T07:53:47.838Z"
   },
   {
    "duration": 4,
    "start_time": "2025-03-02T07:53:47.925Z"
   },
   {
    "duration": 3,
    "start_time": "2025-03-02T07:53:47.931Z"
   },
   {
    "duration": 76,
    "start_time": "2025-03-02T07:53:47.936Z"
   },
   {
    "duration": 4,
    "start_time": "2025-03-02T07:53:48.014Z"
   },
   {
    "duration": 19,
    "start_time": "2025-03-02T07:53:48.023Z"
   },
   {
    "duration": 3,
    "start_time": "2025-03-02T07:53:48.044Z"
   },
   {
    "duration": 7,
    "start_time": "2025-03-02T07:53:48.049Z"
   },
   {
    "duration": 8,
    "start_time": "2025-03-02T07:53:48.058Z"
   },
   {
    "duration": 7,
    "start_time": "2025-03-02T07:53:48.067Z"
   },
   {
    "duration": 38,
    "start_time": "2025-03-02T07:53:48.076Z"
   },
   {
    "duration": 7,
    "start_time": "2025-03-02T07:53:48.116Z"
   },
   {
    "duration": 7,
    "start_time": "2025-03-02T07:53:48.124Z"
   },
   {
    "duration": 3,
    "start_time": "2025-03-02T07:53:48.133Z"
   },
   {
    "duration": 3,
    "start_time": "2025-03-02T07:53:48.139Z"
   },
   {
    "duration": 5,
    "start_time": "2025-03-02T07:53:48.143Z"
   },
   {
    "duration": 1525,
    "start_time": "2025-03-02T07:53:48.149Z"
   },
   {
    "duration": 872,
    "start_time": "2025-03-02T07:57:10.863Z"
   },
   {
    "duration": 2688,
    "start_time": "2025-03-02T07:57:11.737Z"
   },
   {
    "duration": 4,
    "start_time": "2025-03-02T07:57:14.426Z"
   },
   {
    "duration": 4,
    "start_time": "2025-03-02T07:57:14.432Z"
   },
   {
    "duration": 5,
    "start_time": "2025-03-02T07:57:14.438Z"
   },
   {
    "duration": 76,
    "start_time": "2025-03-02T07:57:14.444Z"
   },
   {
    "duration": 191,
    "start_time": "2025-03-02T07:57:14.521Z"
   },
   {
    "duration": 135,
    "start_time": "2025-03-02T07:57:14.714Z"
   },
   {
    "duration": 18,
    "start_time": "2025-03-02T07:57:14.916Z"
   },
   {
    "duration": 4,
    "start_time": "2025-03-02T07:57:15.012Z"
   },
   {
    "duration": 7,
    "start_time": "2025-03-02T07:57:15.019Z"
   },
   {
    "duration": 5,
    "start_time": "2025-03-02T07:57:15.027Z"
   },
   {
    "duration": 3,
    "start_time": "2025-03-02T07:57:15.033Z"
   },
   {
    "duration": 18,
    "start_time": "2025-03-02T07:57:15.038Z"
   },
   {
    "duration": 3,
    "start_time": "2025-03-02T07:57:15.058Z"
   },
   {
    "duration": 6,
    "start_time": "2025-03-02T07:57:15.063Z"
   },
   {
    "duration": 41,
    "start_time": "2025-03-02T07:57:15.071Z"
   },
   {
    "duration": 8,
    "start_time": "2025-03-02T07:57:15.113Z"
   },
   {
    "duration": 7,
    "start_time": "2025-03-02T07:57:15.122Z"
   },
   {
    "duration": 7,
    "start_time": "2025-03-02T07:57:15.131Z"
   },
   {
    "duration": 7,
    "start_time": "2025-03-02T07:57:15.140Z"
   },
   {
    "duration": 4,
    "start_time": "2025-03-02T07:57:15.148Z"
   },
   {
    "duration": 4,
    "start_time": "2025-03-02T07:57:15.153Z"
   },
   {
    "duration": 5,
    "start_time": "2025-03-02T07:57:15.158Z"
   },
   {
    "duration": 1512,
    "start_time": "2025-03-02T07:57:15.166Z"
   },
   {
    "duration": 977,
    "start_time": "2025-03-03T03:48:55.966Z"
   },
   {
    "duration": 2958,
    "start_time": "2025-03-03T03:48:56.945Z"
   },
   {
    "duration": 3,
    "start_time": "2025-03-03T03:48:59.905Z"
   },
   {
    "duration": 4,
    "start_time": "2025-03-03T03:48:59.910Z"
   },
   {
    "duration": 5,
    "start_time": "2025-03-03T03:48:59.916Z"
   },
   {
    "duration": 97,
    "start_time": "2025-03-03T03:48:59.923Z"
   },
   {
    "duration": 190,
    "start_time": "2025-03-03T03:49:00.022Z"
   },
   {
    "duration": 192,
    "start_time": "2025-03-03T03:49:00.214Z"
   },
   {
    "duration": 17,
    "start_time": "2025-03-03T03:49:00.408Z"
   },
   {
    "duration": 79,
    "start_time": "2025-03-03T03:49:00.428Z"
   },
   {
    "duration": 5,
    "start_time": "2025-03-03T03:49:00.508Z"
   },
   {
    "duration": 4,
    "start_time": "2025-03-03T03:49:00.515Z"
   },
   {
    "duration": 3,
    "start_time": "2025-03-03T03:49:00.520Z"
   },
   {
    "duration": 17,
    "start_time": "2025-03-03T03:49:00.525Z"
   },
   {
    "duration": 4,
    "start_time": "2025-03-03T03:49:05.973Z"
   },
   {
    "duration": 8,
    "start_time": "2025-03-03T03:49:11.279Z"
   },
   {
    "duration": 5,
    "start_time": "2025-03-03T03:49:22.452Z"
   },
   {
    "duration": 5,
    "start_time": "2025-03-03T03:49:44.178Z"
   },
   {
    "duration": 366,
    "start_time": "2025-03-03T03:50:09.414Z"
   },
   {
    "duration": 18,
    "start_time": "2025-03-03T03:50:15.596Z"
   },
   {
    "duration": 4,
    "start_time": "2025-03-03T03:52:33.772Z"
   },
   {
    "duration": 5,
    "start_time": "2025-03-03T03:52:36.135Z"
   },
   {
    "duration": 24,
    "start_time": "2025-03-03T03:52:38.189Z"
   },
   {
    "duration": 4,
    "start_time": "2025-03-03T03:52:59.949Z"
   },
   {
    "duration": 2705,
    "start_time": "2025-03-03T03:52:59.955Z"
   },
   {
    "duration": 3,
    "start_time": "2025-03-03T03:53:02.662Z"
   },
   {
    "duration": 4,
    "start_time": "2025-03-03T03:53:02.666Z"
   },
   {
    "duration": 4,
    "start_time": "2025-03-03T03:53:02.673Z"
   },
   {
    "duration": 63,
    "start_time": "2025-03-03T03:53:02.679Z"
   },
   {
    "duration": 186,
    "start_time": "2025-03-03T03:53:02.744Z"
   },
   {
    "duration": 183,
    "start_time": "2025-03-03T03:53:02.932Z"
   },
   {
    "duration": 91,
    "start_time": "2025-03-03T03:53:03.116Z"
   },
   {
    "duration": 4,
    "start_time": "2025-03-03T03:53:03.208Z"
   },
   {
    "duration": 9,
    "start_time": "2025-03-03T03:53:03.215Z"
   },
   {
    "duration": 5,
    "start_time": "2025-03-03T03:53:03.226Z"
   },
   {
    "duration": 3,
    "start_time": "2025-03-03T03:53:03.233Z"
   },
   {
    "duration": 23,
    "start_time": "2025-03-03T03:53:03.237Z"
   },
   {
    "duration": 3,
    "start_time": "2025-03-03T03:53:03.261Z"
   },
   {
    "duration": 64,
    "start_time": "2025-03-03T03:53:03.266Z"
   },
   {
    "duration": 9,
    "start_time": "2025-03-03T03:53:03.331Z"
   },
   {
    "duration": 7,
    "start_time": "2025-03-03T03:53:03.342Z"
   },
   {
    "duration": 6,
    "start_time": "2025-03-03T03:53:03.350Z"
   },
   {
    "duration": 7,
    "start_time": "2025-03-03T03:53:03.358Z"
   },
   {
    "duration": 7,
    "start_time": "2025-03-03T03:53:03.367Z"
   },
   {
    "duration": 4,
    "start_time": "2025-03-03T03:53:03.375Z"
   },
   {
    "duration": 4,
    "start_time": "2025-03-03T03:53:03.380Z"
   },
   {
    "duration": 4,
    "start_time": "2025-03-03T03:53:03.385Z"
   },
   {
    "duration": 18,
    "start_time": "2025-03-03T03:53:03.390Z"
   },
   {
    "duration": 1461,
    "start_time": "2025-03-03T03:53:03.410Z"
   },
   {
    "duration": 111,
    "start_time": "2025-03-03T03:54:51.129Z"
   },
   {
    "duration": 24,
    "start_time": "2025-03-03T03:55:17.082Z"
   },
   {
    "duration": 9,
    "start_time": "2025-03-03T03:55:22.723Z"
   },
   {
    "duration": 1065,
    "start_time": "2025-03-03T03:55:31.920Z"
   },
   {
    "duration": 107,
    "start_time": "2025-03-03T03:55:46.743Z"
   },
   {
    "duration": 323,
    "start_time": "2025-03-03T03:56:03.402Z"
   },
   {
    "duration": 9,
    "start_time": "2025-03-03T03:56:22.983Z"
   },
   {
    "duration": 4,
    "start_time": "2025-03-03T03:56:27.205Z"
   },
   {
    "duration": 16,
    "start_time": "2025-03-03T03:57:58.209Z"
   },
   {
    "duration": 441,
    "start_time": "2025-03-03T03:58:07.110Z"
   },
   {
    "duration": 5,
    "start_time": "2025-03-03T03:58:13.493Z"
   },
   {
    "duration": 1540,
    "start_time": "2025-03-03T03:58:15.980Z"
   },
   {
    "duration": 8,
    "start_time": "2025-03-03T03:58:28.903Z"
   },
   {
    "duration": 14,
    "start_time": "2025-03-03T03:58:37.580Z"
   },
   {
    "duration": 4,
    "start_time": "2025-03-03T03:59:17.294Z"
   },
   {
    "duration": 4,
    "start_time": "2025-03-03T04:00:05.057Z"
   },
   {
    "duration": 11,
    "start_time": "2025-03-03T04:00:05.272Z"
   },
   {
    "duration": 4,
    "start_time": "2025-03-03T04:00:32.136Z"
   },
   {
    "duration": 456,
    "start_time": "2025-03-03T04:00:32.336Z"
   },
   {
    "duration": 5,
    "start_time": "2025-03-03T04:00:32.815Z"
   },
   {
    "duration": 16,
    "start_time": "2025-03-03T04:00:46.356Z"
   },
   {
    "duration": 8,
    "start_time": "2025-03-03T04:00:46.530Z"
   },
   {
    "duration": 5,
    "start_time": "2025-03-03T04:00:46.702Z"
   },
   {
    "duration": 3,
    "start_time": "2025-03-03T04:00:48.277Z"
   },
   {
    "duration": 442,
    "start_time": "2025-03-03T04:00:48.469Z"
   },
   {
    "duration": 5,
    "start_time": "2025-03-03T04:00:48.913Z"
   },
   {
    "duration": 15,
    "start_time": "2025-03-03T04:00:58.528Z"
   },
   {
    "duration": 8,
    "start_time": "2025-03-03T04:00:58.721Z"
   },
   {
    "duration": 5,
    "start_time": "2025-03-03T04:00:58.883Z"
   },
   {
    "duration": 3,
    "start_time": "2025-03-03T04:00:59.679Z"
   },
   {
    "duration": 447,
    "start_time": "2025-03-03T04:00:59.882Z"
   },
   {
    "duration": 5,
    "start_time": "2025-03-03T04:01:00.331Z"
   },
   {
    "duration": 442,
    "start_time": "2025-03-03T04:02:24.229Z"
   },
   {
    "duration": 5,
    "start_time": "2025-03-03T04:02:25.785Z"
   },
   {
    "duration": 23,
    "start_time": "2025-03-03T04:02:41.566Z"
   },
   {
    "duration": 7,
    "start_time": "2025-03-03T04:02:41.717Z"
   },
   {
    "duration": 7,
    "start_time": "2025-03-03T04:02:41.852Z"
   },
   {
    "duration": 5,
    "start_time": "2025-03-03T04:02:42.182Z"
   },
   {
    "duration": 452,
    "start_time": "2025-03-03T04:02:42.519Z"
   },
   {
    "duration": 4,
    "start_time": "2025-03-03T04:02:42.974Z"
   },
   {
    "duration": 15,
    "start_time": "2025-03-03T04:02:50.927Z"
   },
   {
    "duration": 8,
    "start_time": "2025-03-03T04:02:51.073Z"
   },
   {
    "duration": 6,
    "start_time": "2025-03-03T04:02:51.254Z"
   },
   {
    "duration": 4,
    "start_time": "2025-03-03T04:02:51.412Z"
   },
   {
    "duration": 451,
    "start_time": "2025-03-03T04:02:51.629Z"
   },
   {
    "duration": 4,
    "start_time": "2025-03-03T04:02:52.082Z"
   },
   {
    "duration": 9,
    "start_time": "2025-03-03T17:52:21.164Z"
   },
   {
    "duration": 4405,
    "start_time": "2025-03-03T17:53:04.026Z"
   },
   {
    "duration": 3215,
    "start_time": "2025-03-03T17:53:08.436Z"
   },
   {
    "duration": 5,
    "start_time": "2025-03-03T17:53:11.654Z"
   },
   {
    "duration": 5,
    "start_time": "2025-03-03T17:53:11.663Z"
   },
   {
    "duration": 6,
    "start_time": "2025-03-03T17:53:11.670Z"
   },
   {
    "duration": 269,
    "start_time": "2025-03-03T17:53:11.679Z"
   },
   {
    "duration": 250,
    "start_time": "2025-03-03T17:53:11.955Z"
   },
   {
    "duration": 245,
    "start_time": "2025-03-03T17:53:12.214Z"
   },
   {
    "duration": 24,
    "start_time": "2025-03-03T17:53:12.468Z"
   },
   {
    "duration": 7,
    "start_time": "2025-03-03T17:53:12.500Z"
   },
   {
    "duration": 4,
    "start_time": "2025-03-03T17:53:12.513Z"
   },
   {
    "duration": 7,
    "start_time": "2025-03-03T17:53:12.522Z"
   },
   {
    "duration": 6,
    "start_time": "2025-03-03T17:53:12.534Z"
   },
   {
    "duration": 26,
    "start_time": "2025-03-03T17:53:12.544Z"
   },
   {
    "duration": 332,
    "start_time": "2025-03-03T17:53:12.575Z"
   },
   {
    "duration": 0,
    "start_time": "2025-03-03T17:53:12.910Z"
   },
   {
    "duration": 0,
    "start_time": "2025-03-03T17:53:12.911Z"
   },
   {
    "duration": 0,
    "start_time": "2025-03-03T17:53:12.912Z"
   },
   {
    "duration": 0,
    "start_time": "2025-03-03T17:53:12.914Z"
   },
   {
    "duration": 0,
    "start_time": "2025-03-03T17:53:12.915Z"
   },
   {
    "duration": 0,
    "start_time": "2025-03-03T17:53:12.916Z"
   },
   {
    "duration": 0,
    "start_time": "2025-03-03T17:53:12.917Z"
   },
   {
    "duration": 0,
    "start_time": "2025-03-03T17:53:12.919Z"
   },
   {
    "duration": 0,
    "start_time": "2025-03-03T17:53:12.920Z"
   },
   {
    "duration": 0,
    "start_time": "2025-03-03T17:53:12.921Z"
   },
   {
    "duration": 0,
    "start_time": "2025-03-03T17:53:12.923Z"
   },
   {
    "duration": 9,
    "start_time": "2025-03-03T17:53:57.714Z"
   },
   {
    "duration": 6,
    "start_time": "2025-03-03T17:56:11.986Z"
   },
   {
    "duration": 27,
    "start_time": "2025-03-03T17:56:52.432Z"
   },
   {
    "duration": 5,
    "start_time": "2025-03-03T17:57:05.837Z"
   },
   {
    "duration": 977,
    "start_time": "2025-03-03T18:00:07.377Z"
   },
   {
    "duration": 3058,
    "start_time": "2025-03-03T18:00:08.356Z"
   },
   {
    "duration": 4,
    "start_time": "2025-03-03T18:00:11.417Z"
   },
   {
    "duration": 6,
    "start_time": "2025-03-03T18:00:11.425Z"
   },
   {
    "duration": 6,
    "start_time": "2025-03-03T18:00:11.433Z"
   },
   {
    "duration": 193,
    "start_time": "2025-03-03T18:00:11.441Z"
   },
   {
    "duration": 269,
    "start_time": "2025-03-03T18:00:11.637Z"
   },
   {
    "duration": 212,
    "start_time": "2025-03-03T18:00:11.909Z"
   },
   {
    "duration": 89,
    "start_time": "2025-03-03T18:00:12.123Z"
   },
   {
    "duration": 4,
    "start_time": "2025-03-03T18:00:12.216Z"
   },
   {
    "duration": 4,
    "start_time": "2025-03-03T18:00:12.223Z"
   },
   {
    "duration": 5,
    "start_time": "2025-03-03T18:00:12.229Z"
   },
   {
    "duration": 5,
    "start_time": "2025-03-03T18:00:12.235Z"
   },
   {
    "duration": 26,
    "start_time": "2025-03-03T18:00:12.241Z"
   },
   {
    "duration": 6,
    "start_time": "2025-03-03T18:00:12.269Z"
   },
   {
    "duration": 347,
    "start_time": "2025-03-03T18:00:12.306Z"
   },
   {
    "duration": 0,
    "start_time": "2025-03-03T18:00:12.655Z"
   },
   {
    "duration": 0,
    "start_time": "2025-03-03T18:00:12.656Z"
   },
   {
    "duration": 0,
    "start_time": "2025-03-03T18:00:12.658Z"
   },
   {
    "duration": 0,
    "start_time": "2025-03-03T18:00:12.659Z"
   },
   {
    "duration": 0,
    "start_time": "2025-03-03T18:00:12.660Z"
   },
   {
    "duration": 0,
    "start_time": "2025-03-03T18:00:12.661Z"
   },
   {
    "duration": 0,
    "start_time": "2025-03-03T18:00:12.662Z"
   },
   {
    "duration": 0,
    "start_time": "2025-03-03T18:00:12.663Z"
   },
   {
    "duration": 0,
    "start_time": "2025-03-03T18:00:12.664Z"
   },
   {
    "duration": 0,
    "start_time": "2025-03-03T18:00:12.665Z"
   },
   {
    "duration": 0,
    "start_time": "2025-03-03T18:00:12.666Z"
   },
   {
    "duration": 0,
    "start_time": "2025-03-03T18:00:12.667Z"
   },
   {
    "duration": 977,
    "start_time": "2025-03-03T18:01:16.430Z"
   },
   {
    "duration": 2932,
    "start_time": "2025-03-03T18:01:17.409Z"
   },
   {
    "duration": 3,
    "start_time": "2025-03-03T18:01:20.343Z"
   },
   {
    "duration": 4,
    "start_time": "2025-03-03T18:01:20.348Z"
   },
   {
    "duration": 5,
    "start_time": "2025-03-03T18:01:20.355Z"
   },
   {
    "duration": 80,
    "start_time": "2025-03-03T18:01:20.361Z"
   },
   {
    "duration": 262,
    "start_time": "2025-03-03T18:01:20.443Z"
   },
   {
    "duration": 219,
    "start_time": "2025-03-03T18:01:20.710Z"
   },
   {
    "duration": 91,
    "start_time": "2025-03-03T18:01:20.932Z"
   },
   {
    "duration": 4,
    "start_time": "2025-03-03T18:01:21.028Z"
   },
   {
    "duration": 4,
    "start_time": "2025-03-03T18:01:21.034Z"
   },
   {
    "duration": 4,
    "start_time": "2025-03-03T18:01:21.040Z"
   },
   {
    "duration": 3,
    "start_time": "2025-03-03T18:01:21.046Z"
   },
   {
    "duration": 66,
    "start_time": "2025-03-03T18:01:21.052Z"
   },
   {
    "duration": 6,
    "start_time": "2025-03-03T18:01:21.120Z"
   },
   {
    "duration": 151,
    "start_time": "2025-03-03T18:01:21.128Z"
   },
   {
    "duration": 232,
    "start_time": "2025-03-03T18:01:21.281Z"
   },
   {
    "duration": 0,
    "start_time": "2025-03-03T18:01:21.516Z"
   },
   {
    "duration": 0,
    "start_time": "2025-03-03T18:01:21.517Z"
   },
   {
    "duration": 0,
    "start_time": "2025-03-03T18:01:21.518Z"
   },
   {
    "duration": 0,
    "start_time": "2025-03-03T18:01:21.520Z"
   },
   {
    "duration": 0,
    "start_time": "2025-03-03T18:01:21.521Z"
   },
   {
    "duration": 0,
    "start_time": "2025-03-03T18:01:21.523Z"
   },
   {
    "duration": 0,
    "start_time": "2025-03-03T18:01:21.524Z"
   },
   {
    "duration": 0,
    "start_time": "2025-03-03T18:01:21.526Z"
   },
   {
    "duration": 0,
    "start_time": "2025-03-03T18:01:21.527Z"
   },
   {
    "duration": 0,
    "start_time": "2025-03-03T18:01:21.528Z"
   },
   {
    "duration": 0,
    "start_time": "2025-03-03T18:01:21.530Z"
   },
   {
    "duration": 5,
    "start_time": "2025-03-03T18:02:09.649Z"
   },
   {
    "duration": 7,
    "start_time": "2025-03-03T18:02:37.446Z"
   },
   {
    "duration": 944,
    "start_time": "2025-03-03T18:03:20.808Z"
   },
   {
    "duration": 3033,
    "start_time": "2025-03-03T18:03:21.754Z"
   },
   {
    "duration": 4,
    "start_time": "2025-03-03T18:03:24.789Z"
   },
   {
    "duration": 12,
    "start_time": "2025-03-03T18:03:24.794Z"
   },
   {
    "duration": 5,
    "start_time": "2025-03-03T18:03:24.809Z"
   },
   {
    "duration": 96,
    "start_time": "2025-03-03T18:03:24.816Z"
   },
   {
    "duration": 122,
    "start_time": "2025-03-03T18:03:24.914Z"
   },
   {
    "duration": 117,
    "start_time": "2025-03-03T18:03:25.105Z"
   },
   {
    "duration": 89,
    "start_time": "2025-03-03T18:03:25.224Z"
   },
   {
    "duration": 4,
    "start_time": "2025-03-03T18:03:25.315Z"
   },
   {
    "duration": 4,
    "start_time": "2025-03-03T18:03:25.321Z"
   },
   {
    "duration": 4,
    "start_time": "2025-03-03T18:03:25.328Z"
   },
   {
    "duration": 4,
    "start_time": "2025-03-03T18:03:25.334Z"
   },
   {
    "duration": 76,
    "start_time": "2025-03-03T18:03:25.342Z"
   },
   {
    "duration": 4,
    "start_time": "2025-03-03T18:03:25.420Z"
   },
   {
    "duration": 5,
    "start_time": "2025-03-03T18:03:25.426Z"
   },
   {
    "duration": 133,
    "start_time": "2025-03-03T18:03:25.433Z"
   },
   {
    "duration": 7,
    "start_time": "2025-03-03T18:03:25.568Z"
   },
   {
    "duration": 234,
    "start_time": "2025-03-03T18:03:25.577Z"
   },
   {
    "duration": 0,
    "start_time": "2025-03-03T18:03:25.813Z"
   },
   {
    "duration": 0,
    "start_time": "2025-03-03T18:03:25.815Z"
   },
   {
    "duration": 0,
    "start_time": "2025-03-03T18:03:25.816Z"
   },
   {
    "duration": 0,
    "start_time": "2025-03-03T18:03:25.817Z"
   },
   {
    "duration": 0,
    "start_time": "2025-03-03T18:03:25.819Z"
   },
   {
    "duration": 0,
    "start_time": "2025-03-03T18:03:25.821Z"
   },
   {
    "duration": 0,
    "start_time": "2025-03-03T18:03:25.822Z"
   },
   {
    "duration": 0,
    "start_time": "2025-03-03T18:03:25.823Z"
   },
   {
    "duration": 0,
    "start_time": "2025-03-03T18:03:25.824Z"
   },
   {
    "duration": 0,
    "start_time": "2025-03-03T18:03:25.825Z"
   },
   {
    "duration": 0,
    "start_time": "2025-03-03T18:03:25.826Z"
   },
   {
    "duration": 46,
    "start_time": "2025-03-03T18:05:21.855Z"
   },
   {
    "duration": 7,
    "start_time": "2025-03-03T18:05:22.307Z"
   },
   {
    "duration": 5,
    "start_time": "2025-03-03T18:06:08.261Z"
   },
   {
    "duration": 899,
    "start_time": "2025-03-03T18:10:16.547Z"
   },
   {
    "duration": 3117,
    "start_time": "2025-03-03T18:10:17.448Z"
   },
   {
    "duration": 3,
    "start_time": "2025-03-03T18:10:20.567Z"
   },
   {
    "duration": 3,
    "start_time": "2025-03-03T18:10:20.572Z"
   },
   {
    "duration": 5,
    "start_time": "2025-03-03T18:10:20.578Z"
   },
   {
    "duration": 59,
    "start_time": "2025-03-03T18:10:20.584Z"
   },
   {
    "duration": 128,
    "start_time": "2025-03-03T18:10:20.706Z"
   },
   {
    "duration": 130,
    "start_time": "2025-03-03T18:10:20.905Z"
   },
   {
    "duration": 19,
    "start_time": "2025-03-03T18:10:21.107Z"
   },
   {
    "duration": 77,
    "start_time": "2025-03-03T18:10:21.130Z"
   },
   {
    "duration": 4,
    "start_time": "2025-03-03T18:10:21.209Z"
   },
   {
    "duration": 4,
    "start_time": "2025-03-03T18:10:21.216Z"
   },
   {
    "duration": 3,
    "start_time": "2025-03-03T18:10:21.222Z"
   },
   {
    "duration": 142,
    "start_time": "2025-03-03T18:10:21.229Z"
   },
   {
    "duration": 5,
    "start_time": "2025-03-03T18:10:21.373Z"
   },
   {
    "duration": 7,
    "start_time": "2025-03-03T18:10:21.380Z"
   },
   {
    "duration": 61,
    "start_time": "2025-03-03T18:10:21.389Z"
   },
   {
    "duration": 7,
    "start_time": "2025-03-03T18:10:21.452Z"
   },
   {
    "duration": 235,
    "start_time": "2025-03-03T18:10:21.461Z"
   },
   {
    "duration": 0,
    "start_time": "2025-03-03T18:10:21.698Z"
   },
   {
    "duration": 0,
    "start_time": "2025-03-03T18:10:21.707Z"
   },
   {
    "duration": 0,
    "start_time": "2025-03-03T18:10:21.708Z"
   },
   {
    "duration": 0,
    "start_time": "2025-03-03T18:10:21.709Z"
   },
   {
    "duration": 0,
    "start_time": "2025-03-03T18:10:21.710Z"
   },
   {
    "duration": 0,
    "start_time": "2025-03-03T18:10:21.711Z"
   },
   {
    "duration": 0,
    "start_time": "2025-03-03T18:10:21.713Z"
   },
   {
    "duration": 0,
    "start_time": "2025-03-03T18:10:21.714Z"
   },
   {
    "duration": 0,
    "start_time": "2025-03-03T18:10:21.715Z"
   },
   {
    "duration": 0,
    "start_time": "2025-03-03T18:10:21.716Z"
   },
   {
    "duration": 0,
    "start_time": "2025-03-03T18:10:21.719Z"
   },
   {
    "duration": 915,
    "start_time": "2025-03-03T18:42:57.542Z"
   },
   {
    "duration": 2981,
    "start_time": "2025-03-03T18:42:58.459Z"
   },
   {
    "duration": 4,
    "start_time": "2025-03-03T18:43:01.442Z"
   },
   {
    "duration": 4,
    "start_time": "2025-03-03T18:43:01.447Z"
   },
   {
    "duration": 4,
    "start_time": "2025-03-03T18:43:01.454Z"
   },
   {
    "duration": 66,
    "start_time": "2025-03-03T18:43:01.460Z"
   },
   {
    "duration": 109,
    "start_time": "2025-03-03T18:43:01.606Z"
   },
   {
    "duration": 189,
    "start_time": "2025-03-03T18:43:01.716Z"
   },
   {
    "duration": 95,
    "start_time": "2025-03-03T18:43:01.911Z"
   },
   {
    "duration": 5,
    "start_time": "2025-03-03T18:43:02.007Z"
   },
   {
    "duration": 3,
    "start_time": "2025-03-03T18:43:02.014Z"
   },
   {
    "duration": 5,
    "start_time": "2025-03-03T18:43:02.019Z"
   },
   {
    "duration": 3,
    "start_time": "2025-03-03T18:43:02.026Z"
   },
   {
    "duration": 150,
    "start_time": "2025-03-03T18:43:02.032Z"
   },
   {
    "duration": 7,
    "start_time": "2025-03-03T18:43:02.183Z"
   },
   {
    "duration": 14,
    "start_time": "2025-03-03T18:43:02.192Z"
   },
   {
    "duration": 53,
    "start_time": "2025-03-03T18:43:02.208Z"
   },
   {
    "duration": 7,
    "start_time": "2025-03-03T18:43:02.263Z"
   },
   {
    "duration": 3,
    "start_time": "2025-03-03T18:43:02.272Z"
   },
   {
    "duration": 67,
    "start_time": "2025-03-03T18:43:02.276Z"
   },
   {
    "duration": 10,
    "start_time": "2025-03-03T18:43:02.344Z"
   },
   {
    "duration": 316,
    "start_time": "2025-03-03T18:43:02.356Z"
   },
   {
    "duration": 0,
    "start_time": "2025-03-03T18:43:02.675Z"
   },
   {
    "duration": 0,
    "start_time": "2025-03-03T18:43:02.677Z"
   },
   {
    "duration": 0,
    "start_time": "2025-03-03T18:43:02.678Z"
   },
   {
    "duration": 0,
    "start_time": "2025-03-03T18:43:02.680Z"
   },
   {
    "duration": 0,
    "start_time": "2025-03-03T18:43:02.680Z"
   },
   {
    "duration": 0,
    "start_time": "2025-03-03T18:43:02.682Z"
   },
   {
    "duration": 0,
    "start_time": "2025-03-03T18:43:02.683Z"
   },
   {
    "duration": 0,
    "start_time": "2025-03-03T18:43:02.685Z"
   },
   {
    "duration": 0,
    "start_time": "2025-03-03T18:43:02.706Z"
   },
   {
    "duration": 0,
    "start_time": "2025-03-03T18:43:02.707Z"
   },
   {
    "duration": 0,
    "start_time": "2025-03-03T18:43:02.709Z"
   },
   {
    "duration": 3,
    "start_time": "2025-03-03T18:44:34.508Z"
   },
   {
    "duration": 59,
    "start_time": "2025-03-03T18:44:34.950Z"
   },
   {
    "duration": 9,
    "start_time": "2025-03-03T18:44:35.492Z"
   },
   {
    "duration": 3,
    "start_time": "2025-03-03T18:44:55.579Z"
   },
   {
    "duration": 47,
    "start_time": "2025-03-03T18:44:55.989Z"
   },
   {
    "duration": 8,
    "start_time": "2025-03-03T18:44:56.598Z"
   },
   {
    "duration": 4,
    "start_time": "2025-03-03T18:45:04.304Z"
   },
   {
    "duration": 5,
    "start_time": "2025-03-03T18:47:10.287Z"
   },
   {
    "duration": 896,
    "start_time": "2025-03-03T18:48:19.657Z"
   },
   {
    "duration": 10530,
    "start_time": "2025-03-03T18:48:20.555Z"
   },
   {
    "duration": 3,
    "start_time": "2025-03-03T18:48:31.087Z"
   },
   {
    "duration": 14,
    "start_time": "2025-03-03T18:48:31.092Z"
   },
   {
    "duration": 5,
    "start_time": "2025-03-03T18:48:31.109Z"
   },
   {
    "duration": 96,
    "start_time": "2025-03-03T18:48:31.116Z"
   },
   {
    "duration": 191,
    "start_time": "2025-03-03T18:48:31.214Z"
   },
   {
    "duration": 198,
    "start_time": "2025-03-03T18:48:31.410Z"
   },
   {
    "duration": 92,
    "start_time": "2025-03-03T18:48:31.614Z"
   },
   {
    "duration": 4,
    "start_time": "2025-03-03T18:48:31.708Z"
   },
   {
    "duration": 4,
    "start_time": "2025-03-03T18:48:31.714Z"
   },
   {
    "duration": 5,
    "start_time": "2025-03-03T18:48:31.719Z"
   },
   {
    "duration": 4,
    "start_time": "2025-03-03T18:48:31.727Z"
   },
   {
    "duration": 140,
    "start_time": "2025-03-03T18:48:31.735Z"
   },
   {
    "duration": 5,
    "start_time": "2025-03-03T18:48:31.877Z"
   },
   {
    "duration": 4,
    "start_time": "2025-03-03T18:48:31.884Z"
   },
   {
    "duration": 64,
    "start_time": "2025-03-03T18:48:31.889Z"
   },
   {
    "duration": 9,
    "start_time": "2025-03-03T18:48:31.955Z"
   },
   {
    "duration": 4,
    "start_time": "2025-03-03T18:48:31.966Z"
   },
   {
    "duration": 57,
    "start_time": "2025-03-03T18:48:31.971Z"
   },
   {
    "duration": 4,
    "start_time": "2025-03-03T18:48:32.029Z"
   },
   {
    "duration": 292,
    "start_time": "2025-03-03T18:48:32.035Z"
   },
   {
    "duration": 0,
    "start_time": "2025-03-03T18:48:32.329Z"
   },
   {
    "duration": 0,
    "start_time": "2025-03-03T18:48:32.331Z"
   },
   {
    "duration": 0,
    "start_time": "2025-03-03T18:48:32.332Z"
   },
   {
    "duration": 0,
    "start_time": "2025-03-03T18:48:32.334Z"
   },
   {
    "duration": 0,
    "start_time": "2025-03-03T18:48:32.335Z"
   },
   {
    "duration": 0,
    "start_time": "2025-03-03T18:48:32.336Z"
   },
   {
    "duration": 0,
    "start_time": "2025-03-03T18:48:32.338Z"
   },
   {
    "duration": 0,
    "start_time": "2025-03-03T18:48:32.338Z"
   },
   {
    "duration": 0,
    "start_time": "2025-03-03T18:48:32.340Z"
   },
   {
    "duration": 0,
    "start_time": "2025-03-03T18:48:32.340Z"
   },
   {
    "duration": 0,
    "start_time": "2025-03-03T18:48:32.342Z"
   },
   {
    "duration": 955,
    "start_time": "2025-03-03T18:51:11.008Z"
   },
   {
    "duration": 2804,
    "start_time": "2025-03-03T18:51:11.965Z"
   },
   {
    "duration": 3,
    "start_time": "2025-03-03T18:51:14.771Z"
   },
   {
    "duration": 4,
    "start_time": "2025-03-03T18:51:14.777Z"
   },
   {
    "duration": 4,
    "start_time": "2025-03-03T18:51:14.784Z"
   },
   {
    "duration": 117,
    "start_time": "2025-03-03T18:51:14.790Z"
   },
   {
    "duration": 127,
    "start_time": "2025-03-03T18:51:14.909Z"
   },
   {
    "duration": 267,
    "start_time": "2025-03-03T18:51:15.037Z"
   },
   {
    "duration": 18,
    "start_time": "2025-03-03T18:51:15.309Z"
   },
   {
    "duration": 4,
    "start_time": "2025-03-03T18:51:15.328Z"
   },
   {
    "duration": 4,
    "start_time": "2025-03-03T18:51:15.334Z"
   },
   {
    "duration": 70,
    "start_time": "2025-03-03T18:51:15.339Z"
   },
   {
    "duration": 4,
    "start_time": "2025-03-03T18:51:15.410Z"
   },
   {
    "duration": 126,
    "start_time": "2025-03-03T18:51:15.418Z"
   },
   {
    "duration": 5,
    "start_time": "2025-03-03T18:51:15.546Z"
   },
   {
    "duration": 4,
    "start_time": "2025-03-03T18:51:15.553Z"
   },
   {
    "duration": 82,
    "start_time": "2025-03-03T18:51:15.559Z"
   },
   {
    "duration": 8,
    "start_time": "2025-03-03T18:51:15.643Z"
   },
   {
    "duration": 3,
    "start_time": "2025-03-03T18:51:15.652Z"
   },
   {
    "duration": 52,
    "start_time": "2025-03-03T18:51:15.657Z"
   },
   {
    "duration": 5,
    "start_time": "2025-03-03T18:51:15.711Z"
   },
   {
    "duration": 297,
    "start_time": "2025-03-03T18:51:15.717Z"
   },
   {
    "duration": 0,
    "start_time": "2025-03-03T18:51:16.016Z"
   },
   {
    "duration": 0,
    "start_time": "2025-03-03T18:51:16.017Z"
   },
   {
    "duration": 0,
    "start_time": "2025-03-03T18:51:16.018Z"
   },
   {
    "duration": 0,
    "start_time": "2025-03-03T18:51:16.019Z"
   },
   {
    "duration": 0,
    "start_time": "2025-03-03T18:51:16.020Z"
   },
   {
    "duration": 0,
    "start_time": "2025-03-03T18:51:16.021Z"
   },
   {
    "duration": 0,
    "start_time": "2025-03-03T18:51:16.022Z"
   },
   {
    "duration": 0,
    "start_time": "2025-03-03T18:51:16.023Z"
   },
   {
    "duration": 0,
    "start_time": "2025-03-03T18:51:16.024Z"
   },
   {
    "duration": 0,
    "start_time": "2025-03-03T18:51:16.025Z"
   },
   {
    "duration": 0,
    "start_time": "2025-03-03T18:51:16.026Z"
   },
   {
    "duration": 871,
    "start_time": "2025-03-03T19:02:12.395Z"
   },
   {
    "duration": 2964,
    "start_time": "2025-03-03T19:02:13.268Z"
   },
   {
    "duration": 5,
    "start_time": "2025-03-03T19:02:16.234Z"
   },
   {
    "duration": 3,
    "start_time": "2025-03-03T19:02:16.241Z"
   },
   {
    "duration": 3,
    "start_time": "2025-03-03T19:02:16.247Z"
   },
   {
    "duration": 72,
    "start_time": "2025-03-03T19:02:16.252Z"
   },
   {
    "duration": 195,
    "start_time": "2025-03-03T19:02:16.326Z"
   },
   {
    "duration": 189,
    "start_time": "2025-03-03T19:02:16.523Z"
   },
   {
    "duration": 92,
    "start_time": "2025-03-03T19:02:16.714Z"
   },
   {
    "duration": 3,
    "start_time": "2025-03-03T19:02:16.810Z"
   },
   {
    "duration": 4,
    "start_time": "2025-03-03T19:02:16.816Z"
   },
   {
    "duration": 5,
    "start_time": "2025-03-03T19:02:16.821Z"
   },
   {
    "duration": 4,
    "start_time": "2025-03-03T19:02:16.827Z"
   },
   {
    "duration": 20,
    "start_time": "2025-03-03T19:02:16.832Z"
   },
   {
    "duration": 137,
    "start_time": "2025-03-03T19:02:16.854Z"
   },
   {
    "duration": 15,
    "start_time": "2025-03-03T19:02:16.992Z"
   },
   {
    "duration": 231,
    "start_time": "2025-03-03T19:02:17.008Z"
   },
   {
    "duration": 0,
    "start_time": "2025-03-03T19:02:17.241Z"
   },
   {
    "duration": 0,
    "start_time": "2025-03-03T19:02:17.242Z"
   },
   {
    "duration": 0,
    "start_time": "2025-03-03T19:02:17.243Z"
   },
   {
    "duration": 0,
    "start_time": "2025-03-03T19:02:17.244Z"
   },
   {
    "duration": 0,
    "start_time": "2025-03-03T19:02:17.245Z"
   },
   {
    "duration": 0,
    "start_time": "2025-03-03T19:02:17.246Z"
   },
   {
    "duration": 0,
    "start_time": "2025-03-03T19:02:17.247Z"
   },
   {
    "duration": 0,
    "start_time": "2025-03-03T19:02:17.248Z"
   },
   {
    "duration": 0,
    "start_time": "2025-03-03T19:02:17.249Z"
   },
   {
    "duration": 0,
    "start_time": "2025-03-03T19:02:17.250Z"
   },
   {
    "duration": 0,
    "start_time": "2025-03-03T19:02:17.251Z"
   },
   {
    "duration": 14,
    "start_time": "2025-03-03T19:02:54.500Z"
   },
   {
    "duration": 5,
    "start_time": "2025-03-03T19:03:09.418Z"
   },
   {
    "duration": 4,
    "start_time": "2025-03-03T19:03:14.289Z"
   },
   {
    "duration": 934,
    "start_time": "2025-03-04T01:51:56.314Z"
   },
   {
    "duration": 2522,
    "start_time": "2025-03-04T01:51:57.250Z"
   },
   {
    "duration": 5,
    "start_time": "2025-03-04T01:51:59.774Z"
   },
   {
    "duration": 4,
    "start_time": "2025-03-04T01:51:59.781Z"
   },
   {
    "duration": 5,
    "start_time": "2025-03-04T01:51:59.787Z"
   },
   {
    "duration": 112,
    "start_time": "2025-03-04T01:51:59.793Z"
   },
   {
    "duration": 123,
    "start_time": "2025-03-04T01:51:59.907Z"
   },
   {
    "duration": 120,
    "start_time": "2025-03-04T01:52:00.105Z"
   },
   {
    "duration": 92,
    "start_time": "2025-03-04T01:52:00.227Z"
   },
   {
    "duration": 4,
    "start_time": "2025-03-04T01:52:00.321Z"
   },
   {
    "duration": 3,
    "start_time": "2025-03-04T01:52:00.328Z"
   },
   {
    "duration": 5,
    "start_time": "2025-03-04T01:52:00.332Z"
   },
   {
    "duration": 3,
    "start_time": "2025-03-04T01:52:00.339Z"
   },
   {
    "duration": 20,
    "start_time": "2025-03-04T01:52:00.406Z"
   },
   {
    "duration": 4,
    "start_time": "2025-03-04T01:52:00.428Z"
   },
   {
    "duration": 7,
    "start_time": "2025-03-04T01:52:00.433Z"
   },
   {
    "duration": 7,
    "start_time": "2025-03-04T01:52:00.442Z"
   },
   {
    "duration": 8,
    "start_time": "2025-03-04T01:52:00.451Z"
   },
   {
    "duration": 8,
    "start_time": "2025-03-04T01:52:00.461Z"
   },
   {
    "duration": 36,
    "start_time": "2025-03-04T01:52:00.471Z"
   },
   {
    "duration": 9,
    "start_time": "2025-03-04T01:52:00.509Z"
   },
   {
    "duration": 4,
    "start_time": "2025-03-04T01:52:00.519Z"
   },
   {
    "duration": 4,
    "start_time": "2025-03-04T01:52:00.524Z"
   },
   {
    "duration": 6,
    "start_time": "2025-03-04T01:52:00.529Z"
   },
   {
    "duration": 141,
    "start_time": "2025-03-04T01:52:00.536Z"
   },
   {
    "duration": 1502,
    "start_time": "2025-03-04T01:52:00.679Z"
   },
   {
    "duration": 903,
    "start_time": "2025-03-04T04:12:23.363Z"
   },
   {
    "duration": 2581,
    "start_time": "2025-03-04T04:12:24.268Z"
   },
   {
    "duration": 33,
    "start_time": "2025-03-04T04:12:26.850Z"
   },
   {
    "duration": 36,
    "start_time": "2025-03-04T04:12:26.885Z"
   },
   {
    "duration": 3,
    "start_time": "2025-03-04T04:12:26.923Z"
   },
   {
    "duration": 5,
    "start_time": "2025-03-04T04:12:26.928Z"
   },
   {
    "duration": 6,
    "start_time": "2025-03-04T04:12:26.934Z"
   },
   {
    "duration": 73,
    "start_time": "2025-03-04T04:12:26.941Z"
   },
   {
    "duration": 189,
    "start_time": "2025-03-04T04:12:27.016Z"
   },
   {
    "duration": 123,
    "start_time": "2025-03-04T04:12:27.209Z"
   },
   {
    "duration": 90,
    "start_time": "2025-03-04T04:12:27.334Z"
   },
   {
    "duration": 4,
    "start_time": "2025-03-04T04:12:27.427Z"
   },
   {
    "duration": 4,
    "start_time": "2025-03-04T04:12:27.433Z"
   },
   {
    "duration": 69,
    "start_time": "2025-03-04T04:12:27.438Z"
   },
   {
    "duration": 5,
    "start_time": "2025-03-04T04:12:27.508Z"
   },
   {
    "duration": 1311,
    "start_time": "2025-03-04T04:12:27.515Z"
   },
   {
    "duration": 0,
    "start_time": "2025-03-04T04:12:28.828Z"
   },
   {
    "duration": 0,
    "start_time": "2025-03-04T04:12:28.829Z"
   },
   {
    "duration": 0,
    "start_time": "2025-03-04T04:12:28.830Z"
   },
   {
    "duration": 0,
    "start_time": "2025-03-04T04:12:28.830Z"
   },
   {
    "duration": 0,
    "start_time": "2025-03-04T04:12:28.831Z"
   },
   {
    "duration": 0,
    "start_time": "2025-03-04T04:12:28.832Z"
   },
   {
    "duration": 1,
    "start_time": "2025-03-04T04:12:28.833Z"
   },
   {
    "duration": 0,
    "start_time": "2025-03-04T04:12:28.835Z"
   },
   {
    "duration": 0,
    "start_time": "2025-03-04T04:12:28.836Z"
   },
   {
    "duration": 0,
    "start_time": "2025-03-04T04:12:28.837Z"
   },
   {
    "duration": 0,
    "start_time": "2025-03-04T04:12:28.838Z"
   },
   {
    "duration": 0,
    "start_time": "2025-03-04T04:12:28.839Z"
   },
   {
    "duration": 101,
    "start_time": "2025-03-04T04:13:49.219Z"
   },
   {
    "duration": 896,
    "start_time": "2025-03-04T04:16:11.071Z"
   },
   {
    "duration": 2962,
    "start_time": "2025-03-04T04:16:11.969Z"
   },
   {
    "duration": 36,
    "start_time": "2025-03-04T04:16:14.932Z"
   },
   {
    "duration": 39,
    "start_time": "2025-03-04T04:16:14.971Z"
   },
   {
    "duration": 3,
    "start_time": "2025-03-04T04:16:15.012Z"
   },
   {
    "duration": 4,
    "start_time": "2025-03-04T04:16:15.018Z"
   },
   {
    "duration": 5,
    "start_time": "2025-03-04T04:16:15.024Z"
   },
   {
    "duration": 89,
    "start_time": "2025-03-04T04:16:15.030Z"
   },
   {
    "duration": 194,
    "start_time": "2025-03-04T04:16:15.121Z"
   },
   {
    "duration": 192,
    "start_time": "2025-03-04T04:16:15.319Z"
   },
   {
    "duration": 92,
    "start_time": "2025-03-04T04:16:15.513Z"
   },
   {
    "duration": 4,
    "start_time": "2025-03-04T04:16:15.607Z"
   },
   {
    "duration": 4,
    "start_time": "2025-03-04T04:16:15.613Z"
   },
   {
    "duration": 5,
    "start_time": "2025-03-04T04:16:15.619Z"
   },
   {
    "duration": 3,
    "start_time": "2025-03-04T04:16:15.625Z"
   },
   {
    "duration": 25,
    "start_time": "2025-03-04T04:16:15.630Z"
   },
   {
    "duration": 3,
    "start_time": "2025-03-04T04:16:15.657Z"
   },
   {
    "duration": 320,
    "start_time": "2025-03-04T04:16:15.662Z"
   },
   {
    "duration": 1,
    "start_time": "2025-03-04T04:16:15.984Z"
   },
   {
    "duration": 0,
    "start_time": "2025-03-04T04:16:15.985Z"
   },
   {
    "duration": 0,
    "start_time": "2025-03-04T04:16:15.986Z"
   },
   {
    "duration": 0,
    "start_time": "2025-03-04T04:16:15.987Z"
   },
   {
    "duration": 0,
    "start_time": "2025-03-04T04:16:15.989Z"
   },
   {
    "duration": 0,
    "start_time": "2025-03-04T04:16:15.990Z"
   },
   {
    "duration": 0,
    "start_time": "2025-03-04T04:16:15.991Z"
   },
   {
    "duration": 0,
    "start_time": "2025-03-04T04:16:15.992Z"
   },
   {
    "duration": 0,
    "start_time": "2025-03-04T04:16:16.006Z"
   },
   {
    "duration": 0,
    "start_time": "2025-03-04T04:16:16.007Z"
   },
   {
    "duration": 903,
    "start_time": "2025-03-04T04:17:44.556Z"
   },
   {
    "duration": 2959,
    "start_time": "2025-03-04T04:17:45.461Z"
   },
   {
    "duration": 34,
    "start_time": "2025-03-04T04:17:48.422Z"
   },
   {
    "duration": 23,
    "start_time": "2025-03-04T04:17:48.457Z"
   },
   {
    "duration": 4,
    "start_time": "2025-03-04T04:17:48.482Z"
   },
   {
    "duration": 22,
    "start_time": "2025-03-04T04:17:48.487Z"
   },
   {
    "duration": 5,
    "start_time": "2025-03-04T04:17:48.511Z"
   },
   {
    "duration": 95,
    "start_time": "2025-03-04T04:17:48.517Z"
   },
   {
    "duration": 192,
    "start_time": "2025-03-04T04:17:48.614Z"
   },
   {
    "duration": 198,
    "start_time": "2025-03-04T04:17:48.808Z"
   },
   {
    "duration": 18,
    "start_time": "2025-03-04T04:17:49.007Z"
   },
   {
    "duration": 79,
    "start_time": "2025-03-04T04:17:49.027Z"
   },
   {
    "duration": 3,
    "start_time": "2025-03-04T04:17:49.108Z"
   },
   {
    "duration": 4,
    "start_time": "2025-03-04T04:17:49.114Z"
   },
   {
    "duration": 4,
    "start_time": "2025-03-04T04:17:49.120Z"
   },
   {
    "duration": 34,
    "start_time": "2025-03-04T04:17:49.126Z"
   },
   {
    "duration": 4,
    "start_time": "2025-03-04T04:17:49.161Z"
   },
   {
    "duration": 39,
    "start_time": "2025-03-04T04:17:49.166Z"
   },
   {
    "duration": 8,
    "start_time": "2025-03-04T04:17:49.207Z"
   },
   {
    "duration": 8,
    "start_time": "2025-03-04T04:17:49.217Z"
   },
   {
    "duration": 7,
    "start_time": "2025-03-04T04:17:49.228Z"
   },
   {
    "duration": 9,
    "start_time": "2025-03-04T04:17:49.236Z"
   },
   {
    "duration": 8,
    "start_time": "2025-03-04T04:17:49.246Z"
   },
   {
    "duration": 93,
    "start_time": "2025-03-04T04:17:49.255Z"
   },
   {
    "duration": 4,
    "start_time": "2025-03-04T04:17:49.349Z"
   },
   {
    "duration": 1487,
    "start_time": "2025-03-04T04:17:49.355Z"
   },
   {
    "duration": 6,
    "start_time": "2025-03-04T04:17:50.844Z"
   },
   {
    "duration": 1021,
    "start_time": "2025-03-04T04:17:50.852Z"
   },
   {
    "duration": 879,
    "start_time": "2025-03-04T05:28:49.171Z"
   },
   {
    "duration": 2638,
    "start_time": "2025-03-04T05:28:50.053Z"
   },
   {
    "duration": 40,
    "start_time": "2025-03-04T05:28:52.693Z"
   },
   {
    "duration": 23,
    "start_time": "2025-03-04T05:28:52.735Z"
   },
   {
    "duration": 3,
    "start_time": "2025-03-04T05:28:52.761Z"
   },
   {
    "duration": 4,
    "start_time": "2025-03-04T05:28:52.766Z"
   },
   {
    "duration": 4,
    "start_time": "2025-03-04T05:28:52.772Z"
   },
   {
    "duration": 129,
    "start_time": "2025-03-04T05:28:52.778Z"
   },
   {
    "duration": 132,
    "start_time": "2025-03-04T05:28:52.909Z"
   },
   {
    "duration": 120,
    "start_time": "2025-03-04T05:28:53.107Z"
   },
   {
    "duration": 84,
    "start_time": "2025-03-04T05:28:53.229Z"
   },
   {
    "duration": 4,
    "start_time": "2025-03-04T05:28:53.315Z"
   },
   {
    "duration": 3,
    "start_time": "2025-03-04T05:28:53.321Z"
   },
   {
    "duration": 4,
    "start_time": "2025-03-04T05:28:53.328Z"
   },
   {
    "duration": 73,
    "start_time": "2025-03-04T05:28:53.333Z"
   },
   {
    "duration": 31,
    "start_time": "2025-03-04T05:28:53.408Z"
   },
   {
    "duration": 4,
    "start_time": "2025-03-04T05:28:53.441Z"
   },
   {
    "duration": 7,
    "start_time": "2025-03-04T05:28:53.447Z"
   },
   {
    "duration": 7,
    "start_time": "2025-03-04T05:28:53.456Z"
   },
   {
    "duration": 9,
    "start_time": "2025-03-04T05:28:53.465Z"
   },
   {
    "duration": 34,
    "start_time": "2025-03-04T05:28:53.475Z"
   },
   {
    "duration": 10,
    "start_time": "2025-03-04T05:28:53.511Z"
   },
   {
    "duration": 10,
    "start_time": "2025-03-04T05:28:53.523Z"
   },
   {
    "duration": 74,
    "start_time": "2025-03-04T05:28:53.535Z"
   },
   {
    "duration": 4,
    "start_time": "2025-03-04T05:28:53.610Z"
   },
   {
    "duration": 1490,
    "start_time": "2025-03-04T05:28:53.615Z"
   },
   {
    "duration": 5,
    "start_time": "2025-03-04T05:28:55.107Z"
   },
   {
    "duration": 976,
    "start_time": "2025-03-04T05:28:55.113Z"
   },
   {
    "duration": 27,
    "start_time": "2025-03-04T05:31:55.389Z"
   },
   {
    "duration": 947,
    "start_time": "2025-03-04T05:33:58.932Z"
   },
   {
    "duration": 2731,
    "start_time": "2025-03-04T05:33:59.881Z"
   },
   {
    "duration": 49,
    "start_time": "2025-03-04T05:34:02.614Z"
   },
   {
    "duration": 40,
    "start_time": "2025-03-04T05:34:02.665Z"
   },
   {
    "duration": 4,
    "start_time": "2025-03-04T05:34:02.708Z"
   },
   {
    "duration": 7,
    "start_time": "2025-03-04T05:34:02.714Z"
   },
   {
    "duration": 4,
    "start_time": "2025-03-04T05:34:02.723Z"
   },
   {
    "duration": 88,
    "start_time": "2025-03-04T05:34:02.729Z"
   },
   {
    "duration": 189,
    "start_time": "2025-03-04T05:34:02.819Z"
   },
   {
    "duration": 194,
    "start_time": "2025-03-04T05:34:03.014Z"
   },
   {
    "duration": 18,
    "start_time": "2025-03-04T05:34:03.210Z"
   },
   {
    "duration": 5,
    "start_time": "2025-03-04T05:34:03.306Z"
   },
   {
    "duration": 4,
    "start_time": "2025-03-04T05:34:03.313Z"
   },
   {
    "duration": 5,
    "start_time": "2025-03-04T05:34:03.320Z"
   },
   {
    "duration": 3,
    "start_time": "2025-03-04T05:34:03.328Z"
   },
   {
    "duration": 26,
    "start_time": "2025-03-04T05:34:03.333Z"
   },
   {
    "duration": 4,
    "start_time": "2025-03-04T05:34:03.361Z"
   },
   {
    "duration": 41,
    "start_time": "2025-03-04T05:34:03.366Z"
   },
   {
    "duration": 9,
    "start_time": "2025-03-04T05:34:03.408Z"
   },
   {
    "duration": 8,
    "start_time": "2025-03-04T05:34:03.418Z"
   },
   {
    "duration": 7,
    "start_time": "2025-03-04T05:34:03.428Z"
   },
   {
    "duration": 9,
    "start_time": "2025-03-04T05:34:03.436Z"
   },
   {
    "duration": 7,
    "start_time": "2025-03-04T05:34:03.446Z"
   },
   {
    "duration": 85,
    "start_time": "2025-03-04T05:34:03.455Z"
   },
   {
    "duration": 3,
    "start_time": "2025-03-04T05:34:03.542Z"
   },
   {
    "duration": 1497,
    "start_time": "2025-03-04T05:34:03.546Z"
   },
   {
    "duration": 5,
    "start_time": "2025-03-04T05:34:05.045Z"
   },
   {
    "duration": 1038,
    "start_time": "2025-03-04T05:34:05.052Z"
   },
   {
    "duration": 1103,
    "start_time": "2025-03-04T05:34:39.899Z"
   },
   {
    "duration": 901,
    "start_time": "2025-03-04T05:35:24.568Z"
   },
   {
    "duration": 2777,
    "start_time": "2025-03-04T05:35:25.471Z"
   },
   {
    "duration": 41,
    "start_time": "2025-03-04T05:35:28.250Z"
   },
   {
    "duration": 34,
    "start_time": "2025-03-04T05:35:28.293Z"
   },
   {
    "duration": 3,
    "start_time": "2025-03-04T05:35:28.329Z"
   },
   {
    "duration": 4,
    "start_time": "2025-03-04T05:35:28.334Z"
   },
   {
    "duration": 4,
    "start_time": "2025-03-04T05:35:28.340Z"
   },
   {
    "duration": 74,
    "start_time": "2025-03-04T05:35:28.347Z"
   },
   {
    "duration": 189,
    "start_time": "2025-03-04T05:35:28.423Z"
   },
   {
    "duration": 190,
    "start_time": "2025-03-04T05:35:28.615Z"
   },
   {
    "duration": 94,
    "start_time": "2025-03-04T05:35:28.811Z"
   },
   {
    "duration": 4,
    "start_time": "2025-03-04T05:35:28.907Z"
   },
   {
    "duration": 4,
    "start_time": "2025-03-04T05:35:28.913Z"
   },
   {
    "duration": 5,
    "start_time": "2025-03-04T05:35:28.919Z"
   },
   {
    "duration": 3,
    "start_time": "2025-03-04T05:35:28.926Z"
   },
   {
    "duration": 25,
    "start_time": "2025-03-04T05:35:28.931Z"
   },
   {
    "duration": 4,
    "start_time": "2025-03-04T05:35:28.957Z"
   },
   {
    "duration": 8,
    "start_time": "2025-03-04T05:35:28.962Z"
   },
   {
    "duration": 40,
    "start_time": "2025-03-04T05:35:28.971Z"
   },
   {
    "duration": 7,
    "start_time": "2025-03-04T05:35:29.013Z"
   },
   {
    "duration": 7,
    "start_time": "2025-03-04T05:35:29.022Z"
   },
   {
    "duration": 8,
    "start_time": "2025-03-04T05:35:29.031Z"
   },
   {
    "duration": 8,
    "start_time": "2025-03-04T05:35:29.041Z"
   },
   {
    "duration": 91,
    "start_time": "2025-03-04T05:35:29.050Z"
   },
   {
    "duration": 4,
    "start_time": "2025-03-04T05:35:29.142Z"
   },
   {
    "duration": 1457,
    "start_time": "2025-03-04T05:35:29.148Z"
   },
   {
    "duration": 6,
    "start_time": "2025-03-04T05:35:30.606Z"
   },
   {
    "duration": 993,
    "start_time": "2025-03-04T05:35:30.615Z"
   },
   {
    "duration": 878,
    "start_time": "2025-03-04T05:38:36.480Z"
   },
   {
    "duration": 2520,
    "start_time": "2025-03-04T05:38:37.360Z"
   },
   {
    "duration": 42,
    "start_time": "2025-03-04T05:38:39.882Z"
   },
   {
    "duration": 24,
    "start_time": "2025-03-04T05:38:39.926Z"
   },
   {
    "duration": 4,
    "start_time": "2025-03-04T05:38:39.952Z"
   },
   {
    "duration": 4,
    "start_time": "2025-03-04T05:38:39.957Z"
   },
   {
    "duration": 5,
    "start_time": "2025-03-04T05:38:39.963Z"
   },
   {
    "duration": 75,
    "start_time": "2025-03-04T05:38:39.969Z"
   },
   {
    "duration": 132,
    "start_time": "2025-03-04T05:38:40.106Z"
   },
   {
    "duration": 199,
    "start_time": "2025-03-04T05:38:40.306Z"
   },
   {
    "duration": 21,
    "start_time": "2025-03-04T05:38:40.507Z"
   },
   {
    "duration": 78,
    "start_time": "2025-03-04T05:38:40.529Z"
   },
   {
    "duration": 5,
    "start_time": "2025-03-04T05:38:40.609Z"
   },
   {
    "duration": 5,
    "start_time": "2025-03-04T05:38:40.617Z"
   },
   {
    "duration": 3,
    "start_time": "2025-03-04T05:38:40.624Z"
   },
   {
    "duration": 26,
    "start_time": "2025-03-04T05:38:40.629Z"
   },
   {
    "duration": 4,
    "start_time": "2025-03-04T05:38:40.656Z"
   },
   {
    "duration": 8,
    "start_time": "2025-03-04T05:38:40.661Z"
   },
   {
    "duration": 38,
    "start_time": "2025-03-04T05:38:40.672Z"
   },
   {
    "duration": 9,
    "start_time": "2025-03-04T05:38:40.711Z"
   },
   {
    "duration": 6,
    "start_time": "2025-03-04T05:38:40.722Z"
   },
   {
    "duration": 7,
    "start_time": "2025-03-04T05:38:40.730Z"
   },
   {
    "duration": 6,
    "start_time": "2025-03-04T05:38:40.739Z"
   },
   {
    "duration": 82,
    "start_time": "2025-03-04T05:38:40.747Z"
   },
   {
    "duration": 4,
    "start_time": "2025-03-04T05:38:40.831Z"
   },
   {
    "duration": 1454,
    "start_time": "2025-03-04T05:38:40.837Z"
   },
   {
    "duration": 4,
    "start_time": "2025-03-04T05:38:42.293Z"
   },
   {
    "duration": 983,
    "start_time": "2025-03-04T05:38:42.305Z"
   }
  ],
  "kernelspec": {
   "display_name": "Python 3 (ipykernel)",
   "language": "python",
   "name": "python3"
  },
  "language_info": {
   "codemirror_mode": {
    "name": "ipython",
    "version": 3
   },
   "file_extension": ".py",
   "mimetype": "text/x-python",
   "name": "python",
   "nbconvert_exporter": "python",
   "pygments_lexer": "ipython3",
   "version": "3.9.19"
  },
  "toc": {
   "base_numbering": 1,
   "nav_menu": {},
   "number_sections": true,
   "sideBar": true,
   "skip_h1_title": true,
   "title_cell": "Table of Contents",
   "title_sidebar": "Contents",
   "toc_cell": false,
   "toc_position": {},
   "toc_section_display": true,
   "toc_window_display": false
  }
 },
 "nbformat": 4,
 "nbformat_minor": 2
}
